{
 "cells": [
  {
   "cell_type": "code",
   "execution_count": 1,
   "metadata": {},
   "outputs": [
    {
     "data": {
      "application/javascript": [
       "\n",
       "            setTimeout(function() {\n",
       "                var nbb_cell_id = 1;\n",
       "                var nbb_unformatted_code = \"%load_ext nb_black\";\n",
       "                var nbb_formatted_code = \"%load_ext nb_black\";\n",
       "                var nbb_cells = Jupyter.notebook.get_cells();\n",
       "                for (var i = 0; i < nbb_cells.length; ++i) {\n",
       "                    if (nbb_cells[i].input_prompt_number == nbb_cell_id) {\n",
       "                        if (nbb_cells[i].get_text() == nbb_unformatted_code) {\n",
       "                             nbb_cells[i].set_text(nbb_formatted_code);\n",
       "                        }\n",
       "                        break;\n",
       "                    }\n",
       "                }\n",
       "            }, 500);\n",
       "            "
      ],
      "text/plain": [
       "<IPython.core.display.Javascript object>"
      ]
     },
     "metadata": {},
     "output_type": "display_data"
    }
   ],
   "source": [
    "%load_ext nb_black"
   ]
  },
  {
   "cell_type": "code",
   "execution_count": 2,
   "metadata": {},
   "outputs": [
    {
     "data": {
      "application/javascript": [
       "\n",
       "            setTimeout(function() {\n",
       "                var nbb_cell_id = 2;\n",
       "                var nbb_unformatted_code = \"import os\\nimport docx\\nimport re\";\n",
       "                var nbb_formatted_code = \"import os\\nimport docx\\nimport re\";\n",
       "                var nbb_cells = Jupyter.notebook.get_cells();\n",
       "                for (var i = 0; i < nbb_cells.length; ++i) {\n",
       "                    if (nbb_cells[i].input_prompt_number == nbb_cell_id) {\n",
       "                        if (nbb_cells[i].get_text() == nbb_unformatted_code) {\n",
       "                             nbb_cells[i].set_text(nbb_formatted_code);\n",
       "                        }\n",
       "                        break;\n",
       "                    }\n",
       "                }\n",
       "            }, 500);\n",
       "            "
      ],
      "text/plain": [
       "<IPython.core.display.Javascript object>"
      ]
     },
     "metadata": {},
     "output_type": "display_data"
    }
   ],
   "source": [
    "import os\n",
    "import docx\n",
    "import re"
   ]
  },
  {
   "cell_type": "code",
   "execution_count": 3,
   "metadata": {},
   "outputs": [
    {
     "data": {
      "text/plain": [
       "165"
      ]
     },
     "execution_count": 3,
     "metadata": {},
     "output_type": "execute_result"
    },
    {
     "data": {
      "application/javascript": [
       "\n",
       "            setTimeout(function() {\n",
       "                var nbb_cell_id = 3;\n",
       "                var nbb_unformatted_code = \"path_docs = \\\"../data/\\u0414\\u043e\\u043a\\u0443\\u043c\\u0435\\u043d\\u0442\\u044b/\\\"\\ndocs_name = [elem for elem in os.listdir(path_docs) if elem.split(\\\".\\\")[-1] == \\\"docx\\\"]\\nlen(docs_name)\";\n",
       "                var nbb_formatted_code = \"path_docs = \\\"../data/\\u0414\\u043e\\u043a\\u0443\\u043c\\u0435\\u043d\\u0442\\u044b/\\\"\\ndocs_name = [elem for elem in os.listdir(path_docs) if elem.split(\\\".\\\")[-1] == \\\"docx\\\"]\\nlen(docs_name)\";\n",
       "                var nbb_cells = Jupyter.notebook.get_cells();\n",
       "                for (var i = 0; i < nbb_cells.length; ++i) {\n",
       "                    if (nbb_cells[i].input_prompt_number == nbb_cell_id) {\n",
       "                        if (nbb_cells[i].get_text() == nbb_unformatted_code) {\n",
       "                             nbb_cells[i].set_text(nbb_formatted_code);\n",
       "                        }\n",
       "                        break;\n",
       "                    }\n",
       "                }\n",
       "            }, 500);\n",
       "            "
      ],
      "text/plain": [
       "<IPython.core.display.Javascript object>"
      ]
     },
     "metadata": {},
     "output_type": "display_data"
    }
   ],
   "source": [
    "path_docs = \"../data/Документы/\"\n",
    "docs_name = [elem for elem in os.listdir(path_docs) if elem.split(\".\")[-1] == \"docx\"]\n",
    "len(docs_name)"
   ]
  },
  {
   "cell_type": "markdown",
   "metadata": {},
   "source": [
    "## full"
   ]
  },
  {
   "cell_type": "code",
   "execution_count": 4,
   "metadata": {},
   "outputs": [
    {
     "data": {
      "application/javascript": [
       "\n",
       "            setTimeout(function() {\n",
       "                var nbb_cell_id = 4;\n",
       "                var nbb_unformatted_code = \"def get_text(doc):\\n    fullText = []\\n    for para in doc.paragraphs:\\n        fullText.append(para.text.strip())\\n    fullText = [elem for elem in fullText if len(elem) > 0]\\n    return fullText\";\n",
       "                var nbb_formatted_code = \"def get_text(doc):\\n    fullText = []\\n    for para in doc.paragraphs:\\n        fullText.append(para.text.strip())\\n    fullText = [elem for elem in fullText if len(elem) > 0]\\n    return fullText\";\n",
       "                var nbb_cells = Jupyter.notebook.get_cells();\n",
       "                for (var i = 0; i < nbb_cells.length; ++i) {\n",
       "                    if (nbb_cells[i].input_prompt_number == nbb_cell_id) {\n",
       "                        if (nbb_cells[i].get_text() == nbb_unformatted_code) {\n",
       "                             nbb_cells[i].set_text(nbb_formatted_code);\n",
       "                        }\n",
       "                        break;\n",
       "                    }\n",
       "                }\n",
       "            }, 500);\n",
       "            "
      ],
      "text/plain": [
       "<IPython.core.display.Javascript object>"
      ]
     },
     "metadata": {},
     "output_type": "display_data"
    }
   ],
   "source": [
    "def get_text(doc):\n",
    "    fullText = []\n",
    "    for para in doc.paragraphs:\n",
    "        fullText.append(para.text.strip())\n",
    "    fullText = [elem for elem in fullText if len(elem) > 0]\n",
    "    return fullText"
   ]
  },
  {
   "cell_type": "code",
   "execution_count": 5,
   "metadata": {},
   "outputs": [
    {
     "data": {
      "application/javascript": [
       "\n",
       "            setTimeout(function() {\n",
       "                var nbb_cell_id = 5;\n",
       "                var nbb_unformatted_code = \"def get_first_index(fullText):\\n    ind_start = 0\\n    for i in range(len(fullText) - 1):\\n        if (\\\"\\u043f\\u0440\\u0430\\u0432\\u0438\\u043b\\u0430\\\" in fullText[i].lower()) and (\\n            \\\"\\u043f\\u0440\\u0435\\u0434\\u043e\\u0441\\u0442\\u0430\\u0432\\u043b\\u0435\\u043d\\u0438\\u044f\\\" in fullText[i + 1].lower()\\n        ):\\n            ind_start = i\\n            break\\n    return ind_start\";\n",
       "                var nbb_formatted_code = \"def get_first_index(fullText):\\n    ind_start = 0\\n    for i in range(len(fullText) - 1):\\n        if (\\\"\\u043f\\u0440\\u0430\\u0432\\u0438\\u043b\\u0430\\\" in fullText[i].lower()) and (\\n            \\\"\\u043f\\u0440\\u0435\\u0434\\u043e\\u0441\\u0442\\u0430\\u0432\\u043b\\u0435\\u043d\\u0438\\u044f\\\" in fullText[i + 1].lower()\\n        ):\\n            ind_start = i\\n            break\\n    return ind_start\";\n",
       "                var nbb_cells = Jupyter.notebook.get_cells();\n",
       "                for (var i = 0; i < nbb_cells.length; ++i) {\n",
       "                    if (nbb_cells[i].input_prompt_number == nbb_cell_id) {\n",
       "                        if (nbb_cells[i].get_text() == nbb_unformatted_code) {\n",
       "                             nbb_cells[i].set_text(nbb_formatted_code);\n",
       "                        }\n",
       "                        break;\n",
       "                    }\n",
       "                }\n",
       "            }, 500);\n",
       "            "
      ],
      "text/plain": [
       "<IPython.core.display.Javascript object>"
      ]
     },
     "metadata": {},
     "output_type": "display_data"
    }
   ],
   "source": [
    "def get_first_index(fullText):\n",
    "    ind_start = 0\n",
    "    for i in range(len(fullText) - 1):\n",
    "        if (\"правила\" in fullText[i].lower()) and (\n",
    "            \"предоставления\" in fullText[i + 1].lower()\n",
    "        ):\n",
    "            ind_start = i\n",
    "            break\n",
    "    return ind_start"
   ]
  },
  {
   "cell_type": "code",
   "execution_count": 6,
   "metadata": {},
   "outputs": [
    {
     "data": {
      "application/javascript": [
       "\n",
       "            setTimeout(function() {\n",
       "                var nbb_cell_id = 6;\n",
       "                var nbb_unformatted_code = \"def get_end_index(fullText):\\n    end_start = len(fullText)\\n    for i in range(ind_start, len(fullText) - 1):\\n        if (\\n            (\\n                fullText[i].lower().startswith(\\\"\\u0443\\u0442\\u0432\\u0435\\u0440\\u0436\\u0434\\u0435\\u043d\\\")\\n                & fullText[i + 1].lower().startswith(\\\"\\u043f\\u043e\\u0441\\u0442\\u0430\\u043d\\u043e\\u0432\\u043b\\u0435\\u043d\\u0438\\u0435\\u043c \\u043f\\u0440\\u0430\\u0432\\u0438\\u0442\\u0435\\u043b\\u044c\\u0441\\u0442\\u0432\\u0430\\\")\\n            )\\n            | (\\n                (\\\"\\u043f\\u0440\\u0438\\u043b\\u043e\\u0436\\u0435\\u043d\\u0438\\u0435 \\u2116\\\" in fullText[i].lower())\\n                & (\\\"\\u043f\\u0440\\u0435\\u0434\\u043e\\u0441\\u0442\\u0430\\u0432\\u043b\\u0435\\u043d\\u0438\\u044f\\\" in fullText[i + 1].lower())\\n            )\\n            | (\\n                (\\\"\\u043f\\u0440\\u0438\\u043b\\u043e\\u0436\\u0435\\u043d\\u0438\\u0435 \\u2116\\\" in fullText[i].lower())\\n                & (\\\"\\u043f\\u0440\\u0435\\u0434\\u043e\\u0441\\u0442\\u0430\\u0432\\u043b\\u0435\\u043d\\u0438\\u044f\\\" in fullText[i].lower())\\n            )\\n        ):\\n            #         if (i < end_start - 6) & (\\\"\\u043f\\u0440\\u0430\\u0432\\u0438\\u043b\\u0430\\\" in fullText[i + 4].lower()) and (\\n            #             \\\"\\u043f\\u0440\\u0435\\u0434\\u043e\\u0441\\u0442\\u0430\\u0432\\u043b\\u0435\\u043d\\u0438\\u044f\\\" in fullText[i + 5].lower()\\n            #         ):\\n            #             continue\\n            if i < len(fullText) - 15:\\n                if (\\n                    (len(re.findall(\\\"\\\\{\\\\d+\\\\}\\\", fullText[i + 10])) > 0)\\n                    | (len(re.findall(\\\"\\\\{\\\\d+\\\\}\\\", fullText[i + 12])) > 0)\\n                    | (len(re.findall(\\\"\\\\{\\\\d+\\\\}\\\", fullText[i + 14])) > 0)\\n                ):\\n                    continue\\n            end_start = i\\n            break\\n    return end_start\";\n",
       "                var nbb_formatted_code = \"def get_end_index(fullText):\\n    end_start = len(fullText)\\n    for i in range(ind_start, len(fullText) - 1):\\n        if (\\n            (\\n                fullText[i].lower().startswith(\\\"\\u0443\\u0442\\u0432\\u0435\\u0440\\u0436\\u0434\\u0435\\u043d\\\")\\n                & fullText[i + 1].lower().startswith(\\\"\\u043f\\u043e\\u0441\\u0442\\u0430\\u043d\\u043e\\u0432\\u043b\\u0435\\u043d\\u0438\\u0435\\u043c \\u043f\\u0440\\u0430\\u0432\\u0438\\u0442\\u0435\\u043b\\u044c\\u0441\\u0442\\u0432\\u0430\\\")\\n            )\\n            | (\\n                (\\\"\\u043f\\u0440\\u0438\\u043b\\u043e\\u0436\\u0435\\u043d\\u0438\\u0435 \\u2116\\\" in fullText[i].lower())\\n                & (\\\"\\u043f\\u0440\\u0435\\u0434\\u043e\\u0441\\u0442\\u0430\\u0432\\u043b\\u0435\\u043d\\u0438\\u044f\\\" in fullText[i + 1].lower())\\n            )\\n            | (\\n                (\\\"\\u043f\\u0440\\u0438\\u043b\\u043e\\u0436\\u0435\\u043d\\u0438\\u0435 \\u2116\\\" in fullText[i].lower())\\n                & (\\\"\\u043f\\u0440\\u0435\\u0434\\u043e\\u0441\\u0442\\u0430\\u0432\\u043b\\u0435\\u043d\\u0438\\u044f\\\" in fullText[i].lower())\\n            )\\n        ):\\n            #         if (i < end_start - 6) & (\\\"\\u043f\\u0440\\u0430\\u0432\\u0438\\u043b\\u0430\\\" in fullText[i + 4].lower()) and (\\n            #             \\\"\\u043f\\u0440\\u0435\\u0434\\u043e\\u0441\\u0442\\u0430\\u0432\\u043b\\u0435\\u043d\\u0438\\u044f\\\" in fullText[i + 5].lower()\\n            #         ):\\n            #             continue\\n            if i < len(fullText) - 15:\\n                if (\\n                    (len(re.findall(\\\"\\\\{\\\\d+\\\\}\\\", fullText[i + 10])) > 0)\\n                    | (len(re.findall(\\\"\\\\{\\\\d+\\\\}\\\", fullText[i + 12])) > 0)\\n                    | (len(re.findall(\\\"\\\\{\\\\d+\\\\}\\\", fullText[i + 14])) > 0)\\n                ):\\n                    continue\\n            end_start = i\\n            break\\n    return end_start\";\n",
       "                var nbb_cells = Jupyter.notebook.get_cells();\n",
       "                for (var i = 0; i < nbb_cells.length; ++i) {\n",
       "                    if (nbb_cells[i].input_prompt_number == nbb_cell_id) {\n",
       "                        if (nbb_cells[i].get_text() == nbb_unformatted_code) {\n",
       "                             nbb_cells[i].set_text(nbb_formatted_code);\n",
       "                        }\n",
       "                        break;\n",
       "                    }\n",
       "                }\n",
       "            }, 500);\n",
       "            "
      ],
      "text/plain": [
       "<IPython.core.display.Javascript object>"
      ]
     },
     "metadata": {},
     "output_type": "display_data"
    }
   ],
   "source": [
    "def get_end_index(fullText):\n",
    "    end_start = len(fullText)\n",
    "    for i in range(ind_start, len(fullText) - 1):\n",
    "        if (\n",
    "            (\n",
    "                fullText[i].lower().startswith(\"утвержден\")\n",
    "                & fullText[i + 1].lower().startswith(\"постановлением правительства\")\n",
    "            )\n",
    "            | (\n",
    "                (\"приложение №\" in fullText[i].lower())\n",
    "                & (\"предоставления\" in fullText[i + 1].lower())\n",
    "            )\n",
    "            | (\n",
    "                (\"приложение №\" in fullText[i].lower())\n",
    "                & (\"предоставления\" in fullText[i].lower())\n",
    "            )\n",
    "        ):\n",
    "            #         if (i < end_start - 6) & (\"правила\" in fullText[i + 4].lower()) and (\n",
    "            #             \"предоставления\" in fullText[i + 5].lower()\n",
    "            #         ):\n",
    "            #             continue\n",
    "            if i < len(fullText) - 15:\n",
    "                if (\n",
    "                    (len(re.findall(\"\\{\\d+\\}\", fullText[i + 10])) > 0)\n",
    "                    | (len(re.findall(\"\\{\\d+\\}\", fullText[i + 12])) > 0)\n",
    "                    | (len(re.findall(\"\\{\\d+\\}\", fullText[i + 14])) > 0)\n",
    "                ):\n",
    "                    continue\n",
    "            end_start = i\n",
    "            break\n",
    "    return end_start"
   ]
  },
  {
   "cell_type": "code",
   "execution_count": 100,
   "metadata": {},
   "outputs": [
    {
     "data": {
      "text/plain": [
       "350"
      ]
     },
     "execution_count": 100,
     "metadata": {},
     "output_type": "execute_result"
    },
    {
     "data": {
      "application/javascript": [
       "\n",
       "            setTimeout(function() {\n",
       "                var nbb_cell_id = 100;\n",
       "                var nbb_unformatted_code = \"len(\\n    \\\"\\u041d\\u0430\\u0441\\u0442\\u043e\\u044f\\u0449\\u0438\\u0435 \\u041f\\u0440\\u0430\\u0432\\u0438\\u043b\\u0430 \\u0443\\u0441\\u0442\\u0430\\u043d\\u0430\\u0432\\u043b\\u0438\\u0432\\u0430\\u044e\\u0442 \\u0446\\u0435\\u043b\\u0438, \\u043f\\u043e\\u0440\\u044f\\u0434\\u043e\\u043a \\u0438 \\u0443\\u0441\\u043b\\u043e\\u0432\\u0438\\u044f \\u043f\\u0440\\u0435\\u0434\\u043e\\u0441\\u0442\\u0430\\u0432\\u043b\\u0435\\u043d\\u0438\\u044f \\u0441\\u0443\\u0431\\u0441\\u0438\\u0434\\u0438\\u0439 \\u0438\\u0437 \\u0444\\u0435\\u0434\\u0435\\u0440\\u0430\\u043b\\u044c\\u043d\\u043e\\u0433\\u043e \\u0431\\u044e\\u0434\\u0436\\u0435\\u0442\\u0430 \\u043e\\u0440\\u0433\\u0430\\u043d\\u0438\\u0437\\u0430\\u0446\\u0438\\u0438, \\u043d\\u0430\\u0434\\u0435\\u043b\\u0435\\u043d\\u043d\\u043e\\u0439 \\u041f\\u0440\\u0430\\u0432\\u0438\\u0442\\u0435\\u043b\\u044c\\u0441\\u0442\\u0432\\u043e\\u043c \\u0420\\u043e\\u0441\\u0441\\u0438\\u0439\\u0441\\u043a\\u043e\\u0439 \\u0424\\u0435\\u0434\\u0435\\u0440\\u0430\\u0446\\u0438\\u0438 \\u0444\\u0443\\u043d\\u043a\\u0446\\u0438\\u044f\\u043c\\u0438 \\u043e\\u043f\\u0435\\u0440\\u0430\\u0442\\u043e\\u0440\\u0430 \\u0432 \\u0447\\u0430\\u0441\\u0442\\u0438 \\u0444\\u0438\\u043d\\u0430\\u043d\\u0441\\u043e\\u0432\\u043e\\u0433\\u043e \\u043e\\u0431\\u0435\\u0441\\u043f\\u0435\\u0447\\u0435\\u043d\\u0438\\u044f \\u0440\\u0435\\u0430\\u043b\\u0438\\u0437\\u0430\\u0446\\u0438\\u0438 \\u043d\\u0435\\u043a\\u043e\\u043c\\u043c\\u0435\\u0440\\u0447\\u0435\\u0441\\u043a\\u0438\\u043c\\u0438 \\u043e\\u0440\\u0433\\u0430\\u043d\\u0438\\u0437\\u0430\\u0446\\u0438\\u044f\\u043c\\u0438, \\u043e\\u0441\\u0443\\u0449\\u0435\\u0441\\u0442\\u0432\\u043b\\u044f\\u044e\\u0449\\u0438\\u043c\\u0438 \\u0444\\u0443\\u043d\\u043a\\u0446\\u0438\\u0438 \\u0438\\u043d\\u0444\\u0440\\u0430\\u0441\\u0442\\u0440\\u0443\\u043a\\u0442\\u0443\\u0440\\u043d\\u044b\\u0445 \\u0446\\u0435\\u043d\\u0442\\u0440\\u043e\\u0432, \\u043f\\u0440\\u043e\\u0433\\u0440\\u0430\\u043c\\u043c \\u043f\\u043e \\u0440\\u0430\\u0437\\u0432\\u0438\\u0442\\u0438\\u044e \\u043e\\u0442\\u0434\\u0435\\u043b\\u044c\\u043d\\u044b\\u0445 \\u043d\\u0430\\u043f\\u0440\\u0430\\u0432\\u043b\\u0435\\u043d\\u0438\\u0439\\\"\\n)\";\n",
       "                var nbb_formatted_code = \"len(\\n    \\\"\\u041d\\u0430\\u0441\\u0442\\u043e\\u044f\\u0449\\u0438\\u0435 \\u041f\\u0440\\u0430\\u0432\\u0438\\u043b\\u0430 \\u0443\\u0441\\u0442\\u0430\\u043d\\u0430\\u0432\\u043b\\u0438\\u0432\\u0430\\u044e\\u0442 \\u0446\\u0435\\u043b\\u0438, \\u043f\\u043e\\u0440\\u044f\\u0434\\u043e\\u043a \\u0438 \\u0443\\u0441\\u043b\\u043e\\u0432\\u0438\\u044f \\u043f\\u0440\\u0435\\u0434\\u043e\\u0441\\u0442\\u0430\\u0432\\u043b\\u0435\\u043d\\u0438\\u044f \\u0441\\u0443\\u0431\\u0441\\u0438\\u0434\\u0438\\u0439 \\u0438\\u0437 \\u0444\\u0435\\u0434\\u0435\\u0440\\u0430\\u043b\\u044c\\u043d\\u043e\\u0433\\u043e \\u0431\\u044e\\u0434\\u0436\\u0435\\u0442\\u0430 \\u043e\\u0440\\u0433\\u0430\\u043d\\u0438\\u0437\\u0430\\u0446\\u0438\\u0438, \\u043d\\u0430\\u0434\\u0435\\u043b\\u0435\\u043d\\u043d\\u043e\\u0439 \\u041f\\u0440\\u0430\\u0432\\u0438\\u0442\\u0435\\u043b\\u044c\\u0441\\u0442\\u0432\\u043e\\u043c \\u0420\\u043e\\u0441\\u0441\\u0438\\u0439\\u0441\\u043a\\u043e\\u0439 \\u0424\\u0435\\u0434\\u0435\\u0440\\u0430\\u0446\\u0438\\u0438 \\u0444\\u0443\\u043d\\u043a\\u0446\\u0438\\u044f\\u043c\\u0438 \\u043e\\u043f\\u0435\\u0440\\u0430\\u0442\\u043e\\u0440\\u0430 \\u0432 \\u0447\\u0430\\u0441\\u0442\\u0438 \\u0444\\u0438\\u043d\\u0430\\u043d\\u0441\\u043e\\u0432\\u043e\\u0433\\u043e \\u043e\\u0431\\u0435\\u0441\\u043f\\u0435\\u0447\\u0435\\u043d\\u0438\\u044f \\u0440\\u0435\\u0430\\u043b\\u0438\\u0437\\u0430\\u0446\\u0438\\u0438 \\u043d\\u0435\\u043a\\u043e\\u043c\\u043c\\u0435\\u0440\\u0447\\u0435\\u0441\\u043a\\u0438\\u043c\\u0438 \\u043e\\u0440\\u0433\\u0430\\u043d\\u0438\\u0437\\u0430\\u0446\\u0438\\u044f\\u043c\\u0438, \\u043e\\u0441\\u0443\\u0449\\u0435\\u0441\\u0442\\u0432\\u043b\\u044f\\u044e\\u0449\\u0438\\u043c\\u0438 \\u0444\\u0443\\u043d\\u043a\\u0446\\u0438\\u0438 \\u0438\\u043d\\u0444\\u0440\\u0430\\u0441\\u0442\\u0440\\u0443\\u043a\\u0442\\u0443\\u0440\\u043d\\u044b\\u0445 \\u0446\\u0435\\u043d\\u0442\\u0440\\u043e\\u0432, \\u043f\\u0440\\u043e\\u0433\\u0440\\u0430\\u043c\\u043c \\u043f\\u043e \\u0440\\u0430\\u0437\\u0432\\u0438\\u0442\\u0438\\u044e \\u043e\\u0442\\u0434\\u0435\\u043b\\u044c\\u043d\\u044b\\u0445 \\u043d\\u0430\\u043f\\u0440\\u0430\\u0432\\u043b\\u0435\\u043d\\u0438\\u0439\\\"\\n)\";\n",
       "                var nbb_cells = Jupyter.notebook.get_cells();\n",
       "                for (var i = 0; i < nbb_cells.length; ++i) {\n",
       "                    if (nbb_cells[i].input_prompt_number == nbb_cell_id) {\n",
       "                        if (nbb_cells[i].get_text() == nbb_unformatted_code) {\n",
       "                             nbb_cells[i].set_text(nbb_formatted_code);\n",
       "                        }\n",
       "                        break;\n",
       "                    }\n",
       "                }\n",
       "            }, 500);\n",
       "            "
      ],
      "text/plain": [
       "<IPython.core.display.Javascript object>"
      ]
     },
     "metadata": {},
     "output_type": "display_data"
    }
   ],
   "source": [
    "len(\n",
    "    \"Настоящие Правила устанавливают цели, порядок и условия предоставления субсидий из федерального бюджета организации, наделенной Правительством Российской Федерации функциями оператора в части финансового обеспечения реализации некоммерческими организациями, осуществляющими функции инфраструктурных центров, программ по развитию отдельных направлений\"\n",
    ")"
   ]
  },
  {
   "cell_type": "code",
   "execution_count": 7,
   "metadata": {},
   "outputs": [
    {
     "name": "stdout",
     "output_type": "stream",
     "text": [
      "ERROR pair tags not equal | filename = Postanovlenie_Pravitelstva_RF_ot_31_03_2021_N_487.docx ['{22}', '{21}']\n",
      "ERROR pair tags not equal | filename = Postanovlenie_Pravitelstva_Rossiyskoy_Federatsii_ot_04_06_2020_823.docx ['{15}', '{35}', '{35}', '{35}', '{35}', '{15}']\n",
      "ERROR pair tags not equal | filename = Postanovlenie_Pravitelstva_Rossiyskoy_Federatsii_ot_04_06_2020_823.docx ['{15}', '{35}', '{35}', '{35}', '{35}', '{15}']\n",
      "ERROR pair tags not equal | filename = Postanovlenie_Pravitelstva_Rossiyskoy_Federatsii_ot_19_05_2021_759.docx ['{28}', '{3}', '{3}', '{28}']\n",
      "ERROR pair tags not equal | filename = Postanovlenie_Pravitelstva_Rossiyskoy_Federatsii_ot_19_05_2021_759.docx ['{28}', '{3}', '{3}', '{28}']\n",
      "ERROR pair tags not equal | filename = Постановление Правительства Российской Федерации от 14.04.2022 № 662.docx ['{37}', '{7}']\n",
      "ERROR pair tags not equal | filename = Постановление Правительства РФ от 28.06.2021 N 1031.docx ['{10}', '{24}']\n",
      "ERROR pair tags not equal | filename = Постановление Правительства РФ от 28.06.2021 N 1031.docx ['{15}', '{24}']\n",
      "ERROR pair tags not equal | filename = Постановление Правительства РФ от 28.06.2021 N 1031.docx ['{27}', '{24}']\n",
      "ERROR pair tags not equal | filename = 804_ot_30_aprelya_2022.docx ['{11}', '{11}', '{11}', '{11}', '{11)', '{11}']\n",
      "ERROR pair tags not equal | filename = Postanovlenie_Pravitelstva_RF_ot_25_05_2017_N_634.docx ['{26}', '{24}']\n",
      "ERROR pair tags not equal | filename = Postanovlenie_Pravitelstva_Rossiyskoy_Federatsii_ot_07_04_2022_612.docx ['{10}', '{12}']\n",
      "ERROR pair tags not equal | filename = 664_ot_14_04_2022.docx ['{22}', '{221}']\n",
      "ERROR pair tags not equal | filename = Postanovlenie_pravitelstva_RF18_01_2017_N_27_Gumerova.docx ['{11}', '{25}']\n",
      "ERROR нечетное к-во some_trgets 574_ot_2_aprelya_2022.docx ['{1}', '{1}', '{1}']\n",
      "ERROR нечетное к-во some_trgets 574_ot_2_aprelya_2022.docx ['{24}']\n",
      "ERROR нечетное к-во some_trgets 574_ot_2_aprelya_2022.docx ['{10}']\n",
      "ERROR pair tags not equal | filename = 835_ot_9_maya_2022.docx ['{36}', '{136}']\n",
      "ERROR pair tags not equal | filename = Постановление Правительства РФ от 21.12.2020 N 2187.docx ['{26}', '{2}']\n",
      "ERROR pair tags not equal | filename = POSTANOVLENIE_PRAVITEL_STVA_RF_16_03_2022_375.docx ['{35}', '{3}', '{3}', '{35}']\n",
      "ERROR pair tags not equal | filename = POSTANOVLENIE_PRAVITEL_STVA_RF_16_03_2022_375.docx ['{35}', '{3}', '{3}', '{35}']\n",
      "ERROR pair tags not equal | filename = Postanovlenie_Pravitelstva_RF_ot28_12_2019_N_1930.docx ['{2}', '{12}']\n",
      "ERROR pair tags not equal | filename = Postanovlenie_Pravitelstva_RF_ot28_12_2019_N_1930.docx ['{11}', '{15}']\n",
      "ERROR pair tags not equal | filename = Postanovlenie_Pravitelstva_RF_ot28_12_2019_N_1930.docx ['{21}', '{2}']\n",
      "ERROR pair tags not equal | filename = Postanovlenie_Pravitelstva_RF_ot28_12_2019_N_1930.docx ['{38}', '{238}']\n",
      "ERROR pair tags not equal | filename = Postanovlenie_Pravitelstva_RF_ot_22_04_2019_N_483_Khromykh_i_Kononova.docx ['{20}', '{19}']\n",
      "ERROR нечетное к-во some_trgets Постановление Правительства РФ от 27.12.2019 N 1870.docx ['{19}', '{19}', '{19}']\n",
      "ERROR pair tags not equal | filename = Postanovlenie_Pravitelstva_RF_ot_03_04_2018_N_402.docx ['{36}', '{46}']\n",
      "ERROR pair tags not equal | filename = Postanovlenie_Pravitelstva_RF_ot_03_04_2018_N_402.docx ['{4}', '{2}']\n",
      "ERROR pair tags not equal | filename = Postanovlenie_Pravitelstva_Rossiyskoy_Federatsii_ot_10_07_2020_1013.docx ['{11}', '{24}', '{24}', '{11}']\n",
      "ERROR pair tags not equal | filename = Postanovlenie_Pravitelstva_Rossiyskoy_Federatsii_ot_10_07_2020_1013.docx ['{11}', '{24}', '{24}', '{11}']\n",
      "ERROR pair tags not equal | filename = PP_RF_ot_13_03_2021_N_369.docx ['{18}', '{18}', '{11}', '{18}']\n",
      "ERROR pair tags not equal | filename = PP_Rossiyskoy_Federatsii_ot_04_03_2021_314.docx ['{30}', '{33}']\n",
      "ERROR pair tags not equal | filename = Postanovlenie_Pravitelstva_RF_ot_25_08_2021_N_1406_gotovoe.docx ['{38}', '{38}', '{38}', '{35}']\n",
      "ERROR pair tags not equal | filename = Postanovlenie_Pravitelstva_RF_ot_25_08_2021_N_1406_gotovoe.docx ['{24}', '{36}']\n",
      "ERROR pair tags not equal | filename = Postanovlenie_Pravitelstva_RF_ot_27_03_2021_N_456.docx ['{27}', '{22}', '{27}', '{27}']\n",
      "ERROR pair tags not equal | filename = Postanovlenie_Pravitelstva_Rossiyskoy_Federatsii_ot_04_03_2021_314.docx ['{30}', '{33}']\n",
      "ERROR нечетное к-во some_trgets Postanovlenie_Pravitelstva_Rossiyskoy_Federatsii_ot_16_05_2020_696.docx ['{15}', '{15}', '{15}']\n",
      "ERROR pair tags not equal | filename = Postanovlenie_Pravitelstva_RF_ot_16_10_2017_N_1251_gotovoe.docx ['{35}', '{39}']\n",
      "ERROR pair tags not equal | filename = Postanovlenie_Pravitelstva_RF_ot_13_03_2021_N_369.docx ['{18}', '{18}', '{11}', '{18}']\n",
      "ERROR pair tags not equal | filename = 772_ot_28_aprelya_2022.docx ['{35}', '{38}']\n",
      "ERROR pair tags not equal | filename = Postanovlenie_Pravitelstva_RF_ot_14_09_2020_1426.docx ['{10}', '{13}']\n",
      "ERROR pair tags not equal | filename = Postanovlenie_Pravitelstva_RF_ot_14_09_2020_1426.docx ['{30}', '{28}']\n",
      "ERROR pair tags not equal | filename = Postanovlenie_Pravitelstva_RF_ot_14_09_2020_1426.docx ['{13}', '{12}']\n",
      "ERROR нечетное к-во some_trgets Postanovlenie_Pravitelstva_RF_ot_14_09_2020_1426.docx ['{11}']\n",
      "ERROR pair tags not equal | filename = Постановление Правительства РФ от 27.05.2021 N 811.docx ['{38}', '{37}']\n",
      "ERROR нечетное к-во some_trgets Postanovlenie_Pravitelstva_ot_15_09_2020_1439.docx ['{38}', '{38}', '{38}']\n",
      "ERROR нечетное к-во some_trgets Postanovlenie_Pravitelstva_Rossiyskoy_Federatsii_ot_09_03_2022_318.docx ['{7}', '{7}', '{3}']\n",
      "ERROR pair tags not equal | filename = 664_ot_14_aprelya_2022.docx ['{22}', '{221}']\n",
      "ERROR pair tags not equal | filename = Postanovlenie_Pravitelstva_RF_ot_24_12_2021_N_2461.docx ['{30}', '{3}']\n",
      "ERROR pair tags not equal | filename = Постановление Правительства РФ от 03.05.2019 N 552.docx ['{22}', '{21}']\n",
      "ERROR pair tags not equal | filename = Postanovlenie_Pravitelstva_Rossiyskoy_Federatsii_ot_13_05_2020_669.docx ['{10}', '{11}']\n",
      "ERROR pair tags not equal | filename = Postanovlenie_Pravitelstva_Rossiyskoy_Federatsii_ot_13_05_2020_669.docx ['{37}', '{35}']\n",
      "ERROR pair tags not equal | filename = Postanovlenie_Pravitelstva_RF_ot_27_12_2019_N_1870_razmecheno.docx ['{20}', '{29}', '{28}', '{28}']\n",
      "ERROR pair tags not equal | filename = Postanovlenie_Pravitelstva_RF_ot_27_09_2021_N_1619.docx ['{16}', '{316}']\n",
      "ERROR pair tags not equal | filename = Postanovlenie_Pravitelstva_RF_ot_27_09_2021_N_1619.docx ['{12}', '{13}']\n",
      "ERROR pair tags not equal | filename = Postanovlenie_Pravitelstva_RF_ot_27_09_2021_N_1619.docx ['{24}', '{21}']\n",
      "ERROR pair tags not equal | filename = PP_RF_ot_09_12_2020_N_2061.docx ['{21}', '{23}']\n",
      "ERROR pair tags not equal | filename = PP_RF_ot_09_12_2020_N_2061.docx ['{27}', '{28}']\n",
      "ERROR pair tags not equal | filename = Postanovlenie_Pravitelstva_Rossiyskoy_Federatsii_ot_21_12_2020_365.docx ['{7}', '{2}']\n",
      "ERROR pair tags not equal | filename = Postanovlenie_Pravitelstva_RF_ot30_04_2019_N_532.docx ['{25}', '{35}']\n",
      "ERROR pair tags not equal | filename = 208_ot_18_fevralya_2022.docx ['{22}', '{24}']\n",
      "ERROR pair tags not equal | filename = PP_RF_ot_11_12_2020_N_2080.docx ['{38}', '{36}']\n",
      "ERROR pair tags not equal | filename = Postanovlenie_pravitelstva_RF_ot_02_03_2018_N_215.docx ['{10}', '{7}']\n"
     ]
    },
    {
     "data": {
      "application/javascript": [
       "\n",
       "            setTimeout(function() {\n",
       "                var nbb_cell_id = 7;\n",
       "                var nbb_unformatted_code = \"full_docs = dict()\\ncnt_errors = 0\\nfile_w_errors = set()\\nfor cur_doc in docs_name:\\n    filename = path_docs + cur_doc\\n    doc = docx.Document(filename)\\n\\n    fullText = get_text(doc)\\n\\n    # \\u0438\\u0449\\u0435\\u043c \\u043d\\u0430\\u0447\\u0430\\u043b\\u043e \\u0440\\u0430\\u0437\\u0434\\u0435\\u043b\\u0430 \\u041f\\u0440\\u0430\\u0432\\u0438\\u043b\\u0430 \\u043f\\u0440\\u0435\\u0434\\u043e\\u0441\\u0442\\u0430\\u0432\\u043b\\u0435\\u043d\\u0438\\u044f ...\\n    ind_start = get_first_index(fullText)\\n\\n    # \\u0438\\u0449\\u0435\\u043c \\u043a\\u043e\\u043d\\u0435\\u0446 \\u0440\\u0430\\u0437\\u0434\\u0435\\u043b\\u0430 \\u041f\\u0440\\u0430\\u0432\\u0438\\u043b\\u0430 \\u043f\\u0440\\u0435\\u0434\\u043e\\u0441\\u0442\\u0430\\u0432\\u043b\\u0435\\u043d\\u0438\\u044f ...\\n    end_start = get_end_index(fullText)\\n\\n    target_data = []\\n    activate_flag = False\\n    for elem in fullText[ind_start:end_start]:\\n        if not activate_flag:\\n            if (\\n                len(re.findall(\\\"\\\\{\\\\d+\\\\}\\\", elem)) > 0\\n            ):  # if len(re.findall(\\\"\\\\d. \\\\{\\\\d\\\\}\\\", elem)) > 0:\\n                activate_flag = True\\n                target_data.append(elem.replace(\\\"\\\\xa0\\\", \\\" \\\"))\\n        else:\\n            target_data.append(elem.replace(\\\"\\\\xa0\\\", \\\" \\\"))\\n    target_data = [elem for elem in target_data if \\\"\\u041f\\u0440\\u0430\\u0432\\u0438\\u0442\\u0435\\u043b\\u044c\\u0441\\u0442\\u0432\\u0430 \\u0420\\u0424 \\u043e\\u0442\\\" not in elem]\\n    # \\u0438\\u0437\\u0432\\u043b\\u0435\\u043a\\u0430\\u0435\\u043c \\u043a\\u043b\\u0430\\u0441\\u0441 \\u0438 \\u0442\\u0435\\u043a\\u0441\\u0442\\n    texts = []\\n    targets = []\\n    few_texts = []\\n    few_targets = []\\n    real_target_data = []\\n    for num, elem in enumerate(target_data):\\n        elem_old = elem\\n        ## one mode\\n        elem = re.sub(\\\"{\\\\d+}\\\\s{0,3}{\\\\d+}\\\", \\\"\\\", elem)\\n        if len(re.split(\\\"{\\\\d+}\\\", elem)) > 1:\\n            target = int(re.split(\\\"{\\\", elem)[1].split(\\\"}\\\")[0])\\n            text = re.split(\\\"{\\\\d+}\\\", elem)[1].strip()\\n        else:\\n            target = 0\\n            text = elem.strip()\\n        ## few mode\\n        re.findall(\\\"{\\\\d+}\\\", elem_old)\\n        few_target = re.findall(\\\"{\\\\d+}\\\", elem_old)[::2]\\n        few_target = [int(re.split(\\\"{\\\", x)[1].split(\\\"}\\\")[0]) for x in few_target]\\n        few_text = re.split(\\\"{\\\\d+}.{0,5}{\\\\d+}\\\", elem_old)\\n        few_text = [re.sub(\\\"{\\\\d+}\\\", \\\"\\\", line) for line in few_text]\\n        if len(few_target) == 0:\\n            few_target = [0 for _ in few_text]\\n        ### \\u041f\\u0420\\u041e\\u0412\\u0415\\u0420\\u041a\\u0418 \\u041e\\u0428\\u0418\\u0411\\u041e\\u041a \\u0432 targts\\n        some_trgets = re.findall(\\\"{\\\\d+}|{\\\\d+\\\\)\\\", elem_old)\\n        mistake_flag = False\\n        for i in range(0, len(some_trgets), 2):\\n            try:\\n                if some_trgets[i] != some_trgets[i + 1]:\\n                    mistake_flag = True\\n                    print(\\n                        \\\"ERROR pair tags not equal | filename =\\\", cur_doc, some_trgets\\n                    )\\n            except:\\n                mistake_flag = True\\n                print(\\\"ERROR \\u043d\\u0435\\u0447\\u0435\\u0442\\u043d\\u043e\\u0435 \\u043a-\\u0432\\u043e some_trgets\\\", cur_doc, some_trgets)\\n        # \\u0435\\u0441\\u043b\\u0438 \\u043d\\u0435\\u0442 \\u043e\\u0448\\u0438\\u0431\\u043e\\u043a \\u0432 \\u0434\\u0430\\u043d\\u043d\\u044b\\u0445,\\u0442\\u043e \\u0443\\u0447\\u0438\\u0442\\u044b\\u0432\\u0430\\u0435\\u043c\\n        if not mistake_flag:\\n            texts.append(text)\\n            targets.append(target)\\n            few_texts.append(few_text)\\n            few_targets.append(few_target)\\n            real_target_data.append(elem_old)\\n    # \\u0438\\u043d\\u0438\\u0446\\u0438\\u0430\\u043b\\u0438\\u0437\\u0438\\u0440\\u0443\\u0435\\u043c \\u0432\\u0441\\u0435 \\u0432 \\u0434\\u0430\\u0442\\u0430\\u0441\\u0435\\u0442\\n    name = cur_doc.split(\\\".\\\")[0]\\n    full_docs[name] = dict()\\n    full_docs[name][\\\"data\\\"] = real_target_data  # target_data\\n    full_docs[name][\\\"text\\\"] = texts\\n    full_docs[name][\\\"target\\\"] = targets\\n    full_docs[name][\\\"few_texts\\\"] = few_texts\\n    full_docs[name][\\\"few_targets\\\"] = few_targets\\n\\n    ### \\u041f\\u0420\\u041e\\u0412\\u0415\\u0420\\u041a\\u0418 \\u0412\\u041e\\u0417\\u041c\\u041e\\u0416\\u041d\\u042b\\u0425 \\u041e\\u0428\\u0418\\u0411\\u041e\\u041a\\n    # check mistake END\\n    if end_start < len(fullText):\\n        for num, elem in enumerate(fullText[end_start:]):\\n            if len(re.findall(\\\"\\\\{\\\\d+\\\\}\\\", elem)) > 0:\\n                print(cur_doc)\\n                print(\\\"END ERROr\\\", num + end_start, elem)\\n                print(10 * \\\"---\\\")\\n                cnt_errors += 1\\n                file_w_errors.add(cur_doc)\\n    # check mistake START\\n    if ind_start == 0:\\n        print(cur_doc)\\n        print(\\\"START ERROr:\\u0441\\u0442\\u0430\\u0440\\u0442\\u0443\\u0435\\u043c \\u0441 \\u0441\\u0430\\u043c\\u043e\\u0433\\u043e \\u043d\\u0430\\u0447\\u0430\\u043b\\u0430\\\")\\n        print(10 * \\\"---\\\")\\n        cnt_errors += 1\\n        file_w_errors.add(cur_doc)\\n    elif ind_start < len(fullText):\\n        for num, elem in enumerate(fullText[:ind_start]):\\n            if len(re.findall(\\\"\\\\{\\\\d+\\\\}\\\", elem)) > 0:\\n                print(cur_doc)\\n                print(\\\"START ERROr\\\", num, elem)\\n                print(20 * \\\"===\\\")\\n                cnt_errors += 1\\n                file_w_errors.add(cur_doc)\";\n",
       "                var nbb_formatted_code = \"full_docs = dict()\\ncnt_errors = 0\\nfile_w_errors = set()\\nfor cur_doc in docs_name:\\n    filename = path_docs + cur_doc\\n    doc = docx.Document(filename)\\n\\n    fullText = get_text(doc)\\n\\n    # \\u0438\\u0449\\u0435\\u043c \\u043d\\u0430\\u0447\\u0430\\u043b\\u043e \\u0440\\u0430\\u0437\\u0434\\u0435\\u043b\\u0430 \\u041f\\u0440\\u0430\\u0432\\u0438\\u043b\\u0430 \\u043f\\u0440\\u0435\\u0434\\u043e\\u0441\\u0442\\u0430\\u0432\\u043b\\u0435\\u043d\\u0438\\u044f ...\\n    ind_start = get_first_index(fullText)\\n\\n    # \\u0438\\u0449\\u0435\\u043c \\u043a\\u043e\\u043d\\u0435\\u0446 \\u0440\\u0430\\u0437\\u0434\\u0435\\u043b\\u0430 \\u041f\\u0440\\u0430\\u0432\\u0438\\u043b\\u0430 \\u043f\\u0440\\u0435\\u0434\\u043e\\u0441\\u0442\\u0430\\u0432\\u043b\\u0435\\u043d\\u0438\\u044f ...\\n    end_start = get_end_index(fullText)\\n\\n    target_data = []\\n    activate_flag = False\\n    for elem in fullText[ind_start:end_start]:\\n        if not activate_flag:\\n            if (\\n                len(re.findall(\\\"\\\\{\\\\d+\\\\}\\\", elem)) > 0\\n            ):  # if len(re.findall(\\\"\\\\d. \\\\{\\\\d\\\\}\\\", elem)) > 0:\\n                activate_flag = True\\n                target_data.append(elem.replace(\\\"\\\\xa0\\\", \\\" \\\"))\\n        else:\\n            target_data.append(elem.replace(\\\"\\\\xa0\\\", \\\" \\\"))\\n    target_data = [elem for elem in target_data if \\\"\\u041f\\u0440\\u0430\\u0432\\u0438\\u0442\\u0435\\u043b\\u044c\\u0441\\u0442\\u0432\\u0430 \\u0420\\u0424 \\u043e\\u0442\\\" not in elem]\\n    # \\u0438\\u0437\\u0432\\u043b\\u0435\\u043a\\u0430\\u0435\\u043c \\u043a\\u043b\\u0430\\u0441\\u0441 \\u0438 \\u0442\\u0435\\u043a\\u0441\\u0442\\n    texts = []\\n    targets = []\\n    few_texts = []\\n    few_targets = []\\n    real_target_data = []\\n    for num, elem in enumerate(target_data):\\n        elem_old = elem\\n        ## one mode\\n        elem = re.sub(\\\"{\\\\d+}\\\\s{0,3}{\\\\d+}\\\", \\\"\\\", elem)\\n        if len(re.split(\\\"{\\\\d+}\\\", elem)) > 1:\\n            target = int(re.split(\\\"{\\\", elem)[1].split(\\\"}\\\")[0])\\n            text = re.split(\\\"{\\\\d+}\\\", elem)[1].strip()\\n        else:\\n            target = 0\\n            text = elem.strip()\\n        ## few mode\\n        re.findall(\\\"{\\\\d+}\\\", elem_old)\\n        few_target = re.findall(\\\"{\\\\d+}\\\", elem_old)[::2]\\n        few_target = [int(re.split(\\\"{\\\", x)[1].split(\\\"}\\\")[0]) for x in few_target]\\n        few_text = re.split(\\\"{\\\\d+}.{0,5}{\\\\d+}\\\", elem_old)\\n        few_text = [re.sub(\\\"{\\\\d+}\\\", \\\"\\\", line) for line in few_text]\\n        if len(few_target) == 0:\\n            few_target = [0 for _ in few_text]\\n        ### \\u041f\\u0420\\u041e\\u0412\\u0415\\u0420\\u041a\\u0418 \\u041e\\u0428\\u0418\\u0411\\u041e\\u041a \\u0432 targts\\n        some_trgets = re.findall(\\\"{\\\\d+}|{\\\\d+\\\\)\\\", elem_old)\\n        mistake_flag = False\\n        for i in range(0, len(some_trgets), 2):\\n            try:\\n                if some_trgets[i] != some_trgets[i + 1]:\\n                    mistake_flag = True\\n                    print(\\n                        \\\"ERROR pair tags not equal | filename =\\\", cur_doc, some_trgets\\n                    )\\n            except:\\n                mistake_flag = True\\n                print(\\\"ERROR \\u043d\\u0435\\u0447\\u0435\\u0442\\u043d\\u043e\\u0435 \\u043a-\\u0432\\u043e some_trgets\\\", cur_doc, some_trgets)\\n        # \\u0435\\u0441\\u043b\\u0438 \\u043d\\u0435\\u0442 \\u043e\\u0448\\u0438\\u0431\\u043e\\u043a \\u0432 \\u0434\\u0430\\u043d\\u043d\\u044b\\u0445,\\u0442\\u043e \\u0443\\u0447\\u0438\\u0442\\u044b\\u0432\\u0430\\u0435\\u043c\\n        if not mistake_flag:\\n            texts.append(text)\\n            targets.append(target)\\n            few_texts.append(few_text)\\n            few_targets.append(few_target)\\n            real_target_data.append(elem_old)\\n    # \\u0438\\u043d\\u0438\\u0446\\u0438\\u0430\\u043b\\u0438\\u0437\\u0438\\u0440\\u0443\\u0435\\u043c \\u0432\\u0441\\u0435 \\u0432 \\u0434\\u0430\\u0442\\u0430\\u0441\\u0435\\u0442\\n    name = cur_doc.split(\\\".\\\")[0]\\n    full_docs[name] = dict()\\n    full_docs[name][\\\"data\\\"] = real_target_data  # target_data\\n    full_docs[name][\\\"text\\\"] = texts\\n    full_docs[name][\\\"target\\\"] = targets\\n    full_docs[name][\\\"few_texts\\\"] = few_texts\\n    full_docs[name][\\\"few_targets\\\"] = few_targets\\n\\n    ### \\u041f\\u0420\\u041e\\u0412\\u0415\\u0420\\u041a\\u0418 \\u0412\\u041e\\u0417\\u041c\\u041e\\u0416\\u041d\\u042b\\u0425 \\u041e\\u0428\\u0418\\u0411\\u041e\\u041a\\n    # check mistake END\\n    if end_start < len(fullText):\\n        for num, elem in enumerate(fullText[end_start:]):\\n            if len(re.findall(\\\"\\\\{\\\\d+\\\\}\\\", elem)) > 0:\\n                print(cur_doc)\\n                print(\\\"END ERROr\\\", num + end_start, elem)\\n                print(10 * \\\"---\\\")\\n                cnt_errors += 1\\n                file_w_errors.add(cur_doc)\\n    # check mistake START\\n    if ind_start == 0:\\n        print(cur_doc)\\n        print(\\\"START ERROr:\\u0441\\u0442\\u0430\\u0440\\u0442\\u0443\\u0435\\u043c \\u0441 \\u0441\\u0430\\u043c\\u043e\\u0433\\u043e \\u043d\\u0430\\u0447\\u0430\\u043b\\u0430\\\")\\n        print(10 * \\\"---\\\")\\n        cnt_errors += 1\\n        file_w_errors.add(cur_doc)\\n    elif ind_start < len(fullText):\\n        for num, elem in enumerate(fullText[:ind_start]):\\n            if len(re.findall(\\\"\\\\{\\\\d+\\\\}\\\", elem)) > 0:\\n                print(cur_doc)\\n                print(\\\"START ERROr\\\", num, elem)\\n                print(20 * \\\"===\\\")\\n                cnt_errors += 1\\n                file_w_errors.add(cur_doc)\";\n",
       "                var nbb_cells = Jupyter.notebook.get_cells();\n",
       "                for (var i = 0; i < nbb_cells.length; ++i) {\n",
       "                    if (nbb_cells[i].input_prompt_number == nbb_cell_id) {\n",
       "                        if (nbb_cells[i].get_text() == nbb_unformatted_code) {\n",
       "                             nbb_cells[i].set_text(nbb_formatted_code);\n",
       "                        }\n",
       "                        break;\n",
       "                    }\n",
       "                }\n",
       "            }, 500);\n",
       "            "
      ],
      "text/plain": [
       "<IPython.core.display.Javascript object>"
      ]
     },
     "metadata": {},
     "output_type": "display_data"
    }
   ],
   "source": [
    "full_docs = dict()\n",
    "cnt_errors = 0\n",
    "file_w_errors = set()\n",
    "for cur_doc in docs_name:\n",
    "    filename = path_docs + cur_doc\n",
    "    doc = docx.Document(filename)\n",
    "\n",
    "    fullText = get_text(doc)\n",
    "\n",
    "    # ищем начало раздела Правила предоставления ...\n",
    "    ind_start = get_first_index(fullText)\n",
    "\n",
    "    # ищем конец раздела Правила предоставления ...\n",
    "    end_start = get_end_index(fullText)\n",
    "\n",
    "    target_data = []\n",
    "    activate_flag = False\n",
    "    for elem in fullText[ind_start:end_start]:\n",
    "        if not activate_flag:\n",
    "            if (\n",
    "                len(re.findall(\"\\{\\d+\\}\", elem)) > 0\n",
    "            ):  # if len(re.findall(\"\\d. \\{\\d\\}\", elem)) > 0:\n",
    "                activate_flag = True\n",
    "                target_data.append(elem.replace(\"\\xa0\", \" \"))\n",
    "        else:\n",
    "            target_data.append(elem.replace(\"\\xa0\", \" \"))\n",
    "    target_data = [elem for elem in target_data if \"Правительства РФ от\" not in elem]\n",
    "    # извлекаем класс и текст\n",
    "    texts = []\n",
    "    targets = []\n",
    "    few_texts = []\n",
    "    few_targets = []\n",
    "    real_target_data = []\n",
    "    for num, elem in enumerate(target_data):\n",
    "        elem_old = elem\n",
    "        ## one mode\n",
    "        elem = re.sub(\"{\\d+}\\s{0,3}{\\d+}\", \"\", elem)\n",
    "        if len(re.split(\"{\\d+}\", elem)) > 1:\n",
    "            target = int(re.split(\"{\", elem)[1].split(\"}\")[0])\n",
    "            text = re.split(\"{\\d+}\", elem)[1].strip()\n",
    "        else:\n",
    "            target = 0\n",
    "            text = elem.strip()\n",
    "        ## few mode\n",
    "        re.findall(\"{\\d+}\", elem_old)\n",
    "        few_target = re.findall(\"{\\d+}\", elem_old)[::2]\n",
    "        few_target = [int(re.split(\"{\", x)[1].split(\"}\")[0]) for x in few_target]\n",
    "        few_text = re.split(\"{\\d+}.{0,5}{\\d+}\", elem_old)\n",
    "        few_text = [re.sub(\"{\\d+}\", \"\", line) for line in few_text]\n",
    "        if len(few_target) == 0:\n",
    "            few_target = [0 for _ in few_text]\n",
    "        ### ПРОВЕРКИ ОШИБОК в targts\n",
    "        some_trgets = re.findall(\"{\\d+}|{\\d+\\)\", elem_old)\n",
    "        mistake_flag = False\n",
    "        for i in range(0, len(some_trgets), 2):\n",
    "            try:\n",
    "                if some_trgets[i] != some_trgets[i + 1]:\n",
    "                    mistake_flag = True\n",
    "                    print(\n",
    "                        \"ERROR pair tags not equal | filename =\", cur_doc, some_trgets\n",
    "                    )\n",
    "            except:\n",
    "                mistake_flag = True\n",
    "                print(\"ERROR нечетное к-во some_trgets\", cur_doc, some_trgets)\n",
    "        # если нет ошибок в данных,то учитываем\n",
    "        if not mistake_flag:\n",
    "            texts.append(text)\n",
    "            targets.append(target)\n",
    "            few_texts.append(few_text)\n",
    "            few_targets.append(few_target)\n",
    "            real_target_data.append(elem_old)\n",
    "    # инициализируем все в датасет\n",
    "    name = cur_doc.split(\".\")[0]\n",
    "    full_docs[name] = dict()\n",
    "    full_docs[name][\"data\"] = real_target_data  # target_data\n",
    "    full_docs[name][\"text\"] = texts\n",
    "    full_docs[name][\"target\"] = targets\n",
    "    full_docs[name][\"few_texts\"] = few_texts\n",
    "    full_docs[name][\"few_targets\"] = few_targets\n",
    "\n",
    "    ### ПРОВЕРКИ ВОЗМОЖНЫХ ОШИБОК\n",
    "    # check mistake END\n",
    "    if end_start < len(fullText):\n",
    "        for num, elem in enumerate(fullText[end_start:]):\n",
    "            if len(re.findall(\"\\{\\d+\\}\", elem)) > 0:\n",
    "                print(cur_doc)\n",
    "                print(\"END ERROr\", num + end_start, elem)\n",
    "                print(10 * \"---\")\n",
    "                cnt_errors += 1\n",
    "                file_w_errors.add(cur_doc)\n",
    "    # check mistake START\n",
    "    if ind_start == 0:\n",
    "        print(cur_doc)\n",
    "        print(\"START ERROr:стартуем с самого начала\")\n",
    "        print(10 * \"---\")\n",
    "        cnt_errors += 1\n",
    "        file_w_errors.add(cur_doc)\n",
    "    elif ind_start < len(fullText):\n",
    "        for num, elem in enumerate(fullText[:ind_start]):\n",
    "            if len(re.findall(\"\\{\\d+\\}\", elem)) > 0:\n",
    "                print(cur_doc)\n",
    "                print(\"START ERROr\", num, elem)\n",
    "                print(20 * \"===\")\n",
    "                cnt_errors += 1\n",
    "                file_w_errors.add(cur_doc)"
   ]
  },
  {
   "cell_type": "code",
   "execution_count": 8,
   "metadata": {},
   "outputs": [
    {
     "data": {
      "text/plain": [
       "0"
      ]
     },
     "execution_count": 8,
     "metadata": {},
     "output_type": "execute_result"
    },
    {
     "data": {
      "application/javascript": [
       "\n",
       "            setTimeout(function() {\n",
       "                var nbb_cell_id = 8;\n",
       "                var nbb_unformatted_code = \"cnt_errors\";\n",
       "                var nbb_formatted_code = \"cnt_errors\";\n",
       "                var nbb_cells = Jupyter.notebook.get_cells();\n",
       "                for (var i = 0; i < nbb_cells.length; ++i) {\n",
       "                    if (nbb_cells[i].input_prompt_number == nbb_cell_id) {\n",
       "                        if (nbb_cells[i].get_text() == nbb_unformatted_code) {\n",
       "                             nbb_cells[i].set_text(nbb_formatted_code);\n",
       "                        }\n",
       "                        break;\n",
       "                    }\n",
       "                }\n",
       "            }, 500);\n",
       "            "
      ],
      "text/plain": [
       "<IPython.core.display.Javascript object>"
      ]
     },
     "metadata": {},
     "output_type": "display_data"
    }
   ],
   "source": [
    "cnt_errors"
   ]
  },
  {
   "cell_type": "code",
   "execution_count": 9,
   "metadata": {
    "scrolled": true
   },
   "outputs": [
    {
     "name": "stdout",
     "output_type": "stream",
     "text": [
      "set()\n"
     ]
    },
    {
     "data": {
      "application/javascript": [
       "\n",
       "            setTimeout(function() {\n",
       "                var nbb_cell_id = 9;\n",
       "                var nbb_unformatted_code = \"len_errors = len(file_w_errors)\\nif len_errors < 10:\\n    print(file_w_errors)\\nelse:\\n    print(len_errors)\";\n",
       "                var nbb_formatted_code = \"len_errors = len(file_w_errors)\\nif len_errors < 10:\\n    print(file_w_errors)\\nelse:\\n    print(len_errors)\";\n",
       "                var nbb_cells = Jupyter.notebook.get_cells();\n",
       "                for (var i = 0; i < nbb_cells.length; ++i) {\n",
       "                    if (nbb_cells[i].input_prompt_number == nbb_cell_id) {\n",
       "                        if (nbb_cells[i].get_text() == nbb_unformatted_code) {\n",
       "                             nbb_cells[i].set_text(nbb_formatted_code);\n",
       "                        }\n",
       "                        break;\n",
       "                    }\n",
       "                }\n",
       "            }, 500);\n",
       "            "
      ],
      "text/plain": [
       "<IPython.core.display.Javascript object>"
      ]
     },
     "metadata": {},
     "output_type": "display_data"
    }
   ],
   "source": [
    "len_errors = len(file_w_errors)\n",
    "if len_errors < 10:\n",
    "    print(file_w_errors)\n",
    "else:\n",
    "    print(len_errors)"
   ]
  },
  {
   "cell_type": "code",
   "execution_count": 10,
   "metadata": {
    "scrolled": true
   },
   "outputs": [
    {
     "data": {
      "application/javascript": [
       "\n",
       "            setTimeout(function() {\n",
       "                var nbb_cell_id = 10;\n",
       "                var nbb_unformatted_code = \"# full_docs = dict()\\n# for cur_doc in docs_name:\\n#     filename = path_docs + cur_doc\\n#     doc = docx.Document(filename)\\n\\n#     # \\u0441\\u0447\\u0438\\u0442\\u0430\\u0435\\u043c \\u0432\\u0441\\u0435 \\u0434\\u0430\\u043d\\u043d\\u044b\\u0435\\n#     fullText = []\\n#     for para in doc.paragraphs:\\n#         fullText.append(para.text.strip())\\n#     # \\u0443\\u0431\\u0438\\u0440\\u0430\\u0435\\u043c \\u043f\\u0443\\u0441\\u0442\\u044b\\u0435 \\u0441\\u0442\\u0440\\u043e\\u043a\\u0438\\n#     fullText = [elem for elem in fullText if len(elem) > 0]\\n\\n#     # \\u0438\\u0449\\u0435\\u043c \\u043d\\u0430\\u0447\\u0430\\u043b\\u043e \\u0440\\u0430\\u0437\\u0434\\u0435\\u043b\\u0430 \\u041f\\u0440\\u0430\\u0432\\u0438\\u043b\\u0430 \\u043f\\u0440\\u0435\\u0434\\u043e\\u0441\\u0442\\u0430\\u0432\\u043b\\u0435\\u043d\\u0438\\u044f ...\\n#     ind_start = 0\\n#     real_text = []\\n#     for i in range(len(fullText) - 1):\\n#         if fullText[i].lower().startswith(\\\"\\u043f\\u0440\\u0430\\u0432\\u0438\\u043b\\u0430\\\") and fullText[\\n#             i + 1\\n#         ].lower().startswith(\\\"\\u043f\\u0440\\u0435\\u0434\\u043e\\u0441\\u0442\\u0430\\u0432\\u043b\\u0435\\u043d\\u0438\\u044f\\\"):\\n#             ind_start = i\\n#             break\\n\\n#     # \\u0438\\u0449\\u0435\\u043c \\u043a\\u043e\\u043d\\u0435\\u0446 \\u0440\\u0430\\u0437\\u0434\\u0435\\u043b\\u0430 \\u041f\\u0440\\u0430\\u0432\\u0438\\u043b\\u0430 \\u043f\\u0440\\u0435\\u0434\\u043e\\u0441\\u0442\\u0430\\u0432\\u043b\\u0435\\u043d\\u0438\\u044f ...\\n#     end_start = len(fullText)\\n#     for i in range(ind_start, len(fullText) - 1):\\n#         if (\\n#             (\\n#                 fullText[i].lower().startswith(\\\"\\u0443\\u0442\\u0432\\u0435\\u0440\\u0436\\u0434\\u0435\\u043d\\\")\\n#                 & fullText[i + 1].lower().startswith(\\\"\\u043f\\u043e\\u0441\\u0442\\u0430\\u043d\\u043e\\u0432\\u043b\\u0435\\u043d\\u0438\\u0435\\u043c \\u043f\\u0440\\u0430\\u0432\\u0438\\u0442\\u0435\\u043b\\u044c\\u0441\\u0442\\u0432\\u0430\\\")\\n#             )\\n#             | (\\n#                 (\\\"\\u043f\\u0440\\u0438\\u043b\\u043e\\u0436\\u0435\\u043d\\u0438\\u0435 \\u2116\\\" in fullText[i].lower())\\n#                 & (\\\"\\u043f\\u0440\\u0435\\u0434\\u043e\\u0441\\u0442\\u0430\\u0432\\u043b\\u0435\\u043d\\u0438\\u044f\\\" in fullText[i + 1].lower())\\n#             )\\n#             | (\\n#                 (\\\"\\u043f\\u0440\\u0438\\u043b\\u043e\\u0436\\u0435\\u043d\\u0438\\u0435 \\u2116\\\" in fullText[i].lower())\\n#                 & (\\\"\\u043f\\u0440\\u0435\\u0434\\u043e\\u0441\\u0442\\u0430\\u0432\\u043b\\u0435\\u043d\\u0438\\u044f\\\" in fullText[i].lower())\\n#             )\\n#         ):\\n#             end_start = i\\n#             break\\n\\n#     target_data = []\\n#     activate_flag = False\\n#     for elem in fullText[ind_start:end_start]:\\n#         if not activate_flag:\\n#             if (\\n#                 len(re.findall(\\\"\\\\{\\\\d\\\\}\\\", elem)) > 0\\n#             ):  # if len(re.findall(\\\"\\\\d. \\\\{\\\\d\\\\}\\\", elem)) > 0:\\n#                 activate_flag = True\\n#                 target_data.append(elem.replace(\\\"\\\\xa0\\\", \\\" \\\"))\\n#         else:\\n#             target_data.append(elem.replace(\\\"\\\\xa0\\\", \\\" \\\"))\\n#     target_data = [elem for elem in target_data if \\\"\\u041f\\u0440\\u0430\\u0432\\u0438\\u0442\\u0435\\u043b\\u044c\\u0441\\u0442\\u0432\\u0430 \\u0420\\u0424 \\u043e\\u0442\\\" not in elem]\\n#     ### \\u041f\\u0420\\u041e\\u0412\\u0415\\u0420\\u041a\\u0418 \\u0412\\u041e\\u0417\\u041c\\u041e\\u0416\\u041d\\u042b\\u0425 \\u041e\\u0428\\u0418\\u0411\\u041e\\u041a\\n#     # check mistake END\\n#     if end_start < len(fullText):\\n#         for num, elem in enumerate(fullText[end_start:]):\\n#             if len(re.findall(\\\"\\\\{\\\\d\\\\}\\\", elem)) > 0:\\n#                 print(cur_doc)\\n#                 print(\\\"END ERROr\\\", num + end_start, elem)\\n#                 print(10 * \\\"---\\\")\\n#     # check mistake START\\n#     if ind_start == 0:\\n#         print(cur_doc)\\n#         print(\\\"START ERROr:\\u0441\\u0442\\u0430\\u0440\\u0442\\u0443\\u0435\\u043c \\u0441 \\u0441\\u0430\\u043c\\u043e\\u0433\\u043e \\u043d\\u0430\\u0447\\u0430\\u043b\\u0430\\\")\\n#         print(10 * \\\"---\\\")\\n#     elif ind_start < len(fullText):\\n#         for num, elem in enumerate(fullText[:ind_start]):\\n#             if len(re.findall(\\\"\\\\{\\\\d\\\\}\\\", elem)) > 0:\\n#                 print(cur_doc)\\n#                 print(\\\"START ERROr\\\", num, elem)\\n#                 print(20 * \\\"===\\\")\\n#     # \\u0438\\u0437\\u0432\\u043b\\u0435\\u043a\\u0430\\u0435\\u043c \\u043a\\u043b\\u0430\\u0441\\u0441 \\u0438 \\u0442\\u0435\\u043a\\u0441\\u0442\\n#     texts = []\\n#     targets = []\\n#     for num, elem in enumerate(target_data):\\n#         elem = re.sub(\\\"{\\\\d+}\\\\s{0,3}{\\\\d+}\\\", \\\"\\\", elem)\\n#         if len(re.split(\\\"{\\\\d+}\\\", elem)) > 1:\\n#             target = int(re.split(\\\"{\\\", elem)[1].split(\\\"}\\\")[0])\\n#             text = re.split(\\\"{\\\\d+}\\\", elem)[1].strip()\\n#         else:\\n#             target = 0\\n#             text = elem.strip()\\n#         texts.append(text)\\n#         targets.append(target)\\n#     # \\u0438\\u043d\\u0438\\u0446\\u0438\\u0430\\u043b\\u0438\\u0437\\u0438\\u0440\\u0443\\u0435\\u043c \\u0432\\u0441\\u0435 \\u0432 \\u0434\\u0430\\u0442\\u0430\\u0441\\u0435\\u0442\\n#     name = cur_doc.split(\\\".\\\")[0]\\n#     full_docs[name] = dict()\\n#     full_docs[name][\\\"data\\\"] = target_data\\n#     full_docs[name][\\\"text\\\"] = texts\\n#     full_docs[name][\\\"target\\\"] = targets\";\n",
       "                var nbb_formatted_code = \"# full_docs = dict()\\n# for cur_doc in docs_name:\\n#     filename = path_docs + cur_doc\\n#     doc = docx.Document(filename)\\n\\n#     # \\u0441\\u0447\\u0438\\u0442\\u0430\\u0435\\u043c \\u0432\\u0441\\u0435 \\u0434\\u0430\\u043d\\u043d\\u044b\\u0435\\n#     fullText = []\\n#     for para in doc.paragraphs:\\n#         fullText.append(para.text.strip())\\n#     # \\u0443\\u0431\\u0438\\u0440\\u0430\\u0435\\u043c \\u043f\\u0443\\u0441\\u0442\\u044b\\u0435 \\u0441\\u0442\\u0440\\u043e\\u043a\\u0438\\n#     fullText = [elem for elem in fullText if len(elem) > 0]\\n\\n#     # \\u0438\\u0449\\u0435\\u043c \\u043d\\u0430\\u0447\\u0430\\u043b\\u043e \\u0440\\u0430\\u0437\\u0434\\u0435\\u043b\\u0430 \\u041f\\u0440\\u0430\\u0432\\u0438\\u043b\\u0430 \\u043f\\u0440\\u0435\\u0434\\u043e\\u0441\\u0442\\u0430\\u0432\\u043b\\u0435\\u043d\\u0438\\u044f ...\\n#     ind_start = 0\\n#     real_text = []\\n#     for i in range(len(fullText) - 1):\\n#         if fullText[i].lower().startswith(\\\"\\u043f\\u0440\\u0430\\u0432\\u0438\\u043b\\u0430\\\") and fullText[\\n#             i + 1\\n#         ].lower().startswith(\\\"\\u043f\\u0440\\u0435\\u0434\\u043e\\u0441\\u0442\\u0430\\u0432\\u043b\\u0435\\u043d\\u0438\\u044f\\\"):\\n#             ind_start = i\\n#             break\\n\\n#     # \\u0438\\u0449\\u0435\\u043c \\u043a\\u043e\\u043d\\u0435\\u0446 \\u0440\\u0430\\u0437\\u0434\\u0435\\u043b\\u0430 \\u041f\\u0440\\u0430\\u0432\\u0438\\u043b\\u0430 \\u043f\\u0440\\u0435\\u0434\\u043e\\u0441\\u0442\\u0430\\u0432\\u043b\\u0435\\u043d\\u0438\\u044f ...\\n#     end_start = len(fullText)\\n#     for i in range(ind_start, len(fullText) - 1):\\n#         if (\\n#             (\\n#                 fullText[i].lower().startswith(\\\"\\u0443\\u0442\\u0432\\u0435\\u0440\\u0436\\u0434\\u0435\\u043d\\\")\\n#                 & fullText[i + 1].lower().startswith(\\\"\\u043f\\u043e\\u0441\\u0442\\u0430\\u043d\\u043e\\u0432\\u043b\\u0435\\u043d\\u0438\\u0435\\u043c \\u043f\\u0440\\u0430\\u0432\\u0438\\u0442\\u0435\\u043b\\u044c\\u0441\\u0442\\u0432\\u0430\\\")\\n#             )\\n#             | (\\n#                 (\\\"\\u043f\\u0440\\u0438\\u043b\\u043e\\u0436\\u0435\\u043d\\u0438\\u0435 \\u2116\\\" in fullText[i].lower())\\n#                 & (\\\"\\u043f\\u0440\\u0435\\u0434\\u043e\\u0441\\u0442\\u0430\\u0432\\u043b\\u0435\\u043d\\u0438\\u044f\\\" in fullText[i + 1].lower())\\n#             )\\n#             | (\\n#                 (\\\"\\u043f\\u0440\\u0438\\u043b\\u043e\\u0436\\u0435\\u043d\\u0438\\u0435 \\u2116\\\" in fullText[i].lower())\\n#                 & (\\\"\\u043f\\u0440\\u0435\\u0434\\u043e\\u0441\\u0442\\u0430\\u0432\\u043b\\u0435\\u043d\\u0438\\u044f\\\" in fullText[i].lower())\\n#             )\\n#         ):\\n#             end_start = i\\n#             break\\n\\n#     target_data = []\\n#     activate_flag = False\\n#     for elem in fullText[ind_start:end_start]:\\n#         if not activate_flag:\\n#             if (\\n#                 len(re.findall(\\\"\\\\{\\\\d\\\\}\\\", elem)) > 0\\n#             ):  # if len(re.findall(\\\"\\\\d. \\\\{\\\\d\\\\}\\\", elem)) > 0:\\n#                 activate_flag = True\\n#                 target_data.append(elem.replace(\\\"\\\\xa0\\\", \\\" \\\"))\\n#         else:\\n#             target_data.append(elem.replace(\\\"\\\\xa0\\\", \\\" \\\"))\\n#     target_data = [elem for elem in target_data if \\\"\\u041f\\u0440\\u0430\\u0432\\u0438\\u0442\\u0435\\u043b\\u044c\\u0441\\u0442\\u0432\\u0430 \\u0420\\u0424 \\u043e\\u0442\\\" not in elem]\\n#     ### \\u041f\\u0420\\u041e\\u0412\\u0415\\u0420\\u041a\\u0418 \\u0412\\u041e\\u0417\\u041c\\u041e\\u0416\\u041d\\u042b\\u0425 \\u041e\\u0428\\u0418\\u0411\\u041e\\u041a\\n#     # check mistake END\\n#     if end_start < len(fullText):\\n#         for num, elem in enumerate(fullText[end_start:]):\\n#             if len(re.findall(\\\"\\\\{\\\\d\\\\}\\\", elem)) > 0:\\n#                 print(cur_doc)\\n#                 print(\\\"END ERROr\\\", num + end_start, elem)\\n#                 print(10 * \\\"---\\\")\\n#     # check mistake START\\n#     if ind_start == 0:\\n#         print(cur_doc)\\n#         print(\\\"START ERROr:\\u0441\\u0442\\u0430\\u0440\\u0442\\u0443\\u0435\\u043c \\u0441 \\u0441\\u0430\\u043c\\u043e\\u0433\\u043e \\u043d\\u0430\\u0447\\u0430\\u043b\\u0430\\\")\\n#         print(10 * \\\"---\\\")\\n#     elif ind_start < len(fullText):\\n#         for num, elem in enumerate(fullText[:ind_start]):\\n#             if len(re.findall(\\\"\\\\{\\\\d\\\\}\\\", elem)) > 0:\\n#                 print(cur_doc)\\n#                 print(\\\"START ERROr\\\", num, elem)\\n#                 print(20 * \\\"===\\\")\\n#     # \\u0438\\u0437\\u0432\\u043b\\u0435\\u043a\\u0430\\u0435\\u043c \\u043a\\u043b\\u0430\\u0441\\u0441 \\u0438 \\u0442\\u0435\\u043a\\u0441\\u0442\\n#     texts = []\\n#     targets = []\\n#     for num, elem in enumerate(target_data):\\n#         elem = re.sub(\\\"{\\\\d+}\\\\s{0,3}{\\\\d+}\\\", \\\"\\\", elem)\\n#         if len(re.split(\\\"{\\\\d+}\\\", elem)) > 1:\\n#             target = int(re.split(\\\"{\\\", elem)[1].split(\\\"}\\\")[0])\\n#             text = re.split(\\\"{\\\\d+}\\\", elem)[1].strip()\\n#         else:\\n#             target = 0\\n#             text = elem.strip()\\n#         texts.append(text)\\n#         targets.append(target)\\n#     # \\u0438\\u043d\\u0438\\u0446\\u0438\\u0430\\u043b\\u0438\\u0437\\u0438\\u0440\\u0443\\u0435\\u043c \\u0432\\u0441\\u0435 \\u0432 \\u0434\\u0430\\u0442\\u0430\\u0441\\u0435\\u0442\\n#     name = cur_doc.split(\\\".\\\")[0]\\n#     full_docs[name] = dict()\\n#     full_docs[name][\\\"data\\\"] = target_data\\n#     full_docs[name][\\\"text\\\"] = texts\\n#     full_docs[name][\\\"target\\\"] = targets\";\n",
       "                var nbb_cells = Jupyter.notebook.get_cells();\n",
       "                for (var i = 0; i < nbb_cells.length; ++i) {\n",
       "                    if (nbb_cells[i].input_prompt_number == nbb_cell_id) {\n",
       "                        if (nbb_cells[i].get_text() == nbb_unformatted_code) {\n",
       "                             nbb_cells[i].set_text(nbb_formatted_code);\n",
       "                        }\n",
       "                        break;\n",
       "                    }\n",
       "                }\n",
       "            }, 500);\n",
       "            "
      ],
      "text/plain": [
       "<IPython.core.display.Javascript object>"
      ]
     },
     "metadata": {},
     "output_type": "display_data"
    }
   ],
   "source": [
    "# full_docs = dict()\n",
    "# for cur_doc in docs_name:\n",
    "#     filename = path_docs + cur_doc\n",
    "#     doc = docx.Document(filename)\n",
    "\n",
    "#     # считаем все данные\n",
    "#     fullText = []\n",
    "#     for para in doc.paragraphs:\n",
    "#         fullText.append(para.text.strip())\n",
    "#     # убираем пустые строки\n",
    "#     fullText = [elem for elem in fullText if len(elem) > 0]\n",
    "\n",
    "#     # ищем начало раздела Правила предоставления ...\n",
    "#     ind_start = 0\n",
    "#     real_text = []\n",
    "#     for i in range(len(fullText) - 1):\n",
    "#         if fullText[i].lower().startswith(\"правила\") and fullText[\n",
    "#             i + 1\n",
    "#         ].lower().startswith(\"предоставления\"):\n",
    "#             ind_start = i\n",
    "#             break\n",
    "\n",
    "#     # ищем конец раздела Правила предоставления ...\n",
    "#     end_start = len(fullText)\n",
    "#     for i in range(ind_start, len(fullText) - 1):\n",
    "#         if (\n",
    "#             (\n",
    "#                 fullText[i].lower().startswith(\"утвержден\")\n",
    "#                 & fullText[i + 1].lower().startswith(\"постановлением правительства\")\n",
    "#             )\n",
    "#             | (\n",
    "#                 (\"приложение №\" in fullText[i].lower())\n",
    "#                 & (\"предоставления\" in fullText[i + 1].lower())\n",
    "#             )\n",
    "#             | (\n",
    "#                 (\"приложение №\" in fullText[i].lower())\n",
    "#                 & (\"предоставления\" in fullText[i].lower())\n",
    "#             )\n",
    "#         ):\n",
    "#             end_start = i\n",
    "#             break\n",
    "\n",
    "#     target_data = []\n",
    "#     activate_flag = False\n",
    "#     for elem in fullText[ind_start:end_start]:\n",
    "#         if not activate_flag:\n",
    "#             if (\n",
    "#                 len(re.findall(\"\\{\\d\\}\", elem)) > 0\n",
    "#             ):  # if len(re.findall(\"\\d. \\{\\d\\}\", elem)) > 0:\n",
    "#                 activate_flag = True\n",
    "#                 target_data.append(elem.replace(\"\\xa0\", \" \"))\n",
    "#         else:\n",
    "#             target_data.append(elem.replace(\"\\xa0\", \" \"))\n",
    "#     target_data = [elem for elem in target_data if \"Правительства РФ от\" not in elem]\n",
    "#     ### ПРОВЕРКИ ВОЗМОЖНЫХ ОШИБОК\n",
    "#     # check mistake END\n",
    "#     if end_start < len(fullText):\n",
    "#         for num, elem in enumerate(fullText[end_start:]):\n",
    "#             if len(re.findall(\"\\{\\d\\}\", elem)) > 0:\n",
    "#                 print(cur_doc)\n",
    "#                 print(\"END ERROr\", num + end_start, elem)\n",
    "#                 print(10 * \"---\")\n",
    "#     # check mistake START\n",
    "#     if ind_start == 0:\n",
    "#         print(cur_doc)\n",
    "#         print(\"START ERROr:стартуем с самого начала\")\n",
    "#         print(10 * \"---\")\n",
    "#     elif ind_start < len(fullText):\n",
    "#         for num, elem in enumerate(fullText[:ind_start]):\n",
    "#             if len(re.findall(\"\\{\\d\\}\", elem)) > 0:\n",
    "#                 print(cur_doc)\n",
    "#                 print(\"START ERROr\", num, elem)\n",
    "#                 print(20 * \"===\")\n",
    "#     # извлекаем класс и текст\n",
    "#     texts = []\n",
    "#     targets = []\n",
    "#     for num, elem in enumerate(target_data):\n",
    "#         elem = re.sub(\"{\\d+}\\s{0,3}{\\d+}\", \"\", elem)\n",
    "#         if len(re.split(\"{\\d+}\", elem)) > 1:\n",
    "#             target = int(re.split(\"{\", elem)[1].split(\"}\")[0])\n",
    "#             text = re.split(\"{\\d+}\", elem)[1].strip()\n",
    "#         else:\n",
    "#             target = 0\n",
    "#             text = elem.strip()\n",
    "#         texts.append(text)\n",
    "#         targets.append(target)\n",
    "#     # инициализируем все в датасет\n",
    "#     name = cur_doc.split(\".\")[0]\n",
    "#     full_docs[name] = dict()\n",
    "#     full_docs[name][\"data\"] = target_data\n",
    "#     full_docs[name][\"text\"] = texts\n",
    "#     full_docs[name][\"target\"] = targets"
   ]
  },
  {
   "cell_type": "code",
   "execution_count": 11,
   "metadata": {},
   "outputs": [
    {
     "data": {
      "text/plain": [
       "156"
      ]
     },
     "execution_count": 11,
     "metadata": {},
     "output_type": "execute_result"
    },
    {
     "data": {
      "application/javascript": [
       "\n",
       "            setTimeout(function() {\n",
       "                var nbb_cell_id = 11;\n",
       "                var nbb_unformatted_code = \"len(full_docs)\";\n",
       "                var nbb_formatted_code = \"len(full_docs)\";\n",
       "                var nbb_cells = Jupyter.notebook.get_cells();\n",
       "                for (var i = 0; i < nbb_cells.length; ++i) {\n",
       "                    if (nbb_cells[i].input_prompt_number == nbb_cell_id) {\n",
       "                        if (nbb_cells[i].get_text() == nbb_unformatted_code) {\n",
       "                             nbb_cells[i].set_text(nbb_formatted_code);\n",
       "                        }\n",
       "                        break;\n",
       "                    }\n",
       "                }\n",
       "            }, 500);\n",
       "            "
      ],
      "text/plain": [
       "<IPython.core.display.Javascript object>"
      ]
     },
     "metadata": {},
     "output_type": "display_data"
    }
   ],
   "source": [
    "len(full_docs)"
   ]
  },
  {
   "cell_type": "code",
   "execution_count": 12,
   "metadata": {},
   "outputs": [
    {
     "data": {
      "application/javascript": [
       "\n",
       "            setTimeout(function() {\n",
       "                var nbb_cell_id = 12;\n",
       "                var nbb_unformatted_code = \"# full_docs[\\\"Postanovlenie_Pravitelstva_Rossiyskoy_Federatsii_ot_22_03_2021_439\\\"]\";\n",
       "                var nbb_formatted_code = \"# full_docs[\\\"Postanovlenie_Pravitelstva_Rossiyskoy_Federatsii_ot_22_03_2021_439\\\"]\";\n",
       "                var nbb_cells = Jupyter.notebook.get_cells();\n",
       "                for (var i = 0; i < nbb_cells.length; ++i) {\n",
       "                    if (nbb_cells[i].input_prompt_number == nbb_cell_id) {\n",
       "                        if (nbb_cells[i].get_text() == nbb_unformatted_code) {\n",
       "                             nbb_cells[i].set_text(nbb_formatted_code);\n",
       "                        }\n",
       "                        break;\n",
       "                    }\n",
       "                }\n",
       "            }, 500);\n",
       "            "
      ],
      "text/plain": [
       "<IPython.core.display.Javascript object>"
      ]
     },
     "metadata": {},
     "output_type": "display_data"
    }
   ],
   "source": [
    "# full_docs[\"Postanovlenie_Pravitelstva_Rossiyskoy_Federatsii_ot_22_03_2021_439\"]"
   ]
  },
  {
   "cell_type": "code",
   "execution_count": 13,
   "metadata": {},
   "outputs": [
    {
     "data": {
      "application/javascript": [
       "\n",
       "            setTimeout(function() {\n",
       "                var nbb_cell_id = 13;\n",
       "                var nbb_unformatted_code = \"# full_docs[\\\"955_ot_27_05_2022\\\"]\";\n",
       "                var nbb_formatted_code = \"# full_docs[\\\"955_ot_27_05_2022\\\"]\";\n",
       "                var nbb_cells = Jupyter.notebook.get_cells();\n",
       "                for (var i = 0; i < nbb_cells.length; ++i) {\n",
       "                    if (nbb_cells[i].input_prompt_number == nbb_cell_id) {\n",
       "                        if (nbb_cells[i].get_text() == nbb_unformatted_code) {\n",
       "                             nbb_cells[i].set_text(nbb_formatted_code);\n",
       "                        }\n",
       "                        break;\n",
       "                    }\n",
       "                }\n",
       "            }, 500);\n",
       "            "
      ],
      "text/plain": [
       "<IPython.core.display.Javascript object>"
      ]
     },
     "metadata": {},
     "output_type": "display_data"
    }
   ],
   "source": [
    "# full_docs[\"955_ot_27_05_2022\"]"
   ]
  },
  {
   "cell_type": "code",
   "execution_count": 14,
   "metadata": {},
   "outputs": [
    {
     "data": {
      "application/javascript": [
       "\n",
       "            setTimeout(function() {\n",
       "                var nbb_cell_id = 14;\n",
       "                var nbb_unformatted_code = \"import json\\n\\nwith open(\\\"full_docs.json\\\", \\\"w+\\\") as fp:\\n    json.dump(full_docs, fp)\";\n",
       "                var nbb_formatted_code = \"import json\\n\\nwith open(\\\"full_docs.json\\\", \\\"w+\\\") as fp:\\n    json.dump(full_docs, fp)\";\n",
       "                var nbb_cells = Jupyter.notebook.get_cells();\n",
       "                for (var i = 0; i < nbb_cells.length; ++i) {\n",
       "                    if (nbb_cells[i].input_prompt_number == nbb_cell_id) {\n",
       "                        if (nbb_cells[i].get_text() == nbb_unformatted_code) {\n",
       "                             nbb_cells[i].set_text(nbb_formatted_code);\n",
       "                        }\n",
       "                        break;\n",
       "                    }\n",
       "                }\n",
       "            }, 500);\n",
       "            "
      ],
      "text/plain": [
       "<IPython.core.display.Javascript object>"
      ]
     },
     "metadata": {},
     "output_type": "display_data"
    }
   ],
   "source": [
    "import json\n",
    "\n",
    "with open(\"full_docs.json\", \"w+\") as fp:\n",
    "    json.dump(full_docs, fp)"
   ]
  },
  {
   "cell_type": "code",
   "execution_count": 15,
   "metadata": {},
   "outputs": [
    {
     "data": {
      "application/javascript": [
       "\n",
       "            setTimeout(function() {\n",
       "                var nbb_cell_id = 15;\n",
       "                var nbb_unformatted_code = \"with open(\\\"full_docs.json\\\", \\\"r+\\\") as fp:\\n    full_docs1 = json.load(fp)\";\n",
       "                var nbb_formatted_code = \"with open(\\\"full_docs.json\\\", \\\"r+\\\") as fp:\\n    full_docs1 = json.load(fp)\";\n",
       "                var nbb_cells = Jupyter.notebook.get_cells();\n",
       "                for (var i = 0; i < nbb_cells.length; ++i) {\n",
       "                    if (nbb_cells[i].input_prompt_number == nbb_cell_id) {\n",
       "                        if (nbb_cells[i].get_text() == nbb_unformatted_code) {\n",
       "                             nbb_cells[i].set_text(nbb_formatted_code);\n",
       "                        }\n",
       "                        break;\n",
       "                    }\n",
       "                }\n",
       "            }, 500);\n",
       "            "
      ],
      "text/plain": [
       "<IPython.core.display.Javascript object>"
      ]
     },
     "metadata": {},
     "output_type": "display_data"
    }
   ],
   "source": [
    "with open(\"full_docs.json\", \"r+\") as fp:\n",
    "    full_docs1 = json.load(fp)"
   ]
  },
  {
   "cell_type": "code",
   "execution_count": 16,
   "metadata": {},
   "outputs": [
    {
     "data": {
      "text/plain": [
       "'Postanovlenie_Pravitelstva_RF_ot_29_09_2017_N_1179'"
      ]
     },
     "execution_count": 16,
     "metadata": {},
     "output_type": "execute_result"
    },
    {
     "data": {
      "application/javascript": [
       "\n",
       "            setTimeout(function() {\n",
       "                var nbb_cell_id = 16;\n",
       "                var nbb_unformatted_code = \"key_ = list(full_docs1.keys())[0]\\nkey_\";\n",
       "                var nbb_formatted_code = \"key_ = list(full_docs1.keys())[0]\\nkey_\";\n",
       "                var nbb_cells = Jupyter.notebook.get_cells();\n",
       "                for (var i = 0; i < nbb_cells.length; ++i) {\n",
       "                    if (nbb_cells[i].input_prompt_number == nbb_cell_id) {\n",
       "                        if (nbb_cells[i].get_text() == nbb_unformatted_code) {\n",
       "                             nbb_cells[i].set_text(nbb_formatted_code);\n",
       "                        }\n",
       "                        break;\n",
       "                    }\n",
       "                }\n",
       "            }, 500);\n",
       "            "
      ],
      "text/plain": [
       "<IPython.core.display.Javascript object>"
      ]
     },
     "metadata": {},
     "output_type": "display_data"
    }
   ],
   "source": [
    "key_ = list(full_docs1.keys())[0]\n",
    "key_"
   ]
  },
  {
   "cell_type": "code",
   "execution_count": 17,
   "metadata": {},
   "outputs": [
    {
     "data": {
      "text/plain": [
       "dict_keys(['data', 'text', 'target', 'few_texts', 'few_targets'])"
      ]
     },
     "execution_count": 17,
     "metadata": {},
     "output_type": "execute_result"
    },
    {
     "data": {
      "application/javascript": [
       "\n",
       "            setTimeout(function() {\n",
       "                var nbb_cell_id = 17;\n",
       "                var nbb_unformatted_code = \"full_docs1[key_].keys()\";\n",
       "                var nbb_formatted_code = \"full_docs1[key_].keys()\";\n",
       "                var nbb_cells = Jupyter.notebook.get_cells();\n",
       "                for (var i = 0; i < nbb_cells.length; ++i) {\n",
       "                    if (nbb_cells[i].input_prompt_number == nbb_cell_id) {\n",
       "                        if (nbb_cells[i].get_text() == nbb_unformatted_code) {\n",
       "                             nbb_cells[i].set_text(nbb_formatted_code);\n",
       "                        }\n",
       "                        break;\n",
       "                    }\n",
       "                }\n",
       "            }, 500);\n",
       "            "
      ],
      "text/plain": [
       "<IPython.core.display.Javascript object>"
      ]
     },
     "metadata": {},
     "output_type": "display_data"
    }
   ],
   "source": [
    "full_docs1[key_].keys()"
   ]
  },
  {
   "cell_type": "code",
   "execution_count": 19,
   "metadata": {},
   "outputs": [
    {
     "data": {
      "application/javascript": [
       "\n",
       "            setTimeout(function() {\n",
       "                var nbb_cell_id = 19;\n",
       "                var nbb_unformatted_code = \"import numpy as np\";\n",
       "                var nbb_formatted_code = \"import numpy as np\";\n",
       "                var nbb_cells = Jupyter.notebook.get_cells();\n",
       "                for (var i = 0; i < nbb_cells.length; ++i) {\n",
       "                    if (nbb_cells[i].input_prompt_number == nbb_cell_id) {\n",
       "                        if (nbb_cells[i].get_text() == nbb_unformatted_code) {\n",
       "                             nbb_cells[i].set_text(nbb_formatted_code);\n",
       "                        }\n",
       "                        break;\n",
       "                    }\n",
       "                }\n",
       "            }, 500);\n",
       "            "
      ],
      "text/plain": [
       "<IPython.core.display.Javascript object>"
      ]
     },
     "metadata": {},
     "output_type": "display_data"
    }
   ],
   "source": [
    "import numpy as np"
   ]
  },
  {
   "cell_type": "code",
   "execution_count": 20,
   "metadata": {},
   "outputs": [
    {
     "data": {
      "application/javascript": [
       "\n",
       "            setTimeout(function() {\n",
       "                var nbb_cell_id = 20;\n",
       "                var nbb_unformatted_code = \"for key_ in full_docs1.keys():\\n    pp = np.array(\\n        [\\n            len(full_docs1[key_][\\\"data\\\"]),\\n            len(full_docs1[key_][\\\"text\\\"]),\\n            len(full_docs1[key_][\\\"target\\\"]),\\n            len(full_docs1[key_][\\\"few_texts\\\"]),\\n            len(full_docs1[key_][\\\"few_targets\\\"]),\\n        ]\\n    )\\n    check = np.where(pp != len(full_docs1[key_][\\\"data\\\"]))[0]\\n    if len(check) > 0:\\n        print(key_, pp)\";\n",
       "                var nbb_formatted_code = \"for key_ in full_docs1.keys():\\n    pp = np.array(\\n        [\\n            len(full_docs1[key_][\\\"data\\\"]),\\n            len(full_docs1[key_][\\\"text\\\"]),\\n            len(full_docs1[key_][\\\"target\\\"]),\\n            len(full_docs1[key_][\\\"few_texts\\\"]),\\n            len(full_docs1[key_][\\\"few_targets\\\"]),\\n        ]\\n    )\\n    check = np.where(pp != len(full_docs1[key_][\\\"data\\\"]))[0]\\n    if len(check) > 0:\\n        print(key_, pp)\";\n",
       "                var nbb_cells = Jupyter.notebook.get_cells();\n",
       "                for (var i = 0; i < nbb_cells.length; ++i) {\n",
       "                    if (nbb_cells[i].input_prompt_number == nbb_cell_id) {\n",
       "                        if (nbb_cells[i].get_text() == nbb_unformatted_code) {\n",
       "                             nbb_cells[i].set_text(nbb_formatted_code);\n",
       "                        }\n",
       "                        break;\n",
       "                    }\n",
       "                }\n",
       "            }, 500);\n",
       "            "
      ],
      "text/plain": [
       "<IPython.core.display.Javascript object>"
      ]
     },
     "metadata": {},
     "output_type": "display_data"
    }
   ],
   "source": [
    "for key_ in full_docs1.keys():\n",
    "    pp = np.array(\n",
    "        [\n",
    "            len(full_docs1[key_][\"data\"]),\n",
    "            len(full_docs1[key_][\"text\"]),\n",
    "            len(full_docs1[key_][\"target\"]),\n",
    "            len(full_docs1[key_][\"few_texts\"]),\n",
    "            len(full_docs1[key_][\"few_targets\"]),\n",
    "        ]\n",
    "    )\n",
    "    check = np.where(pp != len(full_docs1[key_][\"data\"]))[0]\n",
    "    if len(check) > 0:\n",
    "        print(key_, pp)"
   ]
  },
  {
   "cell_type": "markdown",
   "metadata": {},
   "source": [
    "## for one"
   ]
  },
  {
   "cell_type": "code",
   "execution_count": 67,
   "metadata": {},
   "outputs": [
    {
     "data": {
      "application/javascript": [
       "\n",
       "            setTimeout(function() {\n",
       "                var nbb_cell_id = 67;\n",
       "                var nbb_unformatted_code = \"cur_doc = \\\"Postanovlenie_pravitelstva_RF_02_03_2021_N_294.docx\\\"\\ncur_doc = \\\"Postanovlenie_Pravitelstva_RF_ot_31_03_2021_N_487.docx\\\"\\n# \\u043e\\u0448\\u0438\\u0431\\u043a\\u0430 \\u0440\\u0430\\u0437\\u043c\\u0435\\u0442\\u043a\\u0438:  7. {22} \\u0420\\u0430\\u0437\\u043c\\u0435\\u0440 \\u0441\\u0443\\u0431\\u0441\\u0438\\u0434\\u0438\\u0438 (S) \\u043f\\u043e \\u043d\\u0430\\u043f\\u0440\\u0430\\u0432\\u043b\\u0435\\u043d\\u0438\\u044f\\u043c \\u0435\\u0435 \\u0438\\u0441\\u043f\\u043e\\u043b\\u044c\\u0437\\u043e\\u0432\\u0430\\u043d\\u0438\\u044f \\u0440\\u0430\\u0441\\u0441\\u0447\\u0438\\u0442\\u044b\\u0432\\u0430\\u0435\\u0442\\u0441\\u044f \\u043f\\u043e \\u0444\\u043e\\u0440\\u043c\\u0443\\u043b\\u0435: {21}\\ncur_doc = \\\"\\u041f\\u043e\\u0441\\u0442\\u0430\\u043d\\u043e\\u0432\\u043b\\u0435\\u043d\\u0438\\u0435 \\u041f\\u0440\\u0430\\u0432\\u0438\\u0442\\u0435\\u043b\\u044c\\u0441\\u0442\\u0432\\u0430 \\u0420\\u0424 \\u043e\\u0442 28.06.2021 N 1031.docx\\\"\\n# 66 {10}\\u0434\\u043e\\u043c\\u0435\\u043d\\u043d\\u043e\\u0435 \\u0438\\u043c\\u044f, \\u0438 (\\u0438\\u043b\\u0438) \\u0441\\u0435\\u0442\\u0435\\u0432\\u043e\\u0439 \\u0430\\u0434\\u0440\\u0435\\u0441, \\u0438 (\\u0438\\u043b\\u0438) \\u0443\\u043a\\u0430\\u0437\\u0430\\u0442\\u0435\\u043b\\u0438 \\u0441\\u0442\\u0440\\u0430\\u043d\\u0438\\u0446 \\u0441\\u0430\\u0439\\u0442\\u0430 \\u0432 \\u0438\\u043d\\u0444\\u043e\\u0440\\u043c\\u0430\\u0446\\u0438\\u043e\\u043d\\u043d\\u043e-\\u0442\\u0435\\u043b\\u0435\\u043a\\u043e\\u043c\\u043c\\u0443\\u043d\\u0438\\u043a\\u0430\\u0446\\u0438\\u043e\\u043d\\u043d\\u043e\\u0439 \\u0441\\u0435\\u0442\\u0438 \\\"\\u0418\\u043d\\u0442\\u0435\\u0440\\u043d\\u0435\\u0442\\\", \\u043d\\u0430 \\u043a\\u043e\\u0442\\u043e\\u0440\\u043e\\u043c \\u043e\\u0431\\u0435\\u0441\\u043f\\u0435\\u0447\\u0438\\u0432\\u0430\\u0435\\u0442\\u0441\\u044f \\u043f\\u0440\\u043e\\u0432\\u0435\\u0434\\u0435\\u043d\\u0438\\u0435 \\u043e\\u0442\\u0431\\u043e\\u0440\\u0430; {24}\\n# 75 {15} \\u043e\\u0431\\u044f\\u0437\\u0430\\u0442\\u0435\\u043b\\u044c\\u0441\\u0442\\u0432\\u043e \\u0424\\u043e\\u043d\\u0434\\u0430 \\u043e \\u043f\\u0440\\u043e\\u0432\\u0435\\u0434\\u0435\\u043d\\u0438\\u0438 \\u043e\\u0442\\u0431\\u043e\\u0440\\u0430 \\u0432 \\u0441\\u043e\\u043e\\u0442\\u0432\\u0435\\u0442\\u0441\\u0442\\u0432\\u0438\\u0438 \\u0441 \\u043f\\u043e\\u0440\\u044f\\u0434\\u043a\\u043e\\u043c, \\u0443\\u0441\\u0442\\u0430\\u043d\\u043e\\u0432\\u043b\\u0435\\u043d\\u043d\\u044b\\u043c  \\u043d\\u0430\\u0441\\u0442\\u043e\\u044f\\u0449\\u0438\\u0445 \\u041f\\u0440\\u0430\\u0432\\u0438\\u043b; {24}\\n# 77 {27}\\u0437\\u043d\\u0430\\u0447\\u0435\\u043d\\u0438\\u044f \\u043f\\u043e\\u043a\\u0430\\u0437\\u0430\\u0442\\u0435\\u043b\\u0435\\u0439, \\u043d\\u0435\\u043e\\u0431\\u0445\\u043e\\u0434\\u0438\\u043c\\u044b\\u0445 \\u0434\\u043b\\u044f \\u0434\\u043e\\u0441\\u0442\\u0438\\u0436\\u0435\\u043d\\u0438\\u044f \\u0440\\u0435\\u0437\\u0443\\u043b\\u044c\\u0442\\u0430\\u0442\\u0430 \\u043f\\u0440\\u0435\\u0434\\u043e\\u0441\\u0442\\u0430\\u0432\\u043b\\u0435\\u043d\\u0438\\u044f \\u0441\\u0443\\u0431\\u0441\\u0438\\u0434\\u0438\\u0438, \\u0443\\u043a\\u0430\\u0437\\u0430\\u043d\\u043d\\u044b\\u0435 \\u0432  \\u043d\\u0430\\u0441\\u0442\\u043e\\u044f\\u0449\\u0438\\u0445 \\u041f\\u0440\\u0430\\u0432\\u0438\\u043b; {24}\\n\\n# cur_doc = \\\"804_ot_30_aprelya_2022.docx\\\"\\n# \\u0432\\u043c\\u0435\\u0441\\u0442\\u043e {11} ->{11)\\n\\n# cur_doc = \\\"574_ot_2_aprelya_2022.docx\\\"\\ncur_doc = \\\"\\u041f\\u043e\\u0441\\u0442\\u0430\\u043d\\u043e\\u0432\\u043b\\u0435\\u043d\\u0438\\u0435 \\u041f\\u0440\\u0430\\u0432\\u0438\\u0442\\u0435\\u043b\\u044c\\u0441\\u0442\\u0432\\u0430 \\u0420\\u0424 \\u043e\\u0442 28.06.2021 N 1031.docx\\\"\";\n",
       "                var nbb_formatted_code = \"cur_doc = \\\"Postanovlenie_pravitelstva_RF_02_03_2021_N_294.docx\\\"\\ncur_doc = \\\"Postanovlenie_Pravitelstva_RF_ot_31_03_2021_N_487.docx\\\"\\n# \\u043e\\u0448\\u0438\\u0431\\u043a\\u0430 \\u0440\\u0430\\u0437\\u043c\\u0435\\u0442\\u043a\\u0438:  7. {22} \\u0420\\u0430\\u0437\\u043c\\u0435\\u0440 \\u0441\\u0443\\u0431\\u0441\\u0438\\u0434\\u0438\\u0438 (S) \\u043f\\u043e \\u043d\\u0430\\u043f\\u0440\\u0430\\u0432\\u043b\\u0435\\u043d\\u0438\\u044f\\u043c \\u0435\\u0435 \\u0438\\u0441\\u043f\\u043e\\u043b\\u044c\\u0437\\u043e\\u0432\\u0430\\u043d\\u0438\\u044f \\u0440\\u0430\\u0441\\u0441\\u0447\\u0438\\u0442\\u044b\\u0432\\u0430\\u0435\\u0442\\u0441\\u044f \\u043f\\u043e \\u0444\\u043e\\u0440\\u043c\\u0443\\u043b\\u0435: {21}\\ncur_doc = \\\"\\u041f\\u043e\\u0441\\u0442\\u0430\\u043d\\u043e\\u0432\\u043b\\u0435\\u043d\\u0438\\u0435 \\u041f\\u0440\\u0430\\u0432\\u0438\\u0442\\u0435\\u043b\\u044c\\u0441\\u0442\\u0432\\u0430 \\u0420\\u0424 \\u043e\\u0442 28.06.2021 N 1031.docx\\\"\\n# 66 {10}\\u0434\\u043e\\u043c\\u0435\\u043d\\u043d\\u043e\\u0435 \\u0438\\u043c\\u044f, \\u0438 (\\u0438\\u043b\\u0438) \\u0441\\u0435\\u0442\\u0435\\u0432\\u043e\\u0439 \\u0430\\u0434\\u0440\\u0435\\u0441, \\u0438 (\\u0438\\u043b\\u0438) \\u0443\\u043a\\u0430\\u0437\\u0430\\u0442\\u0435\\u043b\\u0438 \\u0441\\u0442\\u0440\\u0430\\u043d\\u0438\\u0446 \\u0441\\u0430\\u0439\\u0442\\u0430 \\u0432 \\u0438\\u043d\\u0444\\u043e\\u0440\\u043c\\u0430\\u0446\\u0438\\u043e\\u043d\\u043d\\u043e-\\u0442\\u0435\\u043b\\u0435\\u043a\\u043e\\u043c\\u043c\\u0443\\u043d\\u0438\\u043a\\u0430\\u0446\\u0438\\u043e\\u043d\\u043d\\u043e\\u0439 \\u0441\\u0435\\u0442\\u0438 \\\"\\u0418\\u043d\\u0442\\u0435\\u0440\\u043d\\u0435\\u0442\\\", \\u043d\\u0430 \\u043a\\u043e\\u0442\\u043e\\u0440\\u043e\\u043c \\u043e\\u0431\\u0435\\u0441\\u043f\\u0435\\u0447\\u0438\\u0432\\u0430\\u0435\\u0442\\u0441\\u044f \\u043f\\u0440\\u043e\\u0432\\u0435\\u0434\\u0435\\u043d\\u0438\\u0435 \\u043e\\u0442\\u0431\\u043e\\u0440\\u0430; {24}\\n# 75 {15} \\u043e\\u0431\\u044f\\u0437\\u0430\\u0442\\u0435\\u043b\\u044c\\u0441\\u0442\\u0432\\u043e \\u0424\\u043e\\u043d\\u0434\\u0430 \\u043e \\u043f\\u0440\\u043e\\u0432\\u0435\\u0434\\u0435\\u043d\\u0438\\u0438 \\u043e\\u0442\\u0431\\u043e\\u0440\\u0430 \\u0432 \\u0441\\u043e\\u043e\\u0442\\u0432\\u0435\\u0442\\u0441\\u0442\\u0432\\u0438\\u0438 \\u0441 \\u043f\\u043e\\u0440\\u044f\\u0434\\u043a\\u043e\\u043c, \\u0443\\u0441\\u0442\\u0430\\u043d\\u043e\\u0432\\u043b\\u0435\\u043d\\u043d\\u044b\\u043c  \\u043d\\u0430\\u0441\\u0442\\u043e\\u044f\\u0449\\u0438\\u0445 \\u041f\\u0440\\u0430\\u0432\\u0438\\u043b; {24}\\n# 77 {27}\\u0437\\u043d\\u0430\\u0447\\u0435\\u043d\\u0438\\u044f \\u043f\\u043e\\u043a\\u0430\\u0437\\u0430\\u0442\\u0435\\u043b\\u0435\\u0439, \\u043d\\u0435\\u043e\\u0431\\u0445\\u043e\\u0434\\u0438\\u043c\\u044b\\u0445 \\u0434\\u043b\\u044f \\u0434\\u043e\\u0441\\u0442\\u0438\\u0436\\u0435\\u043d\\u0438\\u044f \\u0440\\u0435\\u0437\\u0443\\u043b\\u044c\\u0442\\u0430\\u0442\\u0430 \\u043f\\u0440\\u0435\\u0434\\u043e\\u0441\\u0442\\u0430\\u0432\\u043b\\u0435\\u043d\\u0438\\u044f \\u0441\\u0443\\u0431\\u0441\\u0438\\u0434\\u0438\\u0438, \\u0443\\u043a\\u0430\\u0437\\u0430\\u043d\\u043d\\u044b\\u0435 \\u0432  \\u043d\\u0430\\u0441\\u0442\\u043e\\u044f\\u0449\\u0438\\u0445 \\u041f\\u0440\\u0430\\u0432\\u0438\\u043b; {24}\\n\\n# cur_doc = \\\"804_ot_30_aprelya_2022.docx\\\"\\n# \\u0432\\u043c\\u0435\\u0441\\u0442\\u043e {11} ->{11)\\n\\n# cur_doc = \\\"574_ot_2_aprelya_2022.docx\\\"\\ncur_doc = \\\"\\u041f\\u043e\\u0441\\u0442\\u0430\\u043d\\u043e\\u0432\\u043b\\u0435\\u043d\\u0438\\u0435 \\u041f\\u0440\\u0430\\u0432\\u0438\\u0442\\u0435\\u043b\\u044c\\u0441\\u0442\\u0432\\u0430 \\u0420\\u0424 \\u043e\\u0442 28.06.2021 N 1031.docx\\\"\";\n",
       "                var nbb_cells = Jupyter.notebook.get_cells();\n",
       "                for (var i = 0; i < nbb_cells.length; ++i) {\n",
       "                    if (nbb_cells[i].input_prompt_number == nbb_cell_id) {\n",
       "                        if (nbb_cells[i].get_text() == nbb_unformatted_code) {\n",
       "                             nbb_cells[i].set_text(nbb_formatted_code);\n",
       "                        }\n",
       "                        break;\n",
       "                    }\n",
       "                }\n",
       "            }, 500);\n",
       "            "
      ],
      "text/plain": [
       "<IPython.core.display.Javascript object>"
      ]
     },
     "metadata": {},
     "output_type": "display_data"
    }
   ],
   "source": [
    "cur_doc = \"Postanovlenie_pravitelstva_RF_02_03_2021_N_294.docx\"\n",
    "cur_doc = \"Postanovlenie_Pravitelstva_RF_ot_31_03_2021_N_487.docx\"\n",
    "# ошибка разметки:  7. {22} Размер субсидии (S) по направлениям ее использования рассчитывается по формуле: {21}\n",
    "cur_doc = \"Постановление Правительства РФ от 28.06.2021 N 1031.docx\"\n",
    "# 66 {10}доменное имя, и (или) сетевой адрес, и (или) указатели страниц сайта в информационно-телекоммуникационной сети \"Интернет\", на котором обеспечивается проведение отбора; {24}\n",
    "# 75 {15} обязательство Фонда о проведении отбора в соответствии с порядком, установленным  настоящих Правил; {24}\n",
    "# 77 {27}значения показателей, необходимых для достижения результата предоставления субсидии, указанные в  настоящих Правил; {24}\n",
    "\n",
    "# cur_doc = \"804_ot_30_aprelya_2022.docx\"\n",
    "# вместо {11} ->{11)\n",
    "\n",
    "# cur_doc = \"574_ot_2_aprelya_2022.docx\"\n",
    "cur_doc = \"Постановление Правительства РФ от 28.06.2021 N 1031.docx\""
   ]
  },
  {
   "cell_type": "code",
   "execution_count": 68,
   "metadata": {},
   "outputs": [
    {
     "data": {
      "application/javascript": [
       "\n",
       "            setTimeout(function() {\n",
       "                var nbb_cell_id = 68;\n",
       "                var nbb_unformatted_code = \"# \\u0444\\u0430\\u0439\\u043b\\u044b, \\u043d\\u0430 \\u043a\\u043e\\u0442\\u043e\\u0440\\u044b\\u0445 \\u0431\\u044b\\u043b\\u0438 \\u043e\\u0448\\u0438\\u0431\\u043a\\u0438\\n# \\u0442\\u0435\\u043f\\u0435\\u0440\\u044c \\u043f\\u0440\\u0438\\u0448\\u043b\\u043e\\u0441\\u044c \\u0432\\u043f\\u0435\\u0440\\u0435\\u0434 \\u0441\\u043c\\u043e\\u0442\\u0440\\u0435\\u0442\\u044c \\u0434\\u043b\\u044f \\u043f\\u0440\\u043e\\u0432\\u0435\\u0440\\u043a\\u0435 (\\u041d\\u0410 \\u0422\\u0420\\u0415\\u0419\\u041d\\u0415 \\u0422\\u0410\\u041a \\u041d\\u0415\\u041b\\u042c\\u0417\\u042f), \\u043d\\u0430\\u0434\\u043e \\u0431\\u0443\\u0434\\u0435\\u0442 \\u0443\\u0442\\u043e\\u0447\\u043d\\u0438\\u0442\\u044c \\u0443 \\u043a\\u0435\\u0439\\u0441\\u043e\\u0434\\u0435\\u0440\\u0430\\u0436\\u0435\\u0442\\u0435\\u043b\\u0435\\u0439\\n# cur_doc = \\\"\\u041f\\u043e\\u0441\\u0442\\u0430\\u043d\\u043e\\u0432\\u043b\\u0435\\u043d\\u0438\\u0435 \\u041f\\u0440\\u0430\\u0432\\u0438\\u0442\\u0435\\u043b\\u044c\\u0441\\u0442\\u0432\\u0430 \\u0420\\u0424 \\u043e\\u0442 03.11.2018 N 1304.docx\\\"\\n# cur_doc = \\\"Postanovlenie_Pravitelstva_Rossiyskoy_Federatsii_ot_22_03_2021_439.docx\\\"\\n# cur_doc = \\\"Postanovlenie_Pravitelstva_RF_ot_03_04_2018_N_402.docx\\\"\";\n",
       "                var nbb_formatted_code = \"# \\u0444\\u0430\\u0439\\u043b\\u044b, \\u043d\\u0430 \\u043a\\u043e\\u0442\\u043e\\u0440\\u044b\\u0445 \\u0431\\u044b\\u043b\\u0438 \\u043e\\u0448\\u0438\\u0431\\u043a\\u0438\\n# \\u0442\\u0435\\u043f\\u0435\\u0440\\u044c \\u043f\\u0440\\u0438\\u0448\\u043b\\u043e\\u0441\\u044c \\u0432\\u043f\\u0435\\u0440\\u0435\\u0434 \\u0441\\u043c\\u043e\\u0442\\u0440\\u0435\\u0442\\u044c \\u0434\\u043b\\u044f \\u043f\\u0440\\u043e\\u0432\\u0435\\u0440\\u043a\\u0435 (\\u041d\\u0410 \\u0422\\u0420\\u0415\\u0419\\u041d\\u0415 \\u0422\\u0410\\u041a \\u041d\\u0415\\u041b\\u042c\\u0417\\u042f), \\u043d\\u0430\\u0434\\u043e \\u0431\\u0443\\u0434\\u0435\\u0442 \\u0443\\u0442\\u043e\\u0447\\u043d\\u0438\\u0442\\u044c \\u0443 \\u043a\\u0435\\u0439\\u0441\\u043e\\u0434\\u0435\\u0440\\u0430\\u0436\\u0435\\u0442\\u0435\\u043b\\u0435\\u0439\\n# cur_doc = \\\"\\u041f\\u043e\\u0441\\u0442\\u0430\\u043d\\u043e\\u0432\\u043b\\u0435\\u043d\\u0438\\u0435 \\u041f\\u0440\\u0430\\u0432\\u0438\\u0442\\u0435\\u043b\\u044c\\u0441\\u0442\\u0432\\u0430 \\u0420\\u0424 \\u043e\\u0442 03.11.2018 N 1304.docx\\\"\\n# cur_doc = \\\"Postanovlenie_Pravitelstva_Rossiyskoy_Federatsii_ot_22_03_2021_439.docx\\\"\\n# cur_doc = \\\"Postanovlenie_Pravitelstva_RF_ot_03_04_2018_N_402.docx\\\"\";\n",
       "                var nbb_cells = Jupyter.notebook.get_cells();\n",
       "                for (var i = 0; i < nbb_cells.length; ++i) {\n",
       "                    if (nbb_cells[i].input_prompt_number == nbb_cell_id) {\n",
       "                        if (nbb_cells[i].get_text() == nbb_unformatted_code) {\n",
       "                             nbb_cells[i].set_text(nbb_formatted_code);\n",
       "                        }\n",
       "                        break;\n",
       "                    }\n",
       "                }\n",
       "            }, 500);\n",
       "            "
      ],
      "text/plain": [
       "<IPython.core.display.Javascript object>"
      ]
     },
     "metadata": {},
     "output_type": "display_data"
    }
   ],
   "source": [
    "# файлы, на которых были ошибки\n",
    "# теперь пришлось вперед смотреть для проверке (НА ТРЕЙНЕ ТАК НЕЛЬЗЯ), надо будет уточнить у кейсодеражетелей\n",
    "# cur_doc = \"Постановление Правительства РФ от 03.11.2018 N 1304.docx\"\n",
    "# cur_doc = \"Postanovlenie_Pravitelstva_Rossiyskoy_Federatsii_ot_22_03_2021_439.docx\"\n",
    "# cur_doc = \"Postanovlenie_Pravitelstva_RF_ot_03_04_2018_N_402.docx\""
   ]
  },
  {
   "cell_type": "code",
   "execution_count": 69,
   "metadata": {
    "scrolled": true
   },
   "outputs": [
    {
     "data": {
      "application/javascript": [
       "\n",
       "            setTimeout(function() {\n",
       "                var nbb_cell_id = 69;\n",
       "                var nbb_unformatted_code = \"# !pip install python-docx\";\n",
       "                var nbb_formatted_code = \"# !pip install python-docx\";\n",
       "                var nbb_cells = Jupyter.notebook.get_cells();\n",
       "                for (var i = 0; i < nbb_cells.length; ++i) {\n",
       "                    if (nbb_cells[i].input_prompt_number == nbb_cell_id) {\n",
       "                        if (nbb_cells[i].get_text() == nbb_unformatted_code) {\n",
       "                             nbb_cells[i].set_text(nbb_formatted_code);\n",
       "                        }\n",
       "                        break;\n",
       "                    }\n",
       "                }\n",
       "            }, 500);\n",
       "            "
      ],
      "text/plain": [
       "<IPython.core.display.Javascript object>"
      ]
     },
     "metadata": {},
     "output_type": "display_data"
    }
   ],
   "source": [
    "# !pip install python-docx"
   ]
  },
  {
   "cell_type": "code",
   "execution_count": null,
   "metadata": {},
   "outputs": [],
   "source": []
  },
  {
   "cell_type": "code",
   "execution_count": 70,
   "metadata": {},
   "outputs": [
    {
     "data": {
      "application/javascript": [
       "\n",
       "            setTimeout(function() {\n",
       "                var nbb_cell_id = 70;\n",
       "                var nbb_unformatted_code = \"filename = path_docs + cur_doc\\ndoc = docx.Document(filename)\";\n",
       "                var nbb_formatted_code = \"filename = path_docs + cur_doc\\ndoc = docx.Document(filename)\";\n",
       "                var nbb_cells = Jupyter.notebook.get_cells();\n",
       "                for (var i = 0; i < nbb_cells.length; ++i) {\n",
       "                    if (nbb_cells[i].input_prompt_number == nbb_cell_id) {\n",
       "                        if (nbb_cells[i].get_text() == nbb_unformatted_code) {\n",
       "                             nbb_cells[i].set_text(nbb_formatted_code);\n",
       "                        }\n",
       "                        break;\n",
       "                    }\n",
       "                }\n",
       "            }, 500);\n",
       "            "
      ],
      "text/plain": [
       "<IPython.core.display.Javascript object>"
      ]
     },
     "metadata": {},
     "output_type": "display_data"
    }
   ],
   "source": [
    "filename = path_docs + cur_doc\n",
    "doc = docx.Document(filename)"
   ]
  },
  {
   "cell_type": "code",
   "execution_count": 71,
   "metadata": {},
   "outputs": [
    {
     "data": {
      "application/javascript": [
       "\n",
       "            setTimeout(function() {\n",
       "                var nbb_cell_id = 71;\n",
       "                var nbb_unformatted_code = \"fullText = get_text(doc)\";\n",
       "                var nbb_formatted_code = \"fullText = get_text(doc)\";\n",
       "                var nbb_cells = Jupyter.notebook.get_cells();\n",
       "                for (var i = 0; i < nbb_cells.length; ++i) {\n",
       "                    if (nbb_cells[i].input_prompt_number == nbb_cell_id) {\n",
       "                        if (nbb_cells[i].get_text() == nbb_unformatted_code) {\n",
       "                             nbb_cells[i].set_text(nbb_formatted_code);\n",
       "                        }\n",
       "                        break;\n",
       "                    }\n",
       "                }\n",
       "            }, 500);\n",
       "            "
      ],
      "text/plain": [
       "<IPython.core.display.Javascript object>"
      ]
     },
     "metadata": {},
     "output_type": "display_data"
    }
   ],
   "source": [
    "fullText = get_text(doc)"
   ]
  },
  {
   "cell_type": "code",
   "execution_count": 72,
   "metadata": {},
   "outputs": [
    {
     "data": {
      "application/javascript": [
       "\n",
       "            setTimeout(function() {\n",
       "                var nbb_cell_id = 72;\n",
       "                var nbb_unformatted_code = \"# fullText = []\\n# for para in doc.paragraphs:\\n#     fullText.append(para.text.strip())\";\n",
       "                var nbb_formatted_code = \"# fullText = []\\n# for para in doc.paragraphs:\\n#     fullText.append(para.text.strip())\";\n",
       "                var nbb_cells = Jupyter.notebook.get_cells();\n",
       "                for (var i = 0; i < nbb_cells.length; ++i) {\n",
       "                    if (nbb_cells[i].input_prompt_number == nbb_cell_id) {\n",
       "                        if (nbb_cells[i].get_text() == nbb_unformatted_code) {\n",
       "                             nbb_cells[i].set_text(nbb_formatted_code);\n",
       "                        }\n",
       "                        break;\n",
       "                    }\n",
       "                }\n",
       "            }, 500);\n",
       "            "
      ],
      "text/plain": [
       "<IPython.core.display.Javascript object>"
      ]
     },
     "metadata": {},
     "output_type": "display_data"
    }
   ],
   "source": [
    "# fullText = []\n",
    "# for para in doc.paragraphs:\n",
    "#     fullText.append(para.text.strip())"
   ]
  },
  {
   "cell_type": "code",
   "execution_count": 73,
   "metadata": {},
   "outputs": [
    {
     "name": "stdout",
     "output_type": "stream",
     "text": [
      "0 ПРАВИТЕЛЬСТВО РОССИЙСКОЙ ФЕДЕРАЦИИ\n",
      "1 ПОСТАНОВЛЕНИЕ\n",
      "2 от 28 июня 2021 г. N 1031\n",
      "3 ОБ УТВЕРЖДЕНИИ ПРАВИЛ\n",
      "4 ПРЕДОСТАВЛЕНИЯ СУБСИДИИ ИЗ ФЕДЕРАЛЬНОГО БЮДЖЕТА РОССИЙСКОМУ\n",
      "5 ФОНДУ РАЗВИТИЯ ИНФОРМАЦИОННЫХ ТЕХНОЛОГИЙ НА ВОЗМЕЩЕНИЕ\n",
      "6 ЗАТРАТ ПО ИСПОЛЬЗОВАНИЮ СУБЪЕКТАМИ МАЛОГО И СРЕДНЕГО\n",
      "7 ПРЕДПРИНИМАТЕЛЬСТВА РОССИЙСКОГО ПРОГРАММНОГО ОБЕСПЕЧЕНИЯ\n",
      "8 Правительство Российской Федерации постановляет:\n",
      "9 Утвердить прилагаемые  предоставления субсидии из федерального бюджета Российскому фонду развития информационных технологий на возмещение затрат по использованию субъектами малого и среднего предпринимательства российского программного обеспечения.\n",
      "10 Председатель Правительства\n",
      "11 Российской Федерации\n",
      "12 М.МИШУСТИН\n",
      "13 Утверждены\n",
      "14 постановлением Правительства\n",
      "15 Российской Федерации\n",
      "16 от 28 июня 2021 г. N 1031\n",
      "17 ПРАВИЛА\n",
      "18 ПРЕДОСТАВЛЕНИЯ СУБСИДИИ ИЗ ФЕДЕРАЛЬНОГО БЮДЖЕТА\n",
      "19 РОССИЙСКОМУ ФОНДУ РАЗВИТИЯ ИНФОРМАЦИОННЫХ ТЕХНОЛОГИЙ\n",
      "20 НА ВОЗМЕЩЕНИЕ ЗАТРАТ ПО ИСПОЛЬЗОВАНИЮ СУБЪЕКТАМИ МАЛОГО\n",
      "21 И СРЕДНЕГО ПРЕДПРИНИМАТЕЛЬСТВА РОССИЙСКОГО\n",
      "22 ПРОГРАММНОГО ОБЕСПЕЧЕНИЯ\n",
      "23 1. {2} Настоящие Правила устанавливают цели, условия и порядок предоставления субсидии из федерального бюджета Российскому фонду развития информационных технологий на возмещение затрат по использованию субъектами малого и среднего предпринимательства российского программного обеспечения (далее соответственно - Фонд, субсидия). {2}\n",
      "24 {2}Субсидия предоставляется в рамках реализации федерального  \"Цифровые технологии\" национальной  \"Цифровая экономика Российской Федерации\".{2}\n",
      "25 2. {3}Субсидия предоставляется Министерством цифрового развития, связи и массовых коммуникаций Российской Федерации в пределах лимитов бюджетных обязательств, доведенных в установленном порядке до Министерства цифрового развития, связи и массовых коммуникаций Российской Федерации как получателя средств федерального бюджета на цели, указанные в  настоящих Правил. {3}\n",
      "26 {7}Сведения о субсидии размещаются на едином портале бюджетной системы Российской Федерации в информационно-телекоммуникационной сети \"Интернет\" при формировании проекта федерального закона о федеральном бюджете (проекта федерального закона о внесении изменений в федеральный закон о федеральном бюджете). {7}\n",
      "27 3. {1}Понятия, используемые в настоящих Правилах, означают следующее: {1}\n",
      "28 {1}\"возмещение затрат\" - возмещение недополученных доходов правообладателя (уполномоченной организации) от предоставления российского программного обеспечения субъектам малого и среднего предпринимательства по льготной цене; {1}\n",
      "29 {1}\"использование программного обеспечения посредством облачной инфраструктуры\" - использование программного обеспечения посредством каналов связи и внешней информационно-технологической и программно-аппаратной инфраструктуры, обеспечивающей сбор, обработку и хранение данных; {1}\n",
      "30 {1}\"льготная цена\" - стоимость программного обеспечения, определяемая в соответствии с  настоящих Правил, по которой правообладатель (уполномоченная организация) обязуется предоставлять субъектам малого и среднего предпринимательства право использования российского программного обеспечения; {1}\n",
      "31 {1}\"получатель поддержки\" - правообладатель (уполномоченная организация), заключивший соглашение с Фондом о возмещении недополученных им доходов от предоставления российского программного обеспечения субъектам малого и среднего предпринимательства по льготной цене по результатам проведенного Фондом отбора; {1}\n",
      "32 {1}\"правообладатель\" - российская организация, за исключением государственного (муниципального) учреждения, обладающая исключительными правами на российское программное обеспечение и соответствующая критериям, указанным в  настоящих Правил, а также требованиям, указанным в  приложения к настоящим Правилам; {1}\n",
      "33 {1}\"российское программное обеспечение\" - программное обеспечение для электронных вычислительных машин и баз данных или совокупность программного обеспечения, объединенного в пакетное предложение, направленное на автоматизацию деятельности, повышение эффективности работы и оптимизацию бизнес-процессов субъектов малого и среднего предпринимательства, соответствующее требованиям, предусмотренным  настоящих Правил; {1}\n",
      "34 {1}\"субъекты малого и среднего предпринимательства\" - хозяйствующие субъекты (юридические лица и индивидуальные предприниматели), отнесенные в соответствии с условиями, установленными Федеральным  \"О развитии малого и среднего предпринимательства в Российской Федерации\", к малым предприятиям, в том числе к микропредприятиям, и средним предприятиям, сведения о которых внесены в единый реестр субъектов малого и среднего предпринимательства и соответствующие критериям, указанным в  настоящих Правил; {1}\n",
      "35 {1}\"уполномоченная организация\" - российская организация, за исключением государственного (муниципального) учреждения, уполномоченная правообладателем на распоряжение российским программным обеспечением и соответствующая требованиям, указанным в  приложения к настоящим Правилам. {1}\n",
      "36 4. {30}Субсидия является источником финансового обеспечения расходов Фонда: {30}\n",
      "37 {30} на возмещение затрат правообладателей (уполномоченных организаций); {30}\n",
      "38 {30}на обеспечение деятельности Фонда по проведению отбора правообладателей (уполномоченных организаций), а также организационно-методологическому и информационно-технологическому сопровождению возмещения затрат правообладателей (уполномоченных организаций) (далее - обеспечение деятельности Фонда). {30}\n",
      "39 {30}Расходы на обеспечение деятельности Фонда, непосредственно связанные с достижением результата предоставления субсидии, указанного в  настоящих Правил, составляют не более 3,5 процента общего размера субсидии, предусмотренной на соответствующий финансовый год. {30}\n",
      "40 {30}Указанные расходы включают в себя: {30}\n",
      "41 {30}расходы на оплату труда работников, а также расходы на уплату страховых взносов на обязательное пенсионное страхование, обязательное социальное страхование на случай временной нетрудоспособности и в связи с материнством, обязательное медицинское страхование и обязательное социальное страхование от несчастных случаев на производстве и профессиональных заболеваний, начисленных на суммы расходов на оплату труда, но не более 80 процентов размера расходов на обеспечение деятельности Фонда; {30}\n",
      "42 {30}накладные расходы, но не более 20 процентов размера расходов на обеспечение деятельности Фонда, в том числе: {30}\n",
      "43 {30}командировочные расходы; {30}\n",
      "44 {30}расходы по договорам гражданско-правового характера и страховые взносы во внебюджетные фонды; {30}\n",
      "45 {30}расходы на банковское обслуживание;{30}\n",
      "46 {30}расходы на канцелярские товары; {30}\n",
      "47 {30}расходы на расходные материалы; {30}\n",
      "48 {30}расходы на информационно-коммуникационные услуги; {30}\n",
      "49 {30}прочие общехозяйственные расходы; {30}\n",
      "50 {30}иные расходы, но не более 30 процентов размера расходов на обеспечение деятельности Фонда, в том числе: {30}\n",
      "51 {30}расходы на создание и обслуживание рабочих мест работников; {30}\n",
      "52 {30}расходы на разработку, доработку, а также на приобретение прикладного программного обеспечения (лицензии); {30}\n",
      "53 {30}расходы на оплату работ (услуг) независимых экспертов и (или) сторонних организаций;{30}\n",
      "54 {30}расходы на популяризацию приобретения субъектами малого и среднего предпринимательства российского программного обеспечения по льготной цене. {30}\n",
      "55 {30}Расходы, указанные в ,  и  настоящего пункта, не могут превышать в совокупности 100 процентов расходов на обеспечение деятельности Фонда, непосредственно связанных с достижением результата предоставления субсидии. {30}\n",
      "56 {35}Расходы на оплату труда работников Фонда, непосредственно связанных с достижением результата, указанного в  настоящих Правил, за счет средств субсидии не могут превышать размер среднемесячной начисленной заработной платы по виду экономической деятельности \"Предоставление прочих финансовых услуг,{35}{35} кроме услуг по страхованию и пенсионному обеспечению, не включенных в другие группировки\" по субъекту Российской Федерации г. Москве, исчисляемой по данным Федеральной службы государственной статистики за предыдущий финансовый год, на одного работника. {35}\n",
      "57 {35}Затраты, предусмотренные  и  настоящего пункта, определяются исходя из стоимости доступных на рынке аналогов {35}.\n",
      "58 5. {35}Российское программное обеспечение должно удовлетворять следующим требованиям:{35}\n",
      "59 {35}программное обеспечение включено в единый реестр российских программ для электронных вычислительных машин и баз данных {35}\n",
      "60 {35}использование программного обеспечения осуществляется посредством облачной инфраструктуры; {35}\n",
      "61 {35}программное обеспечение направлено на достижение одной или нескольких следующих целей использования: {35}\n",
      "62 {35}повышение производительности, точности или иных существенных характеристик технологического процесса и (или) бизнес-процесса; {35}\n",
      "63 {35}повышение качественных или иных существенных характеристик производимых (поставляемых) товаров, оказываемых услуг и выполняемых работ; {35}\n",
      "64 {35}повышение производительности труда; {35}\n",
      "65 {35}снижение издержек (в том числе за счет сокращения брака) при производстве (поставке) товаров, оказании услуг и выполнении работ. {35}\n",
      "66 {35}Дополнительные требования к российскому программному обеспечению могут быть установлены Фондом по согласованию с Министерством цифрового развития, связи и массовых коммуникаций Российской Федерации. {35}\n",
      "67 6. {12} Отбор правообладателей проводится по следующим критериям: {12}\n",
      "68 а) {12}  среднесписочная численность работников правообладателя за предшествующий календарный год составляет не менее 15 человек; {12}\n",
      "69 б) {12} значение выручки правообладателя от реализации товаров (работ, услуг) за предшествующий календарный год без учета налога на добавленную стоимость составляет не менее 10 млн. рублей. {12}\n",
      "70 7. {12} Отбор субъектов малого и среднего предпринимательства проводится по следующим критериям: {12}\n",
      "71 а) {12} среднесписочная численность работников субъекта малого и среднего предпринимательства за предшествующий календарный год составляет не более 250 человек; {12}\n",
      "72 б) {12} предельное значение дохода, полученного от осуществления предпринимательской деятельности субъектом малого и среднего предпринимательства за предшествующий календарный год, определяемого в порядке, установленном законодательством Российской Федерации о налогах и сборах, суммируемого по всем осуществляемым видам деятельности и применяемого по всем налоговым режимам, составляет не более 2 млрд. рублей. {12}\n",
      "73 8. {24} Субсидия предоставляется Фонду на основании соглашения о предоставлении субсидии, заключенного Министерством цифрового развития, связи и массовых коммуникаций Российской Федерации и Фондом в соответствии с , установленной Министерством финансов Российской Федерации, посредством государственной интегрированной информационной системы управления общественными финансами \"Электронный бюджет\" (далее - соглашение о предоставлении субсидии), содержащего в том числе: {24}\n",
      "74 {24}цели, условия и порядок предоставления субсидии; {24}\n",
      "75 {27}значения результата предоставления субсидии, соответствующие значениям результата федерального  \"Цифровые технологии\" национальной  \"Цифровая экономика Российской Федерации\", указанного в  настоящих Правил; {27}\n",
      "76 {36}формы и сроки представления отчета о расходах, отчета о достижении значений результата предоставления субсидии и указанных в  настоящих Правил показателей, необходимых для достижения результата предоставления субсидии; {36}\n",
      "77 {32}согласие Фонда на осуществление Министерством цифрового развития, связи и массовых коммуникаций Российской Федерации и органом государственного финансового контроля проверок соблюдения целей, условий и порядка предоставления субсидии, предусмотренных настоящими Правилами и соглашением о предоставлении субсидии,{32}{32} а также обязательство Фонда по включению в договоры (соглашения), заключенные в целях исполнения обязательств по соглашению о предоставлении субсидии, положений о согласии лиц, являющихся поставщиками (подрядчиками, исполнителями), на проведение указанных проверок; {32}\n",
      "78 {37}обязательство Министерства цифрового развития, связи и массовых коммуникаций Российской Федерации по осуществлению контроля за соблюдением целей, условий и порядка предоставления субсидии; {37}\n",
      "79 {24}обязательство Фонда по возврату в доход федерального бюджета средств субсидии в объеме, при использовании которого были допущены нарушения целей, условий и порядка предоставления субсидии, выявленные по результатам проверок, проведенных Министерством цифрового развития, связи и массовых коммуникаций Российской Федерации и (или) органом государственного финансового контроля; {24}\n",
      "80 {24}запрет на размещение Фондом средств субсидии на депозитах и посредством иных финансовых инструментов; {24}\n",
      "81 {24}обязательство Фонда по ведению раздельного учета затрат на реализацию каждого соглашения о предоставлении субсидии; {24}\n",
      "82 {24}условия, предусмотренные нормативными правовыми актами Правительства Российской Федерации, регулирующими вопросы казначейского сопровождения, осуществляемого в соответствии с бюджетным законодательством Российской Федерации; {24}\n",
      "83 {25}условия о согласовании новых условий соглашения о предоставлении субсидии или расторжении соглашения о предоставлении субсидии при недостижении согласия по новым условиям в случае уменьшения главному распорядителю как получателю бюджетных средств ранее доведенных лимитов бюджетных обязательств, приводящего к невозможности предоставления субсидии в размере, определенном в соглашении о предоставлении субсидии; {25}\n",
      "84 {8}условия о проведении путем запроса предложений отбора правообладателей (уполномоченных организаций) на основании заявок, направленных участниками отбора для участия в отборе, исходя из соответствия участника отбора критериям отбора и очередности поступления заявок на участие в отборе; {8}\n",
      "85 {24}возможность осуществления расходов, источником финансового обеспечения которых являются не использованные в отчетном финансовом году остатки субсидии, при принятии Министерством цифрового развития, связи и массовых коммуникаций Российской Федерации по согласованию с Министерством финансов Российской Федерации решения о наличии потребности в указанных средствах; {24}\n",
      "86 {9}сроки размещения на официальном сайте Фонда в информационно-телекоммуникационной сети \"Интернет\" объявления о проведении отбора с указанием следующих сведений: {9}\n",
      "87 {10}сроки проведения отбора (дата и время начала (окончания) подачи заявок участников отбора), которые не могут быть меньше 30 календарных дней, следующих за днем размещения объявления о проведении отбора; {10}\n",
      "88 {10}результат предоставления субсидии; {10}\n",
      "89 {10}доменное имя, и (или) сетевой адрес, и (или) указатели страниц сайта в информационно-телекоммуникационной сети \"Интернет\", на котором обеспечивается проведение отбора; {24}\n",
      "90 {11}требования к участникам отбора в соответствии с настоящими Правилами и перечень документов, представляемых участниками отбора для подтверждения их соответствия указанным требованиям; {11}\n",
      "91 {10}порядок подачи заявок участниками отбора и требования, предъявляемые к форме и содержанию заявок, подаваемых участниками отбора; {10}\n",
      "92 {10}порядок отзыва заявок участников отбора, порядок возврата заявок участников отбора, определяющий в том числе основания для возврата заявок участников отбора, порядок внесения изменений в заявки участников отбора; {10}\n",
      "93 {10}правила рассмотрения заявок участников отбора; {10}\n",
      "94 {10}порядок предоставления участникам отбора разъяснений положений объявления о проведении отбора, даты начала и окончания срока предоставления таких разъяснений; {10}\n",
      "95 {10}срок, в течение которого правообладатель (уполномоченная организация) должен подписать соглашение (договор) о предоставлении поддержки (далее - соглашение); {10}\n",
      "96 {10}условия признания правообладателя (уполномоченной организации) уклонившимся (уклонившейся) от заключения соглашения; {10}\n",
      "97 {10}дата размещения результатов отбора на официальном сайте Фонда в информационно-телекоммуникационной сети \"Интернет\", которая не может быть позднее 14-го календарного дня, следующего за днем определения участников, прошедших отбор; {10}\n",
      "98 {15} обязательство Фонда о проведении отбора в соответствии с порядком, установленным  настоящих Правил; {24}\n",
      "99 {31}запрет приобретения Фондом, а также иными юридическими лицами, получающими средства на основании договоров, заключенных с Фондом, за счет полученных средств субсидии иностранной валюты, за исключением операций, осуществляемых в соответствии с валютным законодательством Российской Федерации при закупке (поставке) высокотехнологичного импортного оборудования, сырья и комплектующих изделий; {31}\n",
      "100 {27}значения показателей, необходимых для достижения результата предоставления субсидии, указанные в  настоящих Правил; {24}\n",
      "101 {24}обязательство Фонда о включении в соглашения о возмещении затрат правообладателей (уполномоченных организаций) с прошедшими отбор участниками значений показателей, необходимых для достижения результата предоставления субсидии, по итогам результатов отбора с учетом соответствующих значений результата федерального  \"Цифровые технологии\" национальной  \"Цифровая экономика Российской Федерации\", указанного в  настоящих Правил; {24}\n",
      "102 {24}иные условия, определяемые Министерством цифрового развития, связи и массовых коммуникаций Российской Федерации. {24}\n",
      "103 {26}Дополнительные соглашения к соглашению, предусматривающие внесение в него изменений и (или) его расторжение (при необходимости), заключаются в соответствии с типовой формой, установленной Министерством финансов Российской Федерации, посредством государственной интегрированной информационной системы управления общественными финансами \"Электронный бюджет\".{26}\n",
      "104 9. {22}Льготная цена программного обеспечения составляет 50 процентов средней рыночной цены. {22}\n",
      "105 10. {33}Размер возмещения затрат получателя поддержки по i-му виду лицензий (Зi) определяется по формуле: {33}\n",
      "106 где:\n",
      "107 {33}Qi - количество i-го вида лицензий, предоставленных правообладателем (уполномоченной организацией) субъектам малого и среднего предпринимательства по льготной цене; {33}\n",
      "108 {33}H - средняя рыночная цена i-го вида лицензий. {33}\n",
      "109 {22}11. Размер субсидии, предоставляемой Фонду в соответствующем финансовом году (С), определяется по формуле: {22}\n",
      "110 {22}где Oi - размер расходов на обеспечение деятельности Фонда, непосредственно связанных с достижением указанного в  настоящих Правил результата предоставления субсидии, определяемый в соответствии с  настоящих Правил. {22}\n",
      "111 12. {19}Для заключения соглашения о предоставлении субсидии Фонд представляет в Министерство цифрового развития, связи и массовых коммуникаций Российской Федерации с сопроводительным письмом, подписанным лицом, имеющим право действовать от имени Фонда, следующие прошнурованные и пронумерованные на 1-е число месяца, предшествующего месяцу, в котором планируется заключение соглашения о предоставлении субсидии, документы: {19}\n",
      "112 {19}а) справка, подписанная руководителем и главным бухгалтером (при наличии) Фонда и скрепленная печатью, подтверждающая отсутствие у Фонда просроченной задолженности по возврату в федеральный бюджет субсидий, бюджетных инвестиций, предоставленных в том числе в соответствии с иными правовыми актами, а также иной просроченной (неурегулированной) задолженности по денежным обязательствам перед Российской Федерацией; {19}\n",
      "113 {19}б) справка, подписанная руководителем Фонда, подтверждающая, что Фонд не находится в процессе ликвидации, в отношении Фонда не введена процедура банкротства, деятельность Фонда не приостановлена в порядке, предусмотренном законодательством Российской Федерации; {19}\n",
      "114 {19}в) помесячный прогноз кассовых выплат осуществления Фондом расходов, на финансовое обеспечение которых предоставляется субсидия (в произвольной форме), подписанный руководителем и главным бухгалтером (при наличии) Фонда; {19}\n",
      "115 {19}г) смета расходов на обеспечение деятельности Фонда, подписанная руководителем и главным бухгалтером (при наличии) Фонда; {19}\n",
      "116 {19}д) справка, подписанная руководителем и главным бухгалтером (при наличии) Фонда, подтверждающая отсутствие у Фонда неисполненной обязанности по уплате налогов, сборов, страховых взносов, пеней, штрафов, процентов, подлежащих уплате в соответствии с законодательством Российской Федерации о налогах и сборах; {19}\n",
      "117 {19}е) справка, подписанная руководителем и главным бухгалтером (при наличии) Фонда и скрепленная печатью, подтверждающая на 1-е число месяца, предшествующего месяцу, в котором планируется заключение соглашения о предоставлении субсидии, отсутствие в реестре дисквалифицированных лиц сведений о дисквалифицированных руководителях, членах коллегиальных исполнительных органов, лицах, исполняющих функции единоличного исполнительного органа, или главном бухгалтере (при наличии) Фонда; {19}\n",
      "118 {19}ж) справка, подписанная руководителем и главным бухгалтером (при наличии) Фонда и скрепленная печатью, подтверждающая, что Фонд не получает средства из федерального бюджета на основании иных нормативных правовых актов Российской Федерации на цели, установленные настоящими Правилами. {19}\n",
      "119 13. {35}Фонд на 1-е число месяца, предшествующего месяцу, в котором планируется заключение соглашения о предоставлении субсидии, должен соответствовать следующим требованиям: {35}\n",
      "120 а) {35} у Фонда отсутствует неисполненная обязанность по уплате налогов, сборов, страховых взносов, пеней, штрафов и процентов, подлежащих уплате в соответствии с законодательством Российской Федерации о налогах и сборах; {35}\n",
      "121 б) {35}у Фонда отсутствует просроченная задолженность по возврату в федеральный бюджет субсидий, бюджетных инвестиций, предоставленных в том числе в соответствии с иными правовыми актами, а также иная просроченная (неурегулированная) задолженность по денежным обязательствам перед Российской Федерацией; {35}\n",
      "122 в) {35}Фонд не находится в процессе ликвидации, в отношении Фонда не введена процедура банкротства, деятельность Фонда не приостановлена в порядке, предусмотренном законодательством Российской Федерации; {35}\n",
      "123 г) {35}Фонд не получает средства из федерального бюджета в соответствии с иными нормативными правовыми актами на цели, предусмотренные  настоящих Правил; {35}\n",
      "124 д) {35}в реестре дисквалифицированных лиц отсутствуют сведения о дисквалифицированных руководителе, членах коллегиального исполнительного органа, лице, исполняющем функции единоличного исполнительного органа, или главном бухгалтере (при наличии) Фонда. {35}\n",
      "125 14. {35}Датой представления Фондом документов, указанных в  настоящих Правил, считается день их регистрации в Министерстве цифрового развития, связи и массовых коммуникаций Российской Федерации. {35}\n",
      "126 15. {20}Министерство цифрового развития, связи и массовых коммуникаций Российской Федерации в течение 10 рабочих дней со дня регистрации документов, представленных в соответствии с  настоящих Правил, рассматривает их и проверяет соответствие Фонда требованиям, предусмотренным  настоящих Правил. {20}{24} По результатам проверки представленных Фондом документов Министерство цифрового развития, связи и массовых коммуникаций Российской Федерации принимает решение о заключении соглашения о предоставлении субсидии либо об отказе в заключении соглашения о предоставлении субсидии, о чем уведомляет Фонд в течение 10 рабочих дней. {24}\n",
      "127 {21}Основаниями для отказа в заключении соглашения о предоставлении субсидии являются:{21}\n",
      "128 {21}непредставление Фондом (представление в неполном объеме) документов, указанных в  настоящих Правил; {21}\n",
      "129 {21}установление факта недостоверности представленных Фондом документов; {21}\n",
      "130 {21}несоответствие Фонда требованиям, предусмотренным  настоящих Правил.{21}\n",
      "131 {14}Фонд имеет право повторно представить документы после устранения замечаний Министерства цифрового развития, связи и массовых коммуникаций Российской Федерации. {14}\n",
      "132 16. {27}Результатом предоставления субсидии является количество лицензий российского программного обеспечения, предоставленных субъектам малого и среднего предпринимательства по льготной цене. {27}\n",
      "133 {35}Точные даты завершения и конечные значения результата по годам (конкретная количественная характеристика итогов) установлены в паспорте федерального  \"Цифровые технологии\" национальной  \"Цифровая экономика Российской Федерации\".{35}\n",
      "134 {27}Степень достижения значения результата предоставления субсидии ежегодно оценивается Министерством цифрового развития, связи и массовых коммуникаций Российской Федерации путем сопоставления фактического значения результата предоставления субсидии и его планового значения. {27}\n",
      "135 {27}Показателями, необходимыми для достижения результата предоставления субсидии, являются следующие показатели: {27}\n",
      "136 {27}обеспечено функционирование специализированного информационного ресурса; {27}\n",
      "137 {27}количество мероприятий по популяризации приобретения субъектами малого и среднего предпринимательства российского программного обеспечения по льготной цене. {27}\n",
      "138 17. {29}Перечисление субсидии Фонду осуществляется на казначейский счет для осуществления и отражения операций с денежными средствами юридических лиц, не являющихся участниками бюджетного процесса, бюджетными и автономными учреждениями, открытый в территориальном органе Федерального казначейства, {29}{28}не позднее 2-го рабочего дня после представления в территориальный орган Федерального казначейства Фондом распоряжений о совершении казначейских платежей для оплаты денежного обязательства Фонда. {28}\n",
      "139 18. {38}Ответственность за недостоверность представленных в Министерство цифрового развития, связи и массовых коммуникаций Российской Федерации сведений, документов и несоблюдение Фондом целей, условий и порядка предоставления субсидии несет Фонд. {38}\n",
      "140 19. {36} Отчет о расходах, источником финансового обеспечения которых является субсидия, и отчет о достижении результата предоставления субсидии и указанных в  настоящих Правил показателей, необходимых для достижения результата предоставления субсидии, формируются Фондом ежеквартально нарастающим итогом в срок не более первых 8 рабочих дней месяца, следующего за отчетным периодом. {36}\n",
      "141 {36} Отчеты формируются по формам, определенным типовыми формами соглашений, установленными Министерством финансов Российской Федерации, и представляются посредством государственной интегрированной информационной системы управления общественными финансами \"Электронный бюджет\" в Министерство цифрового развития, связи и массовых коммуникаций Российской Федерации. {36}\n",
      "142 {36} Министерство цифрового развития, связи и массовых коммуникаций Российской Федерации вправе устанавливать в соглашении о предоставлении субсидии сроки и формы представления Фондом дополнительной отчетности. {36}\n",
      "143 20. {35} Фонд осуществляет отбор правообладателей (уполномоченных организаций) в порядке, установленном  к настоящим Правилам. {35}\n",
      "144 21. {24} Фонд заключает соглашения с победителями отбора по форме, разработанной Фондом на основе , установленной Министерством финансов Российской Федерации. {24}\n",
      "145 {24} В соглашение между Фондом и получателем поддержки включаются следующие положения: {24}\n",
      "146 {24} а) цели, условия и порядок возмещения затрат; {24}\n",
      "147 {24} б) значения результата предоставления поддержки, соответствующие значениям результата федерального  \"Цифровые технологии\" национальной  \"Цифровая экономика Российской Федерации\", указанного в  настоящих Правил; {24}\n",
      "148 {24} в) предельный размер поддержки; {24}\n",
      "149 {24} г) срок предоставления получателем поддержки российского программного обеспечения субъектам малого и среднего предпринимательства по льготной цене; {24}\n",
      "150 {24} д) порядок, формы и сроки представления получателем поддержки отчетных материалов о предоставлении программного обеспечения субъектам малого и среднего предпринимательства по льготной цене и о достижении результатов предоставления поддержки; {24}\n",
      "151 {32} е) согласие получателя поддержки на осуществление Фондом, Министерством цифрового развития, связи и массовых коммуникаций Российской Федерации и органом государственного финансового контроля обязательных проверок соблюдения целей, условий и порядка возмещения затрат; {32}\n",
      "152 {38} ж) обязательство получателя поддержки по возврату Фонду средств, предоставленных на возмещение затрат в объеме, при использовании которого были допущены нарушения условий предоставления поддержки, выявленные по результатам проверок, проведенных Фондом и (или) Министерством цифрового развития, связи и массовых коммуникаций Российской Федерации и (или) органом государственного финансового контроля; {38}\n",
      "153 {24} з) порядок предоставления доступа по использованию субъектами малого и среднего предпринимательства программного обеспечения посредством облачной инфраструктуры получателя поддержки и срок, на который указанный доступ предоставляется; {24}\n",
      "154 и) {24} порядок предоставления информации о субъектах малого и среднего предпринимательства, которым предоставлено российское программное обеспечения по льготной цене; {24}\n",
      "155 к) {24} порядок подтверждения информации о количестве лицензий российского программного обеспечения, предоставленных субъектам малого и среднего предпринимательства по льготной цене; {24}\n",
      "156 л) {24} порядок осуществления контроля за использованием российского программного обеспечения посредством облачной инфраструктуры получателя поддержки субъектами малого и среднего предпринимательства; {24}\n",
      "157 м) {24} порядок возмещения затрат получателя поддержки по предоставлению субъектам малого и среднего предпринимательства российского программного обеспечения по льготной цене;{24}\n",
      "158 н) {27} значения результата предоставления поддержки; {27}\n",
      "159 о) {24} срок возмещения Фондом затрат по предоставлению субъектам малого и среднего предпринимательства российского программного обеспечения по льготной цене получателя поддержки, не превышающий 10 рабочих дней со дня принятия Фондом решения о возмещении затрат по итогам рассмотрения представленных получателем поддержки отчетных материалов; {24}\n",
      "160 п) {24} иные условия, определяемые Фондом по согласованию с Министерством цифрового развития, связи и массовых коммуникаций Российской Федерации. {24}\n",
      "161 22. {35} Министерство цифрового развития, связи и массовых коммуникаций Российской Федерации по согласованию с Министерством финансов Российской Федерации принимает в соответствии с бюджетным законодательством Российской Федерации решение о возможности осуществления расходов, источником финансового обеспечения которых являются не использованные в отчетном финансовом году остатки субсидии в пределах суммы, необходимой для оплаты денежных обязательств Фонда. {35}\n",
      "162 23. {37} Министерство цифрового развития, связи и массовых коммуникаций Российской Федерации и орган государственного финансового контроля проводят обязательные проверки соблюдения Фондом целей, условий и порядка предоставления субсидии. {37}\n",
      "163 24. {38} В случае установления в ходе проверок, проведенных Министерством цифрового развития, связи и массовых коммуникаций Российской Федерации и (или) органом государственного финансового контроля, факта несоблюдения условий предоставления субсидии, а также недостижения в отчетном периоде значений результата предоставления субсидии и показателей, необходимых для достижения результата предоставления субсидии, соответствующие средства подлежат возврату в федеральный бюджет: {38}\n",
      "164 а) {38}на основании требования Министерства цифрового развития, связи и массовых коммуникаций Российской Федерации - в течение 30 дней со дня получения указанного требования;{38}\n",
      "165 б) {38}на основании представления и (или) предписания органа государственного финансового контроля - в сроки, установленные в соответствии с бюджетным законодательством Российской Федерации. {38}\n",
      "166 25. {38}Размер средств, подлежащих возврату в случае недостижения значения результата предоставления субсидии (A), рассчитывается по формуле: {38}\n",
      "167 где:\n",
      "168 {38}d - достигнутое значение результата предоставления субсидии, указанного в соглашении о предоставлении субсидии; {38}\n",
      "169 {38}D - плановое значение результата предоставления субсидии, указанного в соглашении о предоставлении субсидии; {38}\n",
      "170 {38}V - размер предоставленной субсидии. {38}\n",
      "171 {38}Если показатель d превышает показатель D, для расчета размера средств, подлежащих возврату при недостижении значения показателя, необходимого для достижения результата предоставления субсидии, показатель принимается равным D. {38}\n",
      "172 26. {36}Фонд ежегодно, не позднее 1 апреля года, следующего за отчетным, направляет в Министерство цифрового развития, связи и массовых коммуникаций Российской Федерации доклад о результатах деятельности получателей поддержки с информацией по каждому получателю поддержки. {36}\n",
      "173 Приложение\n",
      "174 к Правилам предоставления\n",
      "175 субсидии из федерального\n",
      "176 бюджета Российскому фонду\n",
      "177 развития информационных\n",
      "178 технологий на возмещение\n",
      "179 затрат по использованию\n",
      "180 субъектами малого и среднего\n",
      "181 предпринимательства российского\n",
      "182 программного обеспечения\n",
      "183 ПРАВИЛА\n",
      "184 ОТБОРА ПРАВООБЛАДАТЕЛЕЙ (УПОЛНОМОЧЕННЫХ ОРГАНИЗАЦИЙ)\n",
      "185 1. Настоящие Правила устанавливают порядок отбора Российским фондом развития информационных технологий (далее - Фонд) правообладателей (уполномоченных организаций) в целях возмещения затрат по использованию субъектами малого и среднего предпринимательства российского программного обеспечения.\n",
      "186 2. В целях проведения отбора правообладателей (уполномоченных организаций) Фонд принимает решение о проведении отбора, утверждает по согласованию с Министерством цифрового развития, связи и массовых коммуникаций Российской Федерации документацию отбора и размещает на своем официальном сайте в информационно-телекоммуникационной сети \"Интернет\" соответствующее объявление.\n",
      "187 3. Отбор проводится в сроки, установленные в объявлении.\n",
      "188 4. Объявление должно содержать следующую информацию:\n",
      "189 а) положения о соответствии участников отбора (на 1-е число месяца, предшествующего месяцу подачи заявки на участие в отборе) и получателей поддержки (на 1-е число месяца, предшествующего месяцу заключения соглашения с Фондом) следующим требованиям:\n",
      "190 участник отбора (получатель поддержки) не находится в процессе реорганизации (за исключением реорганизации в форме присоединения к юридическому лицу, являющемуся участником отбора (получателем поддержки), другого юридического лица), ликвидации, в отношении его не введена процедура банкротства, деятельность участника отбора (получателя поддержки) не приостановлена в порядке, предусмотренном законодательством Российской Федерации;\n",
      "191 участник отбора (получатель поддержки) имеет статус налогового резидента Российской Федерации;\n",
      "192 участник отбора (получатель поддержки) зарегистрирован на территории Российской Федерации в соответствии с законодательством Российской Федерации;\n",
      "193 участник отбора (получатель поддержки) не получал в прошлом и не получает средства из федерального бюджета в соответствии с иными нормативными правовыми актами Российской Федерации на цели, предусмотренные  Правил предоставления субсидии из федерального бюджета Российскому фонду развития информационных технологий на возмещение затрат по использованию субъектами малого и среднего предпринимательства российского программного обеспечения, утвержденных постановлением Правительства Российской Федерации от 28 июня 2021 г. N 1031 \"Об утверждении Правил предоставления субсидии из федерального бюджета Российскому фонду развития информационных технологий на возмещение затрат по использованию субъектами малого и среднего предпринимательства российского программного обеспечения\";\n",
      "194 участник отбора (получатель поддержки) не является иностранным юридическим лицом, а также российским юридическим лицом, в уставном (складочном) капитале которого доля участия иностранных юридических лиц, местом регистрации которых является государство или территория, включенные в утвержденный Министерством финансов Российской Федерации  государств и территорий, предоставляющих льготный налоговый режим налогообложения и (или) не предусматривающих раскрытия и предоставления информации при проведении финансовых операций (офшорные зоны), в совокупности превышает 50 процентов;\n",
      "195 участник отбора (получатель поддержки) не имеет неисполненной обязанности по уплате налогов, сборов, страховых взносов, пеней, штрафов и процентов, подлежащих уплате в соответствии с законодательством Российской Федерации о налогах и сборах;\n",
      "196 у участника отбора (получателя поддержки) отсутствует просроченная задолженность по возврату в федеральный бюджет субсидий, бюджетных инвестиций, предоставленных в том числе в соответствии с иными правовыми актами, а также иная просроченная (неурегулированная) задолженность по денежным обязательствам перед Российской Федерацией;\n",
      "197 в реестре дисквалифицированных лиц отсутствуют сведения о дисквалифицированных руководителе, членах коллегиального исполнительного органа, лице, исполняющем функции единоличного исполнительного органа, или главном бухгалтере (при наличии) участника отбора (получателя поддержки);\n",
      "198 соответствие иным требованиям, установленным Фондом по согласованию с Министерством цифрового развития, связи и массовых коммуникаций Российской Федерации;\n",
      "199 б) положения о соответствии российского программного обеспечения требованиям, установленным в  Правил предоставления субсидии из федерального бюджета Российскому фонду развития информационных технологий на возмещение затрат по использованию субъектами малого и среднего предпринимательства российского программного обеспечения, утвержденных постановлением Правительства Российской Федерации от 28 июня 2021 г. N 1031 \"Об утверждении Правил предоставления субсидии из федерального бюджета Российскому фонду развития информационных технологий на возмещение затрат по использованию субъектами малого и среднего предпринимательства российского программного обеспечения\", а также дополнительным требованиям, установленным Фондом по согласованию с Министерством цифрового развития, связи и массовых коммуникаций Российской Федерации;\n",
      "200 в) требования к форме заявок, подаваемых участниками отбора (получателями поддержки), которые включают в том числе согласие на публикацию (размещение) в информационно-телекоммуникационной сети \"Интернет\" информации об участнике отбора, о подаваемой участником отбора заявке, иной информации об участнике отбора, связанной с соответствующим отбором, а также согласие на обработку персональных данных (для физического лица);\n",
      "201 г) требования к форме, содержанию и составу документов и информации, подаваемых участниками отбора (получателями поддержки) для участия в отборе, которые включают в себя в том числе:\n",
      "202 заявку на участие в отборе;\n",
      "203 документы и информацию, подтверждающие соответствие правообладателя и программного обеспечения положениям документации отбора;\n",
      "204 согласие на публикацию (размещение) на официальном сайте Фонда в информационно-телекоммуникационной сети \"Интернет\" информации об участнике отбора, о подаваемой участником отбора заявке, иной информации об участнике отбора, связанной с соответствующим отбором;\n",
      "205 иные документы и информацию, предусмотренные документацией отбора;\n",
      "206 д) правила подачи и рассмотрения заявок участников отбора, включающие:\n",
      "207 порядок подачи заявок участниками отбора для участия в отборе;\n",
      "208 порядок рассмотрения заявок участников отбора на предмет их соответствия установленным в документации отбора требованиям;\n",
      "209 порядок отклонения заявок участников отбора, а также порядок предоставления участнику отбора информации о причинах отклонения заявки;\n",
      "210 е) сроки размещения на официальном сайте Фонда в информационно-телекоммуникационной сети \"Интернет\" информации о результатах рассмотрения заявок, включающей следующие сведения:\n",
      "211 дата, время и место проведения рассмотрения заявок;\n",
      "212 перечень участников отбора, заявки которых были рассмотрены;\n",
      "213 перечень участников отбора, заявки которых были отклонены;\n",
      "214 перечень участников, признанных победителями отбора;\n",
      "215 ж) основания для отклонения заявки участника отбора, в том числе:\n",
      "216 несоответствие участника отбора требованиям, установленным в документации отбора;\n",
      "217 несоответствие программного обеспечения требованиям, установленным к российскому программному обеспечению;\n",
      "218 несоответствие представленной участником отбора заявки требованиям к заявкам, установленным в документации отбора;\n",
      "219 недостоверность представленной участником отбора информации, в том числе информации о его месте нахождения и почтовом адресе;\n",
      "220 подача участником отбора заявки после даты и (или) времени, определенных для подачи заявок;\n",
      "221 иные основания для отклонения заявки участника отбора (при необходимости);\n",
      "222 з) порядок предоставления участникам отбора разъяснений по подаче и рассмотрению заявок. Разъяснения по подаче и рассмотрению заявок осуществляются в течение установленного срока подачи заявок участниками отбора;\n",
      "223 и) порядок и условия внесения изменений в документацию отбора;\n",
      "224 к) порядок и условия признания отбора состоявшимся, несостоявшимся, приостановки, возобновления и прекращения отбора;\n",
      "225 л) условия предоставления поддержки, в том числе:\n",
      "226 порядок определения периода предоставления поддержки одному получателю поддержки;\n",
      "227 порядок определения размера возмещения затрат, предоставляемого одному получателю поддержки;\n",
      "228 порядок изменения периода предоставления поддержки, размера поддержки и иных условий поддержки в ходе исполнения соглашения;\n",
      "229 иные условия поддержки, установленные Министерством цифрового развития, связи и массовых коммуникаций Российской Федерации;\n",
      "230 м) иная информация и условия отбора Фондом правообладателей в целях возмещения затрат по использованию субъектами малого и среднего предпринимательства российского программного обеспечения, необходимые для проведения такого отбора, согласованные Фондом с Министерством цифрового развития, связи и массовых коммуникаций Российской Федерации.\n",
      "231 5. В целях проведения отбора правообладателей Фонд создает комиссию по проведению отбора (далее - комиссия), утверждает по согласованию с Министерством цифрового развития, связи и массовых коммуникаций Российской Федерации ее положение и состав.\n",
      "232 В состав комиссии могут быть включены в том числе представители Министерства цифрового развития, связи и массовых коммуникаций Российской Федерации, Министерства экономического развития Российской Федерации и иных федеральных органов исполнительной власти, акционерного общества \"Федеральная корпорация по развитию малого и среднего предпринимательства\", автономной некоммерческой организации \"Цифровая экономика\", автономной некоммерческой организации \"Аналитический центр при Правительстве Российской Федерации\", Общероссийской общественной организации малого и среднего предпринимательства \"ОПОРА РОССИИ\", институтов развития, организаций, осуществляющих экономическую деятельность в отраслях связи, информационных технологий, транспорта, социальной сферы и реального сектора экономики, общероссийских общественных объединений, выражающих интересы субъектов малого и среднего предпринимательства.\n",
      "233 6. Решение о признании участника отбора победителем отбора по результатам проведения отбора принимает комиссия.\n",
      "234 7. Решение комиссии о результатах отбора правообладателей оформляется в форме протокола с указанием участников, прошедших отбор, и публикуется на официальном сайте Фонда в информационно-телекоммуникационной сети \"Интернет\".\n"
     ]
    },
    {
     "data": {
      "application/javascript": [
       "\n",
       "            setTimeout(function() {\n",
       "                var nbb_cell_id = 73;\n",
       "                var nbb_unformatted_code = \"# fullText = [elem for elem in fullText if len(elem) > 0]\\nfor num, elem in enumerate(fullText):\\n    print(num, elem)\";\n",
       "                var nbb_formatted_code = \"# fullText = [elem for elem in fullText if len(elem) > 0]\\nfor num, elem in enumerate(fullText):\\n    print(num, elem)\";\n",
       "                var nbb_cells = Jupyter.notebook.get_cells();\n",
       "                for (var i = 0; i < nbb_cells.length; ++i) {\n",
       "                    if (nbb_cells[i].input_prompt_number == nbb_cell_id) {\n",
       "                        if (nbb_cells[i].get_text() == nbb_unformatted_code) {\n",
       "                             nbb_cells[i].set_text(nbb_formatted_code);\n",
       "                        }\n",
       "                        break;\n",
       "                    }\n",
       "                }\n",
       "            }, 500);\n",
       "            "
      ],
      "text/plain": [
       "<IPython.core.display.Javascript object>"
      ]
     },
     "metadata": {},
     "output_type": "display_data"
    }
   ],
   "source": [
    "# fullText = [elem for elem in fullText if len(elem) > 0]\n",
    "for num, elem in enumerate(fullText):\n",
    "    print(num, elem)"
   ]
  },
  {
   "cell_type": "code",
   "execution_count": 74,
   "metadata": {},
   "outputs": [
    {
     "data": {
      "application/javascript": [
       "\n",
       "            setTimeout(function() {\n",
       "                var nbb_cell_id = 74;\n",
       "                var nbb_unformatted_code = \"def get_first_index(fullText):\\n    ind_start = 0\\n    for i in range(len(fullText) - 1):\\n        if (\\\"\\u043f\\u0440\\u0430\\u0432\\u0438\\u043b\\u0430\\\" in fullText[i].lower()) and (\\n            \\\"\\u043f\\u0440\\u0435\\u0434\\u043e\\u0441\\u0442\\u0430\\u0432\\u043b\\u0435\\u043d\\u0438\\u044f\\\" in fullText[i + 1].lower()\\n        ):\\n            ind_start = i\\n            break\\n    return ind_start\";\n",
       "                var nbb_formatted_code = \"def get_first_index(fullText):\\n    ind_start = 0\\n    for i in range(len(fullText) - 1):\\n        if (\\\"\\u043f\\u0440\\u0430\\u0432\\u0438\\u043b\\u0430\\\" in fullText[i].lower()) and (\\n            \\\"\\u043f\\u0440\\u0435\\u0434\\u043e\\u0441\\u0442\\u0430\\u0432\\u043b\\u0435\\u043d\\u0438\\u044f\\\" in fullText[i + 1].lower()\\n        ):\\n            ind_start = i\\n            break\\n    return ind_start\";\n",
       "                var nbb_cells = Jupyter.notebook.get_cells();\n",
       "                for (var i = 0; i < nbb_cells.length; ++i) {\n",
       "                    if (nbb_cells[i].input_prompt_number == nbb_cell_id) {\n",
       "                        if (nbb_cells[i].get_text() == nbb_unformatted_code) {\n",
       "                             nbb_cells[i].set_text(nbb_formatted_code);\n",
       "                        }\n",
       "                        break;\n",
       "                    }\n",
       "                }\n",
       "            }, 500);\n",
       "            "
      ],
      "text/plain": [
       "<IPython.core.display.Javascript object>"
      ]
     },
     "metadata": {},
     "output_type": "display_data"
    }
   ],
   "source": [
    "def get_first_index(fullText):\n",
    "    ind_start = 0\n",
    "    for i in range(len(fullText) - 1):\n",
    "        if (\"правила\" in fullText[i].lower()) and (\n",
    "            \"предоставления\" in fullText[i + 1].lower()\n",
    "        ):\n",
    "            ind_start = i\n",
    "            break\n",
    "    return ind_start"
   ]
  },
  {
   "cell_type": "code",
   "execution_count": 75,
   "metadata": {},
   "outputs": [
    {
     "data": {
      "application/javascript": [
       "\n",
       "            setTimeout(function() {\n",
       "                var nbb_cell_id = 75;\n",
       "                var nbb_unformatted_code = \"ind_start = get_first_index(fullText)\";\n",
       "                var nbb_formatted_code = \"ind_start = get_first_index(fullText)\";\n",
       "                var nbb_cells = Jupyter.notebook.get_cells();\n",
       "                for (var i = 0; i < nbb_cells.length; ++i) {\n",
       "                    if (nbb_cells[i].input_prompt_number == nbb_cell_id) {\n",
       "                        if (nbb_cells[i].get_text() == nbb_unformatted_code) {\n",
       "                             nbb_cells[i].set_text(nbb_formatted_code);\n",
       "                        }\n",
       "                        break;\n",
       "                    }\n",
       "                }\n",
       "            }, 500);\n",
       "            "
      ],
      "text/plain": [
       "<IPython.core.display.Javascript object>"
      ]
     },
     "metadata": {},
     "output_type": "display_data"
    }
   ],
   "source": [
    "ind_start = get_first_index(fullText)"
   ]
  },
  {
   "cell_type": "code",
   "execution_count": 76,
   "metadata": {},
   "outputs": [
    {
     "data": {
      "application/javascript": [
       "\n",
       "            setTimeout(function() {\n",
       "                var nbb_cell_id = 76;\n",
       "                var nbb_unformatted_code = \"# ind_start = 0\\n# for i in range(len(fullText) - 1):\\n#     if (\\\"\\u043f\\u0440\\u0430\\u0432\\u0438\\u043b\\u0430\\\" in fullText[i].lower()) and (\\n#         \\\"\\u043f\\u0440\\u0435\\u0434\\u043e\\u0441\\u0442\\u0430\\u0432\\u043b\\u0435\\u043d\\u0438\\u044f\\\" in fullText[i + 1].lower()\\n#     ):\\n#         ind_start = i\\n#         break\";\n",
       "                var nbb_formatted_code = \"# ind_start = 0\\n# for i in range(len(fullText) - 1):\\n#     if (\\\"\\u043f\\u0440\\u0430\\u0432\\u0438\\u043b\\u0430\\\" in fullText[i].lower()) and (\\n#         \\\"\\u043f\\u0440\\u0435\\u0434\\u043e\\u0441\\u0442\\u0430\\u0432\\u043b\\u0435\\u043d\\u0438\\u044f\\\" in fullText[i + 1].lower()\\n#     ):\\n#         ind_start = i\\n#         break\";\n",
       "                var nbb_cells = Jupyter.notebook.get_cells();\n",
       "                for (var i = 0; i < nbb_cells.length; ++i) {\n",
       "                    if (nbb_cells[i].input_prompt_number == nbb_cell_id) {\n",
       "                        if (nbb_cells[i].get_text() == nbb_unformatted_code) {\n",
       "                             nbb_cells[i].set_text(nbb_formatted_code);\n",
       "                        }\n",
       "                        break;\n",
       "                    }\n",
       "                }\n",
       "            }, 500);\n",
       "            "
      ],
      "text/plain": [
       "<IPython.core.display.Javascript object>"
      ]
     },
     "metadata": {},
     "output_type": "display_data"
    }
   ],
   "source": [
    "# ind_start = 0\n",
    "# for i in range(len(fullText) - 1):\n",
    "#     if (\"правила\" in fullText[i].lower()) and (\n",
    "#         \"предоставления\" in fullText[i + 1].lower()\n",
    "#     ):\n",
    "#         ind_start = i\n",
    "#         break"
   ]
  },
  {
   "cell_type": "code",
   "execution_count": 77,
   "metadata": {},
   "outputs": [
    {
     "data": {
      "text/plain": [
       "17"
      ]
     },
     "execution_count": 77,
     "metadata": {},
     "output_type": "execute_result"
    },
    {
     "data": {
      "application/javascript": [
       "\n",
       "            setTimeout(function() {\n",
       "                var nbb_cell_id = 77;\n",
       "                var nbb_unformatted_code = \"ind_start\";\n",
       "                var nbb_formatted_code = \"ind_start\";\n",
       "                var nbb_cells = Jupyter.notebook.get_cells();\n",
       "                for (var i = 0; i < nbb_cells.length; ++i) {\n",
       "                    if (nbb_cells[i].input_prompt_number == nbb_cell_id) {\n",
       "                        if (nbb_cells[i].get_text() == nbb_unformatted_code) {\n",
       "                             nbb_cells[i].set_text(nbb_formatted_code);\n",
       "                        }\n",
       "                        break;\n",
       "                    }\n",
       "                }\n",
       "            }, 500);\n",
       "            "
      ],
      "text/plain": [
       "<IPython.core.display.Javascript object>"
      ]
     },
     "metadata": {},
     "output_type": "display_data"
    }
   ],
   "source": [
    "ind_start"
   ]
  },
  {
   "cell_type": "code",
   "execution_count": 78,
   "metadata": {},
   "outputs": [
    {
     "data": {
      "text/plain": [
       "'предоставления'"
      ]
     },
     "execution_count": 78,
     "metadata": {},
     "output_type": "execute_result"
    },
    {
     "data": {
      "application/javascript": [
       "\n",
       "            setTimeout(function() {\n",
       "                var nbb_cell_id = 78;\n",
       "                var nbb_unformatted_code = \"\\\"\\u043f\\u0440\\u0435\\u0434\\u043e\\u0441\\u0442\\u0430\\u0432\\u043b\\u0435\\u043d\\u0438\\u044f\\\".lower()\";\n",
       "                var nbb_formatted_code = \"\\\"\\u043f\\u0440\\u0435\\u0434\\u043e\\u0441\\u0442\\u0430\\u0432\\u043b\\u0435\\u043d\\u0438\\u044f\\\".lower()\";\n",
       "                var nbb_cells = Jupyter.notebook.get_cells();\n",
       "                for (var i = 0; i < nbb_cells.length; ++i) {\n",
       "                    if (nbb_cells[i].input_prompt_number == nbb_cell_id) {\n",
       "                        if (nbb_cells[i].get_text() == nbb_unformatted_code) {\n",
       "                             nbb_cells[i].set_text(nbb_formatted_code);\n",
       "                        }\n",
       "                        break;\n",
       "                    }\n",
       "                }\n",
       "            }, 500);\n",
       "            "
      ],
      "text/plain": [
       "<IPython.core.display.Javascript object>"
      ]
     },
     "metadata": {},
     "output_type": "display_data"
    }
   ],
   "source": [
    "\"предоставления\".lower()"
   ]
  },
  {
   "cell_type": "code",
   "execution_count": 79,
   "metadata": {},
   "outputs": [
    {
     "data": {
      "application/javascript": [
       "\n",
       "            setTimeout(function() {\n",
       "                var nbb_cell_id = 79;\n",
       "                var nbb_unformatted_code = \"def get_end_index(fullText):\\n    end_start = len(fullText)\\n    for i in range(ind_start, len(fullText) - 1):\\n        if (\\n            (\\n                fullText[i].lower().startswith(\\\"\\u0443\\u0442\\u0432\\u0435\\u0440\\u0436\\u0434\\u0435\\u043d\\\")\\n                & fullText[i + 1].lower().startswith(\\\"\\u043f\\u043e\\u0441\\u0442\\u0430\\u043d\\u043e\\u0432\\u043b\\u0435\\u043d\\u0438\\u0435\\u043c \\u043f\\u0440\\u0430\\u0432\\u0438\\u0442\\u0435\\u043b\\u044c\\u0441\\u0442\\u0432\\u0430\\\")\\n            )\\n            | (\\n                (\\\"\\u043f\\u0440\\u0438\\u043b\\u043e\\u0436\\u0435\\u043d\\u0438\\u0435 \\u2116\\\" in fullText[i].lower())\\n                & (\\\"\\u043f\\u0440\\u0435\\u0434\\u043e\\u0441\\u0442\\u0430\\u0432\\u043b\\u0435\\u043d\\u0438\\u044f\\\" in fullText[i + 1].lower())\\n            )\\n            | (\\n                (\\\"\\u043f\\u0440\\u0438\\u043b\\u043e\\u0436\\u0435\\u043d\\u0438\\u0435 \\u2116\\\" in fullText[i].lower())\\n                & (\\\"\\u043f\\u0440\\u0435\\u0434\\u043e\\u0441\\u0442\\u0430\\u0432\\u043b\\u0435\\u043d\\u0438\\u044f\\\" in fullText[i].lower())\\n            )\\n        ):\\n            #         if (i < end_start - 6) & (\\\"\\u043f\\u0440\\u0430\\u0432\\u0438\\u043b\\u0430\\\" in fullText[i + 4].lower()) and (\\n            #             \\\"\\u043f\\u0440\\u0435\\u0434\\u043e\\u0441\\u0442\\u0430\\u0432\\u043b\\u0435\\u043d\\u0438\\u044f\\\" in fullText[i + 5].lower()\\n            #         ):\\n            #             continue\\n            if i < len(fullText) - 15:\\n                if (len(re.findall(\\\"\\\\{\\\\d+\\\\}\\\", fullText[i + 10])) > 0) & (\\n                    len(re.findall(\\\"\\\\{\\\\d+\\\\}\\\", fullText[i + 12])) > 0\\n                ):\\n                    continue\\n            end_start = i\\n            break\\n    return end_start\";\n",
       "                var nbb_formatted_code = \"def get_end_index(fullText):\\n    end_start = len(fullText)\\n    for i in range(ind_start, len(fullText) - 1):\\n        if (\\n            (\\n                fullText[i].lower().startswith(\\\"\\u0443\\u0442\\u0432\\u0435\\u0440\\u0436\\u0434\\u0435\\u043d\\\")\\n                & fullText[i + 1].lower().startswith(\\\"\\u043f\\u043e\\u0441\\u0442\\u0430\\u043d\\u043e\\u0432\\u043b\\u0435\\u043d\\u0438\\u0435\\u043c \\u043f\\u0440\\u0430\\u0432\\u0438\\u0442\\u0435\\u043b\\u044c\\u0441\\u0442\\u0432\\u0430\\\")\\n            )\\n            | (\\n                (\\\"\\u043f\\u0440\\u0438\\u043b\\u043e\\u0436\\u0435\\u043d\\u0438\\u0435 \\u2116\\\" in fullText[i].lower())\\n                & (\\\"\\u043f\\u0440\\u0435\\u0434\\u043e\\u0441\\u0442\\u0430\\u0432\\u043b\\u0435\\u043d\\u0438\\u044f\\\" in fullText[i + 1].lower())\\n            )\\n            | (\\n                (\\\"\\u043f\\u0440\\u0438\\u043b\\u043e\\u0436\\u0435\\u043d\\u0438\\u0435 \\u2116\\\" in fullText[i].lower())\\n                & (\\\"\\u043f\\u0440\\u0435\\u0434\\u043e\\u0441\\u0442\\u0430\\u0432\\u043b\\u0435\\u043d\\u0438\\u044f\\\" in fullText[i].lower())\\n            )\\n        ):\\n            #         if (i < end_start - 6) & (\\\"\\u043f\\u0440\\u0430\\u0432\\u0438\\u043b\\u0430\\\" in fullText[i + 4].lower()) and (\\n            #             \\\"\\u043f\\u0440\\u0435\\u0434\\u043e\\u0441\\u0442\\u0430\\u0432\\u043b\\u0435\\u043d\\u0438\\u044f\\\" in fullText[i + 5].lower()\\n            #         ):\\n            #             continue\\n            if i < len(fullText) - 15:\\n                if (len(re.findall(\\\"\\\\{\\\\d+\\\\}\\\", fullText[i + 10])) > 0) & (\\n                    len(re.findall(\\\"\\\\{\\\\d+\\\\}\\\", fullText[i + 12])) > 0\\n                ):\\n                    continue\\n            end_start = i\\n            break\\n    return end_start\";\n",
       "                var nbb_cells = Jupyter.notebook.get_cells();\n",
       "                for (var i = 0; i < nbb_cells.length; ++i) {\n",
       "                    if (nbb_cells[i].input_prompt_number == nbb_cell_id) {\n",
       "                        if (nbb_cells[i].get_text() == nbb_unformatted_code) {\n",
       "                             nbb_cells[i].set_text(nbb_formatted_code);\n",
       "                        }\n",
       "                        break;\n",
       "                    }\n",
       "                }\n",
       "            }, 500);\n",
       "            "
      ],
      "text/plain": [
       "<IPython.core.display.Javascript object>"
      ]
     },
     "metadata": {},
     "output_type": "display_data"
    }
   ],
   "source": [
    "def get_end_index(fullText):\n",
    "    end_start = len(fullText)\n",
    "    for i in range(ind_start, len(fullText) - 1):\n",
    "        if (\n",
    "            (\n",
    "                fullText[i].lower().startswith(\"утвержден\")\n",
    "                & fullText[i + 1].lower().startswith(\"постановлением правительства\")\n",
    "            )\n",
    "            | (\n",
    "                (\"приложение №\" in fullText[i].lower())\n",
    "                & (\"предоставления\" in fullText[i + 1].lower())\n",
    "            )\n",
    "            | (\n",
    "                (\"приложение №\" in fullText[i].lower())\n",
    "                & (\"предоставления\" in fullText[i].lower())\n",
    "            )\n",
    "        ):\n",
    "            #         if (i < end_start - 6) & (\"правила\" in fullText[i + 4].lower()) and (\n",
    "            #             \"предоставления\" in fullText[i + 5].lower()\n",
    "            #         ):\n",
    "            #             continue\n",
    "            if i < len(fullText) - 15:\n",
    "                if (len(re.findall(\"\\{\\d+\\}\", fullText[i + 10])) > 0) & (\n",
    "                    len(re.findall(\"\\{\\d+\\}\", fullText[i + 12])) > 0\n",
    "                ):\n",
    "                    continue\n",
    "            end_start = i\n",
    "            break\n",
    "    return end_start"
   ]
  },
  {
   "cell_type": "code",
   "execution_count": 80,
   "metadata": {},
   "outputs": [
    {
     "data": {
      "application/javascript": [
       "\n",
       "            setTimeout(function() {\n",
       "                var nbb_cell_id = 80;\n",
       "                var nbb_unformatted_code = \"end_start = get_end_index(fullText)\";\n",
       "                var nbb_formatted_code = \"end_start = get_end_index(fullText)\";\n",
       "                var nbb_cells = Jupyter.notebook.get_cells();\n",
       "                for (var i = 0; i < nbb_cells.length; ++i) {\n",
       "                    if (nbb_cells[i].input_prompt_number == nbb_cell_id) {\n",
       "                        if (nbb_cells[i].get_text() == nbb_unformatted_code) {\n",
       "                             nbb_cells[i].set_text(nbb_formatted_code);\n",
       "                        }\n",
       "                        break;\n",
       "                    }\n",
       "                }\n",
       "            }, 500);\n",
       "            "
      ],
      "text/plain": [
       "<IPython.core.display.Javascript object>"
      ]
     },
     "metadata": {},
     "output_type": "display_data"
    }
   ],
   "source": [
    "end_start = get_end_index(fullText)"
   ]
  },
  {
   "cell_type": "code",
   "execution_count": 81,
   "metadata": {},
   "outputs": [
    {
     "data": {
      "application/javascript": [
       "\n",
       "            setTimeout(function() {\n",
       "                var nbb_cell_id = 81;\n",
       "                var nbb_unformatted_code = \"end_start = len(fullText)\\nfor i in range(ind_start, len(fullText) - 1):\\n    if (\\n        (\\n            fullText[i].lower().startswith(\\\"\\u0443\\u0442\\u0432\\u0435\\u0440\\u0436\\u0434\\u0435\\u043d\\\")\\n            & fullText[i + 1].lower().startswith(\\\"\\u043f\\u043e\\u0441\\u0442\\u0430\\u043d\\u043e\\u0432\\u043b\\u0435\\u043d\\u0438\\u0435\\u043c \\u043f\\u0440\\u0430\\u0432\\u0438\\u0442\\u0435\\u043b\\u044c\\u0441\\u0442\\u0432\\u0430\\\")\\n        )\\n        | (\\n            (\\\"\\u043f\\u0440\\u0438\\u043b\\u043e\\u0436\\u0435\\u043d\\u0438\\u0435 \\u2116\\\" in fullText[i].lower())\\n            & (\\\"\\u043f\\u0440\\u0435\\u0434\\u043e\\u0441\\u0442\\u0430\\u0432\\u043b\\u0435\\u043d\\u0438\\u044f\\\" in fullText[i + 1].lower())\\n        )\\n        | (\\n            (\\\"\\u043f\\u0440\\u0438\\u043b\\u043e\\u0436\\u0435\\u043d\\u0438\\u0435 \\u2116\\\" in fullText[i].lower())\\n            & (\\\"\\u043f\\u0440\\u0435\\u0434\\u043e\\u0441\\u0442\\u0430\\u0432\\u043b\\u0435\\u043d\\u0438\\u044f\\\" in fullText[i].lower())\\n        )\\n        | (\\n            (\\\"\\u043f\\u0440\\u0438\\u043b\\u043e\\u0436\\u0435\\u043d\\u0438\\u0435 N\\\" in fullText[i].lower())\\n            & (\\\"\\u043f\\u0440\\u0435\\u0434\\u043e\\u0441\\u0442\\u0430\\u0432\\u043b\\u0435\\u043d\\u0438\\u044f\\\" in fullText[i].lower())\\n        )\\n        | (\\n            (\\\"\\u043f\\u0440\\u0438\\u043b\\u043e\\u0436\\u0435\\u043d\\u0438\\u0435 N\\\" in fullText[i].lower())\\n            & (\\\"\\u043f\\u0440\\u0435\\u0434\\u043e\\u0441\\u0442\\u0430\\u0432\\u043b\\u0435\\u043d\\u0438\\u044f\\\" in fullText[i + 1].lower())\\n        )\\n    ):\\n        #         if (i < end_start - 6) & (\\\"\\u043f\\u0440\\u0430\\u0432\\u0438\\u043b\\u0430\\\" in fullText[i + 4].lower()) and (\\n        #             \\\"\\u043f\\u0440\\u0435\\u0434\\u043e\\u0441\\u0442\\u0430\\u0432\\u043b\\u0435\\u043d\\u0438\\u044f\\\" in fullText[i + 5].lower()\\n        #         ):\\n        #             continue\\n        if i < len(fullText) - 15:\\n            if (len(re.findall(\\\"\\\\{\\\\d+\\\\}\\\", fullText[i + 10])) > 0) | (\\n                len(re.findall(\\\"\\\\{\\\\d+\\\\}\\\", fullText[i + 12])) > 0\\n            ):\\n                continue\\n        end_start = i\\n        break\";\n",
       "                var nbb_formatted_code = \"end_start = len(fullText)\\nfor i in range(ind_start, len(fullText) - 1):\\n    if (\\n        (\\n            fullText[i].lower().startswith(\\\"\\u0443\\u0442\\u0432\\u0435\\u0440\\u0436\\u0434\\u0435\\u043d\\\")\\n            & fullText[i + 1].lower().startswith(\\\"\\u043f\\u043e\\u0441\\u0442\\u0430\\u043d\\u043e\\u0432\\u043b\\u0435\\u043d\\u0438\\u0435\\u043c \\u043f\\u0440\\u0430\\u0432\\u0438\\u0442\\u0435\\u043b\\u044c\\u0441\\u0442\\u0432\\u0430\\\")\\n        )\\n        | (\\n            (\\\"\\u043f\\u0440\\u0438\\u043b\\u043e\\u0436\\u0435\\u043d\\u0438\\u0435 \\u2116\\\" in fullText[i].lower())\\n            & (\\\"\\u043f\\u0440\\u0435\\u0434\\u043e\\u0441\\u0442\\u0430\\u0432\\u043b\\u0435\\u043d\\u0438\\u044f\\\" in fullText[i + 1].lower())\\n        )\\n        | (\\n            (\\\"\\u043f\\u0440\\u0438\\u043b\\u043e\\u0436\\u0435\\u043d\\u0438\\u0435 \\u2116\\\" in fullText[i].lower())\\n            & (\\\"\\u043f\\u0440\\u0435\\u0434\\u043e\\u0441\\u0442\\u0430\\u0432\\u043b\\u0435\\u043d\\u0438\\u044f\\\" in fullText[i].lower())\\n        )\\n        | (\\n            (\\\"\\u043f\\u0440\\u0438\\u043b\\u043e\\u0436\\u0435\\u043d\\u0438\\u0435 N\\\" in fullText[i].lower())\\n            & (\\\"\\u043f\\u0440\\u0435\\u0434\\u043e\\u0441\\u0442\\u0430\\u0432\\u043b\\u0435\\u043d\\u0438\\u044f\\\" in fullText[i].lower())\\n        )\\n        | (\\n            (\\\"\\u043f\\u0440\\u0438\\u043b\\u043e\\u0436\\u0435\\u043d\\u0438\\u0435 N\\\" in fullText[i].lower())\\n            & (\\\"\\u043f\\u0440\\u0435\\u0434\\u043e\\u0441\\u0442\\u0430\\u0432\\u043b\\u0435\\u043d\\u0438\\u044f\\\" in fullText[i + 1].lower())\\n        )\\n    ):\\n        #         if (i < end_start - 6) & (\\\"\\u043f\\u0440\\u0430\\u0432\\u0438\\u043b\\u0430\\\" in fullText[i + 4].lower()) and (\\n        #             \\\"\\u043f\\u0440\\u0435\\u0434\\u043e\\u0441\\u0442\\u0430\\u0432\\u043b\\u0435\\u043d\\u0438\\u044f\\\" in fullText[i + 5].lower()\\n        #         ):\\n        #             continue\\n        if i < len(fullText) - 15:\\n            if (len(re.findall(\\\"\\\\{\\\\d+\\\\}\\\", fullText[i + 10])) > 0) | (\\n                len(re.findall(\\\"\\\\{\\\\d+\\\\}\\\", fullText[i + 12])) > 0\\n            ):\\n                continue\\n        end_start = i\\n        break\";\n",
       "                var nbb_cells = Jupyter.notebook.get_cells();\n",
       "                for (var i = 0; i < nbb_cells.length; ++i) {\n",
       "                    if (nbb_cells[i].input_prompt_number == nbb_cell_id) {\n",
       "                        if (nbb_cells[i].get_text() == nbb_unformatted_code) {\n",
       "                             nbb_cells[i].set_text(nbb_formatted_code);\n",
       "                        }\n",
       "                        break;\n",
       "                    }\n",
       "                }\n",
       "            }, 500);\n",
       "            "
      ],
      "text/plain": [
       "<IPython.core.display.Javascript object>"
      ]
     },
     "metadata": {},
     "output_type": "display_data"
    }
   ],
   "source": [
    "end_start = len(fullText)\n",
    "for i in range(ind_start, len(fullText) - 1):\n",
    "    if (\n",
    "        (\n",
    "            fullText[i].lower().startswith(\"утвержден\")\n",
    "            & fullText[i + 1].lower().startswith(\"постановлением правительства\")\n",
    "        )\n",
    "        | (\n",
    "            (\"приложение №\" in fullText[i].lower())\n",
    "            & (\"предоставления\" in fullText[i + 1].lower())\n",
    "        )\n",
    "        | (\n",
    "            (\"приложение №\" in fullText[i].lower())\n",
    "            & (\"предоставления\" in fullText[i].lower())\n",
    "        )\n",
    "        | (\n",
    "            (\"приложение N\" in fullText[i].lower())\n",
    "            & (\"предоставления\" in fullText[i].lower())\n",
    "        )\n",
    "        | (\n",
    "            (\"приложение N\" in fullText[i].lower())\n",
    "            & (\"предоставления\" in fullText[i + 1].lower())\n",
    "        )\n",
    "    ):\n",
    "        #         if (i < end_start - 6) & (\"правила\" in fullText[i + 4].lower()) and (\n",
    "        #             \"предоставления\" in fullText[i + 5].lower()\n",
    "        #         ):\n",
    "        #             continue\n",
    "        if i < len(fullText) - 15:\n",
    "            if (len(re.findall(\"\\{\\d+\\}\", fullText[i + 10])) > 0) | (\n",
    "                len(re.findall(\"\\{\\d+\\}\", fullText[i + 12])) > 0\n",
    "            ):\n",
    "                continue\n",
    "        end_start = i\n",
    "        break"
   ]
  },
  {
   "cell_type": "code",
   "execution_count": 82,
   "metadata": {},
   "outputs": [
    {
     "data": {
      "text/plain": [
       "(235, 235)"
      ]
     },
     "execution_count": 82,
     "metadata": {},
     "output_type": "execute_result"
    },
    {
     "data": {
      "application/javascript": [
       "\n",
       "            setTimeout(function() {\n",
       "                var nbb_cell_id = 82;\n",
       "                var nbb_unformatted_code = \"end_start, len(fullText)\";\n",
       "                var nbb_formatted_code = \"end_start, len(fullText)\";\n",
       "                var nbb_cells = Jupyter.notebook.get_cells();\n",
       "                for (var i = 0; i < nbb_cells.length; ++i) {\n",
       "                    if (nbb_cells[i].input_prompt_number == nbb_cell_id) {\n",
       "                        if (nbb_cells[i].get_text() == nbb_unformatted_code) {\n",
       "                             nbb_cells[i].set_text(nbb_formatted_code);\n",
       "                        }\n",
       "                        break;\n",
       "                    }\n",
       "                }\n",
       "            }, 500);\n",
       "            "
      ],
      "text/plain": [
       "<IPython.core.display.Javascript object>"
      ]
     },
     "metadata": {},
     "output_type": "display_data"
    }
   ],
   "source": [
    "end_start, len(fullText)"
   ]
  },
  {
   "cell_type": "markdown",
   "metadata": {},
   "source": [
    "в каких разделах у нас мб текст:\n",
    " - РЕАЛИЗАЦИИ НЕКОММЕРЧЕСКИМИ ОРГАНИЗАЦИЯМИ ..., ОСУЩЕСТВЛЯЮЩИМИ ФУНКЦИИ ИНФРАСТРУКТУРНЫХ ЦЕНТРОВ, ПРОГРАММ ПО РАЗВИТИЮ ОТДЕЛЬНЫХ НАПРАВЛЕНИЙ НАЦИОНАЛЬНОЙ ТЕХНОЛОГИЧЕСКОЙ ИНИЦИАТИВЫ\n",
    " - ПРАВИЛА ... ФИНАНСОВОГО ОБЕСПЕЧЕНИЯ (ВОЗМЕЩЕНИЯ) ЗАТРАТ СПЕЦИАЛИЗИРОВАННЫХ ОБЩЕСТВ ПРОЕКТНОГО ФИНАНСИРОВАНИЯ ПО ВЫПЛАТЕ ПРОЦЕНТНОГО (КУПОННОГО) ДОХОДА ПО ОБЛИГАЦИЯМ\n",
    " - ПРАВИЛА ПРЕДОСТАВЛЕНИЯ СУБСИДИЙ "
   ]
  },
  {
   "cell_type": "code",
   "execution_count": 83,
   "metadata": {},
   "outputs": [
    {
     "data": {
      "application/javascript": [
       "\n",
       "            setTimeout(function() {\n",
       "                var nbb_cell_id = 83;\n",
       "                var nbb_unformatted_code = \"target_data = []\\n\\nactivate_flag = False\\nfor elem in fullText[ind_start:end_start]:\\n    if not activate_flag:\\n        if len(re.findall(\\\"\\\\{\\\\d\\\\}\\\", elem)) > 0:\\n            activate_flag = True\\n            target_data.append(elem.replace(\\\"\\\\xa0\\\", \\\" \\\"))\\n    else:\\n        target_data.append(elem.replace(\\\"\\\\xa0\\\", \\\" \\\"))\";\n",
       "                var nbb_formatted_code = \"target_data = []\\n\\nactivate_flag = False\\nfor elem in fullText[ind_start:end_start]:\\n    if not activate_flag:\\n        if len(re.findall(\\\"\\\\{\\\\d\\\\}\\\", elem)) > 0:\\n            activate_flag = True\\n            target_data.append(elem.replace(\\\"\\\\xa0\\\", \\\" \\\"))\\n    else:\\n        target_data.append(elem.replace(\\\"\\\\xa0\\\", \\\" \\\"))\";\n",
       "                var nbb_cells = Jupyter.notebook.get_cells();\n",
       "                for (var i = 0; i < nbb_cells.length; ++i) {\n",
       "                    if (nbb_cells[i].input_prompt_number == nbb_cell_id) {\n",
       "                        if (nbb_cells[i].get_text() == nbb_unformatted_code) {\n",
       "                             nbb_cells[i].set_text(nbb_formatted_code);\n",
       "                        }\n",
       "                        break;\n",
       "                    }\n",
       "                }\n",
       "            }, 500);\n",
       "            "
      ],
      "text/plain": [
       "<IPython.core.display.Javascript object>"
      ]
     },
     "metadata": {},
     "output_type": "display_data"
    }
   ],
   "source": [
    "target_data = []\n",
    "\n",
    "activate_flag = False\n",
    "for elem in fullText[ind_start:end_start]:\n",
    "    if not activate_flag:\n",
    "        if len(re.findall(\"\\{\\d\\}\", elem)) > 0:\n",
    "            activate_flag = True\n",
    "            target_data.append(elem.replace(\"\\xa0\", \" \"))\n",
    "    else:\n",
    "        target_data.append(elem.replace(\"\\xa0\", \" \"))"
   ]
  },
  {
   "cell_type": "code",
   "execution_count": 84,
   "metadata": {},
   "outputs": [
    {
     "data": {
      "text/plain": [
       "['1. {2} Настоящие Правила устанавливают цели, условия и порядок предоставления субсидии из федерального бюджета Российскому фонду развития информационных технологий на возмещение затрат по использованию субъектами малого и среднего предпринимательства российского программного обеспечения (далее соответственно - Фонд, субсидия). {2}',\n",
       " '{2}Субсидия предоставляется в рамках реализации федерального  \"Цифровые технологии\" национальной  \"Цифровая экономика Российской Федерации\".{2}',\n",
       " '2. {3}Субсидия предоставляется Министерством цифрового развития, связи и массовых коммуникаций Российской Федерации в пределах лимитов бюджетных обязательств, доведенных в установленном порядке до Министерства цифрового развития, связи и массовых коммуникаций Российской Федерации как получателя средств федерального бюджета на цели, указанные в  настоящих Правил. {3}',\n",
       " '{7}Сведения о субсидии размещаются на едином портале бюджетной системы Российской Федерации в информационно-телекоммуникационной сети \"Интернет\" при формировании проекта федерального закона о федеральном бюджете (проекта федерального закона о внесении изменений в федеральный закон о федеральном бюджете). {7}',\n",
       " '3. {1}Понятия, используемые в настоящих Правилах, означают следующее: {1}',\n",
       " '{1}\"возмещение затрат\" - возмещение недополученных доходов правообладателя (уполномоченной организации) от предоставления российского программного обеспечения субъектам малого и среднего предпринимательства по льготной цене; {1}',\n",
       " '{1}\"использование программного обеспечения посредством облачной инфраструктуры\" - использование программного обеспечения посредством каналов связи и внешней информационно-технологической и программно-аппаратной инфраструктуры, обеспечивающей сбор, обработку и хранение данных; {1}',\n",
       " '{1}\"льготная цена\" - стоимость программного обеспечения, определяемая в соответствии с  настоящих Правил, по которой правообладатель (уполномоченная организация) обязуется предоставлять субъектам малого и среднего предпринимательства право использования российского программного обеспечения; {1}',\n",
       " '{1}\"получатель поддержки\" - правообладатель (уполномоченная организация), заключивший соглашение с Фондом о возмещении недополученных им доходов от предоставления российского программного обеспечения субъектам малого и среднего предпринимательства по льготной цене по результатам проведенного Фондом отбора; {1}',\n",
       " '{1}\"правообладатель\" - российская организация, за исключением государственного (муниципального) учреждения, обладающая исключительными правами на российское программное обеспечение и соответствующая критериям, указанным в  настоящих Правил, а также требованиям, указанным в  приложения к настоящим Правилам; {1}',\n",
       " '{1}\"российское программное обеспечение\" - программное обеспечение для электронных вычислительных машин и баз данных или совокупность программного обеспечения, объединенного в пакетное предложение, направленное на автоматизацию деятельности, повышение эффективности работы и оптимизацию бизнес-процессов субъектов малого и среднего предпринимательства, соответствующее требованиям, предусмотренным  настоящих Правил; {1}',\n",
       " '{1}\"субъекты малого и среднего предпринимательства\" - хозяйствующие субъекты (юридические лица и индивидуальные предприниматели), отнесенные в соответствии с условиями, установленными Федеральным  \"О развитии малого и среднего предпринимательства в Российской Федерации\", к малым предприятиям, в том числе к микропредприятиям, и средним предприятиям, сведения о которых внесены в единый реестр субъектов малого и среднего предпринимательства и соответствующие критериям, указанным в  настоящих Правил; {1}',\n",
       " '{1}\"уполномоченная организация\" - российская организация, за исключением государственного (муниципального) учреждения, уполномоченная правообладателем на распоряжение российским программным обеспечением и соответствующая требованиям, указанным в  приложения к настоящим Правилам. {1}',\n",
       " '4. {30}Субсидия является источником финансового обеспечения расходов Фонда: {30}',\n",
       " '{30} на возмещение затрат правообладателей (уполномоченных организаций); {30}',\n",
       " '{30}на обеспечение деятельности Фонда по проведению отбора правообладателей (уполномоченных организаций), а также организационно-методологическому и информационно-технологическому сопровождению возмещения затрат правообладателей (уполномоченных организаций) (далее - обеспечение деятельности Фонда). {30}',\n",
       " '{30}Расходы на обеспечение деятельности Фонда, непосредственно связанные с достижением результата предоставления субсидии, указанного в  настоящих Правил, составляют не более 3,5 процента общего размера субсидии, предусмотренной на соответствующий финансовый год. {30}',\n",
       " '{30}Указанные расходы включают в себя: {30}',\n",
       " '{30}расходы на оплату труда работников, а также расходы на уплату страховых взносов на обязательное пенсионное страхование, обязательное социальное страхование на случай временной нетрудоспособности и в связи с материнством, обязательное медицинское страхование и обязательное социальное страхование от несчастных случаев на производстве и профессиональных заболеваний, начисленных на суммы расходов на оплату труда, но не более 80 процентов размера расходов на обеспечение деятельности Фонда; {30}',\n",
       " '{30}накладные расходы, но не более 20 процентов размера расходов на обеспечение деятельности Фонда, в том числе: {30}',\n",
       " '{30}командировочные расходы; {30}',\n",
       " '{30}расходы по договорам гражданско-правового характера и страховые взносы во внебюджетные фонды; {30}',\n",
       " '{30}расходы на банковское обслуживание;{30}',\n",
       " '{30}расходы на канцелярские товары; {30}',\n",
       " '{30}расходы на расходные материалы; {30}',\n",
       " '{30}расходы на информационно-коммуникационные услуги; {30}',\n",
       " '{30}прочие общехозяйственные расходы; {30}',\n",
       " '{30}иные расходы, но не более 30 процентов размера расходов на обеспечение деятельности Фонда, в том числе: {30}',\n",
       " '{30}расходы на создание и обслуживание рабочих мест работников; {30}',\n",
       " '{30}расходы на разработку, доработку, а также на приобретение прикладного программного обеспечения (лицензии); {30}',\n",
       " '{30}расходы на оплату работ (услуг) независимых экспертов и (или) сторонних организаций;{30}',\n",
       " '{30}расходы на популяризацию приобретения субъектами малого и среднего предпринимательства российского программного обеспечения по льготной цене. {30}',\n",
       " '{30}Расходы, указанные в ,  и  настоящего пункта, не могут превышать в совокупности 100 процентов расходов на обеспечение деятельности Фонда, непосредственно связанных с достижением результата предоставления субсидии. {30}',\n",
       " '{35}Расходы на оплату труда работников Фонда, непосредственно связанных с достижением результата, указанного в  настоящих Правил, за счет средств субсидии не могут превышать размер среднемесячной начисленной заработной платы по виду экономической деятельности \"Предоставление прочих финансовых услуг,{35}{35} кроме услуг по страхованию и пенсионному обеспечению, не включенных в другие группировки\" по субъекту Российской Федерации г. Москве, исчисляемой по данным Федеральной службы государственной статистики за предыдущий финансовый год, на одного работника. {35}',\n",
       " '{35}Затраты, предусмотренные  и  настоящего пункта, определяются исходя из стоимости доступных на рынке аналогов {35}.',\n",
       " '5. {35}Российское программное обеспечение должно удовлетворять следующим требованиям:{35}',\n",
       " '{35}программное обеспечение включено в единый реестр российских программ для электронных вычислительных машин и баз данных {35}',\n",
       " '{35}использование программного обеспечения осуществляется посредством облачной инфраструктуры; {35}',\n",
       " '{35}программное обеспечение направлено на достижение одной или нескольких следующих целей использования: {35}',\n",
       " '{35}повышение производительности, точности или иных существенных характеристик технологического процесса и (или) бизнес-процесса; {35}',\n",
       " '{35}повышение качественных или иных существенных характеристик производимых (поставляемых) товаров, оказываемых услуг и выполняемых работ; {35}',\n",
       " '{35}повышение производительности труда; {35}',\n",
       " '{35}снижение издержек (в том числе за счет сокращения брака) при производстве (поставке) товаров, оказании услуг и выполнении работ. {35}',\n",
       " '{35}Дополнительные требования к российскому программному обеспечению могут быть установлены Фондом по согласованию с Министерством цифрового развития, связи и массовых коммуникаций Российской Федерации. {35}',\n",
       " '6. {12} Отбор правообладателей проводится по следующим критериям: {12}',\n",
       " 'а) {12}  среднесписочная численность работников правообладателя за предшествующий календарный год составляет не менее 15 человек; {12}',\n",
       " 'б) {12} значение выручки правообладателя от реализации товаров (работ, услуг) за предшествующий календарный год без учета налога на добавленную стоимость составляет не менее 10 млн. рублей. {12}',\n",
       " '7. {12} Отбор субъектов малого и среднего предпринимательства проводится по следующим критериям: {12}',\n",
       " 'а) {12} среднесписочная численность работников субъекта малого и среднего предпринимательства за предшествующий календарный год составляет не более 250 человек; {12}',\n",
       " 'б) {12} предельное значение дохода, полученного от осуществления предпринимательской деятельности субъектом малого и среднего предпринимательства за предшествующий календарный год, определяемого в порядке, установленном законодательством Российской Федерации о налогах и сборах, суммируемого по всем осуществляемым видам деятельности и применяемого по всем налоговым режимам, составляет не более 2 млрд. рублей. {12}',\n",
       " '8. {24} Субсидия предоставляется Фонду на основании соглашения о предоставлении субсидии, заключенного Министерством цифрового развития, связи и массовых коммуникаций Российской Федерации и Фондом в соответствии с , установленной Министерством финансов Российской Федерации, посредством государственной интегрированной информационной системы управления общественными финансами \"Электронный бюджет\" (далее - соглашение о предоставлении субсидии), содержащего в том числе: {24}',\n",
       " '{24}цели, условия и порядок предоставления субсидии; {24}',\n",
       " '{27}значения результата предоставления субсидии, соответствующие значениям результата федерального  \"Цифровые технологии\" национальной  \"Цифровая экономика Российской Федерации\", указанного в  настоящих Правил; {27}',\n",
       " '{36}формы и сроки представления отчета о расходах, отчета о достижении значений результата предоставления субсидии и указанных в  настоящих Правил показателей, необходимых для достижения результата предоставления субсидии; {36}',\n",
       " '{32}согласие Фонда на осуществление Министерством цифрового развития, связи и массовых коммуникаций Российской Федерации и органом государственного финансового контроля проверок соблюдения целей, условий и порядка предоставления субсидии, предусмотренных настоящими Правилами и соглашением о предоставлении субсидии,{32}{32} а также обязательство Фонда по включению в договоры (соглашения), заключенные в целях исполнения обязательств по соглашению о предоставлении субсидии, положений о согласии лиц, являющихся поставщиками (подрядчиками, исполнителями), на проведение указанных проверок; {32}',\n",
       " '{37}обязательство Министерства цифрового развития, связи и массовых коммуникаций Российской Федерации по осуществлению контроля за соблюдением целей, условий и порядка предоставления субсидии; {37}',\n",
       " '{24}обязательство Фонда по возврату в доход федерального бюджета средств субсидии в объеме, при использовании которого были допущены нарушения целей, условий и порядка предоставления субсидии, выявленные по результатам проверок, проведенных Министерством цифрового развития, связи и массовых коммуникаций Российской Федерации и (или) органом государственного финансового контроля; {24}',\n",
       " '{24}запрет на размещение Фондом средств субсидии на депозитах и посредством иных финансовых инструментов; {24}',\n",
       " '{24}обязательство Фонда по ведению раздельного учета затрат на реализацию каждого соглашения о предоставлении субсидии; {24}',\n",
       " '{24}условия, предусмотренные нормативными правовыми актами Правительства Российской Федерации, регулирующими вопросы казначейского сопровождения, осуществляемого в соответствии с бюджетным законодательством Российской Федерации; {24}',\n",
       " '{25}условия о согласовании новых условий соглашения о предоставлении субсидии или расторжении соглашения о предоставлении субсидии при недостижении согласия по новым условиям в случае уменьшения главному распорядителю как получателю бюджетных средств ранее доведенных лимитов бюджетных обязательств, приводящего к невозможности предоставления субсидии в размере, определенном в соглашении о предоставлении субсидии; {25}',\n",
       " '{8}условия о проведении путем запроса предложений отбора правообладателей (уполномоченных организаций) на основании заявок, направленных участниками отбора для участия в отборе, исходя из соответствия участника отбора критериям отбора и очередности поступления заявок на участие в отборе; {8}',\n",
       " '{24}возможность осуществления расходов, источником финансового обеспечения которых являются не использованные в отчетном финансовом году остатки субсидии, при принятии Министерством цифрового развития, связи и массовых коммуникаций Российской Федерации по согласованию с Министерством финансов Российской Федерации решения о наличии потребности в указанных средствах; {24}',\n",
       " '{9}сроки размещения на официальном сайте Фонда в информационно-телекоммуникационной сети \"Интернет\" объявления о проведении отбора с указанием следующих сведений: {9}',\n",
       " '{10}сроки проведения отбора (дата и время начала (окончания) подачи заявок участников отбора), которые не могут быть меньше 30 календарных дней, следующих за днем размещения объявления о проведении отбора; {10}',\n",
       " '{10}результат предоставления субсидии; {10}',\n",
       " '{10}доменное имя, и (или) сетевой адрес, и (или) указатели страниц сайта в информационно-телекоммуникационной сети \"Интернет\", на котором обеспечивается проведение отбора; {24}',\n",
       " '{11}требования к участникам отбора в соответствии с настоящими Правилами и перечень документов, представляемых участниками отбора для подтверждения их соответствия указанным требованиям; {11}',\n",
       " '{10}порядок подачи заявок участниками отбора и требования, предъявляемые к форме и содержанию заявок, подаваемых участниками отбора; {10}',\n",
       " '{10}порядок отзыва заявок участников отбора, порядок возврата заявок участников отбора, определяющий в том числе основания для возврата заявок участников отбора, порядок внесения изменений в заявки участников отбора; {10}',\n",
       " '{10}правила рассмотрения заявок участников отбора; {10}',\n",
       " '{10}порядок предоставления участникам отбора разъяснений положений объявления о проведении отбора, даты начала и окончания срока предоставления таких разъяснений; {10}',\n",
       " '{10}срок, в течение которого правообладатель (уполномоченная организация) должен подписать соглашение (договор) о предоставлении поддержки (далее - соглашение); {10}',\n",
       " '{10}условия признания правообладателя (уполномоченной организации) уклонившимся (уклонившейся) от заключения соглашения; {10}',\n",
       " '{10}дата размещения результатов отбора на официальном сайте Фонда в информационно-телекоммуникационной сети \"Интернет\", которая не может быть позднее 14-го календарного дня, следующего за днем определения участников, прошедших отбор; {10}',\n",
       " '{15} обязательство Фонда о проведении отбора в соответствии с порядком, установленным  настоящих Правил; {24}',\n",
       " '{31}запрет приобретения Фондом, а также иными юридическими лицами, получающими средства на основании договоров, заключенных с Фондом, за счет полученных средств субсидии иностранной валюты, за исключением операций, осуществляемых в соответствии с валютным законодательством Российской Федерации при закупке (поставке) высокотехнологичного импортного оборудования, сырья и комплектующих изделий; {31}',\n",
       " '{27}значения показателей, необходимых для достижения результата предоставления субсидии, указанные в  настоящих Правил; {24}',\n",
       " '{24}обязательство Фонда о включении в соглашения о возмещении затрат правообладателей (уполномоченных организаций) с прошедшими отбор участниками значений показателей, необходимых для достижения результата предоставления субсидии, по итогам результатов отбора с учетом соответствующих значений результата федерального  \"Цифровые технологии\" национальной  \"Цифровая экономика Российской Федерации\", указанного в  настоящих Правил; {24}',\n",
       " '{24}иные условия, определяемые Министерством цифрового развития, связи и массовых коммуникаций Российской Федерации. {24}',\n",
       " '{26}Дополнительные соглашения к соглашению, предусматривающие внесение в него изменений и (или) его расторжение (при необходимости), заключаются в соответствии с типовой формой, установленной Министерством финансов Российской Федерации, посредством государственной интегрированной информационной системы управления общественными финансами \"Электронный бюджет\".{26}',\n",
       " '9. {22}Льготная цена программного обеспечения составляет 50 процентов средней рыночной цены. {22}',\n",
       " '10. {33}Размер возмещения затрат получателя поддержки по i-му виду лицензий (Зi) определяется по формуле: {33}',\n",
       " 'где:',\n",
       " '{33}Qi - количество i-го вида лицензий, предоставленных правообладателем (уполномоченной организацией) субъектам малого и среднего предпринимательства по льготной цене; {33}',\n",
       " '{33}H - средняя рыночная цена i-го вида лицензий. {33}',\n",
       " '{22}11. Размер субсидии, предоставляемой Фонду в соответствующем финансовом году (С), определяется по формуле: {22}',\n",
       " '{22}где Oi - размер расходов на обеспечение деятельности Фонда, непосредственно связанных с достижением указанного в  настоящих Правил результата предоставления субсидии, определяемый в соответствии с  настоящих Правил. {22}',\n",
       " '12. {19}Для заключения соглашения о предоставлении субсидии Фонд представляет в Министерство цифрового развития, связи и массовых коммуникаций Российской Федерации с сопроводительным письмом, подписанным лицом, имеющим право действовать от имени Фонда, следующие прошнурованные и пронумерованные на 1-е число месяца, предшествующего месяцу, в котором планируется заключение соглашения о предоставлении субсидии, документы: {19}',\n",
       " '{19}а) справка, подписанная руководителем и главным бухгалтером (при наличии) Фонда и скрепленная печатью, подтверждающая отсутствие у Фонда просроченной задолженности по возврату в федеральный бюджет субсидий, бюджетных инвестиций, предоставленных в том числе в соответствии с иными правовыми актами, а также иной просроченной (неурегулированной) задолженности по денежным обязательствам перед Российской Федерацией; {19}',\n",
       " '{19}б) справка, подписанная руководителем Фонда, подтверждающая, что Фонд не находится в процессе ликвидации, в отношении Фонда не введена процедура банкротства, деятельность Фонда не приостановлена в порядке, предусмотренном законодательством Российской Федерации; {19}',\n",
       " '{19}в) помесячный прогноз кассовых выплат осуществления Фондом расходов, на финансовое обеспечение которых предоставляется субсидия (в произвольной форме), подписанный руководителем и главным бухгалтером (при наличии) Фонда; {19}',\n",
       " '{19}г) смета расходов на обеспечение деятельности Фонда, подписанная руководителем и главным бухгалтером (при наличии) Фонда; {19}',\n",
       " '{19}д) справка, подписанная руководителем и главным бухгалтером (при наличии) Фонда, подтверждающая отсутствие у Фонда неисполненной обязанности по уплате налогов, сборов, страховых взносов, пеней, штрафов, процентов, подлежащих уплате в соответствии с законодательством Российской Федерации о налогах и сборах; {19}',\n",
       " '{19}е) справка, подписанная руководителем и главным бухгалтером (при наличии) Фонда и скрепленная печатью, подтверждающая на 1-е число месяца, предшествующего месяцу, в котором планируется заключение соглашения о предоставлении субсидии, отсутствие в реестре дисквалифицированных лиц сведений о дисквалифицированных руководителях, членах коллегиальных исполнительных органов, лицах, исполняющих функции единоличного исполнительного органа, или главном бухгалтере (при наличии) Фонда; {19}',\n",
       " '{19}ж) справка, подписанная руководителем и главным бухгалтером (при наличии) Фонда и скрепленная печатью, подтверждающая, что Фонд не получает средства из федерального бюджета на основании иных нормативных правовых актов Российской Федерации на цели, установленные настоящими Правилами. {19}',\n",
       " '13. {35}Фонд на 1-е число месяца, предшествующего месяцу, в котором планируется заключение соглашения о предоставлении субсидии, должен соответствовать следующим требованиям: {35}',\n",
       " 'а) {35} у Фонда отсутствует неисполненная обязанность по уплате налогов, сборов, страховых взносов, пеней, штрафов и процентов, подлежащих уплате в соответствии с законодательством Российской Федерации о налогах и сборах; {35}',\n",
       " 'б) {35}у Фонда отсутствует просроченная задолженность по возврату в федеральный бюджет субсидий, бюджетных инвестиций, предоставленных в том числе в соответствии с иными правовыми актами, а также иная просроченная (неурегулированная) задолженность по денежным обязательствам перед Российской Федерацией; {35}',\n",
       " 'в) {35}Фонд не находится в процессе ликвидации, в отношении Фонда не введена процедура банкротства, деятельность Фонда не приостановлена в порядке, предусмотренном законодательством Российской Федерации; {35}',\n",
       " 'г) {35}Фонд не получает средства из федерального бюджета в соответствии с иными нормативными правовыми актами на цели, предусмотренные  настоящих Правил; {35}',\n",
       " 'д) {35}в реестре дисквалифицированных лиц отсутствуют сведения о дисквалифицированных руководителе, членах коллегиального исполнительного органа, лице, исполняющем функции единоличного исполнительного органа, или главном бухгалтере (при наличии) Фонда. {35}',\n",
       " '14. {35}Датой представления Фондом документов, указанных в  настоящих Правил, считается день их регистрации в Министерстве цифрового развития, связи и массовых коммуникаций Российской Федерации. {35}',\n",
       " '15. {20}Министерство цифрового развития, связи и массовых коммуникаций Российской Федерации в течение 10 рабочих дней со дня регистрации документов, представленных в соответствии с  настоящих Правил, рассматривает их и проверяет соответствие Фонда требованиям, предусмотренным  настоящих Правил. {20}{24} По результатам проверки представленных Фондом документов Министерство цифрового развития, связи и массовых коммуникаций Российской Федерации принимает решение о заключении соглашения о предоставлении субсидии либо об отказе в заключении соглашения о предоставлении субсидии, о чем уведомляет Фонд в течение 10 рабочих дней. {24}',\n",
       " '{21}Основаниями для отказа в заключении соглашения о предоставлении субсидии являются:{21}',\n",
       " '{21}непредставление Фондом (представление в неполном объеме) документов, указанных в  настоящих Правил; {21}',\n",
       " '{21}установление факта недостоверности представленных Фондом документов; {21}',\n",
       " '{21}несоответствие Фонда требованиям, предусмотренным  настоящих Правил.{21}',\n",
       " '{14}Фонд имеет право повторно представить документы после устранения замечаний Министерства цифрового развития, связи и массовых коммуникаций Российской Федерации. {14}',\n",
       " '16. {27}Результатом предоставления субсидии является количество лицензий российского программного обеспечения, предоставленных субъектам малого и среднего предпринимательства по льготной цене. {27}',\n",
       " '{35}Точные даты завершения и конечные значения результата по годам (конкретная количественная характеристика итогов) установлены в паспорте федерального  \"Цифровые технологии\" национальной  \"Цифровая экономика Российской Федерации\".{35}',\n",
       " '{27}Степень достижения значения результата предоставления субсидии ежегодно оценивается Министерством цифрового развития, связи и массовых коммуникаций Российской Федерации путем сопоставления фактического значения результата предоставления субсидии и его планового значения. {27}',\n",
       " '{27}Показателями, необходимыми для достижения результата предоставления субсидии, являются следующие показатели: {27}',\n",
       " '{27}обеспечено функционирование специализированного информационного ресурса; {27}',\n",
       " '{27}количество мероприятий по популяризации приобретения субъектами малого и среднего предпринимательства российского программного обеспечения по льготной цене. {27}',\n",
       " '17. {29}Перечисление субсидии Фонду осуществляется на казначейский счет для осуществления и отражения операций с денежными средствами юридических лиц, не являющихся участниками бюджетного процесса, бюджетными и автономными учреждениями, открытый в территориальном органе Федерального казначейства, {29}{28}не позднее 2-го рабочего дня после представления в территориальный орган Федерального казначейства Фондом распоряжений о совершении казначейских платежей для оплаты денежного обязательства Фонда. {28}',\n",
       " '18. {38}Ответственность за недостоверность представленных в Министерство цифрового развития, связи и массовых коммуникаций Российской Федерации сведений, документов и несоблюдение Фондом целей, условий и порядка предоставления субсидии несет Фонд. {38}',\n",
       " '19. {36} Отчет о расходах, источником финансового обеспечения которых является субсидия, и отчет о достижении результата предоставления субсидии и указанных в  настоящих Правил показателей, необходимых для достижения результата предоставления субсидии, формируются Фондом ежеквартально нарастающим итогом в срок не более первых 8 рабочих дней месяца, следующего за отчетным периодом. {36}',\n",
       " '{36} Отчеты формируются по формам, определенным типовыми формами соглашений, установленными Министерством финансов Российской Федерации, и представляются посредством государственной интегрированной информационной системы управления общественными финансами \"Электронный бюджет\" в Министерство цифрового развития, связи и массовых коммуникаций Российской Федерации. {36}',\n",
       " '{36} Министерство цифрового развития, связи и массовых коммуникаций Российской Федерации вправе устанавливать в соглашении о предоставлении субсидии сроки и формы представления Фондом дополнительной отчетности. {36}',\n",
       " '20. {35} Фонд осуществляет отбор правообладателей (уполномоченных организаций) в порядке, установленном  к настоящим Правилам. {35}',\n",
       " '21. {24} Фонд заключает соглашения с победителями отбора по форме, разработанной Фондом на основе , установленной Министерством финансов Российской Федерации. {24}',\n",
       " '{24} В соглашение между Фондом и получателем поддержки включаются следующие положения: {24}',\n",
       " '{24} а) цели, условия и порядок возмещения затрат; {24}',\n",
       " '{24} б) значения результата предоставления поддержки, соответствующие значениям результата федерального  \"Цифровые технологии\" национальной  \"Цифровая экономика Российской Федерации\", указанного в  настоящих Правил; {24}',\n",
       " '{24} в) предельный размер поддержки; {24}',\n",
       " '{24} г) срок предоставления получателем поддержки российского программного обеспечения субъектам малого и среднего предпринимательства по льготной цене; {24}',\n",
       " '{24} д) порядок, формы и сроки представления получателем поддержки отчетных материалов о предоставлении программного обеспечения субъектам малого и среднего предпринимательства по льготной цене и о достижении результатов предоставления поддержки; {24}',\n",
       " '{32} е) согласие получателя поддержки на осуществление Фондом, Министерством цифрового развития, связи и массовых коммуникаций Российской Федерации и органом государственного финансового контроля обязательных проверок соблюдения целей, условий и порядка возмещения затрат; {32}',\n",
       " '{38} ж) обязательство получателя поддержки по возврату Фонду средств, предоставленных на возмещение затрат в объеме, при использовании которого были допущены нарушения условий предоставления поддержки, выявленные по результатам проверок, проведенных Фондом и (или) Министерством цифрового развития, связи и массовых коммуникаций Российской Федерации и (или) органом государственного финансового контроля; {38}',\n",
       " '{24} з) порядок предоставления доступа по использованию субъектами малого и среднего предпринимательства программного обеспечения посредством облачной инфраструктуры получателя поддержки и срок, на который указанный доступ предоставляется; {24}',\n",
       " 'и) {24} порядок предоставления информации о субъектах малого и среднего предпринимательства, которым предоставлено российское программное обеспечения по льготной цене; {24}',\n",
       " 'к) {24} порядок подтверждения информации о количестве лицензий российского программного обеспечения, предоставленных субъектам малого и среднего предпринимательства по льготной цене; {24}',\n",
       " 'л) {24} порядок осуществления контроля за использованием российского программного обеспечения посредством облачной инфраструктуры получателя поддержки субъектами малого и среднего предпринимательства; {24}',\n",
       " 'м) {24} порядок возмещения затрат получателя поддержки по предоставлению субъектам малого и среднего предпринимательства российского программного обеспечения по льготной цене;{24}',\n",
       " 'н) {27} значения результата предоставления поддержки; {27}',\n",
       " 'о) {24} срок возмещения Фондом затрат по предоставлению субъектам малого и среднего предпринимательства российского программного обеспечения по льготной цене получателя поддержки, не превышающий 10 рабочих дней со дня принятия Фондом решения о возмещении затрат по итогам рассмотрения представленных получателем поддержки отчетных материалов; {24}',\n",
       " 'п) {24} иные условия, определяемые Фондом по согласованию с Министерством цифрового развития, связи и массовых коммуникаций Российской Федерации. {24}',\n",
       " '22. {35} Министерство цифрового развития, связи и массовых коммуникаций Российской Федерации по согласованию с Министерством финансов Российской Федерации принимает в соответствии с бюджетным законодательством Российской Федерации решение о возможности осуществления расходов, источником финансового обеспечения которых являются не использованные в отчетном финансовом году остатки субсидии в пределах суммы, необходимой для оплаты денежных обязательств Фонда. {35}',\n",
       " '23. {37} Министерство цифрового развития, связи и массовых коммуникаций Российской Федерации и орган государственного финансового контроля проводят обязательные проверки соблюдения Фондом целей, условий и порядка предоставления субсидии. {37}',\n",
       " '24. {38} В случае установления в ходе проверок, проведенных Министерством цифрового развития, связи и массовых коммуникаций Российской Федерации и (или) органом государственного финансового контроля, факта несоблюдения условий предоставления субсидии, а также недостижения в отчетном периоде значений результата предоставления субсидии и показателей, необходимых для достижения результата предоставления субсидии, соответствующие средства подлежат возврату в федеральный бюджет: {38}',\n",
       " 'а) {38}на основании требования Министерства цифрового развития, связи и массовых коммуникаций Российской Федерации - в течение 30 дней со дня получения указанного требования;{38}',\n",
       " 'б) {38}на основании представления и (или) предписания органа государственного финансового контроля - в сроки, установленные в соответствии с бюджетным законодательством Российской Федерации. {38}',\n",
       " '25. {38}Размер средств, подлежащих возврату в случае недостижения значения результата предоставления субсидии (A), рассчитывается по формуле: {38}',\n",
       " 'где:',\n",
       " '{38}d - достигнутое значение результата предоставления субсидии, указанного в соглашении о предоставлении субсидии; {38}',\n",
       " '{38}D - плановое значение результата предоставления субсидии, указанного в соглашении о предоставлении субсидии; {38}',\n",
       " '{38}V - размер предоставленной субсидии. {38}',\n",
       " '{38}Если показатель d превышает показатель D, для расчета размера средств, подлежащих возврату при недостижении значения показателя, необходимого для достижения результата предоставления субсидии, показатель принимается равным D. {38}',\n",
       " '26. {36}Фонд ежегодно, не позднее 1 апреля года, следующего за отчетным, направляет в Министерство цифрового развития, связи и массовых коммуникаций Российской Федерации доклад о результатах деятельности получателей поддержки с информацией по каждому получателю поддержки. {36}',\n",
       " 'Приложение',\n",
       " 'к Правилам предоставления',\n",
       " 'субсидии из федерального',\n",
       " 'бюджета Российскому фонду',\n",
       " 'развития информационных',\n",
       " 'технологий на возмещение',\n",
       " 'затрат по использованию',\n",
       " 'субъектами малого и среднего',\n",
       " 'предпринимательства российского',\n",
       " 'программного обеспечения',\n",
       " 'ПРАВИЛА',\n",
       " 'ОТБОРА ПРАВООБЛАДАТЕЛЕЙ (УПОЛНОМОЧЕННЫХ ОРГАНИЗАЦИЙ)',\n",
       " '1. Настоящие Правила устанавливают порядок отбора Российским фондом развития информационных технологий (далее - Фонд) правообладателей (уполномоченных организаций) в целях возмещения затрат по использованию субъектами малого и среднего предпринимательства российского программного обеспечения.',\n",
       " '2. В целях проведения отбора правообладателей (уполномоченных организаций) Фонд принимает решение о проведении отбора, утверждает по согласованию с Министерством цифрового развития, связи и массовых коммуникаций Российской Федерации документацию отбора и размещает на своем официальном сайте в информационно-телекоммуникационной сети \"Интернет\" соответствующее объявление.',\n",
       " '3. Отбор проводится в сроки, установленные в объявлении.',\n",
       " '4. Объявление должно содержать следующую информацию:',\n",
       " 'а) положения о соответствии участников отбора (на 1-е число месяца, предшествующего месяцу подачи заявки на участие в отборе) и получателей поддержки (на 1-е число месяца, предшествующего месяцу заключения соглашения с Фондом) следующим требованиям:',\n",
       " 'участник отбора (получатель поддержки) не находится в процессе реорганизации (за исключением реорганизации в форме присоединения к юридическому лицу, являющемуся участником отбора (получателем поддержки), другого юридического лица), ликвидации, в отношении его не введена процедура банкротства, деятельность участника отбора (получателя поддержки) не приостановлена в порядке, предусмотренном законодательством Российской Федерации;',\n",
       " 'участник отбора (получатель поддержки) имеет статус налогового резидента Российской Федерации;',\n",
       " 'участник отбора (получатель поддержки) зарегистрирован на территории Российской Федерации в соответствии с законодательством Российской Федерации;',\n",
       " 'участник отбора (получатель поддержки) не получал в прошлом и не получает средства из федерального бюджета в соответствии с иными нормативными правовыми актами Российской Федерации на цели, предусмотренные  Правил предоставления субсидии из федерального бюджета Российскому фонду развития информационных технологий на возмещение затрат по использованию субъектами малого и среднего предпринимательства российского программного обеспечения, утвержденных постановлением Правительства Российской Федерации от 28 июня 2021 г. N 1031 \"Об утверждении Правил предоставления субсидии из федерального бюджета Российскому фонду развития информационных технологий на возмещение затрат по использованию субъектами малого и среднего предпринимательства российского программного обеспечения\";',\n",
       " 'участник отбора (получатель поддержки) не является иностранным юридическим лицом, а также российским юридическим лицом, в уставном (складочном) капитале которого доля участия иностранных юридических лиц, местом регистрации которых является государство или территория, включенные в утвержденный Министерством финансов Российской Федерации  государств и территорий, предоставляющих льготный налоговый режим налогообложения и (или) не предусматривающих раскрытия и предоставления информации при проведении финансовых операций (офшорные зоны), в совокупности превышает 50 процентов;',\n",
       " 'участник отбора (получатель поддержки) не имеет неисполненной обязанности по уплате налогов, сборов, страховых взносов, пеней, штрафов и процентов, подлежащих уплате в соответствии с законодательством Российской Федерации о налогах и сборах;',\n",
       " 'у участника отбора (получателя поддержки) отсутствует просроченная задолженность по возврату в федеральный бюджет субсидий, бюджетных инвестиций, предоставленных в том числе в соответствии с иными правовыми актами, а также иная просроченная (неурегулированная) задолженность по денежным обязательствам перед Российской Федерацией;',\n",
       " 'в реестре дисквалифицированных лиц отсутствуют сведения о дисквалифицированных руководителе, членах коллегиального исполнительного органа, лице, исполняющем функции единоличного исполнительного органа, или главном бухгалтере (при наличии) участника отбора (получателя поддержки);',\n",
       " 'соответствие иным требованиям, установленным Фондом по согласованию с Министерством цифрового развития, связи и массовых коммуникаций Российской Федерации;',\n",
       " 'б) положения о соответствии российского программного обеспечения требованиям, установленным в  Правил предоставления субсидии из федерального бюджета Российскому фонду развития информационных технологий на возмещение затрат по использованию субъектами малого и среднего предпринимательства российского программного обеспечения, утвержденных постановлением Правительства Российской Федерации от 28 июня 2021 г. N 1031 \"Об утверждении Правил предоставления субсидии из федерального бюджета Российскому фонду развития информационных технологий на возмещение затрат по использованию субъектами малого и среднего предпринимательства российского программного обеспечения\", а также дополнительным требованиям, установленным Фондом по согласованию с Министерством цифрового развития, связи и массовых коммуникаций Российской Федерации;',\n",
       " 'в) требования к форме заявок, подаваемых участниками отбора (получателями поддержки), которые включают в том числе согласие на публикацию (размещение) в информационно-телекоммуникационной сети \"Интернет\" информации об участнике отбора, о подаваемой участником отбора заявке, иной информации об участнике отбора, связанной с соответствующим отбором, а также согласие на обработку персональных данных (для физического лица);',\n",
       " 'г) требования к форме, содержанию и составу документов и информации, подаваемых участниками отбора (получателями поддержки) для участия в отборе, которые включают в себя в том числе:',\n",
       " 'заявку на участие в отборе;',\n",
       " 'документы и информацию, подтверждающие соответствие правообладателя и программного обеспечения положениям документации отбора;',\n",
       " 'согласие на публикацию (размещение) на официальном сайте Фонда в информационно-телекоммуникационной сети \"Интернет\" информации об участнике отбора, о подаваемой участником отбора заявке, иной информации об участнике отбора, связанной с соответствующим отбором;',\n",
       " 'иные документы и информацию, предусмотренные документацией отбора;',\n",
       " 'д) правила подачи и рассмотрения заявок участников отбора, включающие:',\n",
       " 'порядок подачи заявок участниками отбора для участия в отборе;',\n",
       " 'порядок рассмотрения заявок участников отбора на предмет их соответствия установленным в документации отбора требованиям;',\n",
       " 'порядок отклонения заявок участников отбора, а также порядок предоставления участнику отбора информации о причинах отклонения заявки;',\n",
       " 'е) сроки размещения на официальном сайте Фонда в информационно-телекоммуникационной сети \"Интернет\" информации о результатах рассмотрения заявок, включающей следующие сведения:',\n",
       " 'дата, время и место проведения рассмотрения заявок;',\n",
       " 'перечень участников отбора, заявки которых были рассмотрены;',\n",
       " 'перечень участников отбора, заявки которых были отклонены;',\n",
       " 'перечень участников, признанных победителями отбора;',\n",
       " 'ж) основания для отклонения заявки участника отбора, в том числе:',\n",
       " 'несоответствие участника отбора требованиям, установленным в документации отбора;',\n",
       " 'несоответствие программного обеспечения требованиям, установленным к российскому программному обеспечению;',\n",
       " 'несоответствие представленной участником отбора заявки требованиям к заявкам, установленным в документации отбора;',\n",
       " 'недостоверность представленной участником отбора информации, в том числе информации о его месте нахождения и почтовом адресе;',\n",
       " 'подача участником отбора заявки после даты и (или) времени, определенных для подачи заявок;',\n",
       " 'иные основания для отклонения заявки участника отбора (при необходимости);',\n",
       " 'з) порядок предоставления участникам отбора разъяснений по подаче и рассмотрению заявок. Разъяснения по подаче и рассмотрению заявок осуществляются в течение установленного срока подачи заявок участниками отбора;',\n",
       " 'и) порядок и условия внесения изменений в документацию отбора;',\n",
       " 'к) порядок и условия признания отбора состоявшимся, несостоявшимся, приостановки, возобновления и прекращения отбора;',\n",
       " 'л) условия предоставления поддержки, в том числе:',\n",
       " 'порядок определения периода предоставления поддержки одному получателю поддержки;',\n",
       " 'порядок определения размера возмещения затрат, предоставляемого одному получателю поддержки;',\n",
       " 'порядок изменения периода предоставления поддержки, размера поддержки и иных условий поддержки в ходе исполнения соглашения;',\n",
       " 'иные условия поддержки, установленные Министерством цифрового развития, связи и массовых коммуникаций Российской Федерации;',\n",
       " 'м) иная информация и условия отбора Фондом правообладателей в целях возмещения затрат по использованию субъектами малого и среднего предпринимательства российского программного обеспечения, необходимые для проведения такого отбора, согласованные Фондом с Министерством цифрового развития, связи и массовых коммуникаций Российской Федерации.',\n",
       " '5. В целях проведения отбора правообладателей Фонд создает комиссию по проведению отбора (далее - комиссия), утверждает по согласованию с Министерством цифрового развития, связи и массовых коммуникаций Российской Федерации ее положение и состав.',\n",
       " 'В состав комиссии могут быть включены в том числе представители Министерства цифрового развития, связи и массовых коммуникаций Российской Федерации, Министерства экономического развития Российской Федерации и иных федеральных органов исполнительной власти, акционерного общества \"Федеральная корпорация по развитию малого и среднего предпринимательства\", автономной некоммерческой организации \"Цифровая экономика\", автономной некоммерческой организации \"Аналитический центр при Правительстве Российской Федерации\", Общероссийской общественной организации малого и среднего предпринимательства \"ОПОРА РОССИИ\", институтов развития, организаций, осуществляющих экономическую деятельность в отраслях связи, информационных технологий, транспорта, социальной сферы и реального сектора экономики, общероссийских общественных объединений, выражающих интересы субъектов малого и среднего предпринимательства.',\n",
       " '6. Решение о признании участника отбора победителем отбора по результатам проведения отбора принимает комиссия.',\n",
       " '7. Решение комиссии о результатах отбора правообладателей оформляется в форме протокола с указанием участников, прошедших отбор, и публикуется на официальном сайте Фонда в информационно-телекоммуникационной сети \"Интернет\".']"
      ]
     },
     "execution_count": 84,
     "metadata": {},
     "output_type": "execute_result"
    },
    {
     "data": {
      "application/javascript": [
       "\n",
       "            setTimeout(function() {\n",
       "                var nbb_cell_id = 84;\n",
       "                var nbb_unformatted_code = \"target_data\";\n",
       "                var nbb_formatted_code = \"target_data\";\n",
       "                var nbb_cells = Jupyter.notebook.get_cells();\n",
       "                for (var i = 0; i < nbb_cells.length; ++i) {\n",
       "                    if (nbb_cells[i].input_prompt_number == nbb_cell_id) {\n",
       "                        if (nbb_cells[i].get_text() == nbb_unformatted_code) {\n",
       "                             nbb_cells[i].set_text(nbb_formatted_code);\n",
       "                        }\n",
       "                        break;\n",
       "                    }\n",
       "                }\n",
       "            }, 500);\n",
       "            "
      ],
      "text/plain": [
       "<IPython.core.display.Javascript object>"
      ]
     },
     "metadata": {},
     "output_type": "display_data"
    }
   ],
   "source": [
    "target_data"
   ]
  },
  {
   "cell_type": "code",
   "execution_count": 85,
   "metadata": {
    "scrolled": true
   },
   "outputs": [
    {
     "data": {
      "text/plain": [
       "['1. {2} Настоящие Правила устанавливают цели, условия и порядок предоставления субсидии из федерального бюджета Российскому фонду развития информационных технологий на возмещение затрат по использованию субъектами малого и среднего предпринимательства российского программного обеспечения (далее соответственно - Фонд, субсидия). {2}',\n",
       " '{2}Субсидия предоставляется в рамках реализации федерального  \"Цифровые технологии\" национальной  \"Цифровая экономика Российской Федерации\".{2}',\n",
       " '2. {3}Субсидия предоставляется Министерством цифрового развития, связи и массовых коммуникаций Российской Федерации в пределах лимитов бюджетных обязательств, доведенных в установленном порядке до Министерства цифрового развития, связи и массовых коммуникаций Российской Федерации как получателя средств федерального бюджета на цели, указанные в  настоящих Правил. {3}',\n",
       " '{7}Сведения о субсидии размещаются на едином портале бюджетной системы Российской Федерации в информационно-телекоммуникационной сети \"Интернет\" при формировании проекта федерального закона о федеральном бюджете (проекта федерального закона о внесении изменений в федеральный закон о федеральном бюджете). {7}',\n",
       " '3. {1}Понятия, используемые в настоящих Правилах, означают следующее: {1}',\n",
       " '{1}\"возмещение затрат\" - возмещение недополученных доходов правообладателя (уполномоченной организации) от предоставления российского программного обеспечения субъектам малого и среднего предпринимательства по льготной цене; {1}',\n",
       " '{1}\"использование программного обеспечения посредством облачной инфраструктуры\" - использование программного обеспечения посредством каналов связи и внешней информационно-технологической и программно-аппаратной инфраструктуры, обеспечивающей сбор, обработку и хранение данных; {1}',\n",
       " '{1}\"льготная цена\" - стоимость программного обеспечения, определяемая в соответствии с  настоящих Правил, по которой правообладатель (уполномоченная организация) обязуется предоставлять субъектам малого и среднего предпринимательства право использования российского программного обеспечения; {1}',\n",
       " '{1}\"получатель поддержки\" - правообладатель (уполномоченная организация), заключивший соглашение с Фондом о возмещении недополученных им доходов от предоставления российского программного обеспечения субъектам малого и среднего предпринимательства по льготной цене по результатам проведенного Фондом отбора; {1}',\n",
       " '{1}\"правообладатель\" - российская организация, за исключением государственного (муниципального) учреждения, обладающая исключительными правами на российское программное обеспечение и соответствующая критериям, указанным в  настоящих Правил, а также требованиям, указанным в  приложения к настоящим Правилам; {1}',\n",
       " '{1}\"российское программное обеспечение\" - программное обеспечение для электронных вычислительных машин и баз данных или совокупность программного обеспечения, объединенного в пакетное предложение, направленное на автоматизацию деятельности, повышение эффективности работы и оптимизацию бизнес-процессов субъектов малого и среднего предпринимательства, соответствующее требованиям, предусмотренным  настоящих Правил; {1}',\n",
       " '{1}\"субъекты малого и среднего предпринимательства\" - хозяйствующие субъекты (юридические лица и индивидуальные предприниматели), отнесенные в соответствии с условиями, установленными Федеральным  \"О развитии малого и среднего предпринимательства в Российской Федерации\", к малым предприятиям, в том числе к микропредприятиям, и средним предприятиям, сведения о которых внесены в единый реестр субъектов малого и среднего предпринимательства и соответствующие критериям, указанным в  настоящих Правил; {1}',\n",
       " '{1}\"уполномоченная организация\" - российская организация, за исключением государственного (муниципального) учреждения, уполномоченная правообладателем на распоряжение российским программным обеспечением и соответствующая требованиям, указанным в  приложения к настоящим Правилам. {1}',\n",
       " '4. {30}Субсидия является источником финансового обеспечения расходов Фонда: {30}',\n",
       " '{30} на возмещение затрат правообладателей (уполномоченных организаций); {30}',\n",
       " '{30}на обеспечение деятельности Фонда по проведению отбора правообладателей (уполномоченных организаций), а также организационно-методологическому и информационно-технологическому сопровождению возмещения затрат правообладателей (уполномоченных организаций) (далее - обеспечение деятельности Фонда). {30}',\n",
       " '{30}Расходы на обеспечение деятельности Фонда, непосредственно связанные с достижением результата предоставления субсидии, указанного в  настоящих Правил, составляют не более 3,5 процента общего размера субсидии, предусмотренной на соответствующий финансовый год. {30}',\n",
       " '{30}Указанные расходы включают в себя: {30}',\n",
       " '{30}расходы на оплату труда работников, а также расходы на уплату страховых взносов на обязательное пенсионное страхование, обязательное социальное страхование на случай временной нетрудоспособности и в связи с материнством, обязательное медицинское страхование и обязательное социальное страхование от несчастных случаев на производстве и профессиональных заболеваний, начисленных на суммы расходов на оплату труда, но не более 80 процентов размера расходов на обеспечение деятельности Фонда; {30}',\n",
       " '{30}накладные расходы, но не более 20 процентов размера расходов на обеспечение деятельности Фонда, в том числе: {30}',\n",
       " '{30}командировочные расходы; {30}',\n",
       " '{30}расходы по договорам гражданско-правового характера и страховые взносы во внебюджетные фонды; {30}',\n",
       " '{30}расходы на банковское обслуживание;{30}',\n",
       " '{30}расходы на канцелярские товары; {30}',\n",
       " '{30}расходы на расходные материалы; {30}',\n",
       " '{30}расходы на информационно-коммуникационные услуги; {30}',\n",
       " '{30}прочие общехозяйственные расходы; {30}',\n",
       " '{30}иные расходы, но не более 30 процентов размера расходов на обеспечение деятельности Фонда, в том числе: {30}',\n",
       " '{30}расходы на создание и обслуживание рабочих мест работников; {30}',\n",
       " '{30}расходы на разработку, доработку, а также на приобретение прикладного программного обеспечения (лицензии); {30}',\n",
       " '{30}расходы на оплату работ (услуг) независимых экспертов и (или) сторонних организаций;{30}',\n",
       " '{30}расходы на популяризацию приобретения субъектами малого и среднего предпринимательства российского программного обеспечения по льготной цене. {30}',\n",
       " '{30}Расходы, указанные в ,  и  настоящего пункта, не могут превышать в совокупности 100 процентов расходов на обеспечение деятельности Фонда, непосредственно связанных с достижением результата предоставления субсидии. {30}',\n",
       " '{35}Расходы на оплату труда работников Фонда, непосредственно связанных с достижением результата, указанного в  настоящих Правил, за счет средств субсидии не могут превышать размер среднемесячной начисленной заработной платы по виду экономической деятельности \"Предоставление прочих финансовых услуг,{35}{35} кроме услуг по страхованию и пенсионному обеспечению, не включенных в другие группировки\" по субъекту Российской Федерации г. Москве, исчисляемой по данным Федеральной службы государственной статистики за предыдущий финансовый год, на одного работника. {35}',\n",
       " '{35}Затраты, предусмотренные  и  настоящего пункта, определяются исходя из стоимости доступных на рынке аналогов {35}.',\n",
       " '5. {35}Российское программное обеспечение должно удовлетворять следующим требованиям:{35}',\n",
       " '{35}программное обеспечение включено в единый реестр российских программ для электронных вычислительных машин и баз данных {35}',\n",
       " '{35}использование программного обеспечения осуществляется посредством облачной инфраструктуры; {35}',\n",
       " '{35}программное обеспечение направлено на достижение одной или нескольких следующих целей использования: {35}',\n",
       " '{35}повышение производительности, точности или иных существенных характеристик технологического процесса и (или) бизнес-процесса; {35}',\n",
       " '{35}повышение качественных или иных существенных характеристик производимых (поставляемых) товаров, оказываемых услуг и выполняемых работ; {35}',\n",
       " '{35}повышение производительности труда; {35}',\n",
       " '{35}снижение издержек (в том числе за счет сокращения брака) при производстве (поставке) товаров, оказании услуг и выполнении работ. {35}',\n",
       " '{35}Дополнительные требования к российскому программному обеспечению могут быть установлены Фондом по согласованию с Министерством цифрового развития, связи и массовых коммуникаций Российской Федерации. {35}',\n",
       " '6. {12} Отбор правообладателей проводится по следующим критериям: {12}',\n",
       " 'а) {12}  среднесписочная численность работников правообладателя за предшествующий календарный год составляет не менее 15 человек; {12}',\n",
       " 'б) {12} значение выручки правообладателя от реализации товаров (работ, услуг) за предшествующий календарный год без учета налога на добавленную стоимость составляет не менее 10 млн. рублей. {12}',\n",
       " '7. {12} Отбор субъектов малого и среднего предпринимательства проводится по следующим критериям: {12}',\n",
       " 'а) {12} среднесписочная численность работников субъекта малого и среднего предпринимательства за предшествующий календарный год составляет не более 250 человек; {12}',\n",
       " 'б) {12} предельное значение дохода, полученного от осуществления предпринимательской деятельности субъектом малого и среднего предпринимательства за предшествующий календарный год, определяемого в порядке, установленном законодательством Российской Федерации о налогах и сборах, суммируемого по всем осуществляемым видам деятельности и применяемого по всем налоговым режимам, составляет не более 2 млрд. рублей. {12}',\n",
       " '8. {24} Субсидия предоставляется Фонду на основании соглашения о предоставлении субсидии, заключенного Министерством цифрового развития, связи и массовых коммуникаций Российской Федерации и Фондом в соответствии с , установленной Министерством финансов Российской Федерации, посредством государственной интегрированной информационной системы управления общественными финансами \"Электронный бюджет\" (далее - соглашение о предоставлении субсидии), содержащего в том числе: {24}',\n",
       " '{24}цели, условия и порядок предоставления субсидии; {24}',\n",
       " '{27}значения результата предоставления субсидии, соответствующие значениям результата федерального  \"Цифровые технологии\" национальной  \"Цифровая экономика Российской Федерации\", указанного в  настоящих Правил; {27}',\n",
       " '{36}формы и сроки представления отчета о расходах, отчета о достижении значений результата предоставления субсидии и указанных в  настоящих Правил показателей, необходимых для достижения результата предоставления субсидии; {36}',\n",
       " '{32}согласие Фонда на осуществление Министерством цифрового развития, связи и массовых коммуникаций Российской Федерации и органом государственного финансового контроля проверок соблюдения целей, условий и порядка предоставления субсидии, предусмотренных настоящими Правилами и соглашением о предоставлении субсидии,{32}{32} а также обязательство Фонда по включению в договоры (соглашения), заключенные в целях исполнения обязательств по соглашению о предоставлении субсидии, положений о согласии лиц, являющихся поставщиками (подрядчиками, исполнителями), на проведение указанных проверок; {32}',\n",
       " '{37}обязательство Министерства цифрового развития, связи и массовых коммуникаций Российской Федерации по осуществлению контроля за соблюдением целей, условий и порядка предоставления субсидии; {37}',\n",
       " '{24}обязательство Фонда по возврату в доход федерального бюджета средств субсидии в объеме, при использовании которого были допущены нарушения целей, условий и порядка предоставления субсидии, выявленные по результатам проверок, проведенных Министерством цифрового развития, связи и массовых коммуникаций Российской Федерации и (или) органом государственного финансового контроля; {24}',\n",
       " '{24}запрет на размещение Фондом средств субсидии на депозитах и посредством иных финансовых инструментов; {24}',\n",
       " '{24}обязательство Фонда по ведению раздельного учета затрат на реализацию каждого соглашения о предоставлении субсидии; {24}',\n",
       " '{24}условия, предусмотренные нормативными правовыми актами Правительства Российской Федерации, регулирующими вопросы казначейского сопровождения, осуществляемого в соответствии с бюджетным законодательством Российской Федерации; {24}',\n",
       " '{25}условия о согласовании новых условий соглашения о предоставлении субсидии или расторжении соглашения о предоставлении субсидии при недостижении согласия по новым условиям в случае уменьшения главному распорядителю как получателю бюджетных средств ранее доведенных лимитов бюджетных обязательств, приводящего к невозможности предоставления субсидии в размере, определенном в соглашении о предоставлении субсидии; {25}',\n",
       " '{8}условия о проведении путем запроса предложений отбора правообладателей (уполномоченных организаций) на основании заявок, направленных участниками отбора для участия в отборе, исходя из соответствия участника отбора критериям отбора и очередности поступления заявок на участие в отборе; {8}',\n",
       " '{24}возможность осуществления расходов, источником финансового обеспечения которых являются не использованные в отчетном финансовом году остатки субсидии, при принятии Министерством цифрового развития, связи и массовых коммуникаций Российской Федерации по согласованию с Министерством финансов Российской Федерации решения о наличии потребности в указанных средствах; {24}',\n",
       " '{9}сроки размещения на официальном сайте Фонда в информационно-телекоммуникационной сети \"Интернет\" объявления о проведении отбора с указанием следующих сведений: {9}',\n",
       " '{10}сроки проведения отбора (дата и время начала (окончания) подачи заявок участников отбора), которые не могут быть меньше 30 календарных дней, следующих за днем размещения объявления о проведении отбора; {10}',\n",
       " '{10}результат предоставления субсидии; {10}',\n",
       " '{10}доменное имя, и (или) сетевой адрес, и (или) указатели страниц сайта в информационно-телекоммуникационной сети \"Интернет\", на котором обеспечивается проведение отбора; {24}',\n",
       " '{11}требования к участникам отбора в соответствии с настоящими Правилами и перечень документов, представляемых участниками отбора для подтверждения их соответствия указанным требованиям; {11}',\n",
       " '{10}порядок подачи заявок участниками отбора и требования, предъявляемые к форме и содержанию заявок, подаваемых участниками отбора; {10}',\n",
       " '{10}порядок отзыва заявок участников отбора, порядок возврата заявок участников отбора, определяющий в том числе основания для возврата заявок участников отбора, порядок внесения изменений в заявки участников отбора; {10}',\n",
       " '{10}правила рассмотрения заявок участников отбора; {10}',\n",
       " '{10}порядок предоставления участникам отбора разъяснений положений объявления о проведении отбора, даты начала и окончания срока предоставления таких разъяснений; {10}',\n",
       " '{10}срок, в течение которого правообладатель (уполномоченная организация) должен подписать соглашение (договор) о предоставлении поддержки (далее - соглашение); {10}',\n",
       " '{10}условия признания правообладателя (уполномоченной организации) уклонившимся (уклонившейся) от заключения соглашения; {10}',\n",
       " '{10}дата размещения результатов отбора на официальном сайте Фонда в информационно-телекоммуникационной сети \"Интернет\", которая не может быть позднее 14-го календарного дня, следующего за днем определения участников, прошедших отбор; {10}',\n",
       " '{15} обязательство Фонда о проведении отбора в соответствии с порядком, установленным  настоящих Правил; {24}',\n",
       " '{31}запрет приобретения Фондом, а также иными юридическими лицами, получающими средства на основании договоров, заключенных с Фондом, за счет полученных средств субсидии иностранной валюты, за исключением операций, осуществляемых в соответствии с валютным законодательством Российской Федерации при закупке (поставке) высокотехнологичного импортного оборудования, сырья и комплектующих изделий; {31}',\n",
       " '{27}значения показателей, необходимых для достижения результата предоставления субсидии, указанные в  настоящих Правил; {24}',\n",
       " '{24}обязательство Фонда о включении в соглашения о возмещении затрат правообладателей (уполномоченных организаций) с прошедшими отбор участниками значений показателей, необходимых для достижения результата предоставления субсидии, по итогам результатов отбора с учетом соответствующих значений результата федерального  \"Цифровые технологии\" национальной  \"Цифровая экономика Российской Федерации\", указанного в  настоящих Правил; {24}',\n",
       " '{24}иные условия, определяемые Министерством цифрового развития, связи и массовых коммуникаций Российской Федерации. {24}',\n",
       " '{26}Дополнительные соглашения к соглашению, предусматривающие внесение в него изменений и (или) его расторжение (при необходимости), заключаются в соответствии с типовой формой, установленной Министерством финансов Российской Федерации, посредством государственной интегрированной информационной системы управления общественными финансами \"Электронный бюджет\".{26}',\n",
       " '9. {22}Льготная цена программного обеспечения составляет 50 процентов средней рыночной цены. {22}',\n",
       " '10. {33}Размер возмещения затрат получателя поддержки по i-му виду лицензий (Зi) определяется по формуле: {33}',\n",
       " 'где:',\n",
       " '{33}Qi - количество i-го вида лицензий, предоставленных правообладателем (уполномоченной организацией) субъектам малого и среднего предпринимательства по льготной цене; {33}',\n",
       " '{33}H - средняя рыночная цена i-го вида лицензий. {33}',\n",
       " '{22}11. Размер субсидии, предоставляемой Фонду в соответствующем финансовом году (С), определяется по формуле: {22}',\n",
       " '{22}где Oi - размер расходов на обеспечение деятельности Фонда, непосредственно связанных с достижением указанного в  настоящих Правил результата предоставления субсидии, определяемый в соответствии с  настоящих Правил. {22}',\n",
       " '12. {19}Для заключения соглашения о предоставлении субсидии Фонд представляет в Министерство цифрового развития, связи и массовых коммуникаций Российской Федерации с сопроводительным письмом, подписанным лицом, имеющим право действовать от имени Фонда, следующие прошнурованные и пронумерованные на 1-е число месяца, предшествующего месяцу, в котором планируется заключение соглашения о предоставлении субсидии, документы: {19}',\n",
       " '{19}а) справка, подписанная руководителем и главным бухгалтером (при наличии) Фонда и скрепленная печатью, подтверждающая отсутствие у Фонда просроченной задолженности по возврату в федеральный бюджет субсидий, бюджетных инвестиций, предоставленных в том числе в соответствии с иными правовыми актами, а также иной просроченной (неурегулированной) задолженности по денежным обязательствам перед Российской Федерацией; {19}',\n",
       " '{19}б) справка, подписанная руководителем Фонда, подтверждающая, что Фонд не находится в процессе ликвидации, в отношении Фонда не введена процедура банкротства, деятельность Фонда не приостановлена в порядке, предусмотренном законодательством Российской Федерации; {19}',\n",
       " '{19}в) помесячный прогноз кассовых выплат осуществления Фондом расходов, на финансовое обеспечение которых предоставляется субсидия (в произвольной форме), подписанный руководителем и главным бухгалтером (при наличии) Фонда; {19}',\n",
       " '{19}г) смета расходов на обеспечение деятельности Фонда, подписанная руководителем и главным бухгалтером (при наличии) Фонда; {19}',\n",
       " '{19}д) справка, подписанная руководителем и главным бухгалтером (при наличии) Фонда, подтверждающая отсутствие у Фонда неисполненной обязанности по уплате налогов, сборов, страховых взносов, пеней, штрафов, процентов, подлежащих уплате в соответствии с законодательством Российской Федерации о налогах и сборах; {19}',\n",
       " '{19}е) справка, подписанная руководителем и главным бухгалтером (при наличии) Фонда и скрепленная печатью, подтверждающая на 1-е число месяца, предшествующего месяцу, в котором планируется заключение соглашения о предоставлении субсидии, отсутствие в реестре дисквалифицированных лиц сведений о дисквалифицированных руководителях, членах коллегиальных исполнительных органов, лицах, исполняющих функции единоличного исполнительного органа, или главном бухгалтере (при наличии) Фонда; {19}',\n",
       " '{19}ж) справка, подписанная руководителем и главным бухгалтером (при наличии) Фонда и скрепленная печатью, подтверждающая, что Фонд не получает средства из федерального бюджета на основании иных нормативных правовых актов Российской Федерации на цели, установленные настоящими Правилами. {19}',\n",
       " '13. {35}Фонд на 1-е число месяца, предшествующего месяцу, в котором планируется заключение соглашения о предоставлении субсидии, должен соответствовать следующим требованиям: {35}',\n",
       " 'а) {35} у Фонда отсутствует неисполненная обязанность по уплате налогов, сборов, страховых взносов, пеней, штрафов и процентов, подлежащих уплате в соответствии с законодательством Российской Федерации о налогах и сборах; {35}',\n",
       " 'б) {35}у Фонда отсутствует просроченная задолженность по возврату в федеральный бюджет субсидий, бюджетных инвестиций, предоставленных в том числе в соответствии с иными правовыми актами, а также иная просроченная (неурегулированная) задолженность по денежным обязательствам перед Российской Федерацией; {35}',\n",
       " 'в) {35}Фонд не находится в процессе ликвидации, в отношении Фонда не введена процедура банкротства, деятельность Фонда не приостановлена в порядке, предусмотренном законодательством Российской Федерации; {35}',\n",
       " 'г) {35}Фонд не получает средства из федерального бюджета в соответствии с иными нормативными правовыми актами на цели, предусмотренные  настоящих Правил; {35}',\n",
       " 'д) {35}в реестре дисквалифицированных лиц отсутствуют сведения о дисквалифицированных руководителе, членах коллегиального исполнительного органа, лице, исполняющем функции единоличного исполнительного органа, или главном бухгалтере (при наличии) Фонда. {35}',\n",
       " '14. {35}Датой представления Фондом документов, указанных в  настоящих Правил, считается день их регистрации в Министерстве цифрового развития, связи и массовых коммуникаций Российской Федерации. {35}',\n",
       " '15. {20}Министерство цифрового развития, связи и массовых коммуникаций Российской Федерации в течение 10 рабочих дней со дня регистрации документов, представленных в соответствии с  настоящих Правил, рассматривает их и проверяет соответствие Фонда требованиям, предусмотренным  настоящих Правил. {20}{24} По результатам проверки представленных Фондом документов Министерство цифрового развития, связи и массовых коммуникаций Российской Федерации принимает решение о заключении соглашения о предоставлении субсидии либо об отказе в заключении соглашения о предоставлении субсидии, о чем уведомляет Фонд в течение 10 рабочих дней. {24}',\n",
       " '{21}Основаниями для отказа в заключении соглашения о предоставлении субсидии являются:{21}',\n",
       " '{21}непредставление Фондом (представление в неполном объеме) документов, указанных в  настоящих Правил; {21}',\n",
       " '{21}установление факта недостоверности представленных Фондом документов; {21}',\n",
       " '{21}несоответствие Фонда требованиям, предусмотренным  настоящих Правил.{21}',\n",
       " '{14}Фонд имеет право повторно представить документы после устранения замечаний Министерства цифрового развития, связи и массовых коммуникаций Российской Федерации. {14}',\n",
       " '16. {27}Результатом предоставления субсидии является количество лицензий российского программного обеспечения, предоставленных субъектам малого и среднего предпринимательства по льготной цене. {27}',\n",
       " '{35}Точные даты завершения и конечные значения результата по годам (конкретная количественная характеристика итогов) установлены в паспорте федерального  \"Цифровые технологии\" национальной  \"Цифровая экономика Российской Федерации\".{35}',\n",
       " '{27}Степень достижения значения результата предоставления субсидии ежегодно оценивается Министерством цифрового развития, связи и массовых коммуникаций Российской Федерации путем сопоставления фактического значения результата предоставления субсидии и его планового значения. {27}',\n",
       " '{27}Показателями, необходимыми для достижения результата предоставления субсидии, являются следующие показатели: {27}',\n",
       " '{27}обеспечено функционирование специализированного информационного ресурса; {27}',\n",
       " '{27}количество мероприятий по популяризации приобретения субъектами малого и среднего предпринимательства российского программного обеспечения по льготной цене. {27}',\n",
       " '17. {29}Перечисление субсидии Фонду осуществляется на казначейский счет для осуществления и отражения операций с денежными средствами юридических лиц, не являющихся участниками бюджетного процесса, бюджетными и автономными учреждениями, открытый в территориальном органе Федерального казначейства, {29}{28}не позднее 2-го рабочего дня после представления в территориальный орган Федерального казначейства Фондом распоряжений о совершении казначейских платежей для оплаты денежного обязательства Фонда. {28}',\n",
       " '18. {38}Ответственность за недостоверность представленных в Министерство цифрового развития, связи и массовых коммуникаций Российской Федерации сведений, документов и несоблюдение Фондом целей, условий и порядка предоставления субсидии несет Фонд. {38}',\n",
       " '19. {36} Отчет о расходах, источником финансового обеспечения которых является субсидия, и отчет о достижении результата предоставления субсидии и указанных в  настоящих Правил показателей, необходимых для достижения результата предоставления субсидии, формируются Фондом ежеквартально нарастающим итогом в срок не более первых 8 рабочих дней месяца, следующего за отчетным периодом. {36}',\n",
       " '{36} Отчеты формируются по формам, определенным типовыми формами соглашений, установленными Министерством финансов Российской Федерации, и представляются посредством государственной интегрированной информационной системы управления общественными финансами \"Электронный бюджет\" в Министерство цифрового развития, связи и массовых коммуникаций Российской Федерации. {36}',\n",
       " '{36} Министерство цифрового развития, связи и массовых коммуникаций Российской Федерации вправе устанавливать в соглашении о предоставлении субсидии сроки и формы представления Фондом дополнительной отчетности. {36}',\n",
       " '20. {35} Фонд осуществляет отбор правообладателей (уполномоченных организаций) в порядке, установленном  к настоящим Правилам. {35}',\n",
       " '21. {24} Фонд заключает соглашения с победителями отбора по форме, разработанной Фондом на основе , установленной Министерством финансов Российской Федерации. {24}',\n",
       " '{24} В соглашение между Фондом и получателем поддержки включаются следующие положения: {24}',\n",
       " '{24} а) цели, условия и порядок возмещения затрат; {24}',\n",
       " '{24} б) значения результата предоставления поддержки, соответствующие значениям результата федерального  \"Цифровые технологии\" национальной  \"Цифровая экономика Российской Федерации\", указанного в  настоящих Правил; {24}',\n",
       " '{24} в) предельный размер поддержки; {24}',\n",
       " '{24} г) срок предоставления получателем поддержки российского программного обеспечения субъектам малого и среднего предпринимательства по льготной цене; {24}',\n",
       " '{24} д) порядок, формы и сроки представления получателем поддержки отчетных материалов о предоставлении программного обеспечения субъектам малого и среднего предпринимательства по льготной цене и о достижении результатов предоставления поддержки; {24}',\n",
       " '{32} е) согласие получателя поддержки на осуществление Фондом, Министерством цифрового развития, связи и массовых коммуникаций Российской Федерации и органом государственного финансового контроля обязательных проверок соблюдения целей, условий и порядка возмещения затрат; {32}',\n",
       " '{38} ж) обязательство получателя поддержки по возврату Фонду средств, предоставленных на возмещение затрат в объеме, при использовании которого были допущены нарушения условий предоставления поддержки, выявленные по результатам проверок, проведенных Фондом и (или) Министерством цифрового развития, связи и массовых коммуникаций Российской Федерации и (или) органом государственного финансового контроля; {38}',\n",
       " '{24} з) порядок предоставления доступа по использованию субъектами малого и среднего предпринимательства программного обеспечения посредством облачной инфраструктуры получателя поддержки и срок, на который указанный доступ предоставляется; {24}',\n",
       " 'и) {24} порядок предоставления информации о субъектах малого и среднего предпринимательства, которым предоставлено российское программное обеспечения по льготной цене; {24}',\n",
       " 'к) {24} порядок подтверждения информации о количестве лицензий российского программного обеспечения, предоставленных субъектам малого и среднего предпринимательства по льготной цене; {24}',\n",
       " 'л) {24} порядок осуществления контроля за использованием российского программного обеспечения посредством облачной инфраструктуры получателя поддержки субъектами малого и среднего предпринимательства; {24}',\n",
       " 'м) {24} порядок возмещения затрат получателя поддержки по предоставлению субъектам малого и среднего предпринимательства российского программного обеспечения по льготной цене;{24}',\n",
       " 'н) {27} значения результата предоставления поддержки; {27}',\n",
       " 'о) {24} срок возмещения Фондом затрат по предоставлению субъектам малого и среднего предпринимательства российского программного обеспечения по льготной цене получателя поддержки, не превышающий 10 рабочих дней со дня принятия Фондом решения о возмещении затрат по итогам рассмотрения представленных получателем поддержки отчетных материалов; {24}',\n",
       " 'п) {24} иные условия, определяемые Фондом по согласованию с Министерством цифрового развития, связи и массовых коммуникаций Российской Федерации. {24}',\n",
       " '22. {35} Министерство цифрового развития, связи и массовых коммуникаций Российской Федерации по согласованию с Министерством финансов Российской Федерации принимает в соответствии с бюджетным законодательством Российской Федерации решение о возможности осуществления расходов, источником финансового обеспечения которых являются не использованные в отчетном финансовом году остатки субсидии в пределах суммы, необходимой для оплаты денежных обязательств Фонда. {35}',\n",
       " '23. {37} Министерство цифрового развития, связи и массовых коммуникаций Российской Федерации и орган государственного финансового контроля проводят обязательные проверки соблюдения Фондом целей, условий и порядка предоставления субсидии. {37}',\n",
       " '24. {38} В случае установления в ходе проверок, проведенных Министерством цифрового развития, связи и массовых коммуникаций Российской Федерации и (или) органом государственного финансового контроля, факта несоблюдения условий предоставления субсидии, а также недостижения в отчетном периоде значений результата предоставления субсидии и показателей, необходимых для достижения результата предоставления субсидии, соответствующие средства подлежат возврату в федеральный бюджет: {38}',\n",
       " 'а) {38}на основании требования Министерства цифрового развития, связи и массовых коммуникаций Российской Федерации - в течение 30 дней со дня получения указанного требования;{38}',\n",
       " 'б) {38}на основании представления и (или) предписания органа государственного финансового контроля - в сроки, установленные в соответствии с бюджетным законодательством Российской Федерации. {38}',\n",
       " '25. {38}Размер средств, подлежащих возврату в случае недостижения значения результата предоставления субсидии (A), рассчитывается по формуле: {38}',\n",
       " 'где:',\n",
       " '{38}d - достигнутое значение результата предоставления субсидии, указанного в соглашении о предоставлении субсидии; {38}',\n",
       " '{38}D - плановое значение результата предоставления субсидии, указанного в соглашении о предоставлении субсидии; {38}',\n",
       " '{38}V - размер предоставленной субсидии. {38}',\n",
       " '{38}Если показатель d превышает показатель D, для расчета размера средств, подлежащих возврату при недостижении значения показателя, необходимого для достижения результата предоставления субсидии, показатель принимается равным D. {38}',\n",
       " '26. {36}Фонд ежегодно, не позднее 1 апреля года, следующего за отчетным, направляет в Министерство цифрового развития, связи и массовых коммуникаций Российской Федерации доклад о результатах деятельности получателей поддержки с информацией по каждому получателю поддержки. {36}',\n",
       " 'Приложение',\n",
       " 'к Правилам предоставления',\n",
       " 'субсидии из федерального',\n",
       " 'бюджета Российскому фонду',\n",
       " 'развития информационных',\n",
       " 'технологий на возмещение',\n",
       " 'затрат по использованию',\n",
       " 'субъектами малого и среднего',\n",
       " 'предпринимательства российского',\n",
       " 'программного обеспечения',\n",
       " 'ПРАВИЛА',\n",
       " 'ОТБОРА ПРАВООБЛАДАТЕЛЕЙ (УПОЛНОМОЧЕННЫХ ОРГАНИЗАЦИЙ)',\n",
       " '1. Настоящие Правила устанавливают порядок отбора Российским фондом развития информационных технологий (далее - Фонд) правообладателей (уполномоченных организаций) в целях возмещения затрат по использованию субъектами малого и среднего предпринимательства российского программного обеспечения.',\n",
       " '2. В целях проведения отбора правообладателей (уполномоченных организаций) Фонд принимает решение о проведении отбора, утверждает по согласованию с Министерством цифрового развития, связи и массовых коммуникаций Российской Федерации документацию отбора и размещает на своем официальном сайте в информационно-телекоммуникационной сети \"Интернет\" соответствующее объявление.',\n",
       " '3. Отбор проводится в сроки, установленные в объявлении.',\n",
       " '4. Объявление должно содержать следующую информацию:',\n",
       " 'а) положения о соответствии участников отбора (на 1-е число месяца, предшествующего месяцу подачи заявки на участие в отборе) и получателей поддержки (на 1-е число месяца, предшествующего месяцу заключения соглашения с Фондом) следующим требованиям:',\n",
       " 'участник отбора (получатель поддержки) не находится в процессе реорганизации (за исключением реорганизации в форме присоединения к юридическому лицу, являющемуся участником отбора (получателем поддержки), другого юридического лица), ликвидации, в отношении его не введена процедура банкротства, деятельность участника отбора (получателя поддержки) не приостановлена в порядке, предусмотренном законодательством Российской Федерации;',\n",
       " 'участник отбора (получатель поддержки) имеет статус налогового резидента Российской Федерации;',\n",
       " 'участник отбора (получатель поддержки) зарегистрирован на территории Российской Федерации в соответствии с законодательством Российской Федерации;',\n",
       " 'участник отбора (получатель поддержки) не получал в прошлом и не получает средства из федерального бюджета в соответствии с иными нормативными правовыми актами Российской Федерации на цели, предусмотренные  Правил предоставления субсидии из федерального бюджета Российскому фонду развития информационных технологий на возмещение затрат по использованию субъектами малого и среднего предпринимательства российского программного обеспечения, утвержденных постановлением Правительства Российской Федерации от 28 июня 2021 г. N 1031 \"Об утверждении Правил предоставления субсидии из федерального бюджета Российскому фонду развития информационных технологий на возмещение затрат по использованию субъектами малого и среднего предпринимательства российского программного обеспечения\";',\n",
       " 'участник отбора (получатель поддержки) не является иностранным юридическим лицом, а также российским юридическим лицом, в уставном (складочном) капитале которого доля участия иностранных юридических лиц, местом регистрации которых является государство или территория, включенные в утвержденный Министерством финансов Российской Федерации  государств и территорий, предоставляющих льготный налоговый режим налогообложения и (или) не предусматривающих раскрытия и предоставления информации при проведении финансовых операций (офшорные зоны), в совокупности превышает 50 процентов;',\n",
       " 'участник отбора (получатель поддержки) не имеет неисполненной обязанности по уплате налогов, сборов, страховых взносов, пеней, штрафов и процентов, подлежащих уплате в соответствии с законодательством Российской Федерации о налогах и сборах;',\n",
       " 'у участника отбора (получателя поддержки) отсутствует просроченная задолженность по возврату в федеральный бюджет субсидий, бюджетных инвестиций, предоставленных в том числе в соответствии с иными правовыми актами, а также иная просроченная (неурегулированная) задолженность по денежным обязательствам перед Российской Федерацией;',\n",
       " 'в реестре дисквалифицированных лиц отсутствуют сведения о дисквалифицированных руководителе, членах коллегиального исполнительного органа, лице, исполняющем функции единоличного исполнительного органа, или главном бухгалтере (при наличии) участника отбора (получателя поддержки);',\n",
       " 'соответствие иным требованиям, установленным Фондом по согласованию с Министерством цифрового развития, связи и массовых коммуникаций Российской Федерации;',\n",
       " 'б) положения о соответствии российского программного обеспечения требованиям, установленным в  Правил предоставления субсидии из федерального бюджета Российскому фонду развития информационных технологий на возмещение затрат по использованию субъектами малого и среднего предпринимательства российского программного обеспечения, утвержденных постановлением Правительства Российской Федерации от 28 июня 2021 г. N 1031 \"Об утверждении Правил предоставления субсидии из федерального бюджета Российскому фонду развития информационных технологий на возмещение затрат по использованию субъектами малого и среднего предпринимательства российского программного обеспечения\", а также дополнительным требованиям, установленным Фондом по согласованию с Министерством цифрового развития, связи и массовых коммуникаций Российской Федерации;',\n",
       " 'в) требования к форме заявок, подаваемых участниками отбора (получателями поддержки), которые включают в том числе согласие на публикацию (размещение) в информационно-телекоммуникационной сети \"Интернет\" информации об участнике отбора, о подаваемой участником отбора заявке, иной информации об участнике отбора, связанной с соответствующим отбором, а также согласие на обработку персональных данных (для физического лица);',\n",
       " 'г) требования к форме, содержанию и составу документов и информации, подаваемых участниками отбора (получателями поддержки) для участия в отборе, которые включают в себя в том числе:',\n",
       " 'заявку на участие в отборе;',\n",
       " 'документы и информацию, подтверждающие соответствие правообладателя и программного обеспечения положениям документации отбора;',\n",
       " 'согласие на публикацию (размещение) на официальном сайте Фонда в информационно-телекоммуникационной сети \"Интернет\" информации об участнике отбора, о подаваемой участником отбора заявке, иной информации об участнике отбора, связанной с соответствующим отбором;',\n",
       " 'иные документы и информацию, предусмотренные документацией отбора;',\n",
       " 'д) правила подачи и рассмотрения заявок участников отбора, включающие:',\n",
       " 'порядок подачи заявок участниками отбора для участия в отборе;',\n",
       " 'порядок рассмотрения заявок участников отбора на предмет их соответствия установленным в документации отбора требованиям;',\n",
       " 'порядок отклонения заявок участников отбора, а также порядок предоставления участнику отбора информации о причинах отклонения заявки;',\n",
       " 'е) сроки размещения на официальном сайте Фонда в информационно-телекоммуникационной сети \"Интернет\" информации о результатах рассмотрения заявок, включающей следующие сведения:',\n",
       " 'дата, время и место проведения рассмотрения заявок;',\n",
       " 'перечень участников отбора, заявки которых были рассмотрены;',\n",
       " 'перечень участников отбора, заявки которых были отклонены;',\n",
       " 'перечень участников, признанных победителями отбора;',\n",
       " 'ж) основания для отклонения заявки участника отбора, в том числе:',\n",
       " 'несоответствие участника отбора требованиям, установленным в документации отбора;',\n",
       " 'несоответствие программного обеспечения требованиям, установленным к российскому программному обеспечению;',\n",
       " 'несоответствие представленной участником отбора заявки требованиям к заявкам, установленным в документации отбора;',\n",
       " 'недостоверность представленной участником отбора информации, в том числе информации о его месте нахождения и почтовом адресе;',\n",
       " 'подача участником отбора заявки после даты и (или) времени, определенных для подачи заявок;',\n",
       " 'иные основания для отклонения заявки участника отбора (при необходимости);',\n",
       " 'з) порядок предоставления участникам отбора разъяснений по подаче и рассмотрению заявок. Разъяснения по подаче и рассмотрению заявок осуществляются в течение установленного срока подачи заявок участниками отбора;',\n",
       " 'и) порядок и условия внесения изменений в документацию отбора;',\n",
       " 'к) порядок и условия признания отбора состоявшимся, несостоявшимся, приостановки, возобновления и прекращения отбора;',\n",
       " 'л) условия предоставления поддержки, в том числе:',\n",
       " 'порядок определения периода предоставления поддержки одному получателю поддержки;',\n",
       " 'порядок определения размера возмещения затрат, предоставляемого одному получателю поддержки;',\n",
       " 'порядок изменения периода предоставления поддержки, размера поддержки и иных условий поддержки в ходе исполнения соглашения;',\n",
       " 'иные условия поддержки, установленные Министерством цифрового развития, связи и массовых коммуникаций Российской Федерации;',\n",
       " 'м) иная информация и условия отбора Фондом правообладателей в целях возмещения затрат по использованию субъектами малого и среднего предпринимательства российского программного обеспечения, необходимые для проведения такого отбора, согласованные Фондом с Министерством цифрового развития, связи и массовых коммуникаций Российской Федерации.',\n",
       " '5. В целях проведения отбора правообладателей Фонд создает комиссию по проведению отбора (далее - комиссия), утверждает по согласованию с Министерством цифрового развития, связи и массовых коммуникаций Российской Федерации ее положение и состав.',\n",
       " 'В состав комиссии могут быть включены в том числе представители Министерства цифрового развития, связи и массовых коммуникаций Российской Федерации, Министерства экономического развития Российской Федерации и иных федеральных органов исполнительной власти, акционерного общества \"Федеральная корпорация по развитию малого и среднего предпринимательства\", автономной некоммерческой организации \"Цифровая экономика\", автономной некоммерческой организации \"Аналитический центр при Правительстве Российской Федерации\", Общероссийской общественной организации малого и среднего предпринимательства \"ОПОРА РОССИИ\", институтов развития, организаций, осуществляющих экономическую деятельность в отраслях связи, информационных технологий, транспорта, социальной сферы и реального сектора экономики, общероссийских общественных объединений, выражающих интересы субъектов малого и среднего предпринимательства.',\n",
       " '6. Решение о признании участника отбора победителем отбора по результатам проведения отбора принимает комиссия.',\n",
       " '7. Решение комиссии о результатах отбора правообладателей оформляется в форме протокола с указанием участников, прошедших отбор, и публикуется на официальном сайте Фонда в информационно-телекоммуникационной сети \"Интернет\".']"
      ]
     },
     "execution_count": 85,
     "metadata": {},
     "output_type": "execute_result"
    },
    {
     "data": {
      "application/javascript": [
       "\n",
       "            setTimeout(function() {\n",
       "                var nbb_cell_id = 85;\n",
       "                var nbb_unformatted_code = \"[elem for elem in target_data if \\\"\\u041f\\u0440\\u0430\\u0432\\u0438\\u0442\\u0435\\u043b\\u044c\\u0441\\u0442\\u0432\\u0430 \\u0420\\u0424 \\u043e\\u0442\\\" not in elem]\";\n",
       "                var nbb_formatted_code = \"[elem for elem in target_data if \\\"\\u041f\\u0440\\u0430\\u0432\\u0438\\u0442\\u0435\\u043b\\u044c\\u0441\\u0442\\u0432\\u0430 \\u0420\\u0424 \\u043e\\u0442\\\" not in elem]\";\n",
       "                var nbb_cells = Jupyter.notebook.get_cells();\n",
       "                for (var i = 0; i < nbb_cells.length; ++i) {\n",
       "                    if (nbb_cells[i].input_prompt_number == nbb_cell_id) {\n",
       "                        if (nbb_cells[i].get_text() == nbb_unformatted_code) {\n",
       "                             nbb_cells[i].set_text(nbb_formatted_code);\n",
       "                        }\n",
       "                        break;\n",
       "                    }\n",
       "                }\n",
       "            }, 500);\n",
       "            "
      ],
      "text/plain": [
       "<IPython.core.display.Javascript object>"
      ]
     },
     "metadata": {},
     "output_type": "display_data"
    }
   ],
   "source": [
    "[elem for elem in target_data if \"Правительства РФ от\" not in elem]"
   ]
  },
  {
   "cell_type": "code",
   "execution_count": 86,
   "metadata": {},
   "outputs": [
    {
     "data": {
      "application/javascript": [
       "\n",
       "            setTimeout(function() {\n",
       "                var nbb_cell_id = 86;\n",
       "                var nbb_unformatted_code = \"# check mistake END\\nif end_start < len(fullText):\\n    for num, elem in enumerate(fullText[end_start:]):\\n        if len(re.findall(\\\"\\\\{\\\\d+\\\\}\\\", elem)) > 0:\\n            print(num + end_start, elem)\";\n",
       "                var nbb_formatted_code = \"# check mistake END\\nif end_start < len(fullText):\\n    for num, elem in enumerate(fullText[end_start:]):\\n        if len(re.findall(\\\"\\\\{\\\\d+\\\\}\\\", elem)) > 0:\\n            print(num + end_start, elem)\";\n",
       "                var nbb_cells = Jupyter.notebook.get_cells();\n",
       "                for (var i = 0; i < nbb_cells.length; ++i) {\n",
       "                    if (nbb_cells[i].input_prompt_number == nbb_cell_id) {\n",
       "                        if (nbb_cells[i].get_text() == nbb_unformatted_code) {\n",
       "                             nbb_cells[i].set_text(nbb_formatted_code);\n",
       "                        }\n",
       "                        break;\n",
       "                    }\n",
       "                }\n",
       "            }, 500);\n",
       "            "
      ],
      "text/plain": [
       "<IPython.core.display.Javascript object>"
      ]
     },
     "metadata": {},
     "output_type": "display_data"
    }
   ],
   "source": [
    "# check mistake END\n",
    "if end_start < len(fullText):\n",
    "    for num, elem in enumerate(fullText[end_start:]):\n",
    "        if len(re.findall(\"\\{\\d+\\}\", elem)) > 0:\n",
    "            print(num + end_start, elem)"
   ]
  },
  {
   "cell_type": "code",
   "execution_count": 87,
   "metadata": {},
   "outputs": [
    {
     "data": {
      "application/javascript": [
       "\n",
       "            setTimeout(function() {\n",
       "                var nbb_cell_id = 87;\n",
       "                var nbb_unformatted_code = \"# check mistake START\\nif ind_start == 0:\\n    print(\\\"\\u0441\\u0442\\u0430\\u0440\\u0442\\u0443\\u0435\\u043c \\u0441 \\u0441\\u0430\\u043c\\u043e\\u0433\\u043e \\u043d\\u0430\\u0447\\u0430\\u043b\\u0430\\\")\\nelif ind_start < len(fullText):\\n    for num, elem in enumerate(fullText[:ind_start]):\\n        if len(re.findall(\\\"\\\\{\\\\d+\\\\}\\\", elem)) > 0:\\n            print(num + end_start, elem)\";\n",
       "                var nbb_formatted_code = \"# check mistake START\\nif ind_start == 0:\\n    print(\\\"\\u0441\\u0442\\u0430\\u0440\\u0442\\u0443\\u0435\\u043c \\u0441 \\u0441\\u0430\\u043c\\u043e\\u0433\\u043e \\u043d\\u0430\\u0447\\u0430\\u043b\\u0430\\\")\\nelif ind_start < len(fullText):\\n    for num, elem in enumerate(fullText[:ind_start]):\\n        if len(re.findall(\\\"\\\\{\\\\d+\\\\}\\\", elem)) > 0:\\n            print(num + end_start, elem)\";\n",
       "                var nbb_cells = Jupyter.notebook.get_cells();\n",
       "                for (var i = 0; i < nbb_cells.length; ++i) {\n",
       "                    if (nbb_cells[i].input_prompt_number == nbb_cell_id) {\n",
       "                        if (nbb_cells[i].get_text() == nbb_unformatted_code) {\n",
       "                             nbb_cells[i].set_text(nbb_formatted_code);\n",
       "                        }\n",
       "                        break;\n",
       "                    }\n",
       "                }\n",
       "            }, 500);\n",
       "            "
      ],
      "text/plain": [
       "<IPython.core.display.Javascript object>"
      ]
     },
     "metadata": {},
     "output_type": "display_data"
    }
   ],
   "source": [
    "# check mistake START\n",
    "if ind_start == 0:\n",
    "    print(\"стартуем с самого начала\")\n",
    "elif ind_start < len(fullText):\n",
    "    for num, elem in enumerate(fullText[:ind_start]):\n",
    "        if len(re.findall(\"\\{\\d+\\}\", elem)) > 0:\n",
    "            print(num + end_start, elem)"
   ]
  },
  {
   "cell_type": "code",
   "execution_count": null,
   "metadata": {},
   "outputs": [],
   "source": []
  },
  {
   "cell_type": "code",
   "execution_count": 88,
   "metadata": {
    "scrolled": true
   },
   "outputs": [
    {
     "name": "stdout",
     "output_type": "stream",
     "text": [
      "0 1. {2} Настоящие Правила устанавливают цели, условия и порядок предоставления субсидии из федерального бюджета Российскому фонду развития информационных технологий на возмещение затрат по использованию субъектами малого и среднего предпринимательства российского программного обеспечения (далее соответственно - Фонд, субсидия). {2}\n",
      "1 {2}Субсидия предоставляется в рамках реализации федерального  \"Цифровые технологии\" национальной  \"Цифровая экономика Российской Федерации\".{2}\n",
      "2 2. {3}Субсидия предоставляется Министерством цифрового развития, связи и массовых коммуникаций Российской Федерации в пределах лимитов бюджетных обязательств, доведенных в установленном порядке до Министерства цифрового развития, связи и массовых коммуникаций Российской Федерации как получателя средств федерального бюджета на цели, указанные в  настоящих Правил. {3}\n",
      "3 {7}Сведения о субсидии размещаются на едином портале бюджетной системы Российской Федерации в информационно-телекоммуникационной сети \"Интернет\" при формировании проекта федерального закона о федеральном бюджете (проекта федерального закона о внесении изменений в федеральный закон о федеральном бюджете). {7}\n",
      "4 3. {1}Понятия, используемые в настоящих Правилах, означают следующее: {1}\n",
      "5 {1}\"возмещение затрат\" - возмещение недополученных доходов правообладателя (уполномоченной организации) от предоставления российского программного обеспечения субъектам малого и среднего предпринимательства по льготной цене; {1}\n",
      "6 {1}\"использование программного обеспечения посредством облачной инфраструктуры\" - использование программного обеспечения посредством каналов связи и внешней информационно-технологической и программно-аппаратной инфраструктуры, обеспечивающей сбор, обработку и хранение данных; {1}\n",
      "7 {1}\"льготная цена\" - стоимость программного обеспечения, определяемая в соответствии с  настоящих Правил, по которой правообладатель (уполномоченная организация) обязуется предоставлять субъектам малого и среднего предпринимательства право использования российского программного обеспечения; {1}\n",
      "8 {1}\"получатель поддержки\" - правообладатель (уполномоченная организация), заключивший соглашение с Фондом о возмещении недополученных им доходов от предоставления российского программного обеспечения субъектам малого и среднего предпринимательства по льготной цене по результатам проведенного Фондом отбора; {1}\n",
      "9 {1}\"правообладатель\" - российская организация, за исключением государственного (муниципального) учреждения, обладающая исключительными правами на российское программное обеспечение и соответствующая критериям, указанным в  настоящих Правил, а также требованиям, указанным в  приложения к настоящим Правилам; {1}\n",
      "10 {1}\"российское программное обеспечение\" - программное обеспечение для электронных вычислительных машин и баз данных или совокупность программного обеспечения, объединенного в пакетное предложение, направленное на автоматизацию деятельности, повышение эффективности работы и оптимизацию бизнес-процессов субъектов малого и среднего предпринимательства, соответствующее требованиям, предусмотренным  настоящих Правил; {1}\n",
      "11 {1}\"субъекты малого и среднего предпринимательства\" - хозяйствующие субъекты (юридические лица и индивидуальные предприниматели), отнесенные в соответствии с условиями, установленными Федеральным  \"О развитии малого и среднего предпринимательства в Российской Федерации\", к малым предприятиям, в том числе к микропредприятиям, и средним предприятиям, сведения о которых внесены в единый реестр субъектов малого и среднего предпринимательства и соответствующие критериям, указанным в  настоящих Правил; {1}\n",
      "12 {1}\"уполномоченная организация\" - российская организация, за исключением государственного (муниципального) учреждения, уполномоченная правообладателем на распоряжение российским программным обеспечением и соответствующая требованиям, указанным в  приложения к настоящим Правилам. {1}\n",
      "13 4. {30}Субсидия является источником финансового обеспечения расходов Фонда: {30}\n",
      "14 {30} на возмещение затрат правообладателей (уполномоченных организаций); {30}\n",
      "15 {30}на обеспечение деятельности Фонда по проведению отбора правообладателей (уполномоченных организаций), а также организационно-методологическому и информационно-технологическому сопровождению возмещения затрат правообладателей (уполномоченных организаций) (далее - обеспечение деятельности Фонда). {30}\n",
      "16 {30}Расходы на обеспечение деятельности Фонда, непосредственно связанные с достижением результата предоставления субсидии, указанного в  настоящих Правил, составляют не более 3,5 процента общего размера субсидии, предусмотренной на соответствующий финансовый год. {30}\n",
      "17 {30}Указанные расходы включают в себя: {30}\n",
      "18 {30}расходы на оплату труда работников, а также расходы на уплату страховых взносов на обязательное пенсионное страхование, обязательное социальное страхование на случай временной нетрудоспособности и в связи с материнством, обязательное медицинское страхование и обязательное социальное страхование от несчастных случаев на производстве и профессиональных заболеваний, начисленных на суммы расходов на оплату труда, но не более 80 процентов размера расходов на обеспечение деятельности Фонда; {30}\n",
      "19 {30}накладные расходы, но не более 20 процентов размера расходов на обеспечение деятельности Фонда, в том числе: {30}\n",
      "20 {30}командировочные расходы; {30}\n",
      "21 {30}расходы по договорам гражданско-правового характера и страховые взносы во внебюджетные фонды; {30}\n",
      "22 {30}расходы на банковское обслуживание;{30}\n",
      "23 {30}расходы на канцелярские товары; {30}\n",
      "24 {30}расходы на расходные материалы; {30}\n",
      "25 {30}расходы на информационно-коммуникационные услуги; {30}\n",
      "26 {30}прочие общехозяйственные расходы; {30}\n",
      "27 {30}иные расходы, но не более 30 процентов размера расходов на обеспечение деятельности Фонда, в том числе: {30}\n",
      "28 {30}расходы на создание и обслуживание рабочих мест работников; {30}\n",
      "29 {30}расходы на разработку, доработку, а также на приобретение прикладного программного обеспечения (лицензии); {30}\n",
      "30 {30}расходы на оплату работ (услуг) независимых экспертов и (или) сторонних организаций;{30}\n",
      "31 {30}расходы на популяризацию приобретения субъектами малого и среднего предпринимательства российского программного обеспечения по льготной цене. {30}\n",
      "32 {30}Расходы, указанные в ,  и  настоящего пункта, не могут превышать в совокупности 100 процентов расходов на обеспечение деятельности Фонда, непосредственно связанных с достижением результата предоставления субсидии. {30}\n",
      "33 {35}Расходы на оплату труда работников Фонда, непосредственно связанных с достижением результата, указанного в  настоящих Правил, за счет средств субсидии не могут превышать размер среднемесячной начисленной заработной платы по виду экономической деятельности \"Предоставление прочих финансовых услуг,{35}{35} кроме услуг по страхованию и пенсионному обеспечению, не включенных в другие группировки\" по субъекту Российской Федерации г. Москве, исчисляемой по данным Федеральной службы государственной статистики за предыдущий финансовый год, на одного работника. {35}\n",
      "34 {35}Затраты, предусмотренные  и  настоящего пункта, определяются исходя из стоимости доступных на рынке аналогов {35}.\n",
      "35 5. {35}Российское программное обеспечение должно удовлетворять следующим требованиям:{35}\n",
      "36 {35}программное обеспечение включено в единый реестр российских программ для электронных вычислительных машин и баз данных {35}\n",
      "37 {35}использование программного обеспечения осуществляется посредством облачной инфраструктуры; {35}\n",
      "38 {35}программное обеспечение направлено на достижение одной или нескольких следующих целей использования: {35}\n",
      "39 {35}повышение производительности, точности или иных существенных характеристик технологического процесса и (или) бизнес-процесса; {35}\n",
      "40 {35}повышение качественных или иных существенных характеристик производимых (поставляемых) товаров, оказываемых услуг и выполняемых работ; {35}\n",
      "41 {35}повышение производительности труда; {35}\n",
      "42 {35}снижение издержек (в том числе за счет сокращения брака) при производстве (поставке) товаров, оказании услуг и выполнении работ. {35}\n",
      "43 {35}Дополнительные требования к российскому программному обеспечению могут быть установлены Фондом по согласованию с Министерством цифрового развития, связи и массовых коммуникаций Российской Федерации. {35}\n",
      "44 6. {12} Отбор правообладателей проводится по следующим критериям: {12}\n",
      "45 а) {12}  среднесписочная численность работников правообладателя за предшествующий календарный год составляет не менее 15 человек; {12}\n",
      "46 б) {12} значение выручки правообладателя от реализации товаров (работ, услуг) за предшествующий календарный год без учета налога на добавленную стоимость составляет не менее 10 млн. рублей. {12}\n",
      "47 7. {12} Отбор субъектов малого и среднего предпринимательства проводится по следующим критериям: {12}\n",
      "48 а) {12} среднесписочная численность работников субъекта малого и среднего предпринимательства за предшествующий календарный год составляет не более 250 человек; {12}\n",
      "49 б) {12} предельное значение дохода, полученного от осуществления предпринимательской деятельности субъектом малого и среднего предпринимательства за предшествующий календарный год, определяемого в порядке, установленном законодательством Российской Федерации о налогах и сборах, суммируемого по всем осуществляемым видам деятельности и применяемого по всем налоговым режимам, составляет не более 2 млрд. рублей. {12}\n",
      "50 8. {24} Субсидия предоставляется Фонду на основании соглашения о предоставлении субсидии, заключенного Министерством цифрового развития, связи и массовых коммуникаций Российской Федерации и Фондом в соответствии с , установленной Министерством финансов Российской Федерации, посредством государственной интегрированной информационной системы управления общественными финансами \"Электронный бюджет\" (далее - соглашение о предоставлении субсидии), содержащего в том числе: {24}\n",
      "51 {24}цели, условия и порядок предоставления субсидии; {24}\n",
      "52 {27}значения результата предоставления субсидии, соответствующие значениям результата федерального  \"Цифровые технологии\" национальной  \"Цифровая экономика Российской Федерации\", указанного в  настоящих Правил; {27}\n",
      "53 {36}формы и сроки представления отчета о расходах, отчета о достижении значений результата предоставления субсидии и указанных в  настоящих Правил показателей, необходимых для достижения результата предоставления субсидии; {36}\n",
      "54 {32}согласие Фонда на осуществление Министерством цифрового развития, связи и массовых коммуникаций Российской Федерации и органом государственного финансового контроля проверок соблюдения целей, условий и порядка предоставления субсидии, предусмотренных настоящими Правилами и соглашением о предоставлении субсидии,{32}{32} а также обязательство Фонда по включению в договоры (соглашения), заключенные в целях исполнения обязательств по соглашению о предоставлении субсидии, положений о согласии лиц, являющихся поставщиками (подрядчиками, исполнителями), на проведение указанных проверок; {32}\n",
      "55 {37}обязательство Министерства цифрового развития, связи и массовых коммуникаций Российской Федерации по осуществлению контроля за соблюдением целей, условий и порядка предоставления субсидии; {37}\n",
      "56 {24}обязательство Фонда по возврату в доход федерального бюджета средств субсидии в объеме, при использовании которого были допущены нарушения целей, условий и порядка предоставления субсидии, выявленные по результатам проверок, проведенных Министерством цифрового развития, связи и массовых коммуникаций Российской Федерации и (или) органом государственного финансового контроля; {24}\n",
      "57 {24}запрет на размещение Фондом средств субсидии на депозитах и посредством иных финансовых инструментов; {24}\n",
      "58 {24}обязательство Фонда по ведению раздельного учета затрат на реализацию каждого соглашения о предоставлении субсидии; {24}\n",
      "59 {24}условия, предусмотренные нормативными правовыми актами Правительства Российской Федерации, регулирующими вопросы казначейского сопровождения, осуществляемого в соответствии с бюджетным законодательством Российской Федерации; {24}\n",
      "60 {25}условия о согласовании новых условий соглашения о предоставлении субсидии или расторжении соглашения о предоставлении субсидии при недостижении согласия по новым условиям в случае уменьшения главному распорядителю как получателю бюджетных средств ранее доведенных лимитов бюджетных обязательств, приводящего к невозможности предоставления субсидии в размере, определенном в соглашении о предоставлении субсидии; {25}\n",
      "61 {8}условия о проведении путем запроса предложений отбора правообладателей (уполномоченных организаций) на основании заявок, направленных участниками отбора для участия в отборе, исходя из соответствия участника отбора критериям отбора и очередности поступления заявок на участие в отборе; {8}\n",
      "62 {24}возможность осуществления расходов, источником финансового обеспечения которых являются не использованные в отчетном финансовом году остатки субсидии, при принятии Министерством цифрового развития, связи и массовых коммуникаций Российской Федерации по согласованию с Министерством финансов Российской Федерации решения о наличии потребности в указанных средствах; {24}\n",
      "63 {9}сроки размещения на официальном сайте Фонда в информационно-телекоммуникационной сети \"Интернет\" объявления о проведении отбора с указанием следующих сведений: {9}\n",
      "64 {10}сроки проведения отбора (дата и время начала (окончания) подачи заявок участников отбора), которые не могут быть меньше 30 календарных дней, следующих за днем размещения объявления о проведении отбора; {10}\n",
      "65 {10}результат предоставления субсидии; {10}\n",
      "66 {10}доменное имя, и (или) сетевой адрес, и (или) указатели страниц сайта в информационно-телекоммуникационной сети \"Интернет\", на котором обеспечивается проведение отбора; {24}\n",
      "67 {11}требования к участникам отбора в соответствии с настоящими Правилами и перечень документов, представляемых участниками отбора для подтверждения их соответствия указанным требованиям; {11}\n",
      "68 {10}порядок подачи заявок участниками отбора и требования, предъявляемые к форме и содержанию заявок, подаваемых участниками отбора; {10}\n",
      "69 {10}порядок отзыва заявок участников отбора, порядок возврата заявок участников отбора, определяющий в том числе основания для возврата заявок участников отбора, порядок внесения изменений в заявки участников отбора; {10}\n",
      "70 {10}правила рассмотрения заявок участников отбора; {10}\n",
      "71 {10}порядок предоставления участникам отбора разъяснений положений объявления о проведении отбора, даты начала и окончания срока предоставления таких разъяснений; {10}\n",
      "72 {10}срок, в течение которого правообладатель (уполномоченная организация) должен подписать соглашение (договор) о предоставлении поддержки (далее - соглашение); {10}\n",
      "73 {10}условия признания правообладателя (уполномоченной организации) уклонившимся (уклонившейся) от заключения соглашения; {10}\n",
      "74 {10}дата размещения результатов отбора на официальном сайте Фонда в информационно-телекоммуникационной сети \"Интернет\", которая не может быть позднее 14-го календарного дня, следующего за днем определения участников, прошедших отбор; {10}\n",
      "75 {15} обязательство Фонда о проведении отбора в соответствии с порядком, установленным  настоящих Правил; {24}\n",
      "76 {31}запрет приобретения Фондом, а также иными юридическими лицами, получающими средства на основании договоров, заключенных с Фондом, за счет полученных средств субсидии иностранной валюты, за исключением операций, осуществляемых в соответствии с валютным законодательством Российской Федерации при закупке (поставке) высокотехнологичного импортного оборудования, сырья и комплектующих изделий; {31}\n",
      "77 {27}значения показателей, необходимых для достижения результата предоставления субсидии, указанные в  настоящих Правил; {24}\n",
      "78 {24}обязательство Фонда о включении в соглашения о возмещении затрат правообладателей (уполномоченных организаций) с прошедшими отбор участниками значений показателей, необходимых для достижения результата предоставления субсидии, по итогам результатов отбора с учетом соответствующих значений результата федерального  \"Цифровые технологии\" национальной  \"Цифровая экономика Российской Федерации\", указанного в  настоящих Правил; {24}\n",
      "79 {24}иные условия, определяемые Министерством цифрового развития, связи и массовых коммуникаций Российской Федерации. {24}\n",
      "80 {26}Дополнительные соглашения к соглашению, предусматривающие внесение в него изменений и (или) его расторжение (при необходимости), заключаются в соответствии с типовой формой, установленной Министерством финансов Российской Федерации, посредством государственной интегрированной информационной системы управления общественными финансами \"Электронный бюджет\".{26}\n",
      "81 9. {22}Льготная цена программного обеспечения составляет 50 процентов средней рыночной цены. {22}\n",
      "82 10. {33}Размер возмещения затрат получателя поддержки по i-му виду лицензий (Зi) определяется по формуле: {33}\n",
      "83 где:\n",
      "84 {33}Qi - количество i-го вида лицензий, предоставленных правообладателем (уполномоченной организацией) субъектам малого и среднего предпринимательства по льготной цене; {33}\n",
      "85 {33}H - средняя рыночная цена i-го вида лицензий. {33}\n",
      "86 {22}11. Размер субсидии, предоставляемой Фонду в соответствующем финансовом году (С), определяется по формуле: {22}\n",
      "87 {22}где Oi - размер расходов на обеспечение деятельности Фонда, непосредственно связанных с достижением указанного в  настоящих Правил результата предоставления субсидии, определяемый в соответствии с  настоящих Правил. {22}\n",
      "88 12. {19}Для заключения соглашения о предоставлении субсидии Фонд представляет в Министерство цифрового развития, связи и массовых коммуникаций Российской Федерации с сопроводительным письмом, подписанным лицом, имеющим право действовать от имени Фонда, следующие прошнурованные и пронумерованные на 1-е число месяца, предшествующего месяцу, в котором планируется заключение соглашения о предоставлении субсидии, документы: {19}\n",
      "89 {19}а) справка, подписанная руководителем и главным бухгалтером (при наличии) Фонда и скрепленная печатью, подтверждающая отсутствие у Фонда просроченной задолженности по возврату в федеральный бюджет субсидий, бюджетных инвестиций, предоставленных в том числе в соответствии с иными правовыми актами, а также иной просроченной (неурегулированной) задолженности по денежным обязательствам перед Российской Федерацией; {19}\n",
      "90 {19}б) справка, подписанная руководителем Фонда, подтверждающая, что Фонд не находится в процессе ликвидации, в отношении Фонда не введена процедура банкротства, деятельность Фонда не приостановлена в порядке, предусмотренном законодательством Российской Федерации; {19}\n",
      "91 {19}в) помесячный прогноз кассовых выплат осуществления Фондом расходов, на финансовое обеспечение которых предоставляется субсидия (в произвольной форме), подписанный руководителем и главным бухгалтером (при наличии) Фонда; {19}\n",
      "92 {19}г) смета расходов на обеспечение деятельности Фонда, подписанная руководителем и главным бухгалтером (при наличии) Фонда; {19}\n",
      "93 {19}д) справка, подписанная руководителем и главным бухгалтером (при наличии) Фонда, подтверждающая отсутствие у Фонда неисполненной обязанности по уплате налогов, сборов, страховых взносов, пеней, штрафов, процентов, подлежащих уплате в соответствии с законодательством Российской Федерации о налогах и сборах; {19}\n",
      "94 {19}е) справка, подписанная руководителем и главным бухгалтером (при наличии) Фонда и скрепленная печатью, подтверждающая на 1-е число месяца, предшествующего месяцу, в котором планируется заключение соглашения о предоставлении субсидии, отсутствие в реестре дисквалифицированных лиц сведений о дисквалифицированных руководителях, членах коллегиальных исполнительных органов, лицах, исполняющих функции единоличного исполнительного органа, или главном бухгалтере (при наличии) Фонда; {19}\n",
      "95 {19}ж) справка, подписанная руководителем и главным бухгалтером (при наличии) Фонда и скрепленная печатью, подтверждающая, что Фонд не получает средства из федерального бюджета на основании иных нормативных правовых актов Российской Федерации на цели, установленные настоящими Правилами. {19}\n",
      "96 13. {35}Фонд на 1-е число месяца, предшествующего месяцу, в котором планируется заключение соглашения о предоставлении субсидии, должен соответствовать следующим требованиям: {35}\n",
      "97 а) {35} у Фонда отсутствует неисполненная обязанность по уплате налогов, сборов, страховых взносов, пеней, штрафов и процентов, подлежащих уплате в соответствии с законодательством Российской Федерации о налогах и сборах; {35}\n",
      "98 б) {35}у Фонда отсутствует просроченная задолженность по возврату в федеральный бюджет субсидий, бюджетных инвестиций, предоставленных в том числе в соответствии с иными правовыми актами, а также иная просроченная (неурегулированная) задолженность по денежным обязательствам перед Российской Федерацией; {35}\n",
      "99 в) {35}Фонд не находится в процессе ликвидации, в отношении Фонда не введена процедура банкротства, деятельность Фонда не приостановлена в порядке, предусмотренном законодательством Российской Федерации; {35}\n",
      "100 г) {35}Фонд не получает средства из федерального бюджета в соответствии с иными нормативными правовыми актами на цели, предусмотренные  настоящих Правил; {35}\n",
      "101 д) {35}в реестре дисквалифицированных лиц отсутствуют сведения о дисквалифицированных руководителе, членах коллегиального исполнительного органа, лице, исполняющем функции единоличного исполнительного органа, или главном бухгалтере (при наличии) Фонда. {35}\n",
      "102 14. {35}Датой представления Фондом документов, указанных в  настоящих Правил, считается день их регистрации в Министерстве цифрового развития, связи и массовых коммуникаций Российской Федерации. {35}\n",
      "103 15. {20}Министерство цифрового развития, связи и массовых коммуникаций Российской Федерации в течение 10 рабочих дней со дня регистрации документов, представленных в соответствии с  настоящих Правил, рассматривает их и проверяет соответствие Фонда требованиям, предусмотренным  настоящих Правил. {20}{24} По результатам проверки представленных Фондом документов Министерство цифрового развития, связи и массовых коммуникаций Российской Федерации принимает решение о заключении соглашения о предоставлении субсидии либо об отказе в заключении соглашения о предоставлении субсидии, о чем уведомляет Фонд в течение 10 рабочих дней. {24}\n",
      "104 {21}Основаниями для отказа в заключении соглашения о предоставлении субсидии являются:{21}\n",
      "105 {21}непредставление Фондом (представление в неполном объеме) документов, указанных в  настоящих Правил; {21}\n",
      "106 {21}установление факта недостоверности представленных Фондом документов; {21}\n",
      "107 {21}несоответствие Фонда требованиям, предусмотренным  настоящих Правил.{21}\n",
      "108 {14}Фонд имеет право повторно представить документы после устранения замечаний Министерства цифрового развития, связи и массовых коммуникаций Российской Федерации. {14}\n",
      "109 16. {27}Результатом предоставления субсидии является количество лицензий российского программного обеспечения, предоставленных субъектам малого и среднего предпринимательства по льготной цене. {27}\n",
      "110 {35}Точные даты завершения и конечные значения результата по годам (конкретная количественная характеристика итогов) установлены в паспорте федерального  \"Цифровые технологии\" национальной  \"Цифровая экономика Российской Федерации\".{35}\n",
      "111 {27}Степень достижения значения результата предоставления субсидии ежегодно оценивается Министерством цифрового развития, связи и массовых коммуникаций Российской Федерации путем сопоставления фактического значения результата предоставления субсидии и его планового значения. {27}\n",
      "112 {27}Показателями, необходимыми для достижения результата предоставления субсидии, являются следующие показатели: {27}\n",
      "113 {27}обеспечено функционирование специализированного информационного ресурса; {27}\n",
      "114 {27}количество мероприятий по популяризации приобретения субъектами малого и среднего предпринимательства российского программного обеспечения по льготной цене. {27}\n",
      "115 17. {29}Перечисление субсидии Фонду осуществляется на казначейский счет для осуществления и отражения операций с денежными средствами юридических лиц, не являющихся участниками бюджетного процесса, бюджетными и автономными учреждениями, открытый в территориальном органе Федерального казначейства, {29}{28}не позднее 2-го рабочего дня после представления в территориальный орган Федерального казначейства Фондом распоряжений о совершении казначейских платежей для оплаты денежного обязательства Фонда. {28}\n",
      "116 18. {38}Ответственность за недостоверность представленных в Министерство цифрового развития, связи и массовых коммуникаций Российской Федерации сведений, документов и несоблюдение Фондом целей, условий и порядка предоставления субсидии несет Фонд. {38}\n",
      "117 19. {36} Отчет о расходах, источником финансового обеспечения которых является субсидия, и отчет о достижении результата предоставления субсидии и указанных в  настоящих Правил показателей, необходимых для достижения результата предоставления субсидии, формируются Фондом ежеквартально нарастающим итогом в срок не более первых 8 рабочих дней месяца, следующего за отчетным периодом. {36}\n",
      "118 {36} Отчеты формируются по формам, определенным типовыми формами соглашений, установленными Министерством финансов Российской Федерации, и представляются посредством государственной интегрированной информационной системы управления общественными финансами \"Электронный бюджет\" в Министерство цифрового развития, связи и массовых коммуникаций Российской Федерации. {36}\n",
      "119 {36} Министерство цифрового развития, связи и массовых коммуникаций Российской Федерации вправе устанавливать в соглашении о предоставлении субсидии сроки и формы представления Фондом дополнительной отчетности. {36}\n",
      "120 20. {35} Фонд осуществляет отбор правообладателей (уполномоченных организаций) в порядке, установленном  к настоящим Правилам. {35}\n",
      "121 21. {24} Фонд заключает соглашения с победителями отбора по форме, разработанной Фондом на основе , установленной Министерством финансов Российской Федерации. {24}\n",
      "122 {24} В соглашение между Фондом и получателем поддержки включаются следующие положения: {24}\n",
      "123 {24} а) цели, условия и порядок возмещения затрат; {24}\n",
      "124 {24} б) значения результата предоставления поддержки, соответствующие значениям результата федерального  \"Цифровые технологии\" национальной  \"Цифровая экономика Российской Федерации\", указанного в  настоящих Правил; {24}\n",
      "125 {24} в) предельный размер поддержки; {24}\n",
      "126 {24} г) срок предоставления получателем поддержки российского программного обеспечения субъектам малого и среднего предпринимательства по льготной цене; {24}\n",
      "127 {24} д) порядок, формы и сроки представления получателем поддержки отчетных материалов о предоставлении программного обеспечения субъектам малого и среднего предпринимательства по льготной цене и о достижении результатов предоставления поддержки; {24}\n",
      "128 {32} е) согласие получателя поддержки на осуществление Фондом, Министерством цифрового развития, связи и массовых коммуникаций Российской Федерации и органом государственного финансового контроля обязательных проверок соблюдения целей, условий и порядка возмещения затрат; {32}\n",
      "129 {38} ж) обязательство получателя поддержки по возврату Фонду средств, предоставленных на возмещение затрат в объеме, при использовании которого были допущены нарушения условий предоставления поддержки, выявленные по результатам проверок, проведенных Фондом и (или) Министерством цифрового развития, связи и массовых коммуникаций Российской Федерации и (или) органом государственного финансового контроля; {38}\n",
      "130 {24} з) порядок предоставления доступа по использованию субъектами малого и среднего предпринимательства программного обеспечения посредством облачной инфраструктуры получателя поддержки и срок, на который указанный доступ предоставляется; {24}\n",
      "131 и) {24} порядок предоставления информации о субъектах малого и среднего предпринимательства, которым предоставлено российское программное обеспечения по льготной цене; {24}\n",
      "132 к) {24} порядок подтверждения информации о количестве лицензий российского программного обеспечения, предоставленных субъектам малого и среднего предпринимательства по льготной цене; {24}\n",
      "133 л) {24} порядок осуществления контроля за использованием российского программного обеспечения посредством облачной инфраструктуры получателя поддержки субъектами малого и среднего предпринимательства; {24}\n",
      "134 м) {24} порядок возмещения затрат получателя поддержки по предоставлению субъектам малого и среднего предпринимательства российского программного обеспечения по льготной цене;{24}\n",
      "135 н) {27} значения результата предоставления поддержки; {27}\n",
      "136 о) {24} срок возмещения Фондом затрат по предоставлению субъектам малого и среднего предпринимательства российского программного обеспечения по льготной цене получателя поддержки, не превышающий 10 рабочих дней со дня принятия Фондом решения о возмещении затрат по итогам рассмотрения представленных получателем поддержки отчетных материалов; {24}\n",
      "137 п) {24} иные условия, определяемые Фондом по согласованию с Министерством цифрового развития, связи и массовых коммуникаций Российской Федерации. {24}\n",
      "138 22. {35} Министерство цифрового развития, связи и массовых коммуникаций Российской Федерации по согласованию с Министерством финансов Российской Федерации принимает в соответствии с бюджетным законодательством Российской Федерации решение о возможности осуществления расходов, источником финансового обеспечения которых являются не использованные в отчетном финансовом году остатки субсидии в пределах суммы, необходимой для оплаты денежных обязательств Фонда. {35}\n",
      "139 23. {37} Министерство цифрового развития, связи и массовых коммуникаций Российской Федерации и орган государственного финансового контроля проводят обязательные проверки соблюдения Фондом целей, условий и порядка предоставления субсидии. {37}\n",
      "140 24. {38} В случае установления в ходе проверок, проведенных Министерством цифрового развития, связи и массовых коммуникаций Российской Федерации и (или) органом государственного финансового контроля, факта несоблюдения условий предоставления субсидии, а также недостижения в отчетном периоде значений результата предоставления субсидии и показателей, необходимых для достижения результата предоставления субсидии, соответствующие средства подлежат возврату в федеральный бюджет: {38}\n",
      "141 а) {38}на основании требования Министерства цифрового развития, связи и массовых коммуникаций Российской Федерации - в течение 30 дней со дня получения указанного требования;{38}\n",
      "142 б) {38}на основании представления и (или) предписания органа государственного финансового контроля - в сроки, установленные в соответствии с бюджетным законодательством Российской Федерации. {38}\n",
      "143 25. {38}Размер средств, подлежащих возврату в случае недостижения значения результата предоставления субсидии (A), рассчитывается по формуле: {38}\n",
      "144 где:\n",
      "145 {38}d - достигнутое значение результата предоставления субсидии, указанного в соглашении о предоставлении субсидии; {38}\n",
      "146 {38}D - плановое значение результата предоставления субсидии, указанного в соглашении о предоставлении субсидии; {38}\n",
      "147 {38}V - размер предоставленной субсидии. {38}\n",
      "148 {38}Если показатель d превышает показатель D, для расчета размера средств, подлежащих возврату при недостижении значения показателя, необходимого для достижения результата предоставления субсидии, показатель принимается равным D. {38}\n",
      "149 26. {36}Фонд ежегодно, не позднее 1 апреля года, следующего за отчетным, направляет в Министерство цифрового развития, связи и массовых коммуникаций Российской Федерации доклад о результатах деятельности получателей поддержки с информацией по каждому получателю поддержки. {36}\n",
      "150 Приложение\n",
      "151 к Правилам предоставления\n",
      "152 субсидии из федерального\n",
      "153 бюджета Российскому фонду\n",
      "154 развития информационных\n",
      "155 технологий на возмещение\n",
      "156 затрат по использованию\n",
      "157 субъектами малого и среднего\n",
      "158 предпринимательства российского\n",
      "159 программного обеспечения\n",
      "160 ПРАВИЛА\n",
      "161 ОТБОРА ПРАВООБЛАДАТЕЛЕЙ (УПОЛНОМОЧЕННЫХ ОРГАНИЗАЦИЙ)\n",
      "162 1. Настоящие Правила устанавливают порядок отбора Российским фондом развития информационных технологий (далее - Фонд) правообладателей (уполномоченных организаций) в целях возмещения затрат по использованию субъектами малого и среднего предпринимательства российского программного обеспечения.\n",
      "163 2. В целях проведения отбора правообладателей (уполномоченных организаций) Фонд принимает решение о проведении отбора, утверждает по согласованию с Министерством цифрового развития, связи и массовых коммуникаций Российской Федерации документацию отбора и размещает на своем официальном сайте в информационно-телекоммуникационной сети \"Интернет\" соответствующее объявление.\n",
      "164 3. Отбор проводится в сроки, установленные в объявлении.\n",
      "165 4. Объявление должно содержать следующую информацию:\n",
      "166 а) положения о соответствии участников отбора (на 1-е число месяца, предшествующего месяцу подачи заявки на участие в отборе) и получателей поддержки (на 1-е число месяца, предшествующего месяцу заключения соглашения с Фондом) следующим требованиям:\n",
      "167 участник отбора (получатель поддержки) не находится в процессе реорганизации (за исключением реорганизации в форме присоединения к юридическому лицу, являющемуся участником отбора (получателем поддержки), другого юридического лица), ликвидации, в отношении его не введена процедура банкротства, деятельность участника отбора (получателя поддержки) не приостановлена в порядке, предусмотренном законодательством Российской Федерации;\n",
      "168 участник отбора (получатель поддержки) имеет статус налогового резидента Российской Федерации;\n",
      "169 участник отбора (получатель поддержки) зарегистрирован на территории Российской Федерации в соответствии с законодательством Российской Федерации;\n",
      "170 участник отбора (получатель поддержки) не получал в прошлом и не получает средства из федерального бюджета в соответствии с иными нормативными правовыми актами Российской Федерации на цели, предусмотренные  Правил предоставления субсидии из федерального бюджета Российскому фонду развития информационных технологий на возмещение затрат по использованию субъектами малого и среднего предпринимательства российского программного обеспечения, утвержденных постановлением Правительства Российской Федерации от 28 июня 2021 г. N 1031 \"Об утверждении Правил предоставления субсидии из федерального бюджета Российскому фонду развития информационных технологий на возмещение затрат по использованию субъектами малого и среднего предпринимательства российского программного обеспечения\";\n",
      "171 участник отбора (получатель поддержки) не является иностранным юридическим лицом, а также российским юридическим лицом, в уставном (складочном) капитале которого доля участия иностранных юридических лиц, местом регистрации которых является государство или территория, включенные в утвержденный Министерством финансов Российской Федерации  государств и территорий, предоставляющих льготный налоговый режим налогообложения и (или) не предусматривающих раскрытия и предоставления информации при проведении финансовых операций (офшорные зоны), в совокупности превышает 50 процентов;\n",
      "172 участник отбора (получатель поддержки) не имеет неисполненной обязанности по уплате налогов, сборов, страховых взносов, пеней, штрафов и процентов, подлежащих уплате в соответствии с законодательством Российской Федерации о налогах и сборах;\n",
      "173 у участника отбора (получателя поддержки) отсутствует просроченная задолженность по возврату в федеральный бюджет субсидий, бюджетных инвестиций, предоставленных в том числе в соответствии с иными правовыми актами, а также иная просроченная (неурегулированная) задолженность по денежным обязательствам перед Российской Федерацией;\n",
      "174 в реестре дисквалифицированных лиц отсутствуют сведения о дисквалифицированных руководителе, членах коллегиального исполнительного органа, лице, исполняющем функции единоличного исполнительного органа, или главном бухгалтере (при наличии) участника отбора (получателя поддержки);\n",
      "175 соответствие иным требованиям, установленным Фондом по согласованию с Министерством цифрового развития, связи и массовых коммуникаций Российской Федерации;\n",
      "176 б) положения о соответствии российского программного обеспечения требованиям, установленным в  Правил предоставления субсидии из федерального бюджета Российскому фонду развития информационных технологий на возмещение затрат по использованию субъектами малого и среднего предпринимательства российского программного обеспечения, утвержденных постановлением Правительства Российской Федерации от 28 июня 2021 г. N 1031 \"Об утверждении Правил предоставления субсидии из федерального бюджета Российскому фонду развития информационных технологий на возмещение затрат по использованию субъектами малого и среднего предпринимательства российского программного обеспечения\", а также дополнительным требованиям, установленным Фондом по согласованию с Министерством цифрового развития, связи и массовых коммуникаций Российской Федерации;\n",
      "177 в) требования к форме заявок, подаваемых участниками отбора (получателями поддержки), которые включают в том числе согласие на публикацию (размещение) в информационно-телекоммуникационной сети \"Интернет\" информации об участнике отбора, о подаваемой участником отбора заявке, иной информации об участнике отбора, связанной с соответствующим отбором, а также согласие на обработку персональных данных (для физического лица);\n",
      "178 г) требования к форме, содержанию и составу документов и информации, подаваемых участниками отбора (получателями поддержки) для участия в отборе, которые включают в себя в том числе:\n",
      "179 заявку на участие в отборе;\n",
      "180 документы и информацию, подтверждающие соответствие правообладателя и программного обеспечения положениям документации отбора;\n",
      "181 согласие на публикацию (размещение) на официальном сайте Фонда в информационно-телекоммуникационной сети \"Интернет\" информации об участнике отбора, о подаваемой участником отбора заявке, иной информации об участнике отбора, связанной с соответствующим отбором;\n",
      "182 иные документы и информацию, предусмотренные документацией отбора;\n",
      "183 д) правила подачи и рассмотрения заявок участников отбора, включающие:\n",
      "184 порядок подачи заявок участниками отбора для участия в отборе;\n",
      "185 порядок рассмотрения заявок участников отбора на предмет их соответствия установленным в документации отбора требованиям;\n",
      "186 порядок отклонения заявок участников отбора, а также порядок предоставления участнику отбора информации о причинах отклонения заявки;\n",
      "187 е) сроки размещения на официальном сайте Фонда в информационно-телекоммуникационной сети \"Интернет\" информации о результатах рассмотрения заявок, включающей следующие сведения:\n",
      "188 дата, время и место проведения рассмотрения заявок;\n",
      "189 перечень участников отбора, заявки которых были рассмотрены;\n",
      "190 перечень участников отбора, заявки которых были отклонены;\n",
      "191 перечень участников, признанных победителями отбора;\n",
      "192 ж) основания для отклонения заявки участника отбора, в том числе:\n",
      "193 несоответствие участника отбора требованиям, установленным в документации отбора;\n",
      "194 несоответствие программного обеспечения требованиям, установленным к российскому программному обеспечению;\n",
      "195 несоответствие представленной участником отбора заявки требованиям к заявкам, установленным в документации отбора;\n",
      "196 недостоверность представленной участником отбора информации, в том числе информации о его месте нахождения и почтовом адресе;\n",
      "197 подача участником отбора заявки после даты и (или) времени, определенных для подачи заявок;\n",
      "198 иные основания для отклонения заявки участника отбора (при необходимости);\n",
      "199 з) порядок предоставления участникам отбора разъяснений по подаче и рассмотрению заявок. Разъяснения по подаче и рассмотрению заявок осуществляются в течение установленного срока подачи заявок участниками отбора;\n",
      "200 и) порядок и условия внесения изменений в документацию отбора;\n",
      "201 к) порядок и условия признания отбора состоявшимся, несостоявшимся, приостановки, возобновления и прекращения отбора;\n",
      "202 л) условия предоставления поддержки, в том числе:\n",
      "203 порядок определения периода предоставления поддержки одному получателю поддержки;\n",
      "204 порядок определения размера возмещения затрат, предоставляемого одному получателю поддержки;\n",
      "205 порядок изменения периода предоставления поддержки, размера поддержки и иных условий поддержки в ходе исполнения соглашения;\n",
      "206 иные условия поддержки, установленные Министерством цифрового развития, связи и массовых коммуникаций Российской Федерации;\n",
      "207 м) иная информация и условия отбора Фондом правообладателей в целях возмещения затрат по использованию субъектами малого и среднего предпринимательства российского программного обеспечения, необходимые для проведения такого отбора, согласованные Фондом с Министерством цифрового развития, связи и массовых коммуникаций Российской Федерации.\n",
      "208 5. В целях проведения отбора правообладателей Фонд создает комиссию по проведению отбора (далее - комиссия), утверждает по согласованию с Министерством цифрового развития, связи и массовых коммуникаций Российской Федерации ее положение и состав.\n",
      "209 В состав комиссии могут быть включены в том числе представители Министерства цифрового развития, связи и массовых коммуникаций Российской Федерации, Министерства экономического развития Российской Федерации и иных федеральных органов исполнительной власти, акционерного общества \"Федеральная корпорация по развитию малого и среднего предпринимательства\", автономной некоммерческой организации \"Цифровая экономика\", автономной некоммерческой организации \"Аналитический центр при Правительстве Российской Федерации\", Общероссийской общественной организации малого и среднего предпринимательства \"ОПОРА РОССИИ\", институтов развития, организаций, осуществляющих экономическую деятельность в отраслях связи, информационных технологий, транспорта, социальной сферы и реального сектора экономики, общероссийских общественных объединений, выражающих интересы субъектов малого и среднего предпринимательства.\n",
      "210 6. Решение о признании участника отбора победителем отбора по результатам проведения отбора принимает комиссия.\n",
      "211 7. Решение комиссии о результатах отбора правообладателей оформляется в форме протокола с указанием участников, прошедших отбор, и публикуется на официальном сайте Фонда в информационно-телекоммуникационной сети \"Интернет\".\n"
     ]
    },
    {
     "data": {
      "application/javascript": [
       "\n",
       "            setTimeout(function() {\n",
       "                var nbb_cell_id = 88;\n",
       "                var nbb_unformatted_code = \"for num, line in enumerate(target_data):\\n    print(num, line)\";\n",
       "                var nbb_formatted_code = \"for num, line in enumerate(target_data):\\n    print(num, line)\";\n",
       "                var nbb_cells = Jupyter.notebook.get_cells();\n",
       "                for (var i = 0; i < nbb_cells.length; ++i) {\n",
       "                    if (nbb_cells[i].input_prompt_number == nbb_cell_id) {\n",
       "                        if (nbb_cells[i].get_text() == nbb_unformatted_code) {\n",
       "                             nbb_cells[i].set_text(nbb_formatted_code);\n",
       "                        }\n",
       "                        break;\n",
       "                    }\n",
       "                }\n",
       "            }, 500);\n",
       "            "
      ],
      "text/plain": [
       "<IPython.core.display.Javascript object>"
      ]
     },
     "metadata": {},
     "output_type": "display_data"
    }
   ],
   "source": [
    "for num, line in enumerate(target_data):\n",
    "    print(num, line)"
   ]
  },
  {
   "cell_type": "code",
   "execution_count": 89,
   "metadata": {},
   "outputs": [
    {
     "data": {
      "text/plain": [
       "'{27}количество мероприятий по популяризации приобретения субъектами малого и среднего предпринимательства российского программного обеспечения по льготной цене. {27}'"
      ]
     },
     "execution_count": 89,
     "metadata": {},
     "output_type": "execute_result"
    },
    {
     "data": {
      "application/javascript": [
       "\n",
       "            setTimeout(function() {\n",
       "                var nbb_cell_id = 89;\n",
       "                var nbb_unformatted_code = \"target_data[114]\";\n",
       "                var nbb_formatted_code = \"target_data[114]\";\n",
       "                var nbb_cells = Jupyter.notebook.get_cells();\n",
       "                for (var i = 0; i < nbb_cells.length; ++i) {\n",
       "                    if (nbb_cells[i].input_prompt_number == nbb_cell_id) {\n",
       "                        if (nbb_cells[i].get_text() == nbb_unformatted_code) {\n",
       "                             nbb_cells[i].set_text(nbb_formatted_code);\n",
       "                        }\n",
       "                        break;\n",
       "                    }\n",
       "                }\n",
       "            }, 500);\n",
       "            "
      ],
      "text/plain": [
       "<IPython.core.display.Javascript object>"
      ]
     },
     "metadata": {},
     "output_type": "display_data"
    }
   ],
   "source": [
    "target_data[114]"
   ]
  },
  {
   "cell_type": "code",
   "execution_count": 90,
   "metadata": {},
   "outputs": [
    {
     "name": "stdout",
     "output_type": "stream",
     "text": [
      "ERROR pair tags not equal | num_doc = 66 ['{10}', '{24}']\n",
      "ERROR pair tags not equal | num_doc = 75 ['{15}', '{24}']\n",
      "ERROR pair tags not equal | num_doc = 77 ['{27}', '{24}']\n"
     ]
    },
    {
     "data": {
      "application/javascript": [
       "\n",
       "            setTimeout(function() {\n",
       "                var nbb_cell_id = 90;\n",
       "                var nbb_unformatted_code = \"texts = []\\ntargets = []\\nfew_texts = []\\nfew_targets = []\\nreal_target_data = []\\nfor num, elem in enumerate(target_data):\\n    elem_old = elem\\n    ## one mode\\n    elem = re.sub(\\\"{\\\\d+}\\\\s{0,3}{\\\\d+}\\\", \\\"\\\", elem)\\n    if len(re.split(\\\"{\\\\d+}\\\", elem)) > 1:\\n        target = int(re.split(\\\"{\\\", elem)[1].split(\\\"}\\\")[0])\\n        text = re.split(\\\"{\\\\d+}\\\", elem)[1].strip()\\n    else:\\n        target = 0\\n        text = elem.strip()\\n    texts.append(text)\\n    targets.append(target)\\n    ## few mode\\n    few_target = re.findall(\\\"{\\\\d+}\\\", elem_old)[::2]\\n    few_target = [int(re.split(\\\"{\\\", x)[1].split(\\\"}\\\")[0]) for x in few_target]\\n    few_text = re.split(\\\"{\\\\d+}.{0,5}{\\\\d+}\\\", elem_old)\\n    few_text = [re.sub(\\\"{\\\\d+}|{\\\\d+\\\\)\\\", \\\"\\\", line) for line in few_text]\\n    if len(few_target) == 0:\\n        few_target = [0 for _ in few_text]\\n    few_texts.append(few_text)\\n    few_targets.append(few_target)\\n    ### \\u041f\\u0420\\u041e\\u0412\\u0415\\u0420\\u041a\\u0418 \\u041e\\u0428\\u0418\\u0411\\u041e\\u041a \\u0432 targts\\n    some_trgets = re.findall(\\\"{\\\\d+}|{\\\\d+\\\\)\\\", elem_old)\\n    mistake_flag = False\\n    for i in range(0, len(some_trgets), 2):\\n        try:\\n            if some_trgets[i] != some_trgets[i + 1]:\\n                mistake_flag = True\\n                print(\\\"ERROR pair tags not equal | num_doc =\\\", num, some_trgets)\\n        except:\\n            mistake_flag = True\\n            print(\\\"ERROR \\u043d\\u0435\\u0447\\u0435\\u0442\\u043d\\u043e\\u0435 \\u043a-\\u0432\\u043e some_trgets\\\", num, some_trgets)\\n    # \\u0435\\u0441\\u043b\\u0438 \\u043d\\u0435\\u0442 \\u043e\\u0448\\u0438\\u0431\\u043e\\u043a \\u0432 \\u0434\\u0430\\u043d\\u043d\\u044b\\u0445,\\u0442\\u043e \\u0443\\u0447\\u0438\\u0442\\u044b\\u0432\\u0430\\u0435\\u043c\\n    if not mistake_flag:\\n        texts.append(text)\\n        targets.append(target)\\n        few_texts.append(few_text)\\n        few_targets.append(few_target)\\n        real_target_data.append(elem_old)\\n\\n    if num == 114:\\n        break\";\n",
       "                var nbb_formatted_code = \"texts = []\\ntargets = []\\nfew_texts = []\\nfew_targets = []\\nreal_target_data = []\\nfor num, elem in enumerate(target_data):\\n    elem_old = elem\\n    ## one mode\\n    elem = re.sub(\\\"{\\\\d+}\\\\s{0,3}{\\\\d+}\\\", \\\"\\\", elem)\\n    if len(re.split(\\\"{\\\\d+}\\\", elem)) > 1:\\n        target = int(re.split(\\\"{\\\", elem)[1].split(\\\"}\\\")[0])\\n        text = re.split(\\\"{\\\\d+}\\\", elem)[1].strip()\\n    else:\\n        target = 0\\n        text = elem.strip()\\n    texts.append(text)\\n    targets.append(target)\\n    ## few mode\\n    few_target = re.findall(\\\"{\\\\d+}\\\", elem_old)[::2]\\n    few_target = [int(re.split(\\\"{\\\", x)[1].split(\\\"}\\\")[0]) for x in few_target]\\n    few_text = re.split(\\\"{\\\\d+}.{0,5}{\\\\d+}\\\", elem_old)\\n    few_text = [re.sub(\\\"{\\\\d+}|{\\\\d+\\\\)\\\", \\\"\\\", line) for line in few_text]\\n    if len(few_target) == 0:\\n        few_target = [0 for _ in few_text]\\n    few_texts.append(few_text)\\n    few_targets.append(few_target)\\n    ### \\u041f\\u0420\\u041e\\u0412\\u0415\\u0420\\u041a\\u0418 \\u041e\\u0428\\u0418\\u0411\\u041e\\u041a \\u0432 targts\\n    some_trgets = re.findall(\\\"{\\\\d+}|{\\\\d+\\\\)\\\", elem_old)\\n    mistake_flag = False\\n    for i in range(0, len(some_trgets), 2):\\n        try:\\n            if some_trgets[i] != some_trgets[i + 1]:\\n                mistake_flag = True\\n                print(\\\"ERROR pair tags not equal | num_doc =\\\", num, some_trgets)\\n        except:\\n            mistake_flag = True\\n            print(\\\"ERROR \\u043d\\u0435\\u0447\\u0435\\u0442\\u043d\\u043e\\u0435 \\u043a-\\u0432\\u043e some_trgets\\\", num, some_trgets)\\n    # \\u0435\\u0441\\u043b\\u0438 \\u043d\\u0435\\u0442 \\u043e\\u0448\\u0438\\u0431\\u043e\\u043a \\u0432 \\u0434\\u0430\\u043d\\u043d\\u044b\\u0445,\\u0442\\u043e \\u0443\\u0447\\u0438\\u0442\\u044b\\u0432\\u0430\\u0435\\u043c\\n    if not mistake_flag:\\n        texts.append(text)\\n        targets.append(target)\\n        few_texts.append(few_text)\\n        few_targets.append(few_target)\\n        real_target_data.append(elem_old)\\n\\n    if num == 114:\\n        break\";\n",
       "                var nbb_cells = Jupyter.notebook.get_cells();\n",
       "                for (var i = 0; i < nbb_cells.length; ++i) {\n",
       "                    if (nbb_cells[i].input_prompt_number == nbb_cell_id) {\n",
       "                        if (nbb_cells[i].get_text() == nbb_unformatted_code) {\n",
       "                             nbb_cells[i].set_text(nbb_formatted_code);\n",
       "                        }\n",
       "                        break;\n",
       "                    }\n",
       "                }\n",
       "            }, 500);\n",
       "            "
      ],
      "text/plain": [
       "<IPython.core.display.Javascript object>"
      ]
     },
     "metadata": {},
     "output_type": "display_data"
    }
   ],
   "source": [
    "texts = []\n",
    "targets = []\n",
    "few_texts = []\n",
    "few_targets = []\n",
    "real_target_data = []\n",
    "for num, elem in enumerate(target_data):\n",
    "    elem_old = elem\n",
    "    ## one mode\n",
    "    elem = re.sub(\"{\\d+}\\s{0,3}{\\d+}\", \"\", elem)\n",
    "    if len(re.split(\"{\\d+}\", elem)) > 1:\n",
    "        target = int(re.split(\"{\", elem)[1].split(\"}\")[0])\n",
    "        text = re.split(\"{\\d+}\", elem)[1].strip()\n",
    "    else:\n",
    "        target = 0\n",
    "        text = elem.strip()\n",
    "    texts.append(text)\n",
    "    targets.append(target)\n",
    "    ## few mode\n",
    "    few_target = re.findall(\"{\\d+}\", elem_old)[::2]\n",
    "    few_target = [int(re.split(\"{\", x)[1].split(\"}\")[0]) for x in few_target]\n",
    "    few_text = re.split(\"{\\d+}.{0,5}{\\d+}\", elem_old)\n",
    "    few_text = [re.sub(\"{\\d+}|{\\d+\\)\", \"\", line) for line in few_text]\n",
    "    if len(few_target) == 0:\n",
    "        few_target = [0 for _ in few_text]\n",
    "    few_texts.append(few_text)\n",
    "    few_targets.append(few_target)\n",
    "    ### ПРОВЕРКИ ОШИБОК в targts\n",
    "    some_trgets = re.findall(\"{\\d+}|{\\d+\\)\", elem_old)\n",
    "    mistake_flag = False\n",
    "    for i in range(0, len(some_trgets), 2):\n",
    "        try:\n",
    "            if some_trgets[i] != some_trgets[i + 1]:\n",
    "                mistake_flag = True\n",
    "                print(\"ERROR pair tags not equal | num_doc =\", num, some_trgets)\n",
    "        except:\n",
    "            mistake_flag = True\n",
    "            print(\"ERROR нечетное к-во some_trgets\", num, some_trgets)\n",
    "    # если нет ошибок в данных,то учитываем\n",
    "    if not mistake_flag:\n",
    "        texts.append(text)\n",
    "        targets.append(target)\n",
    "        few_texts.append(few_text)\n",
    "        few_targets.append(few_target)\n",
    "        real_target_data.append(elem_old)\n",
    "\n",
    "    if num == 114:\n",
    "        break"
   ]
  },
  {
   "cell_type": "code",
   "execution_count": 91,
   "metadata": {},
   "outputs": [
    {
     "data": {
      "application/javascript": [
       "\n",
       "            setTimeout(function() {\n",
       "                var nbb_cell_id = 91;\n",
       "                var nbb_unformatted_code = \"# for num, elem in enumerate(target_data):\\n#     print(num, elem)\";\n",
       "                var nbb_formatted_code = \"# for num, elem in enumerate(target_data):\\n#     print(num, elem)\";\n",
       "                var nbb_cells = Jupyter.notebook.get_cells();\n",
       "                for (var i = 0; i < nbb_cells.length; ++i) {\n",
       "                    if (nbb_cells[i].input_prompt_number == nbb_cell_id) {\n",
       "                        if (nbb_cells[i].get_text() == nbb_unformatted_code) {\n",
       "                             nbb_cells[i].set_text(nbb_formatted_code);\n",
       "                        }\n",
       "                        break;\n",
       "                    }\n",
       "                }\n",
       "            }, 500);\n",
       "            "
      ],
      "text/plain": [
       "<IPython.core.display.Javascript object>"
      ]
     },
     "metadata": {},
     "output_type": "display_data"
    }
   ],
   "source": [
    "# for num, elem in enumerate(target_data):\n",
    "#     print(num, elem)"
   ]
  },
  {
   "cell_type": "code",
   "execution_count": 92,
   "metadata": {},
   "outputs": [
    {
     "data": {
      "application/javascript": [
       "\n",
       "            setTimeout(function() {\n",
       "                var nbb_cell_id = 92;\n",
       "                var nbb_unformatted_code = \"# for num, elem in enumerate(real_target_data):\\n#     print(num, elem)\";\n",
       "                var nbb_formatted_code = \"# for num, elem in enumerate(real_target_data):\\n#     print(num, elem)\";\n",
       "                var nbb_cells = Jupyter.notebook.get_cells();\n",
       "                for (var i = 0; i < nbb_cells.length; ++i) {\n",
       "                    if (nbb_cells[i].input_prompt_number == nbb_cell_id) {\n",
       "                        if (nbb_cells[i].get_text() == nbb_unformatted_code) {\n",
       "                             nbb_cells[i].set_text(nbb_formatted_code);\n",
       "                        }\n",
       "                        break;\n",
       "                    }\n",
       "                }\n",
       "            }, 500);\n",
       "            "
      ],
      "text/plain": [
       "<IPython.core.display.Javascript object>"
      ]
     },
     "metadata": {},
     "output_type": "display_data"
    }
   ],
   "source": [
    "# for num, elem in enumerate(real_target_data):\n",
    "#     print(num, elem)"
   ]
  },
  {
   "cell_type": "code",
   "execution_count": 93,
   "metadata": {},
   "outputs": [
    {
     "data": {
      "text/plain": [
       "[27]"
      ]
     },
     "execution_count": 93,
     "metadata": {},
     "output_type": "execute_result"
    },
    {
     "data": {
      "application/javascript": [
       "\n",
       "            setTimeout(function() {\n",
       "                var nbb_cell_id = 93;\n",
       "                var nbb_unformatted_code = \"few_target\";\n",
       "                var nbb_formatted_code = \"few_target\";\n",
       "                var nbb_cells = Jupyter.notebook.get_cells();\n",
       "                for (var i = 0; i < nbb_cells.length; ++i) {\n",
       "                    if (nbb_cells[i].input_prompt_number == nbb_cell_id) {\n",
       "                        if (nbb_cells[i].get_text() == nbb_unformatted_code) {\n",
       "                             nbb_cells[i].set_text(nbb_formatted_code);\n",
       "                        }\n",
       "                        break;\n",
       "                    }\n",
       "                }\n",
       "            }, 500);\n",
       "            "
      ],
      "text/plain": [
       "<IPython.core.display.Javascript object>"
      ]
     },
     "metadata": {},
     "output_type": "display_data"
    }
   ],
   "source": [
    "few_target"
   ]
  },
  {
   "cell_type": "code",
   "execution_count": 94,
   "metadata": {},
   "outputs": [
    {
     "data": {
      "text/plain": [
       "['количество мероприятий по популяризации приобретения субъектами малого и среднего предпринимательства российского программного обеспечения по льготной цене. ']"
      ]
     },
     "execution_count": 94,
     "metadata": {},
     "output_type": "execute_result"
    },
    {
     "data": {
      "application/javascript": [
       "\n",
       "            setTimeout(function() {\n",
       "                var nbb_cell_id = 94;\n",
       "                var nbb_unformatted_code = \"few_text\";\n",
       "                var nbb_formatted_code = \"few_text\";\n",
       "                var nbb_cells = Jupyter.notebook.get_cells();\n",
       "                for (var i = 0; i < nbb_cells.length; ++i) {\n",
       "                    if (nbb_cells[i].input_prompt_number == nbb_cell_id) {\n",
       "                        if (nbb_cells[i].get_text() == nbb_unformatted_code) {\n",
       "                             nbb_cells[i].set_text(nbb_formatted_code);\n",
       "                        }\n",
       "                        break;\n",
       "                    }\n",
       "                }\n",
       "            }, 500);\n",
       "            "
      ],
      "text/plain": [
       "<IPython.core.display.Javascript object>"
      ]
     },
     "metadata": {},
     "output_type": "display_data"
    }
   ],
   "source": [
    "few_text"
   ]
  },
  {
   "cell_type": "code",
   "execution_count": 95,
   "metadata": {},
   "outputs": [
    {
     "data": {
      "text/plain": [
       "'{27}количество мероприятий по популяризации приобретения субъектами малого и среднего предпринимательства российского программного обеспечения по льготной цене. {27}'"
      ]
     },
     "execution_count": 95,
     "metadata": {},
     "output_type": "execute_result"
    },
    {
     "data": {
      "application/javascript": [
       "\n",
       "            setTimeout(function() {\n",
       "                var nbb_cell_id = 95;\n",
       "                var nbb_unformatted_code = \"elem_old\";\n",
       "                var nbb_formatted_code = \"elem_old\";\n",
       "                var nbb_cells = Jupyter.notebook.get_cells();\n",
       "                for (var i = 0; i < nbb_cells.length; ++i) {\n",
       "                    if (nbb_cells[i].input_prompt_number == nbb_cell_id) {\n",
       "                        if (nbb_cells[i].get_text() == nbb_unformatted_code) {\n",
       "                             nbb_cells[i].set_text(nbb_formatted_code);\n",
       "                        }\n",
       "                        break;\n",
       "                    }\n",
       "                }\n",
       "            }, 500);\n",
       "            "
      ],
      "text/plain": [
       "<IPython.core.display.Javascript object>"
      ]
     },
     "metadata": {},
     "output_type": "display_data"
    }
   ],
   "source": [
    "elem_old"
   ]
  },
  {
   "cell_type": "code",
   "execution_count": 96,
   "metadata": {},
   "outputs": [
    {
     "data": {
      "text/plain": [
       "['{27}количество мероприятий по популяризации приобретения субъектами малого и среднего предпринимательства российского программного обеспечения по льготной цене. {27}']"
      ]
     },
     "execution_count": 96,
     "metadata": {},
     "output_type": "execute_result"
    },
    {
     "data": {
      "application/javascript": [
       "\n",
       "            setTimeout(function() {\n",
       "                var nbb_cell_id = 96;\n",
       "                var nbb_unformatted_code = \"few_text1 = re.split(\\\"{\\\\d+}[ ,!-.]{0,3}{\\\\d+}\\\", elem_old)\\nfew_text1\";\n",
       "                var nbb_formatted_code = \"few_text1 = re.split(\\\"{\\\\d+}[ ,!-.]{0,3}{\\\\d+}\\\", elem_old)\\nfew_text1\";\n",
       "                var nbb_cells = Jupyter.notebook.get_cells();\n",
       "                for (var i = 0; i < nbb_cells.length; ++i) {\n",
       "                    if (nbb_cells[i].input_prompt_number == nbb_cell_id) {\n",
       "                        if (nbb_cells[i].get_text() == nbb_unformatted_code) {\n",
       "                             nbb_cells[i].set_text(nbb_formatted_code);\n",
       "                        }\n",
       "                        break;\n",
       "                    }\n",
       "                }\n",
       "            }, 500);\n",
       "            "
      ],
      "text/plain": [
       "<IPython.core.display.Javascript object>"
      ]
     },
     "metadata": {},
     "output_type": "display_data"
    }
   ],
   "source": [
    "few_text1 = re.split(\"{\\d+}[ ,!-.]{0,3}{\\d+}\", elem_old)\n",
    "few_text1"
   ]
  },
  {
   "cell_type": "code",
   "execution_count": 97,
   "metadata": {},
   "outputs": [
    {
     "data": {
      "text/plain": [
       "27"
      ]
     },
     "execution_count": 97,
     "metadata": {},
     "output_type": "execute_result"
    },
    {
     "data": {
      "application/javascript": [
       "\n",
       "            setTimeout(function() {\n",
       "                var nbb_cell_id = 97;\n",
       "                var nbb_unformatted_code = \"target\";\n",
       "                var nbb_formatted_code = \"target\";\n",
       "                var nbb_cells = Jupyter.notebook.get_cells();\n",
       "                for (var i = 0; i < nbb_cells.length; ++i) {\n",
       "                    if (nbb_cells[i].input_prompt_number == nbb_cell_id) {\n",
       "                        if (nbb_cells[i].get_text() == nbb_unformatted_code) {\n",
       "                             nbb_cells[i].set_text(nbb_formatted_code);\n",
       "                        }\n",
       "                        break;\n",
       "                    }\n",
       "                }\n",
       "            }, 500);\n",
       "            "
      ],
      "text/plain": [
       "<IPython.core.display.Javascript object>"
      ]
     },
     "metadata": {},
     "output_type": "display_data"
    }
   ],
   "source": [
    "target"
   ]
  },
  {
   "cell_type": "code",
   "execution_count": 98,
   "metadata": {},
   "outputs": [
    {
     "data": {
      "text/plain": [
       "['1. {2} Настоящие Правила устанавливают цели, условия и порядок предоставления субсидии из федерального бюджета Российскому фонду развития информационных технологий на возмещение затрат по использованию субъектами малого и среднего предпринимательства российского программного обеспечения (далее соответственно - Фонд, субсидия). {2}',\n",
       " '{2}Субсидия предоставляется в рамках реализации федерального  \"Цифровые технологии\" национальной  \"Цифровая экономика Российской Федерации\".{2}',\n",
       " '2. {3}Субсидия предоставляется Министерством цифрового развития, связи и массовых коммуникаций Российской Федерации в пределах лимитов бюджетных обязательств, доведенных в установленном порядке до Министерства цифрового развития, связи и массовых коммуникаций Российской Федерации как получателя средств федерального бюджета на цели, указанные в  настоящих Правил. {3}',\n",
       " '{7}Сведения о субсидии размещаются на едином портале бюджетной системы Российской Федерации в информационно-телекоммуникационной сети \"Интернет\" при формировании проекта федерального закона о федеральном бюджете (проекта федерального закона о внесении изменений в федеральный закон о федеральном бюджете). {7}',\n",
       " '3. {1}Понятия, используемые в настоящих Правилах, означают следующее: {1}']"
      ]
     },
     "execution_count": 98,
     "metadata": {},
     "output_type": "execute_result"
    },
    {
     "data": {
      "application/javascript": [
       "\n",
       "            setTimeout(function() {\n",
       "                var nbb_cell_id = 98;\n",
       "                var nbb_unformatted_code = \"target_data[:5]\";\n",
       "                var nbb_formatted_code = \"target_data[:5]\";\n",
       "                var nbb_cells = Jupyter.notebook.get_cells();\n",
       "                for (var i = 0; i < nbb_cells.length; ++i) {\n",
       "                    if (nbb_cells[i].input_prompt_number == nbb_cell_id) {\n",
       "                        if (nbb_cells[i].get_text() == nbb_unformatted_code) {\n",
       "                             nbb_cells[i].set_text(nbb_formatted_code);\n",
       "                        }\n",
       "                        break;\n",
       "                    }\n",
       "                }\n",
       "            }, 500);\n",
       "            "
      ],
      "text/plain": [
       "<IPython.core.display.Javascript object>"
      ]
     },
     "metadata": {},
     "output_type": "display_data"
    }
   ],
   "source": [
    "target_data[:5]"
   ]
  },
  {
   "cell_type": "code",
   "execution_count": 83,
   "metadata": {},
   "outputs": [
    {
     "data": {
      "text/plain": [
       "['Настоящие Правила устанавливают цели, условия и порядок предоставления субсидий из федерального бюджета центрам исторического наследия президентов Российской Федерации, прекративших исполнение своих полномочий (далее соответственно - субсидии, центры, получатель субсидии).',\n",
       " 'Субсидии предоставляются центрам, созданным в соответствии с Федеральным  \"О центрах исторического наследия президентов Российской Федерации, прекративших исполнение своих полномочий\", в целях изучения и публичного представления исторического наследия Президента Российской Федерации, прекратившего исполнение своих полномочий, как неотъемлемой части новейшей истории России, развития демократических институтов и построения правового государства.',\n",
       " 'Предоставление субсидий осуществляется в пределах лимитов бюджетных обязательств, доведенных в установленном порядке до Управления делами Президента Российской Федерации как получателя средств федерального бюджета (далее - главный распорядитель средств федерального бюджета), на цели, указанные в  настоящих Правил.',\n",
       " '(в ред.  Правительства РФ от 11.02.2021 N 162)',\n",
       " 'За счет субсидии осуществляется финансовое обеспечение расходов на:']"
      ]
     },
     "execution_count": 83,
     "metadata": {},
     "output_type": "execute_result"
    },
    {
     "data": {
      "application/javascript": [
       "\n",
       "            setTimeout(function() {\n",
       "                var nbb_cell_id = 83;\n",
       "                var nbb_unformatted_code = \"texts[:5]\";\n",
       "                var nbb_formatted_code = \"texts[:5]\";\n",
       "                var nbb_cells = Jupyter.notebook.get_cells();\n",
       "                for (var i = 0; i < nbb_cells.length; ++i) {\n",
       "                    if (nbb_cells[i].input_prompt_number == nbb_cell_id) {\n",
       "                        if (nbb_cells[i].get_text() == nbb_unformatted_code) {\n",
       "                             nbb_cells[i].set_text(nbb_formatted_code);\n",
       "                        }\n",
       "                        break;\n",
       "                    }\n",
       "                }\n",
       "            }, 500);\n",
       "            "
      ],
      "text/plain": [
       "<IPython.core.display.Javascript object>"
      ]
     },
     "metadata": {},
     "output_type": "display_data"
    }
   ],
   "source": [
    "texts[:5]"
   ]
  },
  {
   "cell_type": "code",
   "execution_count": 84,
   "metadata": {
    "scrolled": true
   },
   "outputs": [
    {
     "data": {
      "text/plain": [
       "[2, 2, 3, 0, 30]"
      ]
     },
     "execution_count": 84,
     "metadata": {},
     "output_type": "execute_result"
    },
    {
     "data": {
      "application/javascript": [
       "\n",
       "            setTimeout(function() {\n",
       "                var nbb_cell_id = 84;\n",
       "                var nbb_unformatted_code = \"targets[:5]\";\n",
       "                var nbb_formatted_code = \"targets[:5]\";\n",
       "                var nbb_cells = Jupyter.notebook.get_cells();\n",
       "                for (var i = 0; i < nbb_cells.length; ++i) {\n",
       "                    if (nbb_cells[i].input_prompt_number == nbb_cell_id) {\n",
       "                        if (nbb_cells[i].get_text() == nbb_unformatted_code) {\n",
       "                             nbb_cells[i].set_text(nbb_formatted_code);\n",
       "                        }\n",
       "                        break;\n",
       "                    }\n",
       "                }\n",
       "            }, 500);\n",
       "            "
      ],
      "text/plain": [
       "<IPython.core.display.Javascript object>"
      ]
     },
     "metadata": {},
     "output_type": "display_data"
    }
   ],
   "source": [
    "targets[:5]"
   ]
  }
 ],
 "metadata": {
  "kernelspec": {
   "display_name": "Python 3",
   "language": "python",
   "name": "python3"
  },
  "language_info": {
   "codemirror_mode": {
    "name": "ipython",
    "version": 3
   },
   "file_extension": ".py",
   "mimetype": "text/x-python",
   "name": "python",
   "nbconvert_exporter": "python",
   "pygments_lexer": "ipython3",
   "version": "3.7.4"
  }
 },
 "nbformat": 4,
 "nbformat_minor": 4
}
