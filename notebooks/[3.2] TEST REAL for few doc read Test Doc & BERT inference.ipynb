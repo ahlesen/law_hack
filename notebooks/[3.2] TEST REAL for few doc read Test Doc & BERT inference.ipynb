{
 "cells": [
  {
   "cell_type": "code",
   "execution_count": 2,
   "id": "c3590272",
   "metadata": {},
   "outputs": [
    {
     "data": {
      "text/html": [
       "<style type='text/css'>\n",
       ".datatable table.frame { margin-bottom: 0; }\n",
       ".datatable table.frame thead { border-bottom: none; }\n",
       ".datatable table.frame tr.coltypes td {  color: #FFFFFF;  line-height: 6px;  padding: 0 0.5em;}\n",
       ".datatable .bool    { background: #DDDD99; }\n",
       ".datatable .object  { background: #565656; }\n",
       ".datatable .int     { background: #5D9E5D; }\n",
       ".datatable .float   { background: #4040CC; }\n",
       ".datatable .str     { background: #CC4040; }\n",
       ".datatable .row_index {  background: var(--jp-border-color3);  border-right: 1px solid var(--jp-border-color0);  color: var(--jp-ui-font-color3);  font-size: 9px;}\n",
       ".datatable .frame tr.coltypes .row_index {  background: var(--jp-border-color0);}\n",
       ".datatable th:nth-child(2) { padding-left: 12px; }\n",
       ".datatable .hellipsis {  color: var(--jp-cell-editor-border-color);}\n",
       ".datatable .vellipsis {  background: var(--jp-layout-color0);  color: var(--jp-cell-editor-border-color);}\n",
       ".datatable .na {  color: var(--jp-cell-editor-border-color);  font-size: 80%;}\n",
       ".datatable .footer { font-size: 9px; }\n",
       ".datatable .frame_dimensions {  background: var(--jp-border-color3);  border-top: 1px solid var(--jp-border-color0);  color: var(--jp-ui-font-color3);  display: inline-block;  opacity: 0.6;  padding: 1px 10px 1px 5px;}\n",
       "</style>\n"
      ],
      "text/plain": [
       "<IPython.core.display.HTML object>"
      ]
     },
     "metadata": {},
     "output_type": "display_data"
    },
    {
     "name": "stderr",
     "output_type": "stream",
     "text": [
      "[nltk_data] Downloading package stopwords to /home/andrey/nltk_data...\n",
      "[nltk_data]   Package stopwords is already up-to-date!\n"
     ]
    },
    {
     "data": {
      "application/javascript": [
       "\n",
       "            setTimeout(function() {\n",
       "                var nbb_cell_id = 2;\n",
       "                var nbb_unformatted_code = \"import pandas as pd\\nimport re\\n\\nimport pandas as pd\\nfrom sklearn.linear_model import LogisticRegression\\nfrom sklearn.model_selection import cross_val_score, StratifiedKFold\\nfrom sklearn.feature_extraction.text import TfidfVectorizer\\nfrom scipy.sparse import hstack\\nfrom matplotlib import pyplot as plt\\n\\n%matplotlib inline\\nimport seaborn as sns\\nimport eli5\\nimport numpy as np\\nimport nltk\\n\\nnltk.download(\\\"stopwords\\\")\\nfrom nltk.corpus import stopwords\\n\\nrussian_stopwords = stopwords.words(\\\"russian\\\")\";\n",
       "                var nbb_formatted_code = \"import pandas as pd\\nimport re\\n\\nimport pandas as pd\\nfrom sklearn.linear_model import LogisticRegression\\nfrom sklearn.model_selection import cross_val_score, StratifiedKFold\\nfrom sklearn.feature_extraction.text import TfidfVectorizer\\nfrom scipy.sparse import hstack\\nfrom matplotlib import pyplot as plt\\n\\n%matplotlib inline\\nimport seaborn as sns\\nimport eli5\\nimport numpy as np\\nimport nltk\\n\\nnltk.download(\\\"stopwords\\\")\\nfrom nltk.corpus import stopwords\\n\\nrussian_stopwords = stopwords.words(\\\"russian\\\")\";\n",
       "                var nbb_cells = Jupyter.notebook.get_cells();\n",
       "                for (var i = 0; i < nbb_cells.length; ++i) {\n",
       "                    if (nbb_cells[i].input_prompt_number == nbb_cell_id) {\n",
       "                        if (nbb_cells[i].get_text() == nbb_unformatted_code) {\n",
       "                             nbb_cells[i].set_text(nbb_formatted_code);\n",
       "                        }\n",
       "                        break;\n",
       "                    }\n",
       "                }\n",
       "            }, 500);\n",
       "            "
      ],
      "text/plain": [
       "<IPython.core.display.Javascript object>"
      ]
     },
     "metadata": {},
     "output_type": "display_data"
    }
   ],
   "source": [
    "import pandas as pd\n",
    "import re\n",
    "\n",
    "import pandas as pd\n",
    "from sklearn.linear_model import LogisticRegression\n",
    "from sklearn.model_selection import cross_val_score, StratifiedKFold\n",
    "from sklearn.feature_extraction.text import TfidfVectorizer\n",
    "from scipy.sparse import hstack\n",
    "from matplotlib import pyplot as plt\n",
    "\n",
    "%matplotlib inline\n",
    "import seaborn as sns\n",
    "import eli5\n",
    "import numpy as np\n",
    "import nltk\n",
    "\n",
    "nltk.download(\"stopwords\")\n",
    "from nltk.corpus import stopwords\n",
    "\n",
    "russian_stopwords = stopwords.words(\"russian\")"
   ]
  },
  {
   "cell_type": "markdown",
   "id": "0c825330",
   "metadata": {},
   "source": [
    "### Модуль с загрузкой документа и извлечением необходимых данных"
   ]
  },
  {
   "cell_type": "code",
   "execution_count": 3,
   "id": "f1c2746a",
   "metadata": {},
   "outputs": [
    {
     "data": {
      "application/javascript": [
       "\n",
       "            setTimeout(function() {\n",
       "                var nbb_cell_id = 3;\n",
       "                var nbb_unformatted_code = \"import os\\nimport docx\\nimport re\\nimport pickle\";\n",
       "                var nbb_formatted_code = \"import os\\nimport docx\\nimport re\\nimport pickle\";\n",
       "                var nbb_cells = Jupyter.notebook.get_cells();\n",
       "                for (var i = 0; i < nbb_cells.length; ++i) {\n",
       "                    if (nbb_cells[i].input_prompt_number == nbb_cell_id) {\n",
       "                        if (nbb_cells[i].get_text() == nbb_unformatted_code) {\n",
       "                             nbb_cells[i].set_text(nbb_formatted_code);\n",
       "                        }\n",
       "                        break;\n",
       "                    }\n",
       "                }\n",
       "            }, 500);\n",
       "            "
      ],
      "text/plain": [
       "<IPython.core.display.Javascript object>"
      ]
     },
     "metadata": {},
     "output_type": "display_data"
    }
   ],
   "source": [
    "import os\n",
    "import docx\n",
    "import re\n",
    "import pickle"
   ]
  },
  {
   "cell_type": "code",
   "execution_count": 4,
   "id": "b1c431b7",
   "metadata": {},
   "outputs": [
    {
     "data": {
      "application/javascript": [
       "\n",
       "            setTimeout(function() {\n",
       "                var nbb_cell_id = 4;\n",
       "                var nbb_unformatted_code = \"def get_text(doc):\\n    fullText = []\\n    for para in doc.paragraphs:\\n        fullText.append(para.text.strip())\\n    fullText = [elem for elem in fullText if len(elem) > 0]\\n    return fullText\";\n",
       "                var nbb_formatted_code = \"def get_text(doc):\\n    fullText = []\\n    for para in doc.paragraphs:\\n        fullText.append(para.text.strip())\\n    fullText = [elem for elem in fullText if len(elem) > 0]\\n    return fullText\";\n",
       "                var nbb_cells = Jupyter.notebook.get_cells();\n",
       "                for (var i = 0; i < nbb_cells.length; ++i) {\n",
       "                    if (nbb_cells[i].input_prompt_number == nbb_cell_id) {\n",
       "                        if (nbb_cells[i].get_text() == nbb_unformatted_code) {\n",
       "                             nbb_cells[i].set_text(nbb_formatted_code);\n",
       "                        }\n",
       "                        break;\n",
       "                    }\n",
       "                }\n",
       "            }, 500);\n",
       "            "
      ],
      "text/plain": [
       "<IPython.core.display.Javascript object>"
      ]
     },
     "metadata": {},
     "output_type": "display_data"
    }
   ],
   "source": [
    "def get_text(doc):\n",
    "    fullText = []\n",
    "    for para in doc.paragraphs:\n",
    "        fullText.append(para.text.strip())\n",
    "    fullText = [elem for elem in fullText if len(elem) > 0]\n",
    "    return fullText"
   ]
  },
  {
   "cell_type": "code",
   "execution_count": 5,
   "id": "81765032",
   "metadata": {},
   "outputs": [
    {
     "data": {
      "application/javascript": [
       "\n",
       "            setTimeout(function() {\n",
       "                var nbb_cell_id = 5;\n",
       "                var nbb_unformatted_code = \"def get_first_index(fullText):\\n    ind_start = 0\\n    for i in range(len(fullText) - 1):\\n        if (\\\"\\u043f\\u0440\\u0430\\u0432\\u0438\\u043b\\u0430\\\" in fullText[i].lower()) and (\\n            \\\"\\u043f\\u0440\\u0435\\u0434\\u043e\\u0441\\u0442\\u0430\\u0432\\u043b\\u0435\\u043d\\u0438\\u044f\\\" in fullText[i + 1].lower()\\n        ):\\n            ind_start = i\\n            break\\n    return ind_start\";\n",
       "                var nbb_formatted_code = \"def get_first_index(fullText):\\n    ind_start = 0\\n    for i in range(len(fullText) - 1):\\n        if (\\\"\\u043f\\u0440\\u0430\\u0432\\u0438\\u043b\\u0430\\\" in fullText[i].lower()) and (\\n            \\\"\\u043f\\u0440\\u0435\\u0434\\u043e\\u0441\\u0442\\u0430\\u0432\\u043b\\u0435\\u043d\\u0438\\u044f\\\" in fullText[i + 1].lower()\\n        ):\\n            ind_start = i\\n            break\\n    return ind_start\";\n",
       "                var nbb_cells = Jupyter.notebook.get_cells();\n",
       "                for (var i = 0; i < nbb_cells.length; ++i) {\n",
       "                    if (nbb_cells[i].input_prompt_number == nbb_cell_id) {\n",
       "                        if (nbb_cells[i].get_text() == nbb_unformatted_code) {\n",
       "                             nbb_cells[i].set_text(nbb_formatted_code);\n",
       "                        }\n",
       "                        break;\n",
       "                    }\n",
       "                }\n",
       "            }, 500);\n",
       "            "
      ],
      "text/plain": [
       "<IPython.core.display.Javascript object>"
      ]
     },
     "metadata": {},
     "output_type": "display_data"
    }
   ],
   "source": [
    "def get_first_index(fullText):\n",
    "    ind_start = 0\n",
    "    for i in range(len(fullText) - 1):\n",
    "        if (\"правила\" in fullText[i].lower()) and (\n",
    "            \"предоставления\" in fullText[i + 1].lower()\n",
    "        ):\n",
    "            ind_start = i\n",
    "            break\n",
    "    return ind_start"
   ]
  },
  {
   "cell_type": "code",
   "execution_count": 6,
   "id": "4c4bad44",
   "metadata": {},
   "outputs": [
    {
     "data": {
      "application/javascript": [
       "\n",
       "            setTimeout(function() {\n",
       "                var nbb_cell_id = 6;\n",
       "                var nbb_unformatted_code = \"def get_end_index(fullText):\\n    end_start = len(fullText)\\n    for i in range(ind_start, len(fullText) - 1):\\n        if (\\n            (\\n                fullText[i].lower().startswith(\\\"\\u0443\\u0442\\u0432\\u0435\\u0440\\u0436\\u0434\\u0435\\u043d\\\")\\n                & fullText[i + 1].lower().startswith(\\\"\\u043f\\u043e\\u0441\\u0442\\u0430\\u043d\\u043e\\u0432\\u043b\\u0435\\u043d\\u0438\\u0435\\u043c \\u043f\\u0440\\u0430\\u0432\\u0438\\u0442\\u0435\\u043b\\u044c\\u0441\\u0442\\u0432\\u0430\\\")\\n            )\\n            | (\\n                (\\\"\\u043f\\u0440\\u0438\\u043b\\u043e\\u0436\\u0435\\u043d\\u0438\\u0435 \\u2116\\\" in fullText[i].lower())\\n                & (\\\"\\u043f\\u0440\\u0435\\u0434\\u043e\\u0441\\u0442\\u0430\\u0432\\u043b\\u0435\\u043d\\u0438\\u044f\\\" in fullText[i + 1].lower())\\n            )\\n            | (\\n                (\\\"\\u043f\\u0440\\u0438\\u043b\\u043e\\u0436\\u0435\\u043d\\u0438\\u0435 \\u2116\\\" in fullText[i].lower())\\n                & (\\\"\\u043f\\u0440\\u0435\\u0434\\u043e\\u0441\\u0442\\u0430\\u0432\\u043b\\u0435\\u043d\\u0438\\u044f\\\" in fullText[i].lower())\\n            )\\n            | (\\n                (\\\"\\u043f\\u0440\\u0438\\u043b\\u043e\\u0436\\u0435\\u043d\\u0438\\u0435 N\\\" in fullText[i].lower())\\n                & (\\\"\\u043f\\u0440\\u0435\\u0434\\u043e\\u0441\\u0442\\u0430\\u0432\\u043b\\u0435\\u043d\\u0438\\u044f\\\" in fullText[i + 1].lower())\\n            )\\n            | (\\n                (\\\"\\u043f\\u0440\\u0438\\u043b\\u043e\\u0436\\u0435\\u043d\\u0438\\u0435\\\" in fullText[i].lower())\\n                & (\\\"\\u043a \\u043f\\u0440\\u0430\\u0432\\u0438\\u043b\\u0430\\u043c \\u043f\\u0440\\u0435\\u0434\\u043e\\u0441\\u0442\\u0430\\u0432\\u043b\\u0435\\u043d\\u0438\\u044f\\\" in fullText[i + 1].lower())\\n            )\\n        ):\\n            if (i < end_start - 6) & (\\\"\\u043f\\u0440\\u0430\\u0432\\u0438\\u043b\\u0430\\\" in fullText[i + 4].lower()) and (\\n                \\\"\\u043f\\u0440\\u0435\\u0434\\u043e\\u0441\\u0442\\u0430\\u0432\\u043b\\u0435\\u043d\\u0438\\u044f\\\" in fullText[i + 5].lower()\\n            ):\\n                continue\\n            end_start = i\\n            break\\n    return end_start\";\n",
       "                var nbb_formatted_code = \"def get_end_index(fullText):\\n    end_start = len(fullText)\\n    for i in range(ind_start, len(fullText) - 1):\\n        if (\\n            (\\n                fullText[i].lower().startswith(\\\"\\u0443\\u0442\\u0432\\u0435\\u0440\\u0436\\u0434\\u0435\\u043d\\\")\\n                & fullText[i + 1].lower().startswith(\\\"\\u043f\\u043e\\u0441\\u0442\\u0430\\u043d\\u043e\\u0432\\u043b\\u0435\\u043d\\u0438\\u0435\\u043c \\u043f\\u0440\\u0430\\u0432\\u0438\\u0442\\u0435\\u043b\\u044c\\u0441\\u0442\\u0432\\u0430\\\")\\n            )\\n            | (\\n                (\\\"\\u043f\\u0440\\u0438\\u043b\\u043e\\u0436\\u0435\\u043d\\u0438\\u0435 \\u2116\\\" in fullText[i].lower())\\n                & (\\\"\\u043f\\u0440\\u0435\\u0434\\u043e\\u0441\\u0442\\u0430\\u0432\\u043b\\u0435\\u043d\\u0438\\u044f\\\" in fullText[i + 1].lower())\\n            )\\n            | (\\n                (\\\"\\u043f\\u0440\\u0438\\u043b\\u043e\\u0436\\u0435\\u043d\\u0438\\u0435 \\u2116\\\" in fullText[i].lower())\\n                & (\\\"\\u043f\\u0440\\u0435\\u0434\\u043e\\u0441\\u0442\\u0430\\u0432\\u043b\\u0435\\u043d\\u0438\\u044f\\\" in fullText[i].lower())\\n            )\\n            | (\\n                (\\\"\\u043f\\u0440\\u0438\\u043b\\u043e\\u0436\\u0435\\u043d\\u0438\\u0435 N\\\" in fullText[i].lower())\\n                & (\\\"\\u043f\\u0440\\u0435\\u0434\\u043e\\u0441\\u0442\\u0430\\u0432\\u043b\\u0435\\u043d\\u0438\\u044f\\\" in fullText[i + 1].lower())\\n            )\\n            | (\\n                (\\\"\\u043f\\u0440\\u0438\\u043b\\u043e\\u0436\\u0435\\u043d\\u0438\\u0435\\\" in fullText[i].lower())\\n                & (\\\"\\u043a \\u043f\\u0440\\u0430\\u0432\\u0438\\u043b\\u0430\\u043c \\u043f\\u0440\\u0435\\u0434\\u043e\\u0441\\u0442\\u0430\\u0432\\u043b\\u0435\\u043d\\u0438\\u044f\\\" in fullText[i + 1].lower())\\n            )\\n        ):\\n            if (i < end_start - 6) & (\\\"\\u043f\\u0440\\u0430\\u0432\\u0438\\u043b\\u0430\\\" in fullText[i + 4].lower()) and (\\n                \\\"\\u043f\\u0440\\u0435\\u0434\\u043e\\u0441\\u0442\\u0430\\u0432\\u043b\\u0435\\u043d\\u0438\\u044f\\\" in fullText[i + 5].lower()\\n            ):\\n                continue\\n            end_start = i\\n            break\\n    return end_start\";\n",
       "                var nbb_cells = Jupyter.notebook.get_cells();\n",
       "                for (var i = 0; i < nbb_cells.length; ++i) {\n",
       "                    if (nbb_cells[i].input_prompt_number == nbb_cell_id) {\n",
       "                        if (nbb_cells[i].get_text() == nbb_unformatted_code) {\n",
       "                             nbb_cells[i].set_text(nbb_formatted_code);\n",
       "                        }\n",
       "                        break;\n",
       "                    }\n",
       "                }\n",
       "            }, 500);\n",
       "            "
      ],
      "text/plain": [
       "<IPython.core.display.Javascript object>"
      ]
     },
     "metadata": {},
     "output_type": "display_data"
    }
   ],
   "source": [
    "def get_end_index(fullText):\n",
    "    end_start = len(fullText)\n",
    "    for i in range(ind_start, len(fullText) - 1):\n",
    "        if (\n",
    "            (\n",
    "                fullText[i].lower().startswith(\"утвержден\")\n",
    "                & fullText[i + 1].lower().startswith(\"постановлением правительства\")\n",
    "            )\n",
    "            | (\n",
    "                (\"приложение №\" in fullText[i].lower())\n",
    "                & (\"предоставления\" in fullText[i + 1].lower())\n",
    "            )\n",
    "            | (\n",
    "                (\"приложение №\" in fullText[i].lower())\n",
    "                & (\"предоставления\" in fullText[i].lower())\n",
    "            )\n",
    "            | (\n",
    "                (\"приложение N\" in fullText[i].lower())\n",
    "                & (\"предоставления\" in fullText[i + 1].lower())\n",
    "            )\n",
    "            | (\n",
    "                (\"приложение\" in fullText[i].lower())\n",
    "                & (\"к правилам предоставления\" in fullText[i + 1].lower())\n",
    "            )\n",
    "        ):\n",
    "            if (i < end_start - 6) & (\"правила\" in fullText[i + 4].lower()) and (\n",
    "                \"предоставления\" in fullText[i + 5].lower()\n",
    "            ):\n",
    "                continue\n",
    "            end_start = i\n",
    "            break\n",
    "    return end_start"
   ]
  },
  {
   "cell_type": "code",
   "execution_count": 7,
   "id": "91993b84",
   "metadata": {},
   "outputs": [
    {
     "data": {
      "application/javascript": [
       "\n",
       "            setTimeout(function() {\n",
       "                var nbb_cell_id = 7;\n",
       "                var nbb_unformatted_code = \"path_docs = \\\"../data/test_real/\\\"\";\n",
       "                var nbb_formatted_code = \"path_docs = \\\"../data/test_real/\\\"\";\n",
       "                var nbb_cells = Jupyter.notebook.get_cells();\n",
       "                for (var i = 0; i < nbb_cells.length; ++i) {\n",
       "                    if (nbb_cells[i].input_prompt_number == nbb_cell_id) {\n",
       "                        if (nbb_cells[i].get_text() == nbb_unformatted_code) {\n",
       "                             nbb_cells[i].set_text(nbb_formatted_code);\n",
       "                        }\n",
       "                        break;\n",
       "                    }\n",
       "                }\n",
       "            }, 500);\n",
       "            "
      ],
      "text/plain": [
       "<IPython.core.display.Javascript object>"
      ]
     },
     "metadata": {},
     "output_type": "display_data"
    }
   ],
   "source": [
    "path_docs = \"../data/test_real/\""
   ]
  },
  {
   "cell_type": "code",
   "execution_count": 8,
   "id": "e6aae136",
   "metadata": {},
   "outputs": [
    {
     "data": {
      "text/plain": [
       "['1.docx',\n",
       " '10.docx',\n",
       " '2.docx',\n",
       " '3.docx',\n",
       " '4.docx',\n",
       " '5.docx',\n",
       " '6.docx',\n",
       " '7.docx',\n",
       " '8.docx',\n",
       " '9.docx']"
      ]
     },
     "execution_count": 8,
     "metadata": {},
     "output_type": "execute_result"
    },
    {
     "data": {
      "application/javascript": [
       "\n",
       "            setTimeout(function() {\n",
       "                var nbb_cell_id = 8;\n",
       "                var nbb_unformatted_code = \"interest_files = [file for file in os.listdir(path_docs) if file.endswith(\\\"docx\\\")]\\nsorted(interest_files)\";\n",
       "                var nbb_formatted_code = \"interest_files = [file for file in os.listdir(path_docs) if file.endswith(\\\"docx\\\")]\\nsorted(interest_files)\";\n",
       "                var nbb_cells = Jupyter.notebook.get_cells();\n",
       "                for (var i = 0; i < nbb_cells.length; ++i) {\n",
       "                    if (nbb_cells[i].input_prompt_number == nbb_cell_id) {\n",
       "                        if (nbb_cells[i].get_text() == nbb_unformatted_code) {\n",
       "                             nbb_cells[i].set_text(nbb_formatted_code);\n",
       "                        }\n",
       "                        break;\n",
       "                    }\n",
       "                }\n",
       "            }, 500);\n",
       "            "
      ],
      "text/plain": [
       "<IPython.core.display.Javascript object>"
      ]
     },
     "metadata": {},
     "output_type": "display_data"
    }
   ],
   "source": [
    "interest_files = [file for file in os.listdir(path_docs) if file.endswith(\"docx\")]\n",
    "sorted(interest_files)"
   ]
  },
  {
   "cell_type": "code",
   "execution_count": 9,
   "id": "e31eff66",
   "metadata": {},
   "outputs": [
    {
     "data": {
      "text/html": [
       "<div>\n",
       "<style scoped>\n",
       "    .dataframe tbody tr th:only-of-type {\n",
       "        vertical-align: middle;\n",
       "    }\n",
       "\n",
       "    .dataframe tbody tr th {\n",
       "        vertical-align: top;\n",
       "    }\n",
       "\n",
       "    .dataframe thead th {\n",
       "        text-align: right;\n",
       "    }\n",
       "</style>\n",
       "<table border=\"1\" class=\"dataframe\">\n",
       "  <thead>\n",
       "    <tr style=\"text-align: right;\">\n",
       "      <th></th>\n",
       "      <th>file_id</th>\n",
       "      <th>id</th>\n",
       "      <th>class</th>\n",
       "    </tr>\n",
       "  </thead>\n",
       "  <tbody>\n",
       "    <tr>\n",
       "      <th>0</th>\n",
       "      <td>1</td>\n",
       "      <td>1</td>\n",
       "      <td>1</td>\n",
       "    </tr>\n",
       "    <tr>\n",
       "      <th>1</th>\n",
       "      <td>1</td>\n",
       "      <td>2</td>\n",
       "      <td>1</td>\n",
       "    </tr>\n",
       "    <tr>\n",
       "      <th>2</th>\n",
       "      <td>1</td>\n",
       "      <td>3</td>\n",
       "      <td>1</td>\n",
       "    </tr>\n",
       "    <tr>\n",
       "      <th>3</th>\n",
       "      <td>1</td>\n",
       "      <td>4</td>\n",
       "      <td>1</td>\n",
       "    </tr>\n",
       "    <tr>\n",
       "      <th>4</th>\n",
       "      <td>1</td>\n",
       "      <td>5</td>\n",
       "      <td>1</td>\n",
       "    </tr>\n",
       "    <tr>\n",
       "      <th>...</th>\n",
       "      <td>...</td>\n",
       "      <td>...</td>\n",
       "      <td>...</td>\n",
       "    </tr>\n",
       "    <tr>\n",
       "      <th>847</th>\n",
       "      <td>10</td>\n",
       "      <td>67</td>\n",
       "      <td>1</td>\n",
       "    </tr>\n",
       "    <tr>\n",
       "      <th>848</th>\n",
       "      <td>10</td>\n",
       "      <td>68</td>\n",
       "      <td>1</td>\n",
       "    </tr>\n",
       "    <tr>\n",
       "      <th>849</th>\n",
       "      <td>10</td>\n",
       "      <td>69</td>\n",
       "      <td>1</td>\n",
       "    </tr>\n",
       "    <tr>\n",
       "      <th>850</th>\n",
       "      <td>10</td>\n",
       "      <td>70</td>\n",
       "      <td>1</td>\n",
       "    </tr>\n",
       "    <tr>\n",
       "      <th>851</th>\n",
       "      <td>10</td>\n",
       "      <td>71</td>\n",
       "      <td>1</td>\n",
       "    </tr>\n",
       "  </tbody>\n",
       "</table>\n",
       "<p>852 rows × 3 columns</p>\n",
       "</div>"
      ],
      "text/plain": [
       "     file_id  id  class\n",
       "0          1   1      1\n",
       "1          1   2      1\n",
       "2          1   3      1\n",
       "3          1   4      1\n",
       "4          1   5      1\n",
       "..       ...  ..    ...\n",
       "847       10  67      1\n",
       "848       10  68      1\n",
       "849       10  69      1\n",
       "850       10  70      1\n",
       "851       10  71      1\n",
       "\n",
       "[852 rows x 3 columns]"
      ]
     },
     "execution_count": 9,
     "metadata": {},
     "output_type": "execute_result"
    },
    {
     "data": {
      "application/javascript": [
       "\n",
       "            setTimeout(function() {\n",
       "                var nbb_cell_id = 9;\n",
       "                var nbb_unformatted_code = \"sample_sub = pd.read_csv(\\\"../data/test_real/description/\\u041d\\u0430\\u0437\\u0432\\u0430\\u043d\\u0438\\u0435_\\u043a\\u043e\\u043c\\u0430\\u043d\\u0434\\u044b.csv\\\", sep=\\\";\\\")\\nsample_sub\";\n",
       "                var nbb_formatted_code = \"sample_sub = pd.read_csv(\\\"../data/test_real/description/\\u041d\\u0430\\u0437\\u0432\\u0430\\u043d\\u0438\\u0435_\\u043a\\u043e\\u043c\\u0430\\u043d\\u0434\\u044b.csv\\\", sep=\\\";\\\")\\nsample_sub\";\n",
       "                var nbb_cells = Jupyter.notebook.get_cells();\n",
       "                for (var i = 0; i < nbb_cells.length; ++i) {\n",
       "                    if (nbb_cells[i].input_prompt_number == nbb_cell_id) {\n",
       "                        if (nbb_cells[i].get_text() == nbb_unformatted_code) {\n",
       "                             nbb_cells[i].set_text(nbb_formatted_code);\n",
       "                        }\n",
       "                        break;\n",
       "                    }\n",
       "                }\n",
       "            }, 500);\n",
       "            "
      ],
      "text/plain": [
       "<IPython.core.display.Javascript object>"
      ]
     },
     "metadata": {},
     "output_type": "display_data"
    }
   ],
   "source": [
    "sample_sub = pd.read_csv(\"../data/test_real/description/Название_команды.csv\", sep=\";\")\n",
    "sample_sub"
   ]
  },
  {
   "cell_type": "code",
   "execution_count": 10,
   "id": "5e3acee5",
   "metadata": {},
   "outputs": [
    {
     "name": "stdout",
     "output_type": "stream",
     "text": [
      "<class 'pandas.core.frame.DataFrame'>\n",
      "RangeIndex: 852 entries, 0 to 851\n",
      "Data columns (total 3 columns):\n",
      " #   Column   Non-Null Count  Dtype\n",
      "---  ------   --------------  -----\n",
      " 0   file_id  852 non-null    int64\n",
      " 1   id       852 non-null    int64\n",
      " 2   class    852 non-null    int64\n",
      "dtypes: int64(3)\n",
      "memory usage: 20.1 KB\n"
     ]
    },
    {
     "data": {
      "application/javascript": [
       "\n",
       "            setTimeout(function() {\n",
       "                var nbb_cell_id = 10;\n",
       "                var nbb_unformatted_code = \"sample_sub.info()\";\n",
       "                var nbb_formatted_code = \"sample_sub.info()\";\n",
       "                var nbb_cells = Jupyter.notebook.get_cells();\n",
       "                for (var i = 0; i < nbb_cells.length; ++i) {\n",
       "                    if (nbb_cells[i].input_prompt_number == nbb_cell_id) {\n",
       "                        if (nbb_cells[i].get_text() == nbb_unformatted_code) {\n",
       "                             nbb_cells[i].set_text(nbb_formatted_code);\n",
       "                        }\n",
       "                        break;\n",
       "                    }\n",
       "                }\n",
       "            }, 500);\n",
       "            "
      ],
      "text/plain": [
       "<IPython.core.display.Javascript object>"
      ]
     },
     "metadata": {},
     "output_type": "display_data"
    }
   ],
   "source": [
    "sample_sub.info()"
   ]
  },
  {
   "cell_type": "markdown",
   "id": "8c4d4aec",
   "metadata": {},
   "source": [
    "### определяем текущую модель"
   ]
  },
  {
   "cell_type": "code",
   "execution_count": 11,
   "id": "93428bc6",
   "metadata": {},
   "outputs": [
    {
     "data": {
      "application/javascript": [
       "\n",
       "            setTimeout(function() {\n",
       "                var nbb_cell_id = 11;\n",
       "                var nbb_unformatted_code = \"from transformers import AutoModel, AutoTokenizer, BertForSequenceClassification\\nimport torch\\nimport torch.nn.functional as F\\nfrom torch.utils.data import TensorDataset, DataLoader, RandomSampler, SequentialSampler\\n\\n# from keras.preprocessing.sequence import pad_sequences\\nfrom keras_preprocessing.sequence import pad_sequences\\nfrom tqdm.notebook import tqdm\\n\\ndevice = \\\"cpu\\\"\";\n",
       "                var nbb_formatted_code = \"from transformers import AutoModel, AutoTokenizer, BertForSequenceClassification\\nimport torch\\nimport torch.nn.functional as F\\nfrom torch.utils.data import TensorDataset, DataLoader, RandomSampler, SequentialSampler\\n\\n# from keras.preprocessing.sequence import pad_sequences\\nfrom keras_preprocessing.sequence import pad_sequences\\nfrom tqdm.notebook import tqdm\\n\\ndevice = \\\"cpu\\\"\";\n",
       "                var nbb_cells = Jupyter.notebook.get_cells();\n",
       "                for (var i = 0; i < nbb_cells.length; ++i) {\n",
       "                    if (nbb_cells[i].input_prompt_number == nbb_cell_id) {\n",
       "                        if (nbb_cells[i].get_text() == nbb_unformatted_code) {\n",
       "                             nbb_cells[i].set_text(nbb_formatted_code);\n",
       "                        }\n",
       "                        break;\n",
       "                    }\n",
       "                }\n",
       "            }, 500);\n",
       "            "
      ],
      "text/plain": [
       "<IPython.core.display.Javascript object>"
      ]
     },
     "metadata": {},
     "output_type": "display_data"
    }
   ],
   "source": [
    "from transformers import AutoModel, AutoTokenizer, BertForSequenceClassification\n",
    "import torch\n",
    "import torch.nn.functional as F\n",
    "from torch.utils.data import TensorDataset, DataLoader, RandomSampler, SequentialSampler\n",
    "\n",
    "# from keras.preprocessing.sequence import pad_sequences\n",
    "from keras_preprocessing.sequence import pad_sequences\n",
    "from tqdm.notebook import tqdm\n",
    "\n",
    "device = \"cpu\""
   ]
  },
  {
   "cell_type": "code",
   "execution_count": 12,
   "id": "3af26fdd",
   "metadata": {},
   "outputs": [
    {
     "data": {
      "application/javascript": [
       "\n",
       "            setTimeout(function() {\n",
       "                var nbb_cell_id = 12;\n",
       "                var nbb_unformatted_code = \"# Define the model repo\\nmodel_name = \\\"DeepPavlov/rubert-base-cased\\\"\\n\\n\\n# Download pytorch model\\ntokenizer = AutoTokenizer.from_pretrained(model_name)\";\n",
       "                var nbb_formatted_code = \"# Define the model repo\\nmodel_name = \\\"DeepPavlov/rubert-base-cased\\\"\\n\\n\\n# Download pytorch model\\ntokenizer = AutoTokenizer.from_pretrained(model_name)\";\n",
       "                var nbb_cells = Jupyter.notebook.get_cells();\n",
       "                for (var i = 0; i < nbb_cells.length; ++i) {\n",
       "                    if (nbb_cells[i].input_prompt_number == nbb_cell_id) {\n",
       "                        if (nbb_cells[i].get_text() == nbb_unformatted_code) {\n",
       "                             nbb_cells[i].set_text(nbb_formatted_code);\n",
       "                        }\n",
       "                        break;\n",
       "                    }\n",
       "                }\n",
       "            }, 500);\n",
       "            "
      ],
      "text/plain": [
       "<IPython.core.display.Javascript object>"
      ]
     },
     "metadata": {},
     "output_type": "display_data"
    }
   ],
   "source": [
    "# Define the model repo\n",
    "model_name = \"DeepPavlov/rubert-base-cased\"\n",
    "\n",
    "\n",
    "# Download pytorch model\n",
    "tokenizer = AutoTokenizer.from_pretrained(model_name)"
   ]
  },
  {
   "cell_type": "code",
   "execution_count": 13,
   "id": "7f15241d",
   "metadata": {},
   "outputs": [
    {
     "name": "stderr",
     "output_type": "stream",
     "text": [
      "Some weights of the model checkpoint at DeepPavlov/rubert-base-cased were not used when initializing BertForSequenceClassification: ['cls.predictions.transform.dense.weight', 'cls.predictions.bias', 'cls.predictions.decoder.weight', 'cls.predictions.transform.LayerNorm.weight', 'cls.predictions.transform.LayerNorm.bias', 'cls.predictions.decoder.bias', 'cls.seq_relationship.weight', 'cls.predictions.transform.dense.bias', 'cls.seq_relationship.bias']\n",
      "- This IS expected if you are initializing BertForSequenceClassification from the checkpoint of a model trained on another task or with another architecture (e.g. initializing a BertForSequenceClassification model from a BertForPreTraining model).\n",
      "- This IS NOT expected if you are initializing BertForSequenceClassification from the checkpoint of a model that you expect to be exactly identical (initializing a BertForSequenceClassification model from a BertForSequenceClassification model).\n",
      "Some weights of BertForSequenceClassification were not initialized from the model checkpoint at DeepPavlov/rubert-base-cased and are newly initialized: ['classifier.weight', 'classifier.bias']\n",
      "You should probably TRAIN this model on a down-stream task to be able to use it for predictions and inference.\n"
     ]
    },
    {
     "data": {
      "text/plain": [
       "BertForSequenceClassification(\n",
       "  (bert): BertModel(\n",
       "    (embeddings): BertEmbeddings(\n",
       "      (word_embeddings): Embedding(119547, 768, padding_idx=0)\n",
       "      (position_embeddings): Embedding(512, 768)\n",
       "      (token_type_embeddings): Embedding(2, 768)\n",
       "      (LayerNorm): LayerNorm((768,), eps=1e-12, elementwise_affine=True)\n",
       "      (dropout): Dropout(p=0.1, inplace=False)\n",
       "    )\n",
       "    (encoder): BertEncoder(\n",
       "      (layer): ModuleList(\n",
       "        (0): BertLayer(\n",
       "          (attention): BertAttention(\n",
       "            (self): BertSelfAttention(\n",
       "              (query): Linear(in_features=768, out_features=768, bias=True)\n",
       "              (key): Linear(in_features=768, out_features=768, bias=True)\n",
       "              (value): Linear(in_features=768, out_features=768, bias=True)\n",
       "              (dropout): Dropout(p=0.1, inplace=False)\n",
       "            )\n",
       "            (output): BertSelfOutput(\n",
       "              (dense): Linear(in_features=768, out_features=768, bias=True)\n",
       "              (LayerNorm): LayerNorm((768,), eps=1e-12, elementwise_affine=True)\n",
       "              (dropout): Dropout(p=0.1, inplace=False)\n",
       "            )\n",
       "          )\n",
       "          (intermediate): BertIntermediate(\n",
       "            (dense): Linear(in_features=768, out_features=3072, bias=True)\n",
       "            (intermediate_act_fn): GELUActivation()\n",
       "          )\n",
       "          (output): BertOutput(\n",
       "            (dense): Linear(in_features=3072, out_features=768, bias=True)\n",
       "            (LayerNorm): LayerNorm((768,), eps=1e-12, elementwise_affine=True)\n",
       "            (dropout): Dropout(p=0.1, inplace=False)\n",
       "          )\n",
       "        )\n",
       "        (1): BertLayer(\n",
       "          (attention): BertAttention(\n",
       "            (self): BertSelfAttention(\n",
       "              (query): Linear(in_features=768, out_features=768, bias=True)\n",
       "              (key): Linear(in_features=768, out_features=768, bias=True)\n",
       "              (value): Linear(in_features=768, out_features=768, bias=True)\n",
       "              (dropout): Dropout(p=0.1, inplace=False)\n",
       "            )\n",
       "            (output): BertSelfOutput(\n",
       "              (dense): Linear(in_features=768, out_features=768, bias=True)\n",
       "              (LayerNorm): LayerNorm((768,), eps=1e-12, elementwise_affine=True)\n",
       "              (dropout): Dropout(p=0.1, inplace=False)\n",
       "            )\n",
       "          )\n",
       "          (intermediate): BertIntermediate(\n",
       "            (dense): Linear(in_features=768, out_features=3072, bias=True)\n",
       "            (intermediate_act_fn): GELUActivation()\n",
       "          )\n",
       "          (output): BertOutput(\n",
       "            (dense): Linear(in_features=3072, out_features=768, bias=True)\n",
       "            (LayerNorm): LayerNorm((768,), eps=1e-12, elementwise_affine=True)\n",
       "            (dropout): Dropout(p=0.1, inplace=False)\n",
       "          )\n",
       "        )\n",
       "        (2): BertLayer(\n",
       "          (attention): BertAttention(\n",
       "            (self): BertSelfAttention(\n",
       "              (query): Linear(in_features=768, out_features=768, bias=True)\n",
       "              (key): Linear(in_features=768, out_features=768, bias=True)\n",
       "              (value): Linear(in_features=768, out_features=768, bias=True)\n",
       "              (dropout): Dropout(p=0.1, inplace=False)\n",
       "            )\n",
       "            (output): BertSelfOutput(\n",
       "              (dense): Linear(in_features=768, out_features=768, bias=True)\n",
       "              (LayerNorm): LayerNorm((768,), eps=1e-12, elementwise_affine=True)\n",
       "              (dropout): Dropout(p=0.1, inplace=False)\n",
       "            )\n",
       "          )\n",
       "          (intermediate): BertIntermediate(\n",
       "            (dense): Linear(in_features=768, out_features=3072, bias=True)\n",
       "            (intermediate_act_fn): GELUActivation()\n",
       "          )\n",
       "          (output): BertOutput(\n",
       "            (dense): Linear(in_features=3072, out_features=768, bias=True)\n",
       "            (LayerNorm): LayerNorm((768,), eps=1e-12, elementwise_affine=True)\n",
       "            (dropout): Dropout(p=0.1, inplace=False)\n",
       "          )\n",
       "        )\n",
       "        (3): BertLayer(\n",
       "          (attention): BertAttention(\n",
       "            (self): BertSelfAttention(\n",
       "              (query): Linear(in_features=768, out_features=768, bias=True)\n",
       "              (key): Linear(in_features=768, out_features=768, bias=True)\n",
       "              (value): Linear(in_features=768, out_features=768, bias=True)\n",
       "              (dropout): Dropout(p=0.1, inplace=False)\n",
       "            )\n",
       "            (output): BertSelfOutput(\n",
       "              (dense): Linear(in_features=768, out_features=768, bias=True)\n",
       "              (LayerNorm): LayerNorm((768,), eps=1e-12, elementwise_affine=True)\n",
       "              (dropout): Dropout(p=0.1, inplace=False)\n",
       "            )\n",
       "          )\n",
       "          (intermediate): BertIntermediate(\n",
       "            (dense): Linear(in_features=768, out_features=3072, bias=True)\n",
       "            (intermediate_act_fn): GELUActivation()\n",
       "          )\n",
       "          (output): BertOutput(\n",
       "            (dense): Linear(in_features=3072, out_features=768, bias=True)\n",
       "            (LayerNorm): LayerNorm((768,), eps=1e-12, elementwise_affine=True)\n",
       "            (dropout): Dropout(p=0.1, inplace=False)\n",
       "          )\n",
       "        )\n",
       "        (4): BertLayer(\n",
       "          (attention): BertAttention(\n",
       "            (self): BertSelfAttention(\n",
       "              (query): Linear(in_features=768, out_features=768, bias=True)\n",
       "              (key): Linear(in_features=768, out_features=768, bias=True)\n",
       "              (value): Linear(in_features=768, out_features=768, bias=True)\n",
       "              (dropout): Dropout(p=0.1, inplace=False)\n",
       "            )\n",
       "            (output): BertSelfOutput(\n",
       "              (dense): Linear(in_features=768, out_features=768, bias=True)\n",
       "              (LayerNorm): LayerNorm((768,), eps=1e-12, elementwise_affine=True)\n",
       "              (dropout): Dropout(p=0.1, inplace=False)\n",
       "            )\n",
       "          )\n",
       "          (intermediate): BertIntermediate(\n",
       "            (dense): Linear(in_features=768, out_features=3072, bias=True)\n",
       "            (intermediate_act_fn): GELUActivation()\n",
       "          )\n",
       "          (output): BertOutput(\n",
       "            (dense): Linear(in_features=3072, out_features=768, bias=True)\n",
       "            (LayerNorm): LayerNorm((768,), eps=1e-12, elementwise_affine=True)\n",
       "            (dropout): Dropout(p=0.1, inplace=False)\n",
       "          )\n",
       "        )\n",
       "        (5): BertLayer(\n",
       "          (attention): BertAttention(\n",
       "            (self): BertSelfAttention(\n",
       "              (query): Linear(in_features=768, out_features=768, bias=True)\n",
       "              (key): Linear(in_features=768, out_features=768, bias=True)\n",
       "              (value): Linear(in_features=768, out_features=768, bias=True)\n",
       "              (dropout): Dropout(p=0.1, inplace=False)\n",
       "            )\n",
       "            (output): BertSelfOutput(\n",
       "              (dense): Linear(in_features=768, out_features=768, bias=True)\n",
       "              (LayerNorm): LayerNorm((768,), eps=1e-12, elementwise_affine=True)\n",
       "              (dropout): Dropout(p=0.1, inplace=False)\n",
       "            )\n",
       "          )\n",
       "          (intermediate): BertIntermediate(\n",
       "            (dense): Linear(in_features=768, out_features=3072, bias=True)\n",
       "            (intermediate_act_fn): GELUActivation()\n",
       "          )\n",
       "          (output): BertOutput(\n",
       "            (dense): Linear(in_features=3072, out_features=768, bias=True)\n",
       "            (LayerNorm): LayerNorm((768,), eps=1e-12, elementwise_affine=True)\n",
       "            (dropout): Dropout(p=0.1, inplace=False)\n",
       "          )\n",
       "        )\n",
       "        (6): BertLayer(\n",
       "          (attention): BertAttention(\n",
       "            (self): BertSelfAttention(\n",
       "              (query): Linear(in_features=768, out_features=768, bias=True)\n",
       "              (key): Linear(in_features=768, out_features=768, bias=True)\n",
       "              (value): Linear(in_features=768, out_features=768, bias=True)\n",
       "              (dropout): Dropout(p=0.1, inplace=False)\n",
       "            )\n",
       "            (output): BertSelfOutput(\n",
       "              (dense): Linear(in_features=768, out_features=768, bias=True)\n",
       "              (LayerNorm): LayerNorm((768,), eps=1e-12, elementwise_affine=True)\n",
       "              (dropout): Dropout(p=0.1, inplace=False)\n",
       "            )\n",
       "          )\n",
       "          (intermediate): BertIntermediate(\n",
       "            (dense): Linear(in_features=768, out_features=3072, bias=True)\n",
       "            (intermediate_act_fn): GELUActivation()\n",
       "          )\n",
       "          (output): BertOutput(\n",
       "            (dense): Linear(in_features=3072, out_features=768, bias=True)\n",
       "            (LayerNorm): LayerNorm((768,), eps=1e-12, elementwise_affine=True)\n",
       "            (dropout): Dropout(p=0.1, inplace=False)\n",
       "          )\n",
       "        )\n",
       "        (7): BertLayer(\n",
       "          (attention): BertAttention(\n",
       "            (self): BertSelfAttention(\n",
       "              (query): Linear(in_features=768, out_features=768, bias=True)\n",
       "              (key): Linear(in_features=768, out_features=768, bias=True)\n",
       "              (value): Linear(in_features=768, out_features=768, bias=True)\n",
       "              (dropout): Dropout(p=0.1, inplace=False)\n",
       "            )\n",
       "            (output): BertSelfOutput(\n",
       "              (dense): Linear(in_features=768, out_features=768, bias=True)\n",
       "              (LayerNorm): LayerNorm((768,), eps=1e-12, elementwise_affine=True)\n",
       "              (dropout): Dropout(p=0.1, inplace=False)\n",
       "            )\n",
       "          )\n",
       "          (intermediate): BertIntermediate(\n",
       "            (dense): Linear(in_features=768, out_features=3072, bias=True)\n",
       "            (intermediate_act_fn): GELUActivation()\n",
       "          )\n",
       "          (output): BertOutput(\n",
       "            (dense): Linear(in_features=3072, out_features=768, bias=True)\n",
       "            (LayerNorm): LayerNorm((768,), eps=1e-12, elementwise_affine=True)\n",
       "            (dropout): Dropout(p=0.1, inplace=False)\n",
       "          )\n",
       "        )\n",
       "        (8): BertLayer(\n",
       "          (attention): BertAttention(\n",
       "            (self): BertSelfAttention(\n",
       "              (query): Linear(in_features=768, out_features=768, bias=True)\n",
       "              (key): Linear(in_features=768, out_features=768, bias=True)\n",
       "              (value): Linear(in_features=768, out_features=768, bias=True)\n",
       "              (dropout): Dropout(p=0.1, inplace=False)\n",
       "            )\n",
       "            (output): BertSelfOutput(\n",
       "              (dense): Linear(in_features=768, out_features=768, bias=True)\n",
       "              (LayerNorm): LayerNorm((768,), eps=1e-12, elementwise_affine=True)\n",
       "              (dropout): Dropout(p=0.1, inplace=False)\n",
       "            )\n",
       "          )\n",
       "          (intermediate): BertIntermediate(\n",
       "            (dense): Linear(in_features=768, out_features=3072, bias=True)\n",
       "            (intermediate_act_fn): GELUActivation()\n",
       "          )\n",
       "          (output): BertOutput(\n",
       "            (dense): Linear(in_features=3072, out_features=768, bias=True)\n",
       "            (LayerNorm): LayerNorm((768,), eps=1e-12, elementwise_affine=True)\n",
       "            (dropout): Dropout(p=0.1, inplace=False)\n",
       "          )\n",
       "        )\n",
       "        (9): BertLayer(\n",
       "          (attention): BertAttention(\n",
       "            (self): BertSelfAttention(\n",
       "              (query): Linear(in_features=768, out_features=768, bias=True)\n",
       "              (key): Linear(in_features=768, out_features=768, bias=True)\n",
       "              (value): Linear(in_features=768, out_features=768, bias=True)\n",
       "              (dropout): Dropout(p=0.1, inplace=False)\n",
       "            )\n",
       "            (output): BertSelfOutput(\n",
       "              (dense): Linear(in_features=768, out_features=768, bias=True)\n",
       "              (LayerNorm): LayerNorm((768,), eps=1e-12, elementwise_affine=True)\n",
       "              (dropout): Dropout(p=0.1, inplace=False)\n",
       "            )\n",
       "          )\n",
       "          (intermediate): BertIntermediate(\n",
       "            (dense): Linear(in_features=768, out_features=3072, bias=True)\n",
       "            (intermediate_act_fn): GELUActivation()\n",
       "          )\n",
       "          (output): BertOutput(\n",
       "            (dense): Linear(in_features=3072, out_features=768, bias=True)\n",
       "            (LayerNorm): LayerNorm((768,), eps=1e-12, elementwise_affine=True)\n",
       "            (dropout): Dropout(p=0.1, inplace=False)\n",
       "          )\n",
       "        )\n",
       "        (10): BertLayer(\n",
       "          (attention): BertAttention(\n",
       "            (self): BertSelfAttention(\n",
       "              (query): Linear(in_features=768, out_features=768, bias=True)\n",
       "              (key): Linear(in_features=768, out_features=768, bias=True)\n",
       "              (value): Linear(in_features=768, out_features=768, bias=True)\n",
       "              (dropout): Dropout(p=0.1, inplace=False)\n",
       "            )\n",
       "            (output): BertSelfOutput(\n",
       "              (dense): Linear(in_features=768, out_features=768, bias=True)\n",
       "              (LayerNorm): LayerNorm((768,), eps=1e-12, elementwise_affine=True)\n",
       "              (dropout): Dropout(p=0.1, inplace=False)\n",
       "            )\n",
       "          )\n",
       "          (intermediate): BertIntermediate(\n",
       "            (dense): Linear(in_features=768, out_features=3072, bias=True)\n",
       "            (intermediate_act_fn): GELUActivation()\n",
       "          )\n",
       "          (output): BertOutput(\n",
       "            (dense): Linear(in_features=3072, out_features=768, bias=True)\n",
       "            (LayerNorm): LayerNorm((768,), eps=1e-12, elementwise_affine=True)\n",
       "            (dropout): Dropout(p=0.1, inplace=False)\n",
       "          )\n",
       "        )\n",
       "        (11): BertLayer(\n",
       "          (attention): BertAttention(\n",
       "            (self): BertSelfAttention(\n",
       "              (query): Linear(in_features=768, out_features=768, bias=True)\n",
       "              (key): Linear(in_features=768, out_features=768, bias=True)\n",
       "              (value): Linear(in_features=768, out_features=768, bias=True)\n",
       "              (dropout): Dropout(p=0.1, inplace=False)\n",
       "            )\n",
       "            (output): BertSelfOutput(\n",
       "              (dense): Linear(in_features=768, out_features=768, bias=True)\n",
       "              (LayerNorm): LayerNorm((768,), eps=1e-12, elementwise_affine=True)\n",
       "              (dropout): Dropout(p=0.1, inplace=False)\n",
       "            )\n",
       "          )\n",
       "          (intermediate): BertIntermediate(\n",
       "            (dense): Linear(in_features=768, out_features=3072, bias=True)\n",
       "            (intermediate_act_fn): GELUActivation()\n",
       "          )\n",
       "          (output): BertOutput(\n",
       "            (dense): Linear(in_features=3072, out_features=768, bias=True)\n",
       "            (LayerNorm): LayerNorm((768,), eps=1e-12, elementwise_affine=True)\n",
       "            (dropout): Dropout(p=0.1, inplace=False)\n",
       "          )\n",
       "        )\n",
       "      )\n",
       "    )\n",
       "    (pooler): BertPooler(\n",
       "      (dense): Linear(in_features=768, out_features=768, bias=True)\n",
       "      (activation): Tanh()\n",
       "    )\n",
       "  )\n",
       "  (dropout): Dropout(p=0.1, inplace=False)\n",
       "  (classifier): Linear(in_features=768, out_features=40, bias=True)\n",
       ")"
      ]
     },
     "execution_count": 13,
     "metadata": {},
     "output_type": "execute_result"
    },
    {
     "data": {
      "application/javascript": [
       "\n",
       "            setTimeout(function() {\n",
       "                var nbb_cell_id = 13;\n",
       "                var nbb_unformatted_code = \"model = BertForSequenceClassification.from_pretrained(model_name, num_labels=40)\\nPATH = \\\"../models/epoch_new_bert_dict_4.ckpt\\\"\\nmodel.load_state_dict(torch.load(PATH, map_location=torch.device(\\\"cpu\\\")))\\nmodel.eval()\";\n",
       "                var nbb_formatted_code = \"model = BertForSequenceClassification.from_pretrained(model_name, num_labels=40)\\nPATH = \\\"../models/epoch_new_bert_dict_4.ckpt\\\"\\nmodel.load_state_dict(torch.load(PATH, map_location=torch.device(\\\"cpu\\\")))\\nmodel.eval()\";\n",
       "                var nbb_cells = Jupyter.notebook.get_cells();\n",
       "                for (var i = 0; i < nbb_cells.length; ++i) {\n",
       "                    if (nbb_cells[i].input_prompt_number == nbb_cell_id) {\n",
       "                        if (nbb_cells[i].get_text() == nbb_unformatted_code) {\n",
       "                             nbb_cells[i].set_text(nbb_formatted_code);\n",
       "                        }\n",
       "                        break;\n",
       "                    }\n",
       "                }\n",
       "            }, 500);\n",
       "            "
      ],
      "text/plain": [
       "<IPython.core.display.Javascript object>"
      ]
     },
     "metadata": {},
     "output_type": "display_data"
    }
   ],
   "source": [
    "model = BertForSequenceClassification.from_pretrained(model_name, num_labels=40)\n",
    "PATH = \"../models/epoch_new_bert_dict_4.ckpt\"\n",
    "model.load_state_dict(torch.load(PATH, map_location=torch.device(\"cpu\")))\n",
    "model.eval()"
   ]
  },
  {
   "cell_type": "code",
   "execution_count": 14,
   "id": "f4a3a05e",
   "metadata": {},
   "outputs": [
    {
     "data": {
      "application/javascript": [
       "\n",
       "            setTimeout(function() {\n",
       "                var nbb_cell_id = 14;\n",
       "                var nbb_unformatted_code = \"def prepare_data_bert(ref_text, tokenizer):\\n    tokenized_texts = [tokenizer.tokenize(sent) for sent in ref_text]\\n    input_ids = [tokenizer.convert_tokens_to_ids(x) for x in tokenized_texts]\\n\\n    input_ids = pad_sequences(\\n        input_ids, maxlen=256, dtype=\\\"long\\\", truncating=\\\"post\\\", padding=\\\"post\\\"\\n    )\\n    attention_masks = [[float(i > 0) for i in seq] for seq in input_ids]\\n\\n    prediction_inputs = torch.tensor(input_ids)\\n    prediction_masks = torch.tensor(attention_masks)\\n    # \\u0437\\u0430\\u0433\\u043b\\u0443\\u0448\\u043a\\u0430\\n    prediction_labels = torch.tensor([[0] for _ in range(len(ref_text))])\\n    prediction_data = TensorDataset(\\n        prediction_inputs, prediction_masks, prediction_labels\\n    )\\n\\n    prediction_dataloader = DataLoader(\\n        prediction_data, sampler=SequentialSampler(prediction_data), batch_size=32\\n    )\\n    return prediction_dataloader\";\n",
       "                var nbb_formatted_code = \"def prepare_data_bert(ref_text, tokenizer):\\n    tokenized_texts = [tokenizer.tokenize(sent) for sent in ref_text]\\n    input_ids = [tokenizer.convert_tokens_to_ids(x) for x in tokenized_texts]\\n\\n    input_ids = pad_sequences(\\n        input_ids, maxlen=256, dtype=\\\"long\\\", truncating=\\\"post\\\", padding=\\\"post\\\"\\n    )\\n    attention_masks = [[float(i > 0) for i in seq] for seq in input_ids]\\n\\n    prediction_inputs = torch.tensor(input_ids)\\n    prediction_masks = torch.tensor(attention_masks)\\n    # \\u0437\\u0430\\u0433\\u043b\\u0443\\u0448\\u043a\\u0430\\n    prediction_labels = torch.tensor([[0] for _ in range(len(ref_text))])\\n    prediction_data = TensorDataset(\\n        prediction_inputs, prediction_masks, prediction_labels\\n    )\\n\\n    prediction_dataloader = DataLoader(\\n        prediction_data, sampler=SequentialSampler(prediction_data), batch_size=32\\n    )\\n    return prediction_dataloader\";\n",
       "                var nbb_cells = Jupyter.notebook.get_cells();\n",
       "                for (var i = 0; i < nbb_cells.length; ++i) {\n",
       "                    if (nbb_cells[i].input_prompt_number == nbb_cell_id) {\n",
       "                        if (nbb_cells[i].get_text() == nbb_unformatted_code) {\n",
       "                             nbb_cells[i].set_text(nbb_formatted_code);\n",
       "                        }\n",
       "                        break;\n",
       "                    }\n",
       "                }\n",
       "            }, 500);\n",
       "            "
      ],
      "text/plain": [
       "<IPython.core.display.Javascript object>"
      ]
     },
     "metadata": {},
     "output_type": "display_data"
    }
   ],
   "source": [
    "def prepare_data_bert(ref_text, tokenizer):\n",
    "    tokenized_texts = [tokenizer.tokenize(sent) for sent in ref_text]\n",
    "    input_ids = [tokenizer.convert_tokens_to_ids(x) for x in tokenized_texts]\n",
    "\n",
    "    input_ids = pad_sequences(\n",
    "        input_ids, maxlen=256, dtype=\"long\", truncating=\"post\", padding=\"post\"\n",
    "    )\n",
    "    attention_masks = [[float(i > 0) for i in seq] for seq in input_ids]\n",
    "\n",
    "    prediction_inputs = torch.tensor(input_ids)\n",
    "    prediction_masks = torch.tensor(attention_masks)\n",
    "    # заглушка\n",
    "    prediction_labels = torch.tensor([[0] for _ in range(len(ref_text))])\n",
    "    prediction_data = TensorDataset(\n",
    "        prediction_inputs, prediction_masks, prediction_labels\n",
    "    )\n",
    "\n",
    "    prediction_dataloader = DataLoader(\n",
    "        prediction_data, sampler=SequentialSampler(prediction_data), batch_size=32\n",
    "    )\n",
    "    return prediction_dataloader"
   ]
  },
  {
   "cell_type": "code",
   "execution_count": 15,
   "id": "f54b7e5c",
   "metadata": {},
   "outputs": [
    {
     "data": {
      "application/javascript": [
       "\n",
       "            setTimeout(function() {\n",
       "                var nbb_cell_id = 15;\n",
       "                var nbb_unformatted_code = \"def bert_torch_inference(model, prediction_dataloader):\\n    model.eval()\\n    test_preds, test_labels = [], []\\n    test_probas = []\\n    for batch in tqdm(prediction_dataloader):\\n        # \\u0434\\u043e\\u0431\\u0430\\u0432\\u043b\\u044f\\u0435\\u043c \\u0431\\u0430\\u0442\\u0447 \\u0434\\u043b\\u044f \\u0432\\u044b\\u0447\\u0438\\u0441\\u043b\\u0435\\u043d\\u0438\\u044f \\u043d\\u0430 GPU\\n        batch = tuple(t.to(device) for t in batch)\\n\\n        # \\u0420\\u0430\\u0441\\u043f\\u0430\\u043a\\u043e\\u0432\\u044b\\u0432\\u0430\\u0435\\u043c \\u0434\\u0430\\u043d\\u043d\\u044b\\u0435 \\u0438\\u0437 dataloader\\n        b_input_ids, b_input_mask, b_labels = batch\\n\\n        # \\u041f\\u0440\\u0438 \\u0438\\u0441\\u043f\\u043e\\u043b\\u044c\\u0437\\u043e\\u0432\\u0430\\u043d\\u0438\\u0438 .no_grad() \\u043c\\u043e\\u0434\\u0435\\u043b\\u044c \\u043d\\u0435 \\u0431\\u0443\\u0434\\u0435\\u0442 \\u0441\\u0447\\u0438\\u0442\\u0430\\u0442\\u044c \\u0438 \\u0445\\u0440\\u0430\\u043d\\u0438\\u0442\\u044c \\u0433\\u0440\\u0430\\u0434\\u0438\\u0435\\u043d\\u0442\\u044b.\\n        # \\u042d\\u0442\\u043e \\u0443\\u0441\\u043a\\u043e\\u0440\\u0438\\u0442 \\u043f\\u0440\\u043e\\u0446\\u0435\\u0441\\u0441 \\u043f\\u0440\\u0435\\u0434\\u0441\\u043a\\u0430\\u0437\\u0430\\u043d\\u0438\\u044f \\u043c\\u0435\\u0442\\u043e\\u043a \\u0434\\u043b\\u044f \\u0442\\u0435\\u0441\\u0442\\u043e\\u0432\\u044b\\u0445 \\u0434\\u0430\\u043d\\u043d\\u044b\\u0445.\\n        with torch.no_grad():\\n            logits = model(\\n                b_input_ids, token_type_ids=None, attention_mask=b_input_mask\\n            )\\n        probabilities = F.softmax(logits[0].detach(), dim=-1).cpu().numpy()\\n        probabilities = np.max(probabilities, axis=1)\\n        # \\u041f\\u0435\\u0440\\u0435\\u043c\\u0435\\u0449\\u0430\\u0435\\u043c logits \\u0438 \\u043c\\u0435\\u0442\\u043a\\u0438 \\u043a\\u043b\\u0430\\u0441\\u0441\\u043e\\u0432 \\u043d\\u0430 CPU \\u0434\\u043b\\u044f \\u0434\\u0430\\u043b\\u044c\\u043d\\u0435\\u0439\\u0448\\u0435\\u0439 \\u0440\\u0430\\u0431\\u043e\\u0442\\u044b\\n        logits = logits[0].detach().cpu().numpy()\\n        label_ids = b_labels.to(\\\"cpu\\\").numpy()\\n\\n        # \\u0421\\u043e\\u0445\\u0440\\u0430\\u043d\\u044f\\u0435\\u043c \\u043f\\u0440\\u0435\\u0434\\u0441\\u043a\\u0430\\u0437\\u0430\\u043d\\u043d\\u044b\\u0435 \\u043a\\u043b\\u0430\\u0441\\u0441\\u044b \\u0438 ground truth\\n        batch_preds = np.argmax(logits, axis=1)\\n        batch_labels = np.concatenate(label_ids)\\n        test_preds.extend(batch_preds)\\n        test_labels.extend(batch_labels)\\n        test_probas.extend(probabilities)\\n\\n    y_pred = test_preds\\n    y_proba = test_probas\\n    return y_pred, y_proba\";\n",
       "                var nbb_formatted_code = \"def bert_torch_inference(model, prediction_dataloader):\\n    model.eval()\\n    test_preds, test_labels = [], []\\n    test_probas = []\\n    for batch in tqdm(prediction_dataloader):\\n        # \\u0434\\u043e\\u0431\\u0430\\u0432\\u043b\\u044f\\u0435\\u043c \\u0431\\u0430\\u0442\\u0447 \\u0434\\u043b\\u044f \\u0432\\u044b\\u0447\\u0438\\u0441\\u043b\\u0435\\u043d\\u0438\\u044f \\u043d\\u0430 GPU\\n        batch = tuple(t.to(device) for t in batch)\\n\\n        # \\u0420\\u0430\\u0441\\u043f\\u0430\\u043a\\u043e\\u0432\\u044b\\u0432\\u0430\\u0435\\u043c \\u0434\\u0430\\u043d\\u043d\\u044b\\u0435 \\u0438\\u0437 dataloader\\n        b_input_ids, b_input_mask, b_labels = batch\\n\\n        # \\u041f\\u0440\\u0438 \\u0438\\u0441\\u043f\\u043e\\u043b\\u044c\\u0437\\u043e\\u0432\\u0430\\u043d\\u0438\\u0438 .no_grad() \\u043c\\u043e\\u0434\\u0435\\u043b\\u044c \\u043d\\u0435 \\u0431\\u0443\\u0434\\u0435\\u0442 \\u0441\\u0447\\u0438\\u0442\\u0430\\u0442\\u044c \\u0438 \\u0445\\u0440\\u0430\\u043d\\u0438\\u0442\\u044c \\u0433\\u0440\\u0430\\u0434\\u0438\\u0435\\u043d\\u0442\\u044b.\\n        # \\u042d\\u0442\\u043e \\u0443\\u0441\\u043a\\u043e\\u0440\\u0438\\u0442 \\u043f\\u0440\\u043e\\u0446\\u0435\\u0441\\u0441 \\u043f\\u0440\\u0435\\u0434\\u0441\\u043a\\u0430\\u0437\\u0430\\u043d\\u0438\\u044f \\u043c\\u0435\\u0442\\u043e\\u043a \\u0434\\u043b\\u044f \\u0442\\u0435\\u0441\\u0442\\u043e\\u0432\\u044b\\u0445 \\u0434\\u0430\\u043d\\u043d\\u044b\\u0445.\\n        with torch.no_grad():\\n            logits = model(\\n                b_input_ids, token_type_ids=None, attention_mask=b_input_mask\\n            )\\n        probabilities = F.softmax(logits[0].detach(), dim=-1).cpu().numpy()\\n        probabilities = np.max(probabilities, axis=1)\\n        # \\u041f\\u0435\\u0440\\u0435\\u043c\\u0435\\u0449\\u0430\\u0435\\u043c logits \\u0438 \\u043c\\u0435\\u0442\\u043a\\u0438 \\u043a\\u043b\\u0430\\u0441\\u0441\\u043e\\u0432 \\u043d\\u0430 CPU \\u0434\\u043b\\u044f \\u0434\\u0430\\u043b\\u044c\\u043d\\u0435\\u0439\\u0448\\u0435\\u0439 \\u0440\\u0430\\u0431\\u043e\\u0442\\u044b\\n        logits = logits[0].detach().cpu().numpy()\\n        label_ids = b_labels.to(\\\"cpu\\\").numpy()\\n\\n        # \\u0421\\u043e\\u0445\\u0440\\u0430\\u043d\\u044f\\u0435\\u043c \\u043f\\u0440\\u0435\\u0434\\u0441\\u043a\\u0430\\u0437\\u0430\\u043d\\u043d\\u044b\\u0435 \\u043a\\u043b\\u0430\\u0441\\u0441\\u044b \\u0438 ground truth\\n        batch_preds = np.argmax(logits, axis=1)\\n        batch_labels = np.concatenate(label_ids)\\n        test_preds.extend(batch_preds)\\n        test_labels.extend(batch_labels)\\n        test_probas.extend(probabilities)\\n\\n    y_pred = test_preds\\n    y_proba = test_probas\\n    return y_pred, y_proba\";\n",
       "                var nbb_cells = Jupyter.notebook.get_cells();\n",
       "                for (var i = 0; i < nbb_cells.length; ++i) {\n",
       "                    if (nbb_cells[i].input_prompt_number == nbb_cell_id) {\n",
       "                        if (nbb_cells[i].get_text() == nbb_unformatted_code) {\n",
       "                             nbb_cells[i].set_text(nbb_formatted_code);\n",
       "                        }\n",
       "                        break;\n",
       "                    }\n",
       "                }\n",
       "            }, 500);\n",
       "            "
      ],
      "text/plain": [
       "<IPython.core.display.Javascript object>"
      ]
     },
     "metadata": {},
     "output_type": "display_data"
    }
   ],
   "source": [
    "def bert_torch_inference(model, prediction_dataloader):\n",
    "    model.eval()\n",
    "    test_preds, test_labels = [], []\n",
    "    test_probas = []\n",
    "    for batch in tqdm(prediction_dataloader):\n",
    "        # добавляем батч для вычисления на GPU\n",
    "        batch = tuple(t.to(device) for t in batch)\n",
    "\n",
    "        # Распаковываем данные из dataloader\n",
    "        b_input_ids, b_input_mask, b_labels = batch\n",
    "\n",
    "        # При использовании .no_grad() модель не будет считать и хранить градиенты.\n",
    "        # Это ускорит процесс предсказания меток для тестовых данных.\n",
    "        with torch.no_grad():\n",
    "            logits = model(\n",
    "                b_input_ids, token_type_ids=None, attention_mask=b_input_mask\n",
    "            )\n",
    "        probabilities = F.softmax(logits[0].detach(), dim=-1).cpu().numpy()\n",
    "        probabilities = np.max(probabilities, axis=1)\n",
    "        # Перемещаем logits и метки классов на CPU для дальнейшей работы\n",
    "        logits = logits[0].detach().cpu().numpy()\n",
    "        label_ids = b_labels.to(\"cpu\").numpy()\n",
    "\n",
    "        # Сохраняем предсказанные классы и ground truth\n",
    "        batch_preds = np.argmax(logits, axis=1)\n",
    "        batch_labels = np.concatenate(label_ids)\n",
    "        test_preds.extend(batch_preds)\n",
    "        test_labels.extend(batch_labels)\n",
    "        test_probas.extend(probabilities)\n",
    "\n",
    "    y_pred = test_preds\n",
    "    y_proba = test_probas\n",
    "    return y_pred, y_proba"
   ]
  },
  {
   "cell_type": "markdown",
   "id": "daec07db",
   "metadata": {},
   "source": [
    "### поехали"
   ]
  },
  {
   "cell_type": "code",
   "execution_count": 16,
   "id": "2b2fbb43",
   "metadata": {},
   "outputs": [
    {
     "data": {
      "application/vnd.jupyter.widget-view+json": {
       "model_id": "e5ab16d4d7594550b3d6cd02f541731c",
       "version_major": 2,
       "version_minor": 0
      },
      "text/plain": [
       "  0%|          | 0/10 [00:00<?, ?it/s]"
      ]
     },
     "metadata": {},
     "output_type": "display_data"
    },
    {
     "data": {
      "application/vnd.jupyter.widget-view+json": {
       "model_id": "0211f64c982e4259ab976b0114419ff9",
       "version_major": 2,
       "version_minor": 0
      },
      "text/plain": [
       "  0%|          | 0/3 [00:00<?, ?it/s]"
      ]
     },
     "metadata": {},
     "output_type": "display_data"
    },
    {
     "data": {
      "application/vnd.jupyter.widget-view+json": {
       "model_id": "b00ce877ad4a42c1bc2bf2c69d8b6679",
       "version_major": 2,
       "version_minor": 0
      },
      "text/plain": [
       "  0%|          | 0/3 [00:00<?, ?it/s]"
      ]
     },
     "metadata": {},
     "output_type": "display_data"
    },
    {
     "data": {
      "application/vnd.jupyter.widget-view+json": {
       "model_id": "bb895e22daa140b2a9e1f6a09f8e6799",
       "version_major": 2,
       "version_minor": 0
      },
      "text/plain": [
       "  0%|          | 0/2 [00:00<?, ?it/s]"
      ]
     },
     "metadata": {},
     "output_type": "display_data"
    },
    {
     "data": {
      "application/vnd.jupyter.widget-view+json": {
       "model_id": "60fa7bfa79374230a8f6f98b13a33025",
       "version_major": 2,
       "version_minor": 0
      },
      "text/plain": [
       "  0%|          | 0/6 [00:00<?, ?it/s]"
      ]
     },
     "metadata": {},
     "output_type": "display_data"
    },
    {
     "data": {
      "application/vnd.jupyter.widget-view+json": {
       "model_id": "9ed0bf5fc0be4956b5523428b757ac9c",
       "version_major": 2,
       "version_minor": 0
      },
      "text/plain": [
       "  0%|          | 0/4 [00:00<?, ?it/s]"
      ]
     },
     "metadata": {},
     "output_type": "display_data"
    },
    {
     "data": {
      "application/vnd.jupyter.widget-view+json": {
       "model_id": "b7dc03a7a09a4c6eba933ecdc4f96a69",
       "version_major": 2,
       "version_minor": 0
      },
      "text/plain": [
       "  0%|          | 0/3 [00:00<?, ?it/s]"
      ]
     },
     "metadata": {},
     "output_type": "display_data"
    },
    {
     "data": {
      "application/vnd.jupyter.widget-view+json": {
       "model_id": "bf691a1a88ec48408fc0b2e78cabb52e",
       "version_major": 2,
       "version_minor": 0
      },
      "text/plain": [
       "  0%|          | 0/3 [00:00<?, ?it/s]"
      ]
     },
     "metadata": {},
     "output_type": "display_data"
    },
    {
     "data": {
      "application/vnd.jupyter.widget-view+json": {
       "model_id": "66ff3df0046e446dbd3bb71daf79e4e6",
       "version_major": 2,
       "version_minor": 0
      },
      "text/plain": [
       "  0%|          | 0/3 [00:00<?, ?it/s]"
      ]
     },
     "metadata": {},
     "output_type": "display_data"
    },
    {
     "data": {
      "application/vnd.jupyter.widget-view+json": {
       "model_id": "9208f4bbe5e24ee184c4b63529113179",
       "version_major": 2,
       "version_minor": 0
      },
      "text/plain": [
       "  0%|          | 0/3 [00:00<?, ?it/s]"
      ]
     },
     "metadata": {},
     "output_type": "display_data"
    },
    {
     "data": {
      "application/vnd.jupyter.widget-view+json": {
       "model_id": "8f1d9736a004455c9a32abd15beb35f4",
       "version_major": 2,
       "version_minor": 0
      },
      "text/plain": [
       "  0%|          | 0/3 [00:00<?, ?it/s]"
      ]
     },
     "metadata": {},
     "output_type": "display_data"
    },
    {
     "data": {
      "application/javascript": [
       "\n",
       "            setTimeout(function() {\n",
       "                var nbb_cell_id = 16;\n",
       "                var nbb_unformatted_code = \"df_submission = []\\nfor cur_doc in tqdm(sorted(interest_files)):\\n    filename = path_docs + cur_doc\\n    file_id = int(cur_doc.split(\\\".\\\")[0])\\n    doc = docx.Document(filename)\\n    fullText = get_text(doc)\\n    # \\u0441\\u0435\\u0433\\u043c\\u0435\\u043d\\u0442\\u0438\\u0440\\u0443\\u0435\\u043c, \\u0433\\u0434\\u0435 \\u0443 \\u043d\\u0430\\u0441 \\u043f\\u043e\\u0442\\u0435\\u043d\\u0446\\u0438\\u0430\\u043b\\u044c\\u043d\\u043e \\u0435\\u0441\\u0442\\u044c \\u043a\\u043b\\u0430\\u0441\\u0441\\u044b\\n    ind_start = get_first_index(fullText)\\n    end_start = get_end_index(fullText)\\n\\n    target_data = []\\n    activate_flag = False\\n    real_start_real = ind_start\\n    for num_el, elem in enumerate(fullText[ind_start:end_start]):\\n        if not activate_flag:\\n            if len(re.findall(\\\"\\\\d+\\\\. \\\", elem)) > 0:\\n                real_start_real += num_el\\n                activate_flag = True\\n                target_data.append(elem.replace(\\\"\\\\xa0\\\", \\\" \\\"))\\n        else:\\n            target_data.append(elem.replace(\\\"\\\\xa0\\\", \\\" \\\"))\\n    # \\u0438\\u0437\\u0432\\u043b\\u0435\\u043a\\u0430\\u0435\\u043c \\u0442\\u0435\\u043a\\u0441\\u0442 \\u0438 id\\n    texts = []\\n    ids = []\\n    for num, elem in enumerate(target_data):\\n        if len(re.findall(\\\"{\\\\d+\\\", elem)) > 0:\\n            splits = re.split(\\\"\\\\d+}\\\", elem)\\n            cur_ids = re.findall(\\\"\\\\d+}\\\", elem)\\n            for i in range(1, len(splits), 2):\\n                texts.append(splits[i])\\n            for i in range(1, len(cur_ids), 2):\\n                ids.append(int(re.findall(\\\"\\\\d+\\\", cur_ids[i])[0]))\\n\\n    df1 = pd.DataFrame({\\\"texts\\\": texts, \\\"id\\\": ids})\\n\\n    # \\u0440\\u0430\\u0431\\u043e\\u0442\\u0430 \\u0434\\u043b\\u044f \\u043c\\u043e\\u0434\\u0435\\u043b\\u0438\\n    ref_text = [re.sub(\\\"[\\\\W\\\\d]+\\\", \\\" \\\", x.lower()) for x in df1[\\\"texts\\\"]]\\n    prediction_dataloader = prepare_data_bert(ref_text, tokenizer)\\n    y_pred, y_proba = bert_torch_inference(model, prediction_dataloader)\\n    #     y_proba = model.predict_proba(X_text)\\n    df1[\\\"class\\\"] = y_pred\\n    df1[\\\"file_id\\\"] = file_id\\n    df_submission.append(df1)\";\n",
       "                var nbb_formatted_code = \"df_submission = []\\nfor cur_doc in tqdm(sorted(interest_files)):\\n    filename = path_docs + cur_doc\\n    file_id = int(cur_doc.split(\\\".\\\")[0])\\n    doc = docx.Document(filename)\\n    fullText = get_text(doc)\\n    # \\u0441\\u0435\\u0433\\u043c\\u0435\\u043d\\u0442\\u0438\\u0440\\u0443\\u0435\\u043c, \\u0433\\u0434\\u0435 \\u0443 \\u043d\\u0430\\u0441 \\u043f\\u043e\\u0442\\u0435\\u043d\\u0446\\u0438\\u0430\\u043b\\u044c\\u043d\\u043e \\u0435\\u0441\\u0442\\u044c \\u043a\\u043b\\u0430\\u0441\\u0441\\u044b\\n    ind_start = get_first_index(fullText)\\n    end_start = get_end_index(fullText)\\n\\n    target_data = []\\n    activate_flag = False\\n    real_start_real = ind_start\\n    for num_el, elem in enumerate(fullText[ind_start:end_start]):\\n        if not activate_flag:\\n            if len(re.findall(\\\"\\\\d+\\\\. \\\", elem)) > 0:\\n                real_start_real += num_el\\n                activate_flag = True\\n                target_data.append(elem.replace(\\\"\\\\xa0\\\", \\\" \\\"))\\n        else:\\n            target_data.append(elem.replace(\\\"\\\\xa0\\\", \\\" \\\"))\\n    # \\u0438\\u0437\\u0432\\u043b\\u0435\\u043a\\u0430\\u0435\\u043c \\u0442\\u0435\\u043a\\u0441\\u0442 \\u0438 id\\n    texts = []\\n    ids = []\\n    for num, elem in enumerate(target_data):\\n        if len(re.findall(\\\"{\\\\d+\\\", elem)) > 0:\\n            splits = re.split(\\\"\\\\d+}\\\", elem)\\n            cur_ids = re.findall(\\\"\\\\d+}\\\", elem)\\n            for i in range(1, len(splits), 2):\\n                texts.append(splits[i])\\n            for i in range(1, len(cur_ids), 2):\\n                ids.append(int(re.findall(\\\"\\\\d+\\\", cur_ids[i])[0]))\\n\\n    df1 = pd.DataFrame({\\\"texts\\\": texts, \\\"id\\\": ids})\\n\\n    # \\u0440\\u0430\\u0431\\u043e\\u0442\\u0430 \\u0434\\u043b\\u044f \\u043c\\u043e\\u0434\\u0435\\u043b\\u0438\\n    ref_text = [re.sub(\\\"[\\\\W\\\\d]+\\\", \\\" \\\", x.lower()) for x in df1[\\\"texts\\\"]]\\n    prediction_dataloader = prepare_data_bert(ref_text, tokenizer)\\n    y_pred, y_proba = bert_torch_inference(model, prediction_dataloader)\\n    #     y_proba = model.predict_proba(X_text)\\n    df1[\\\"class\\\"] = y_pred\\n    df1[\\\"file_id\\\"] = file_id\\n    df_submission.append(df1)\";\n",
       "                var nbb_cells = Jupyter.notebook.get_cells();\n",
       "                for (var i = 0; i < nbb_cells.length; ++i) {\n",
       "                    if (nbb_cells[i].input_prompt_number == nbb_cell_id) {\n",
       "                        if (nbb_cells[i].get_text() == nbb_unformatted_code) {\n",
       "                             nbb_cells[i].set_text(nbb_formatted_code);\n",
       "                        }\n",
       "                        break;\n",
       "                    }\n",
       "                }\n",
       "            }, 500);\n",
       "            "
      ],
      "text/plain": [
       "<IPython.core.display.Javascript object>"
      ]
     },
     "metadata": {},
     "output_type": "display_data"
    }
   ],
   "source": [
    "df_submission = []\n",
    "for cur_doc in tqdm(sorted(interest_files)):\n",
    "    filename = path_docs + cur_doc\n",
    "    file_id = int(cur_doc.split(\".\")[0])\n",
    "    doc = docx.Document(filename)\n",
    "    fullText = get_text(doc)\n",
    "    # сегментируем, где у нас потенциально есть классы\n",
    "    ind_start = get_first_index(fullText)\n",
    "    end_start = get_end_index(fullText)\n",
    "\n",
    "    target_data = []\n",
    "    activate_flag = False\n",
    "    real_start_real = ind_start\n",
    "    for num_el, elem in enumerate(fullText[ind_start:end_start]):\n",
    "        if not activate_flag:\n",
    "            if len(re.findall(\"\\d+\\. \", elem)) > 0:\n",
    "                real_start_real += num_el\n",
    "                activate_flag = True\n",
    "                target_data.append(elem.replace(\"\\xa0\", \" \"))\n",
    "        else:\n",
    "            target_data.append(elem.replace(\"\\xa0\", \" \"))\n",
    "    # извлекаем текст и id\n",
    "    texts = []\n",
    "    ids = []\n",
    "    for num, elem in enumerate(target_data):\n",
    "        if len(re.findall(\"{\\d+\", elem)) > 0:\n",
    "            splits = re.split(\"\\d+}\", elem)\n",
    "            cur_ids = re.findall(\"\\d+}\", elem)\n",
    "            for i in range(1, len(splits), 2):\n",
    "                texts.append(splits[i])\n",
    "            for i in range(1, len(cur_ids), 2):\n",
    "                ids.append(int(re.findall(\"\\d+\", cur_ids[i])[0]))\n",
    "\n",
    "    df1 = pd.DataFrame({\"texts\": texts, \"id\": ids})\n",
    "\n",
    "    # работа для модели\n",
    "    ref_text = [re.sub(\"[\\W\\d]+\", \" \", x.lower()) for x in df1[\"texts\"]]\n",
    "    prediction_dataloader = prepare_data_bert(ref_text, tokenizer)\n",
    "    y_pred, y_proba = bert_torch_inference(model, prediction_dataloader)\n",
    "    #     y_proba = model.predict_proba(X_text)\n",
    "    df1[\"class\"] = y_pred\n",
    "    df1[\"file_id\"] = file_id\n",
    "    df_submission.append(df1)"
   ]
  },
  {
   "cell_type": "code",
   "execution_count": 17,
   "id": "5ba811e5",
   "metadata": {},
   "outputs": [
    {
     "data": {
      "application/javascript": [
       "\n",
       "            setTimeout(function() {\n",
       "                var nbb_cell_id = 17;\n",
       "                var nbb_unformatted_code = \"df_submission = pd.concat(df_submission)\";\n",
       "                var nbb_formatted_code = \"df_submission = pd.concat(df_submission)\";\n",
       "                var nbb_cells = Jupyter.notebook.get_cells();\n",
       "                for (var i = 0; i < nbb_cells.length; ++i) {\n",
       "                    if (nbb_cells[i].input_prompt_number == nbb_cell_id) {\n",
       "                        if (nbb_cells[i].get_text() == nbb_unformatted_code) {\n",
       "                             nbb_cells[i].set_text(nbb_formatted_code);\n",
       "                        }\n",
       "                        break;\n",
       "                    }\n",
       "                }\n",
       "            }, 500);\n",
       "            "
      ],
      "text/plain": [
       "<IPython.core.display.Javascript object>"
      ]
     },
     "metadata": {},
     "output_type": "display_data"
    }
   ],
   "source": [
    "df_submission = pd.concat(df_submission)"
   ]
  },
  {
   "cell_type": "code",
   "execution_count": 18,
   "id": "4e184daa",
   "metadata": {},
   "outputs": [
    {
     "data": {
      "application/javascript": [
       "\n",
       "            setTimeout(function() {\n",
       "                var nbb_cell_id = 18;\n",
       "                var nbb_unformatted_code = \"df_submission = df_submission[[\\\"file_id\\\", \\\"id\\\", \\\"class\\\", \\\"texts\\\"]]\";\n",
       "                var nbb_formatted_code = \"df_submission = df_submission[[\\\"file_id\\\", \\\"id\\\", \\\"class\\\", \\\"texts\\\"]]\";\n",
       "                var nbb_cells = Jupyter.notebook.get_cells();\n",
       "                for (var i = 0; i < nbb_cells.length; ++i) {\n",
       "                    if (nbb_cells[i].input_prompt_number == nbb_cell_id) {\n",
       "                        if (nbb_cells[i].get_text() == nbb_unformatted_code) {\n",
       "                             nbb_cells[i].set_text(nbb_formatted_code);\n",
       "                        }\n",
       "                        break;\n",
       "                    }\n",
       "                }\n",
       "            }, 500);\n",
       "            "
      ],
      "text/plain": [
       "<IPython.core.display.Javascript object>"
      ]
     },
     "metadata": {},
     "output_type": "display_data"
    }
   ],
   "source": [
    "df_submission = df_submission[[\"file_id\", \"id\", \"class\", \"texts\"]]"
   ]
  },
  {
   "cell_type": "code",
   "execution_count": 19,
   "id": "2526a0c8",
   "metadata": {},
   "outputs": [
    {
     "data": {
      "application/javascript": [
       "\n",
       "            setTimeout(function() {\n",
       "                var nbb_cell_id = 19;\n",
       "                var nbb_unformatted_code = \"df_submission.sort_values([\\\"file_id\\\", \\\"id\\\"], inplace=True)\";\n",
       "                var nbb_formatted_code = \"df_submission.sort_values([\\\"file_id\\\", \\\"id\\\"], inplace=True)\";\n",
       "                var nbb_cells = Jupyter.notebook.get_cells();\n",
       "                for (var i = 0; i < nbb_cells.length; ++i) {\n",
       "                    if (nbb_cells[i].input_prompt_number == nbb_cell_id) {\n",
       "                        if (nbb_cells[i].get_text() == nbb_unformatted_code) {\n",
       "                             nbb_cells[i].set_text(nbb_formatted_code);\n",
       "                        }\n",
       "                        break;\n",
       "                    }\n",
       "                }\n",
       "            }, 500);\n",
       "            "
      ],
      "text/plain": [
       "<IPython.core.display.Javascript object>"
      ]
     },
     "metadata": {},
     "output_type": "display_data"
    }
   ],
   "source": [
    "df_submission.sort_values([\"file_id\", \"id\"], inplace=True)"
   ]
  },
  {
   "cell_type": "code",
   "execution_count": 20,
   "id": "fe8e956a",
   "metadata": {},
   "outputs": [
    {
     "name": "stdout",
     "output_type": "stream",
     "text": [
      "<class 'pandas.core.frame.DataFrame'>\n",
      "Int64Index: 852 entries, 0 to 70\n",
      "Data columns (total 4 columns):\n",
      " #   Column   Non-Null Count  Dtype \n",
      "---  ------   --------------  ----- \n",
      " 0   file_id  852 non-null    int64 \n",
      " 1   id       852 non-null    int64 \n",
      " 2   class    852 non-null    int64 \n",
      " 3   texts    852 non-null    object\n",
      "dtypes: int64(3), object(1)\n",
      "memory usage: 33.3+ KB\n"
     ]
    },
    {
     "data": {
      "application/javascript": [
       "\n",
       "            setTimeout(function() {\n",
       "                var nbb_cell_id = 20;\n",
       "                var nbb_unformatted_code = \"df_submission.info()\";\n",
       "                var nbb_formatted_code = \"df_submission.info()\";\n",
       "                var nbb_cells = Jupyter.notebook.get_cells();\n",
       "                for (var i = 0; i < nbb_cells.length; ++i) {\n",
       "                    if (nbb_cells[i].input_prompt_number == nbb_cell_id) {\n",
       "                        if (nbb_cells[i].get_text() == nbb_unformatted_code) {\n",
       "                             nbb_cells[i].set_text(nbb_formatted_code);\n",
       "                        }\n",
       "                        break;\n",
       "                    }\n",
       "                }\n",
       "            }, 500);\n",
       "            "
      ],
      "text/plain": [
       "<IPython.core.display.Javascript object>"
      ]
     },
     "metadata": {},
     "output_type": "display_data"
    }
   ],
   "source": [
    "df_submission.info()"
   ]
  },
  {
   "cell_type": "code",
   "execution_count": 21,
   "id": "2b25f05c",
   "metadata": {},
   "outputs": [
    {
     "name": "stdout",
     "output_type": "stream",
     "text": [
      "<class 'pandas.core.frame.DataFrame'>\n",
      "RangeIndex: 852 entries, 0 to 851\n",
      "Data columns (total 3 columns):\n",
      " #   Column   Non-Null Count  Dtype\n",
      "---  ------   --------------  -----\n",
      " 0   file_id  852 non-null    int64\n",
      " 1   id       852 non-null    int64\n",
      " 2   class    852 non-null    int64\n",
      "dtypes: int64(3)\n",
      "memory usage: 20.1 KB\n"
     ]
    },
    {
     "data": {
      "application/javascript": [
       "\n",
       "            setTimeout(function() {\n",
       "                var nbb_cell_id = 21;\n",
       "                var nbb_unformatted_code = \"sample_sub.info()\";\n",
       "                var nbb_formatted_code = \"sample_sub.info()\";\n",
       "                var nbb_cells = Jupyter.notebook.get_cells();\n",
       "                for (var i = 0; i < nbb_cells.length; ++i) {\n",
       "                    if (nbb_cells[i].input_prompt_number == nbb_cell_id) {\n",
       "                        if (nbb_cells[i].get_text() == nbb_unformatted_code) {\n",
       "                             nbb_cells[i].set_text(nbb_formatted_code);\n",
       "                        }\n",
       "                        break;\n",
       "                    }\n",
       "                }\n",
       "            }, 500);\n",
       "            "
      ],
      "text/plain": [
       "<IPython.core.display.Javascript object>"
      ]
     },
     "metadata": {},
     "output_type": "display_data"
    }
   ],
   "source": [
    "sample_sub.info()"
   ]
  },
  {
   "cell_type": "code",
   "execution_count": 22,
   "id": "f9d6bc98",
   "metadata": {},
   "outputs": [
    {
     "data": {
      "application/javascript": [
       "\n",
       "            setTimeout(function() {\n",
       "                var nbb_cell_id = 22;\n",
       "                var nbb_unformatted_code = \"df_submission[sample_sub.columns].to_csv(\\\"SibDS.csv\\\", sep=\\\";\\\", index=False)\";\n",
       "                var nbb_formatted_code = \"df_submission[sample_sub.columns].to_csv(\\\"SibDS.csv\\\", sep=\\\";\\\", index=False)\";\n",
       "                var nbb_cells = Jupyter.notebook.get_cells();\n",
       "                for (var i = 0; i < nbb_cells.length; ++i) {\n",
       "                    if (nbb_cells[i].input_prompt_number == nbb_cell_id) {\n",
       "                        if (nbb_cells[i].get_text() == nbb_unformatted_code) {\n",
       "                             nbb_cells[i].set_text(nbb_formatted_code);\n",
       "                        }\n",
       "                        break;\n",
       "                    }\n",
       "                }\n",
       "            }, 500);\n",
       "            "
      ],
      "text/plain": [
       "<IPython.core.display.Javascript object>"
      ]
     },
     "metadata": {},
     "output_type": "display_data"
    }
   ],
   "source": [
    "df_submission[sample_sub.columns].to_csv(\"SibDS.csv\", sep=\";\", index=False)"
   ]
  },
  {
   "cell_type": "code",
   "execution_count": 24,
   "id": "adf57a51",
   "metadata": {
    "scrolled": true
   },
   "outputs": [
    {
     "data": {
      "text/html": [
       "<div>\n",
       "<style scoped>\n",
       "    .dataframe tbody tr th:only-of-type {\n",
       "        vertical-align: middle;\n",
       "    }\n",
       "\n",
       "    .dataframe tbody tr th {\n",
       "        vertical-align: top;\n",
       "    }\n",
       "\n",
       "    .dataframe thead th {\n",
       "        text-align: right;\n",
       "    }\n",
       "</style>\n",
       "<table border=\"1\" class=\"dataframe\">\n",
       "  <thead>\n",
       "    <tr style=\"text-align: right;\">\n",
       "      <th></th>\n",
       "      <th>file_id</th>\n",
       "      <th>id</th>\n",
       "      <th>class</th>\n",
       "      <th>texts</th>\n",
       "    </tr>\n",
       "  </thead>\n",
       "  <tbody>\n",
       "    <tr>\n",
       "      <th>8</th>\n",
       "      <td>1</td>\n",
       "      <td>9</td>\n",
       "      <td>0</td>\n",
       "      <td>аренда помещений и оборудования;{</td>\n",
       "    </tr>\n",
       "    <tr>\n",
       "      <th>61</th>\n",
       "      <td>1</td>\n",
       "      <td>62</td>\n",
       "      <td>0</td>\n",
       "      <td>Основаниями для отказа в предоставлении субси...</td>\n",
       "    </tr>\n",
       "    <tr>\n",
       "      <th>2</th>\n",
       "      <td>3</td>\n",
       "      <td>3</td>\n",
       "      <td>0</td>\n",
       "      <td>и государственной  Российской Федерации \"Научн...</td>\n",
       "    </tr>\n",
       "    <tr>\n",
       "      <th>38</th>\n",
       "      <td>3</td>\n",
       "      <td>39</td>\n",
       "      <td>0</td>\n",
       "      <td>порядок отклонения заявок, а также информацию ...</td>\n",
       "    </tr>\n",
       "    <tr>\n",
       "      <th>55</th>\n",
       "      <td>3</td>\n",
       "      <td>56</td>\n",
       "      <td>0</td>\n",
       "      <td>документы, подтверждающие полномочия лица, дей...</td>\n",
       "    </tr>\n",
       "    <tr>\n",
       "      <th>66</th>\n",
       "      <td>3</td>\n",
       "      <td>67</td>\n",
       "      <td>0</td>\n",
       "      <td>представивших заявки. {</td>\n",
       "    </tr>\n",
       "    <tr>\n",
       "      <th>69</th>\n",
       "      <td>3</td>\n",
       "      <td>70</td>\n",
       "      <td>0</td>\n",
       "      <td>По результатам рассмотрения указанных предложе...</td>\n",
       "    </tr>\n",
       "    <tr>\n",
       "      <th>100</th>\n",
       "      <td>3</td>\n",
       "      <td>101</td>\n",
       "      <td>0</td>\n",
       "      <td>несоответствие участника конкурса требованиям,...</td>\n",
       "    </tr>\n",
       "    <tr>\n",
       "      <th>108</th>\n",
       "      <td>3</td>\n",
       "      <td>109</td>\n",
       "      <td>0</td>\n",
       "      <td>размер субсидии и условия ее предоставления; {</td>\n",
       "    </tr>\n",
       "    <tr>\n",
       "      <th>127</th>\n",
       "      <td>3</td>\n",
       "      <td>128</td>\n",
       "      <td>0</td>\n",
       "      <td>nmax - общее количество работников образовател...</td>\n",
       "    </tr>\n",
       "    <tr>\n",
       "      <th>129</th>\n",
       "      <td>3</td>\n",
       "      <td>130</td>\n",
       "      <td>0</td>\n",
       "      <td>В случае если совокупный размер запрашиваемых...</td>\n",
       "    </tr>\n",
       "    <tr>\n",
       "      <th>130</th>\n",
       "      <td>3</td>\n",
       "      <td>131</td>\n",
       "      <td>0</td>\n",
       "      <td>В случае если совокупный размер запрашиваемых...</td>\n",
       "    </tr>\n",
       "    <tr>\n",
       "      <th>137</th>\n",
       "      <td>3</td>\n",
       "      <td>138</td>\n",
       "      <td>0</td>\n",
       "      <td>Перечисление субсидии осуществляется: {</td>\n",
       "    </tr>\n",
       "    <tr>\n",
       "      <th>138</th>\n",
       "      <td>3</td>\n",
       "      <td>139</td>\n",
       "      <td>0</td>\n",
       "      <td>юридическим лицам, за исключением бюджетных и ...</td>\n",
       "    </tr>\n",
       "    <tr>\n",
       "      <th>148</th>\n",
       "      <td>3</td>\n",
       "      <td>149</td>\n",
       "      <td>0</td>\n",
       "      <td>Рmax - плановое значение результата предоставл...</td>\n",
       "    </tr>\n",
       "    <tr>\n",
       "      <th>17</th>\n",
       "      <td>4</td>\n",
       "      <td>18</td>\n",
       "      <td>0</td>\n",
       "      <td>в рамках основного мероприятия \"Содействие раз...</td>\n",
       "    </tr>\n",
       "    <tr>\n",
       "      <th>21</th>\n",
       "      <td>4</td>\n",
       "      <td>22</td>\n",
       "      <td>0</td>\n",
       "      <td>закупка товаров, работ и услуг;{</td>\n",
       "    </tr>\n",
       "    <tr>\n",
       "      <th>33</th>\n",
       "      <td>4</td>\n",
       "      <td>34</td>\n",
       "      <td>0</td>\n",
       "      <td>сроки перечисления субсидии; {</td>\n",
       "    </tr>\n",
       "    <tr>\n",
       "      <th>48</th>\n",
       "      <td>4</td>\n",
       "      <td>49</td>\n",
       "      <td>0</td>\n",
       "      <td>в случае уменьшения Министерству науки и высше...</td>\n",
       "    </tr>\n",
       "    <tr>\n",
       "      <th>59</th>\n",
       "      <td>4</td>\n",
       "      <td>60</td>\n",
       "      <td>0</td>\n",
       "      <td>Фонд не находится в процессе ликвидации, в отн...</td>\n",
       "    </tr>\n",
       "    <tr>\n",
       "      <th>89</th>\n",
       "      <td>4</td>\n",
       "      <td>90</td>\n",
       "      <td>0</td>\n",
       "      <td>количество малых инновационных компаний (стар...</td>\n",
       "    </tr>\n",
       "    <tr>\n",
       "      <th>99</th>\n",
       "      <td>4</td>\n",
       "      <td>100</td>\n",
       "      <td>0</td>\n",
       "      <td>к отчетности прилагается пояснительная записка...</td>\n",
       "    </tr>\n",
       "    <tr>\n",
       "      <th>7</th>\n",
       "      <td>5</td>\n",
       "      <td>8</td>\n",
       "      <td>0</td>\n",
       "      <td>Проект распоряжения Правительства Российской ...</td>\n",
       "    </tr>\n",
       "    <tr>\n",
       "      <th>17</th>\n",
       "      <td>5</td>\n",
       "      <td>18</td>\n",
       "      <td>0</td>\n",
       "      <td>копии договоров страхования, заключенных в о...</td>\n",
       "    </tr>\n",
       "    <tr>\n",
       "      <th>47</th>\n",
       "      <td>5</td>\n",
       "      <td>48</td>\n",
       "      <td>0</td>\n",
       "      <td>следующим требованиям: {</td>\n",
       "    </tr>\n",
       "    <tr>\n",
       "      <th>59</th>\n",
       "      <td>5</td>\n",
       "      <td>60</td>\n",
       "      <td>0</td>\n",
       "      <td>Основаниями для отказа в заключении соглашен...</td>\n",
       "    </tr>\n",
       "    <tr>\n",
       "      <th>62</th>\n",
       "      <td>5</td>\n",
       "      <td>63</td>\n",
       "      <td>0</td>\n",
       "      <td>наличие в представленных обществом документа...</td>\n",
       "    </tr>\n",
       "    <tr>\n",
       "      <th>67</th>\n",
       "      <td>5</td>\n",
       "      <td>68</td>\n",
       "      <td>0</td>\n",
       "      <td>расчет размера субсидии в соответствии с  на...</td>\n",
       "    </tr>\n",
       "    <tr>\n",
       "      <th>75</th>\n",
       "      <td>5</td>\n",
       "      <td>76</td>\n",
       "      <td>0</td>\n",
       "      <td>Основаниями для отказа в предоставлении об...</td>\n",
       "    </tr>\n",
       "    <tr>\n",
       "      <th>78</th>\n",
       "      <td>5</td>\n",
       "      <td>79</td>\n",
       "      <td>0</td>\n",
       "      <td>наличие в представленных обществом докумен...</td>\n",
       "    </tr>\n",
       "    <tr>\n",
       "      <th>85</th>\n",
       "      <td>5</td>\n",
       "      <td>86</td>\n",
       "      <td>0</td>\n",
       "      <td>Результатом предоставления субсидии являет...</td>\n",
       "    </tr>\n",
       "    <tr>\n",
       "      <th>33</th>\n",
       "      <td>6</td>\n",
       "      <td>34</td>\n",
       "      <td>0</td>\n",
       "      <td>Основаниями для отказа организации в предоста...</td>\n",
       "    </tr>\n",
       "    <tr>\n",
       "      <th>7</th>\n",
       "      <td>7</td>\n",
       "      <td>8</td>\n",
       "      <td>0</td>\n",
       "      <td>путем запроса предложений, {</td>\n",
       "    </tr>\n",
       "    <tr>\n",
       "      <th>15</th>\n",
       "      <td>7</td>\n",
       "      <td>16</td>\n",
       "      <td>0</td>\n",
       "      <td>Размер субсидии определяется суммой недополуч...</td>\n",
       "    </tr>\n",
       "    <tr>\n",
       "      <th>27</th>\n",
       "      <td>7</td>\n",
       "      <td>28</td>\n",
       "      <td>0</td>\n",
       "      <td>условий признания победителей отбора уклонивш...</td>\n",
       "    </tr>\n",
       "    <tr>\n",
       "      <th>29</th>\n",
       "      <td>7</td>\n",
       "      <td>30</td>\n",
       "      <td>0</td>\n",
       "      <td>Основаниями для отклонения заявки являются: {</td>\n",
       "    </tr>\n",
       "    <tr>\n",
       "      <th>30</th>\n",
       "      <td>7</td>\n",
       "      <td>31</td>\n",
       "      <td>0</td>\n",
       "      <td>несоответствие участника отбора требованиям, ...</td>\n",
       "    </tr>\n",
       "    <tr>\n",
       "      <th>54</th>\n",
       "      <td>7</td>\n",
       "      <td>55</td>\n",
       "      <td>0</td>\n",
       "      <td>наименование получателя субсидии, с которым з...</td>\n",
       "    </tr>\n",
       "    <tr>\n",
       "      <th>60</th>\n",
       "      <td>7</td>\n",
       "      <td>61</td>\n",
       "      <td>0</td>\n",
       "      <td>Результатом предоставления субсидии является ...</td>\n",
       "    </tr>\n",
       "    <tr>\n",
       "      <th>19</th>\n",
       "      <td>8</td>\n",
       "      <td>20</td>\n",
       "      <td>0</td>\n",
       "      <td>Министерством промышленности и торговли Росси...</td>\n",
       "    </tr>\n",
       "    <tr>\n",
       "      <th>21</th>\n",
       "      <td>8</td>\n",
       "      <td>22</td>\n",
       "      <td>0</td>\n",
       "      <td>размер субсидии и срок перечисления субсидии; {</td>\n",
       "    </tr>\n",
       "    <tr>\n",
       "      <th>37</th>\n",
       "      <td>8</td>\n",
       "      <td>38</td>\n",
       "      <td>0</td>\n",
       "      <td>Министерство промышленности и торговли Россий...</td>\n",
       "    </tr>\n",
       "    <tr>\n",
       "      <th>44</th>\n",
       "      <td>8</td>\n",
       "      <td>45</td>\n",
       "      <td>0</td>\n",
       "      <td>наличие в представленных документах недостове...</td>\n",
       "    </tr>\n",
       "    <tr>\n",
       "      <th>52</th>\n",
       "      <td>8</td>\n",
       "      <td>53</td>\n",
       "      <td>0</td>\n",
       "      <td>Министерство промышленности и торговли Росс...</td>\n",
       "    </tr>\n",
       "    <tr>\n",
       "      <th>59</th>\n",
       "      <td>8</td>\n",
       "      <td>60</td>\n",
       "      <td>0</td>\n",
       "      <td>недостоверность информации, представленной р...</td>\n",
       "    </tr>\n",
       "    <tr>\n",
       "      <th>11</th>\n",
       "      <td>9</td>\n",
       "      <td>12</td>\n",
       "      <td>0</td>\n",
       "      <td>рассмотрение творческих заявок кандидатов на р...</td>\n",
       "    </tr>\n",
       "    <tr>\n",
       "      <th>18</th>\n",
       "      <td>9</td>\n",
       "      <td>19</td>\n",
       "      <td>0</td>\n",
       "      <td>согласие кандидата на обработку персональных д...</td>\n",
       "    </tr>\n",
       "    <tr>\n",
       "      <th>21</th>\n",
       "      <td>9</td>\n",
       "      <td>22</td>\n",
       "      <td>0</td>\n",
       "      <td>целей предоставления субсидии;{</td>\n",
       "    </tr>\n",
       "    <tr>\n",
       "      <th>32</th>\n",
       "      <td>9</td>\n",
       "      <td>33</td>\n",
       "      <td>0</td>\n",
       "      <td>Основаниями для отклонения заявок являются:{</td>\n",
       "    </tr>\n",
       "    <tr>\n",
       "      <th>36</th>\n",
       "      <td>9</td>\n",
       "      <td>37</td>\n",
       "      <td>0</td>\n",
       "      <td>подача творческими союзами заявок после даты и...</td>\n",
       "    </tr>\n",
       "    <tr>\n",
       "      <th>64</th>\n",
       "      <td>9</td>\n",
       "      <td>65</td>\n",
       "      <td>0</td>\n",
       "      <td>Основаниями для отказа в предоставлении субсид...</td>\n",
       "    </tr>\n",
       "    <tr>\n",
       "      <th>7</th>\n",
       "      <td>10</td>\n",
       "      <td>8</td>\n",
       "      <td>0</td>\n",
       "      <td>оплата коммунальных услуг; {</td>\n",
       "    </tr>\n",
       "    <tr>\n",
       "      <th>33</th>\n",
       "      <td>10</td>\n",
       "      <td>34</td>\n",
       "      <td>0</td>\n",
       "      <td>Для заключения соглашения о предоставлении суб...</td>\n",
       "    </tr>\n",
       "    <tr>\n",
       "      <th>46</th>\n",
       "      <td>10</td>\n",
       "      <td>47</td>\n",
       "      <td>0</td>\n",
       "      <td>Основаниями для отказа в предоставлении субсид...</td>\n",
       "    </tr>\n",
       "    <tr>\n",
       "      <th>53</th>\n",
       "      <td>10</td>\n",
       "      <td>54</td>\n",
       "      <td>0</td>\n",
       "      <td>количество разработанных проектов концепций ра...</td>\n",
       "    </tr>\n",
       "    <tr>\n",
       "      <th>54</th>\n",
       "      <td>10</td>\n",
       "      <td>55</td>\n",
       "      <td>0</td>\n",
       "      <td>количество разработанных проектов целевых моде...</td>\n",
       "    </tr>\n",
       "    <tr>\n",
       "      <th>55</th>\n",
       "      <td>10</td>\n",
       "      <td>56</td>\n",
       "      <td>0</td>\n",
       "      <td>количество разработанных транспортно-экономиче...</td>\n",
       "    </tr>\n",
       "  </tbody>\n",
       "</table>\n",
       "</div>"
      ],
      "text/plain": [
       "     file_id   id  class                                              texts\n",
       "8          1    9      0                  аренда помещений и оборудования;{\n",
       "61         1   62      0   Основаниями для отказа в предоставлении субси...\n",
       "2          3    3      0  и государственной  Российской Федерации \"Научн...\n",
       "38         3   39      0  порядок отклонения заявок, а также информацию ...\n",
       "55         3   56      0  документы, подтверждающие полномочия лица, дей...\n",
       "66         3   67      0                            представивших заявки. {\n",
       "69         3   70      0  По результатам рассмотрения указанных предложе...\n",
       "100        3  101      0  несоответствие участника конкурса требованиям,...\n",
       "108        3  109      0     размер субсидии и условия ее предоставления; {\n",
       "127        3  128      0  nmax - общее количество работников образовател...\n",
       "129        3  130      0   В случае если совокупный размер запрашиваемых...\n",
       "130        3  131      0   В случае если совокупный размер запрашиваемых...\n",
       "137        3  138      0            Перечисление субсидии осуществляется: {\n",
       "138        3  139      0  юридическим лицам, за исключением бюджетных и ...\n",
       "148        3  149      0  Рmax - плановое значение результата предоставл...\n",
       "17         4   18      0  в рамках основного мероприятия \"Содействие раз...\n",
       "21         4   22      0                   закупка товаров, работ и услуг;{\n",
       "33         4   34      0                     сроки перечисления субсидии; {\n",
       "48         4   49      0  в случае уменьшения Министерству науки и высше...\n",
       "59         4   60      0  Фонд не находится в процессе ликвидации, в отн...\n",
       "89         4   90      0   количество малых инновационных компаний (стар...\n",
       "99         4  100      0  к отчетности прилагается пояснительная записка...\n",
       "7          5    8      0   Проект распоряжения Правительства Российской ...\n",
       "17         5   18      0    копии договоров страхования, заключенных в о...\n",
       "47         5   48      0                           следующим требованиям: {\n",
       "59         5   60      0    Основаниями для отказа в заключении соглашен...\n",
       "62         5   63      0    наличие в представленных обществом документа...\n",
       "67         5   68      0    расчет размера субсидии в соответствии с  на...\n",
       "75         5   76      0      Основаниями для отказа в предоставлении об...\n",
       "78         5   79      0      наличие в представленных обществом докумен...\n",
       "85         5   86      0      Результатом предоставления субсидии являет...\n",
       "33         6   34      0   Основаниями для отказа организации в предоста...\n",
       "7          7    8      0                       путем запроса предложений, {\n",
       "15         7   16      0   Размер субсидии определяется суммой недополуч...\n",
       "27         7   28      0   условий признания победителей отбора уклонивш...\n",
       "29         7   30      0      Основаниями для отклонения заявки являются: {\n",
       "30         7   31      0   несоответствие участника отбора требованиям, ...\n",
       "54         7   55      0   наименование получателя субсидии, с которым з...\n",
       "60         7   61      0   Результатом предоставления субсидии является ...\n",
       "19         8   20      0   Министерством промышленности и торговли Росси...\n",
       "21         8   22      0    размер субсидии и срок перечисления субсидии; {\n",
       "37         8   38      0   Министерство промышленности и торговли Россий...\n",
       "44         8   45      0   наличие в представленных документах недостове...\n",
       "52         8   53      0     Министерство промышленности и торговли Росс...\n",
       "59         8   60      0    недостоверность информации, представленной р...\n",
       "11         9   12      0  рассмотрение творческих заявок кандидатов на р...\n",
       "18         9   19      0  согласие кандидата на обработку персональных д...\n",
       "21         9   22      0                    целей предоставления субсидии;{\n",
       "32         9   33      0       Основаниями для отклонения заявок являются:{\n",
       "36         9   37      0  подача творческими союзами заявок после даты и...\n",
       "64         9   65      0  Основаниями для отказа в предоставлении субсид...\n",
       "7         10    8      0                       оплата коммунальных услуг; {\n",
       "33        10   34      0  Для заключения соглашения о предоставлении суб...\n",
       "46        10   47      0  Основаниями для отказа в предоставлении субсид...\n",
       "53        10   54      0  количество разработанных проектов концепций ра...\n",
       "54        10   55      0  количество разработанных проектов целевых моде...\n",
       "55        10   56      0  количество разработанных транспортно-экономиче..."
      ]
     },
     "execution_count": 24,
     "metadata": {},
     "output_type": "execute_result"
    },
    {
     "data": {
      "application/javascript": [
       "\n",
       "            setTimeout(function() {\n",
       "                var nbb_cell_id = 24;\n",
       "                var nbb_unformatted_code = \"df_submission[df_submission[\\\"class\\\"] == 0]\";\n",
       "                var nbb_formatted_code = \"df_submission[df_submission[\\\"class\\\"] == 0]\";\n",
       "                var nbb_cells = Jupyter.notebook.get_cells();\n",
       "                for (var i = 0; i < nbb_cells.length; ++i) {\n",
       "                    if (nbb_cells[i].input_prompt_number == nbb_cell_id) {\n",
       "                        if (nbb_cells[i].get_text() == nbb_unformatted_code) {\n",
       "                             nbb_cells[i].set_text(nbb_formatted_code);\n",
       "                        }\n",
       "                        break;\n",
       "                    }\n",
       "                }\n",
       "            }, 500);\n",
       "            "
      ],
      "text/plain": [
       "<IPython.core.display.Javascript object>"
      ]
     },
     "metadata": {},
     "output_type": "display_data"
    }
   ],
   "source": [
    "df_submission[df_submission[\"class\"] == 0]"
   ]
  }
 ],
 "metadata": {
  "kernelspec": {
   "display_name": "Python 3",
   "language": "python",
   "name": "python3"
  },
  "language_info": {
   "codemirror_mode": {
    "name": "ipython",
    "version": 3
   },
   "file_extension": ".py",
   "mimetype": "text/x-python",
   "name": "python",
   "nbconvert_exporter": "python",
   "pygments_lexer": "ipython3",
   "version": "3.7.4"
  }
 },
 "nbformat": 4,
 "nbformat_minor": 5
}
