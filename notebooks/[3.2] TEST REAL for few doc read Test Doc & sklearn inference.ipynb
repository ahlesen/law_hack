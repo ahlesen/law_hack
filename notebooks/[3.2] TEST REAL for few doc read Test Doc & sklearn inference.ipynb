{
 "cells": [
  {
   "cell_type": "code",
   "execution_count": 1,
   "id": "87a78187",
   "metadata": {},
   "outputs": [
    {
     "data": {
      "text/html": [
       "<style type='text/css'>\n",
       ".datatable table.frame { margin-bottom: 0; }\n",
       ".datatable table.frame thead { border-bottom: none; }\n",
       ".datatable table.frame tr.coltypes td {  color: #FFFFFF;  line-height: 6px;  padding: 0 0.5em;}\n",
       ".datatable .bool    { background: #DDDD99; }\n",
       ".datatable .object  { background: #565656; }\n",
       ".datatable .int     { background: #5D9E5D; }\n",
       ".datatable .float   { background: #4040CC; }\n",
       ".datatable .str     { background: #CC4040; }\n",
       ".datatable .row_index {  background: var(--jp-border-color3);  border-right: 1px solid var(--jp-border-color0);  color: var(--jp-ui-font-color3);  font-size: 9px;}\n",
       ".datatable .frame tr.coltypes .row_index {  background: var(--jp-border-color0);}\n",
       ".datatable th:nth-child(2) { padding-left: 12px; }\n",
       ".datatable .hellipsis {  color: var(--jp-cell-editor-border-color);}\n",
       ".datatable .vellipsis {  background: var(--jp-layout-color0);  color: var(--jp-cell-editor-border-color);}\n",
       ".datatable .na {  color: var(--jp-cell-editor-border-color);  font-size: 80%;}\n",
       ".datatable .footer { font-size: 9px; }\n",
       ".datatable .frame_dimensions {  background: var(--jp-border-color3);  border-top: 1px solid var(--jp-border-color0);  color: var(--jp-ui-font-color3);  display: inline-block;  opacity: 0.6;  padding: 1px 10px 1px 5px;}\n",
       "</style>\n"
      ],
      "text/plain": [
       "<IPython.core.display.HTML object>"
      ]
     },
     "metadata": {},
     "output_type": "display_data"
    },
    {
     "name": "stderr",
     "output_type": "stream",
     "text": [
      "[nltk_data] Downloading package stopwords to /home/andrey/nltk_data...\n",
      "[nltk_data]   Package stopwords is already up-to-date!\n"
     ]
    }
   ],
   "source": [
    "import pandas as pd\n",
    "import re\n",
    "\n",
    "import pandas as pd\n",
    "from sklearn.linear_model import LogisticRegression\n",
    "from sklearn.model_selection import cross_val_score, StratifiedKFold\n",
    "from sklearn.feature_extraction.text import TfidfVectorizer\n",
    "from scipy.sparse import hstack\n",
    "from matplotlib import pyplot as plt\n",
    "\n",
    "%matplotlib inline\n",
    "import seaborn as sns\n",
    "import eli5\n",
    "import numpy as np\n",
    "import nltk\n",
    "\n",
    "nltk.download(\"stopwords\")\n",
    "from nltk.corpus import stopwords\n",
    "\n",
    "russian_stopwords = stopwords.words(\"russian\")"
   ]
  },
  {
   "cell_type": "markdown",
   "id": "2165285b",
   "metadata": {},
   "source": [
    "### Модуль с загрузкой документа и извлечением необходимых данных"
   ]
  },
  {
   "cell_type": "code",
   "execution_count": 2,
   "id": "60528ca9",
   "metadata": {},
   "outputs": [],
   "source": [
    "import os\n",
    "import docx\n",
    "import re\n",
    "import pickle"
   ]
  },
  {
   "cell_type": "code",
   "execution_count": 3,
   "id": "9c057f37",
   "metadata": {},
   "outputs": [],
   "source": [
    "def get_text(doc):\n",
    "    fullText = []\n",
    "    for para in doc.paragraphs:\n",
    "        fullText.append(para.text.strip())\n",
    "    fullText = [elem for elem in fullText if len(elem) > 0]\n",
    "    return fullText"
   ]
  },
  {
   "cell_type": "code",
   "execution_count": 4,
   "id": "9175e888",
   "metadata": {},
   "outputs": [],
   "source": [
    "def get_first_index(fullText):\n",
    "    ind_start = 0\n",
    "    for i in range(len(fullText) - 1):\n",
    "        if (\"правила\" in fullText[i].lower()) and (\n",
    "            \"предоставления\" in fullText[i + 1].lower()\n",
    "        ):\n",
    "            ind_start = i\n",
    "            break\n",
    "    return ind_start"
   ]
  },
  {
   "cell_type": "code",
   "execution_count": 5,
   "id": "7da3b0b3",
   "metadata": {},
   "outputs": [],
   "source": [
    "def get_end_index(fullText):\n",
    "    end_start = len(fullText)\n",
    "    for i in range(ind_start, len(fullText) - 1):\n",
    "        if (\n",
    "            (\n",
    "                fullText[i].lower().startswith(\"утвержден\")\n",
    "                & fullText[i + 1].lower().startswith(\"постановлением правительства\")\n",
    "            )\n",
    "            | (\n",
    "                (\"приложение №\" in fullText[i].lower())\n",
    "                & (\"предоставления\" in fullText[i + 1].lower())\n",
    "            )\n",
    "            | (\n",
    "                (\"приложение №\" in fullText[i].lower())\n",
    "                & (\"предоставления\" in fullText[i].lower())\n",
    "            )\n",
    "            | (\n",
    "                (\"приложение N\" in fullText[i].lower())\n",
    "                & (\"предоставления\" in fullText[i + 1].lower())\n",
    "            )\n",
    "            | (\n",
    "                (\"приложение\" in fullText[i].lower())\n",
    "                & (\"к правилам предоставления\" in fullText[i + 1].lower())\n",
    "            )\n",
    "        ):\n",
    "            if (i < end_start - 6) & (\"правила\" in fullText[i + 4].lower()) and (\n",
    "                \"предоставления\" in fullText[i + 5].lower()\n",
    "            ):\n",
    "                continue\n",
    "            end_start = i\n",
    "            break\n",
    "    return end_start"
   ]
  },
  {
   "cell_type": "code",
   "execution_count": 6,
   "id": "9e3972fc",
   "metadata": {},
   "outputs": [],
   "source": [
    "path_docs = \"../data/test_real/\""
   ]
  },
  {
   "cell_type": "code",
   "execution_count": 7,
   "id": "7961cd9a",
   "metadata": {},
   "outputs": [
    {
     "data": {
      "text/plain": [
       "['1.docx',\n",
       " '10.docx',\n",
       " '2.docx',\n",
       " '3.docx',\n",
       " '4.docx',\n",
       " '5.docx',\n",
       " '6.docx',\n",
       " '7.docx',\n",
       " '8.docx',\n",
       " '9.docx']"
      ]
     },
     "execution_count": 7,
     "metadata": {},
     "output_type": "execute_result"
    }
   ],
   "source": [
    "interest_files = [file for file in os.listdir(path_docs) if file.endswith(\"docx\")]\n",
    "sorted(interest_files)"
   ]
  },
  {
   "cell_type": "code",
   "execution_count": 8,
   "id": "bbe59ac1",
   "metadata": {},
   "outputs": [
    {
     "data": {
      "text/html": [
       "<div>\n",
       "<style scoped>\n",
       "    .dataframe tbody tr th:only-of-type {\n",
       "        vertical-align: middle;\n",
       "    }\n",
       "\n",
       "    .dataframe tbody tr th {\n",
       "        vertical-align: top;\n",
       "    }\n",
       "\n",
       "    .dataframe thead th {\n",
       "        text-align: right;\n",
       "    }\n",
       "</style>\n",
       "<table border=\"1\" class=\"dataframe\">\n",
       "  <thead>\n",
       "    <tr style=\"text-align: right;\">\n",
       "      <th></th>\n",
       "      <th>file_id</th>\n",
       "      <th>id</th>\n",
       "      <th>class</th>\n",
       "    </tr>\n",
       "  </thead>\n",
       "  <tbody>\n",
       "    <tr>\n",
       "      <th>0</th>\n",
       "      <td>1</td>\n",
       "      <td>1</td>\n",
       "      <td>1</td>\n",
       "    </tr>\n",
       "    <tr>\n",
       "      <th>1</th>\n",
       "      <td>1</td>\n",
       "      <td>2</td>\n",
       "      <td>1</td>\n",
       "    </tr>\n",
       "    <tr>\n",
       "      <th>2</th>\n",
       "      <td>1</td>\n",
       "      <td>3</td>\n",
       "      <td>1</td>\n",
       "    </tr>\n",
       "    <tr>\n",
       "      <th>3</th>\n",
       "      <td>1</td>\n",
       "      <td>4</td>\n",
       "      <td>1</td>\n",
       "    </tr>\n",
       "    <tr>\n",
       "      <th>4</th>\n",
       "      <td>1</td>\n",
       "      <td>5</td>\n",
       "      <td>1</td>\n",
       "    </tr>\n",
       "    <tr>\n",
       "      <th>...</th>\n",
       "      <td>...</td>\n",
       "      <td>...</td>\n",
       "      <td>...</td>\n",
       "    </tr>\n",
       "    <tr>\n",
       "      <th>847</th>\n",
       "      <td>10</td>\n",
       "      <td>67</td>\n",
       "      <td>1</td>\n",
       "    </tr>\n",
       "    <tr>\n",
       "      <th>848</th>\n",
       "      <td>10</td>\n",
       "      <td>68</td>\n",
       "      <td>1</td>\n",
       "    </tr>\n",
       "    <tr>\n",
       "      <th>849</th>\n",
       "      <td>10</td>\n",
       "      <td>69</td>\n",
       "      <td>1</td>\n",
       "    </tr>\n",
       "    <tr>\n",
       "      <th>850</th>\n",
       "      <td>10</td>\n",
       "      <td>70</td>\n",
       "      <td>1</td>\n",
       "    </tr>\n",
       "    <tr>\n",
       "      <th>851</th>\n",
       "      <td>10</td>\n",
       "      <td>71</td>\n",
       "      <td>1</td>\n",
       "    </tr>\n",
       "  </tbody>\n",
       "</table>\n",
       "<p>852 rows × 3 columns</p>\n",
       "</div>"
      ],
      "text/plain": [
       "     file_id  id  class\n",
       "0          1   1      1\n",
       "1          1   2      1\n",
       "2          1   3      1\n",
       "3          1   4      1\n",
       "4          1   5      1\n",
       "..       ...  ..    ...\n",
       "847       10  67      1\n",
       "848       10  68      1\n",
       "849       10  69      1\n",
       "850       10  70      1\n",
       "851       10  71      1\n",
       "\n",
       "[852 rows x 3 columns]"
      ]
     },
     "execution_count": 8,
     "metadata": {},
     "output_type": "execute_result"
    }
   ],
   "source": [
    "sample_sub = pd.read_csv(\"../data/test_real/description/Название_команды.csv\", sep=\";\")\n",
    "sample_sub"
   ]
  },
  {
   "cell_type": "code",
   "execution_count": 9,
   "id": "86689295",
   "metadata": {},
   "outputs": [
    {
     "name": "stdout",
     "output_type": "stream",
     "text": [
      "<class 'pandas.core.frame.DataFrame'>\n",
      "RangeIndex: 852 entries, 0 to 851\n",
      "Data columns (total 3 columns):\n",
      " #   Column   Non-Null Count  Dtype\n",
      "---  ------   --------------  -----\n",
      " 0   file_id  852 non-null    int64\n",
      " 1   id       852 non-null    int64\n",
      " 2   class    852 non-null    int64\n",
      "dtypes: int64(3)\n",
      "memory usage: 20.1 KB\n"
     ]
    }
   ],
   "source": [
    "sample_sub.info()"
   ]
  },
  {
   "cell_type": "markdown",
   "id": "cdc143d3",
   "metadata": {},
   "source": [
    "### определяем текущую модель"
   ]
  },
  {
   "cell_type": "code",
   "execution_count": 10,
   "id": "4e170e69",
   "metadata": {},
   "outputs": [],
   "source": [
    "# для WEB\n",
    "filename = \"../models/tfidf_model.pickle\"\n",
    "filename = \"../models/logreg_model.pickle\"\n",
    "# filename = \"../models/ensamble_model.pickle\""
   ]
  },
  {
   "cell_type": "code",
   "execution_count": 11,
   "id": "1f061af9",
   "metadata": {},
   "outputs": [
    {
     "name": "stderr",
     "output_type": "stream",
     "text": [
      "/home/andrey/miniconda3/lib/python3.7/site-packages/sklearn/base.py:315: UserWarning: Trying to unpickle estimator TfidfTransformer from version 1.0.2 when using version 0.24.2. This might lead to breaking code or invalid results. Use at your own risk.\n",
      "  UserWarning)\n",
      "/home/andrey/miniconda3/lib/python3.7/site-packages/sklearn/base.py:315: UserWarning: Trying to unpickle estimator TfidfVectorizer from version 1.0.2 when using version 0.24.2. This might lead to breaking code or invalid results. Use at your own risk.\n",
      "  UserWarning)\n",
      "/home/andrey/miniconda3/lib/python3.7/site-packages/sklearn/base.py:315: UserWarning: Trying to unpickle estimator LogisticRegression from version 1.0.2 when using version 0.24.2. This might lead to breaking code or invalid results. Use at your own risk.\n",
      "  UserWarning)\n"
     ]
    }
   ],
   "source": [
    "# для теста решения\n",
    "filename = \"../models/tfidf_model_all_data.pickle\"\n",
    "text_transformer = pickle.load(open(filename, \"rb\"))\n",
    "\n",
    "filename = \"../models/logreg_model_all_data.pickle\"\n",
    "\n",
    "model = pickle.load(open(filename, \"rb\"))"
   ]
  },
  {
   "cell_type": "markdown",
   "id": "05e86bd1",
   "metadata": {},
   "source": [
    "### поехали"
   ]
  },
  {
   "cell_type": "code",
   "execution_count": 12,
   "id": "66addcec",
   "metadata": {},
   "outputs": [],
   "source": [
    "df_submission = []\n",
    "for cur_doc in sorted(interest_files):\n",
    "    filename = path_docs + cur_doc\n",
    "    file_id = int(cur_doc.split(\".\")[0])\n",
    "    doc = docx.Document(filename)\n",
    "    fullText = get_text(doc)\n",
    "    # сегментируем, где у нас потенциально есть классы\n",
    "    ind_start = get_first_index(fullText)\n",
    "    end_start = get_end_index(fullText)\n",
    "\n",
    "    target_data = []\n",
    "    activate_flag = False\n",
    "    real_start_real = ind_start\n",
    "    for num_el, elem in enumerate(fullText[ind_start:end_start]):\n",
    "        if not activate_flag:\n",
    "            if len(re.findall(\"\\d+\\. \", elem)) > 0:\n",
    "                real_start_real += num_el\n",
    "                activate_flag = True\n",
    "                target_data.append(elem.replace(\"\\xa0\", \" \"))\n",
    "        else:\n",
    "            target_data.append(elem.replace(\"\\xa0\", \" \"))\n",
    "    # извлекаем текст и id\n",
    "    texts = []\n",
    "    ids = []\n",
    "    for num, elem in enumerate(target_data):\n",
    "        if len(re.findall(\"{\\d+\", elem)) > 0:\n",
    "            splits = re.split(\"\\d+}\", elem)\n",
    "            cur_ids = re.findall(\"\\d+}\", elem)\n",
    "            for i in range(1, len(splits), 2):\n",
    "                texts.append(splits[i])\n",
    "            for i in range(1, len(cur_ids), 2):\n",
    "                ids.append(int(re.findall(\"\\d+\", cur_ids[i])[0]))\n",
    "\n",
    "    df1 = pd.DataFrame({\"texts\": texts, \"id\": ids})\n",
    "\n",
    "    # работа для модели\n",
    "    ref_text = [re.sub(\"[\\W\\d]+\", \" \", x.lower()) for x in df1[\"texts\"]]\n",
    "    X_text = text_transformer.transform(ref_text)\n",
    "    y_pred = model.predict(X_text)\n",
    "    #     y_proba = model.predict_proba(X_text)\n",
    "    df1[\"class\"] = y_pred\n",
    "    df1[\"file_id\"] = file_id\n",
    "    df_submission.append(df1)"
   ]
  },
  {
   "cell_type": "code",
   "execution_count": 13,
   "id": "6e7d8b0c",
   "metadata": {},
   "outputs": [],
   "source": [
    "df_submission = pd.concat(df_submission)"
   ]
  },
  {
   "cell_type": "code",
   "execution_count": 14,
   "id": "4888d383",
   "metadata": {},
   "outputs": [],
   "source": [
    "df_submission = df_submission[[\"file_id\", \"id\", \"class\", \"texts\"]]"
   ]
  },
  {
   "cell_type": "code",
   "execution_count": 15,
   "id": "3d1ac2cf",
   "metadata": {},
   "outputs": [],
   "source": [
    "df_submission.sort_values([\"file_id\", \"id\"], inplace=True)"
   ]
  },
  {
   "cell_type": "code",
   "execution_count": 16,
   "id": "9abfde92",
   "metadata": {},
   "outputs": [
    {
     "data": {
      "text/html": [
       "<div>\n",
       "<style scoped>\n",
       "    .dataframe tbody tr th:only-of-type {\n",
       "        vertical-align: middle;\n",
       "    }\n",
       "\n",
       "    .dataframe tbody tr th {\n",
       "        vertical-align: top;\n",
       "    }\n",
       "\n",
       "    .dataframe thead th {\n",
       "        text-align: right;\n",
       "    }\n",
       "</style>\n",
       "<table border=\"1\" class=\"dataframe\">\n",
       "  <thead>\n",
       "    <tr style=\"text-align: right;\">\n",
       "      <th></th>\n",
       "      <th>file_id</th>\n",
       "      <th>id</th>\n",
       "      <th>class</th>\n",
       "      <th>texts</th>\n",
       "    </tr>\n",
       "  </thead>\n",
       "  <tbody>\n",
       "    <tr>\n",
       "      <th>0</th>\n",
       "      <td>1</td>\n",
       "      <td>1</td>\n",
       "      <td>2</td>\n",
       "      <td>Настоящие Правила устанавливают цели, условия ...</td>\n",
       "    </tr>\n",
       "    <tr>\n",
       "      <th>1</th>\n",
       "      <td>1</td>\n",
       "      <td>2</td>\n",
       "      <td>2</td>\n",
       "      <td>Субсидия предоставляется получателю субсидии ...</td>\n",
       "    </tr>\n",
       "    <tr>\n",
       "      <th>2</th>\n",
       "      <td>1</td>\n",
       "      <td>3</td>\n",
       "      <td>2</td>\n",
       "      <td>Субсидия предоставляется в рамках  \"Информацио...</td>\n",
       "    </tr>\n",
       "    <tr>\n",
       "      <th>3</th>\n",
       "      <td>1</td>\n",
       "      <td>4</td>\n",
       "      <td>3</td>\n",
       "      <td>Субсидия предоставляется в пределах лимитов бю...</td>\n",
       "    </tr>\n",
       "    <tr>\n",
       "      <th>4</th>\n",
       "      <td>1</td>\n",
       "      <td>5</td>\n",
       "      <td>7</td>\n",
       "      <td>Сведения (информация) о субсидии размещаются ...</td>\n",
       "    </tr>\n",
       "    <tr>\n",
       "      <th>...</th>\n",
       "      <td>...</td>\n",
       "      <td>...</td>\n",
       "      <td>...</td>\n",
       "      <td>...</td>\n",
       "    </tr>\n",
       "    <tr>\n",
       "      <th>66</th>\n",
       "      <td>10</td>\n",
       "      <td>67</td>\n",
       "      <td>38</td>\n",
       "      <td>на основании представления и (или) предписания...</td>\n",
       "    </tr>\n",
       "    <tr>\n",
       "      <th>67</th>\n",
       "      <td>10</td>\n",
       "      <td>68</td>\n",
       "      <td>38</td>\n",
       "      <td>В случае недостижения организацией значений ре...</td>\n",
       "    </tr>\n",
       "    <tr>\n",
       "      <th>68</th>\n",
       "      <td>10</td>\n",
       "      <td>69</td>\n",
       "      <td>22</td>\n",
       "      <td>Министерство транспорта Российской Федерации н...</td>\n",
       "    </tr>\n",
       "    <tr>\n",
       "      <th>69</th>\n",
       "      <td>10</td>\n",
       "      <td>70</td>\n",
       "      <td>38</td>\n",
       "      <td>Срок исполнения организацией требования не дол...</td>\n",
       "    </tr>\n",
       "    <tr>\n",
       "      <th>70</th>\n",
       "      <td>10</td>\n",
       "      <td>71</td>\n",
       "      <td>7</td>\n",
       "      <td>Сведения о субсидии размещаются на едином порт...</td>\n",
       "    </tr>\n",
       "  </tbody>\n",
       "</table>\n",
       "<p>852 rows × 4 columns</p>\n",
       "</div>"
      ],
      "text/plain": [
       "    file_id  id  class                                              texts\n",
       "0         1   1      2  Настоящие Правила устанавливают цели, условия ...\n",
       "1         1   2      2   Субсидия предоставляется получателю субсидии ...\n",
       "2         1   3      2  Субсидия предоставляется в рамках  \"Информацио...\n",
       "3         1   4      3  Субсидия предоставляется в пределах лимитов бю...\n",
       "4         1   5      7   Сведения (информация) о субсидии размещаются ...\n",
       "..      ...  ..    ...                                                ...\n",
       "66       10  67     38  на основании представления и (или) предписания...\n",
       "67       10  68     38  В случае недостижения организацией значений ре...\n",
       "68       10  69     22  Министерство транспорта Российской Федерации н...\n",
       "69       10  70     38  Срок исполнения организацией требования не дол...\n",
       "70       10  71      7  Сведения о субсидии размещаются на едином порт...\n",
       "\n",
       "[852 rows x 4 columns]"
      ]
     },
     "execution_count": 16,
     "metadata": {},
     "output_type": "execute_result"
    }
   ],
   "source": [
    "df_submission"
   ]
  },
  {
   "cell_type": "code",
   "execution_count": 17,
   "id": "b4f811f8",
   "metadata": {},
   "outputs": [
    {
     "name": "stdout",
     "output_type": "stream",
     "text": [
      "<class 'pandas.core.frame.DataFrame'>\n",
      "Int64Index: 852 entries, 0 to 70\n",
      "Data columns (total 4 columns):\n",
      " #   Column   Non-Null Count  Dtype \n",
      "---  ------   --------------  ----- \n",
      " 0   file_id  852 non-null    int64 \n",
      " 1   id       852 non-null    int64 \n",
      " 2   class    852 non-null    int64 \n",
      " 3   texts    852 non-null    object\n",
      "dtypes: int64(3), object(1)\n",
      "memory usage: 33.3+ KB\n"
     ]
    }
   ],
   "source": [
    "df_submission.info()"
   ]
  },
  {
   "cell_type": "code",
   "execution_count": 18,
   "id": "71c598d7",
   "metadata": {},
   "outputs": [
    {
     "data": {
      "text/html": [
       "<div>\n",
       "<style scoped>\n",
       "    .dataframe tbody tr th:only-of-type {\n",
       "        vertical-align: middle;\n",
       "    }\n",
       "\n",
       "    .dataframe tbody tr th {\n",
       "        vertical-align: top;\n",
       "    }\n",
       "\n",
       "    .dataframe thead th {\n",
       "        text-align: right;\n",
       "    }\n",
       "</style>\n",
       "<table border=\"1\" class=\"dataframe\">\n",
       "  <thead>\n",
       "    <tr style=\"text-align: right;\">\n",
       "      <th></th>\n",
       "      <th>file_id</th>\n",
       "      <th>id</th>\n",
       "      <th>class</th>\n",
       "    </tr>\n",
       "  </thead>\n",
       "  <tbody>\n",
       "    <tr>\n",
       "      <th>0</th>\n",
       "      <td>1</td>\n",
       "      <td>1</td>\n",
       "      <td>1</td>\n",
       "    </tr>\n",
       "    <tr>\n",
       "      <th>1</th>\n",
       "      <td>1</td>\n",
       "      <td>2</td>\n",
       "      <td>1</td>\n",
       "    </tr>\n",
       "    <tr>\n",
       "      <th>2</th>\n",
       "      <td>1</td>\n",
       "      <td>3</td>\n",
       "      <td>1</td>\n",
       "    </tr>\n",
       "    <tr>\n",
       "      <th>3</th>\n",
       "      <td>1</td>\n",
       "      <td>4</td>\n",
       "      <td>1</td>\n",
       "    </tr>\n",
       "    <tr>\n",
       "      <th>4</th>\n",
       "      <td>1</td>\n",
       "      <td>5</td>\n",
       "      <td>1</td>\n",
       "    </tr>\n",
       "    <tr>\n",
       "      <th>...</th>\n",
       "      <td>...</td>\n",
       "      <td>...</td>\n",
       "      <td>...</td>\n",
       "    </tr>\n",
       "    <tr>\n",
       "      <th>847</th>\n",
       "      <td>10</td>\n",
       "      <td>67</td>\n",
       "      <td>1</td>\n",
       "    </tr>\n",
       "    <tr>\n",
       "      <th>848</th>\n",
       "      <td>10</td>\n",
       "      <td>68</td>\n",
       "      <td>1</td>\n",
       "    </tr>\n",
       "    <tr>\n",
       "      <th>849</th>\n",
       "      <td>10</td>\n",
       "      <td>69</td>\n",
       "      <td>1</td>\n",
       "    </tr>\n",
       "    <tr>\n",
       "      <th>850</th>\n",
       "      <td>10</td>\n",
       "      <td>70</td>\n",
       "      <td>1</td>\n",
       "    </tr>\n",
       "    <tr>\n",
       "      <th>851</th>\n",
       "      <td>10</td>\n",
       "      <td>71</td>\n",
       "      <td>1</td>\n",
       "    </tr>\n",
       "  </tbody>\n",
       "</table>\n",
       "<p>852 rows × 3 columns</p>\n",
       "</div>"
      ],
      "text/plain": [
       "     file_id  id  class\n",
       "0          1   1      1\n",
       "1          1   2      1\n",
       "2          1   3      1\n",
       "3          1   4      1\n",
       "4          1   5      1\n",
       "..       ...  ..    ...\n",
       "847       10  67      1\n",
       "848       10  68      1\n",
       "849       10  69      1\n",
       "850       10  70      1\n",
       "851       10  71      1\n",
       "\n",
       "[852 rows x 3 columns]"
      ]
     },
     "execution_count": 18,
     "metadata": {},
     "output_type": "execute_result"
    }
   ],
   "source": [
    "sample_sub"
   ]
  },
  {
   "cell_type": "code",
   "execution_count": 19,
   "id": "6582598c",
   "metadata": {},
   "outputs": [
    {
     "name": "stdout",
     "output_type": "stream",
     "text": [
      "<class 'pandas.core.frame.DataFrame'>\n",
      "RangeIndex: 852 entries, 0 to 851\n",
      "Data columns (total 3 columns):\n",
      " #   Column   Non-Null Count  Dtype\n",
      "---  ------   --------------  -----\n",
      " 0   file_id  852 non-null    int64\n",
      " 1   id       852 non-null    int64\n",
      " 2   class    852 non-null    int64\n",
      "dtypes: int64(3)\n",
      "memory usage: 20.1 KB\n"
     ]
    }
   ],
   "source": [
    "sample_sub.info()"
   ]
  },
  {
   "cell_type": "code",
   "execution_count": 20,
   "id": "bea43057",
   "metadata": {},
   "outputs": [],
   "source": [
    "df_submission[sample_sub.columns].to_csv(\"SibDS.csv\", sep=\";\", index=False)"
   ]
  }
 ],
 "metadata": {
  "kernelspec": {
   "display_name": "Python 3",
   "language": "python",
   "name": "python3"
  },
  "language_info": {
   "codemirror_mode": {
    "name": "ipython",
    "version": 3
   },
   "file_extension": ".py",
   "mimetype": "text/x-python",
   "name": "python",
   "nbconvert_exporter": "python",
   "pygments_lexer": "ipython3",
   "version": "3.7.4"
  }
 },
 "nbformat": 4,
 "nbformat_minor": 5
}
