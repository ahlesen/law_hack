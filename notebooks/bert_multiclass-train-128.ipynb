{
 "cells": [
  {
   "cell_type": "markdown",
   "metadata": {
    "colab_type": "text",
    "id": "RX_ZDhicpHkV"
   },
   "source": [
    "## Установка библиотек"
   ]
  },
  {
   "cell_type": "code",
   "execution_count": 1,
   "metadata": {
    "colab": {
     "base_uri": "https://localhost:8080/",
     "height": 382
    },
    "colab_type": "code",
    "id": "0NmMdkZO8R6q",
    "outputId": "1cc59bfa-1dbb-4540-cb22-196f399f62af"
   },
   "outputs": [],
   "source": [
    "# !pip install pytorch-transformers"
   ]
  },
  {
   "cell_type": "code",
   "execution_count": 2,
   "metadata": {
    "colab": {
     "base_uri": "https://localhost:8080/",
     "height": 34
    },
    "colab_type": "code",
    "id": "Ok002ceNB8E7",
    "outputId": "06ef90d2-7518-4209-da66-1dd45c357c78"
   },
   "outputs": [],
   "source": [
    "import torch\n",
    "from torch.utils.data import TensorDataset, DataLoader, RandomSampler, SequentialSampler\n",
    "from keras.preprocessing.sequence import pad_sequences\n",
    "from sklearn.model_selection import train_test_split\n",
    "from pytorch_transformers import BertTokenizer, BertConfig\n",
    "from pytorch_transformers import AdamW, BertForSequenceClassification\n",
    "from tqdm import tqdm, trange\n",
    "import pandas as pd\n",
    "import io\n",
    "import numpy as np\n",
    "from sklearn.metrics import accuracy_score, classification_report\n",
    "import matplotlib.pyplot as plt"
   ]
  },
  {
   "cell_type": "code",
   "execution_count": 3,
   "metadata": {},
   "outputs": [],
   "source": [
    "import json\n",
    "import re"
   ]
  },
  {
   "cell_type": "code",
   "execution_count": 4,
   "metadata": {
    "colab": {
     "base_uri": "https://localhost:8080/",
     "height": 34
    },
    "colab_type": "code",
    "id": "oYsV4H8fCpZ-",
    "outputId": "b8812c8e-3149-475f-b4c0-262160485c39"
   },
   "outputs": [
    {
     "name": "stdout",
     "output_type": "stream",
     "text": [
      "NVIDIA GeForce RTX 2080 Ti\n"
     ]
    }
   ],
   "source": [
    "device =  torch.device(\"cuda\" if torch.cuda.is_available() else \"cpu\")\n",
    "if device == 'cpu':\n",
    "    print('cpu')\n",
    "else:\n",
    "    n_gpu = torch.cuda.device_count()\n",
    "    print(torch.cuda.get_device_name(0))"
   ]
  },
  {
   "cell_type": "markdown",
   "metadata": {
    "colab_type": "text",
    "id": "guw6ZNtaswKc"
   },
   "source": [
    "## Загрузка данных\n"
   ]
  },
  {
   "cell_type": "code",
   "execution_count": 5,
   "metadata": {},
   "outputs": [],
   "source": [
    "with open('data/full_docs.json', 'r+') as fp:\n",
    "    full_docs1 = json.load(fp)"
   ]
  },
  {
   "cell_type": "code",
   "execution_count": 6,
   "metadata": {},
   "outputs": [],
   "source": [
    "files = list(full_docs1.keys())"
   ]
  },
  {
   "cell_type": "code",
   "execution_count": 7,
   "metadata": {},
   "outputs": [],
   "source": [
    "df_list = []\n",
    "for i in range(len(files)):\n",
    "    df1 = pd.DataFrame(full_docs1[files[i]])\n",
    "    df1[\"name\"] = files[i]\n",
    "    df_list.append(df1)"
   ]
  },
  {
   "cell_type": "code",
   "execution_count": 8,
   "metadata": {},
   "outputs": [],
   "source": [
    "test = ['Postanovlenie_Pravitelstva_RF_ot_19_08_2017_N_985_docx',\n",
    " 'Postanovlenie_Pravitelstva_Rossiyskoy_Federatsii_ot_29_05_2020_783',\n",
    " '955_ot_27_05_2022',\n",
    " 'Postanovlenie_Pravitelstva_RF_ot30_04_2019_N_532',\n",
    " '208_ot_18_fevralya_2022',\n",
    " 'KuznetsovaSchelkunovaPostanovlenie_Pravitelstva_RF_ot_26_12_2019_N_1850',\n",
    " 'Postanovlenie_Pravitelstva_RF_ot_23_08_2021_N_1380',\n",
    " 'KuznetsovaPostanovlenie_Pravitelstva_RF_ot_18_09_2021_N_1578',\n",
    " 'Постановление Правительства РФ от 27 августа 2021 г',\n",
    " '814_ot_5_maya_2022',\n",
    " 'PP_RF_ot_11_12_2020_N_2080',\n",
    " 'Postanovlenie_Pravitelstva_Rossiyskoy_Federatsii_ot_03_12_2020__2012',\n",
    " 'Postanovlenie_Pravitelstva_RF_ot_28_08_2018_N_1011_gotovoe',\n",
    " 'Postanovlenie_Pravitelstva_RF_ot_22_02_2021_N_245_Khromykh_i_Kononova',\n",
    " 'Postanovlenie_pravitelstva_RF_ot_02_03_2018_N_215']"
   ]
  },
  {
   "cell_type": "code",
   "execution_count": 9,
   "metadata": {},
   "outputs": [],
   "source": [
    "df = pd.concat(df_list)"
   ]
  },
  {
   "cell_type": "code",
   "execution_count": 10,
   "metadata": {},
   "outputs": [
    {
     "data": {
      "text/html": [
       "<div>\n",
       "<style scoped>\n",
       "    .dataframe tbody tr th:only-of-type {\n",
       "        vertical-align: middle;\n",
       "    }\n",
       "\n",
       "    .dataframe tbody tr th {\n",
       "        vertical-align: top;\n",
       "    }\n",
       "\n",
       "    .dataframe thead th {\n",
       "        text-align: right;\n",
       "    }\n",
       "</style>\n",
       "<table border=\"1\" class=\"dataframe\">\n",
       "  <thead>\n",
       "    <tr style=\"text-align: right;\">\n",
       "      <th></th>\n",
       "      <th>data</th>\n",
       "      <th>text</th>\n",
       "      <th>target</th>\n",
       "      <th>few_texts</th>\n",
       "      <th>few_targets</th>\n",
       "      <th>name</th>\n",
       "    </tr>\n",
       "  </thead>\n",
       "  <tbody>\n",
       "    <tr>\n",
       "      <th>0</th>\n",
       "      <td>1. {2}Настоящие Правила устанавливают цели, по...</td>\n",
       "      <td>Настоящие Правила устанавливают цели, порядок ...</td>\n",
       "      <td>2.0</td>\n",
       "      <td>[1. Настоящие Правила устанавливают цели, поря...</td>\n",
       "      <td>[2]</td>\n",
       "      <td>Postanovlenie_Pravitelstva_RF_ot_29_09_2017_N_...</td>\n",
       "    </tr>\n",
       "    <tr>\n",
       "      <th>1</th>\n",
       "      <td>2. {2}Субсидия предоставляется в целях обеспеч...</td>\n",
       "      <td>Субсидия предоставляется в целях обеспечения у...</td>\n",
       "      <td>2.0</td>\n",
       "      <td>[2. Субсидия предоставляется в целях обеспечен...</td>\n",
       "      <td>[2, 2, 2, 2]</td>\n",
       "      <td>Postanovlenie_Pravitelstva_RF_ot_29_09_2017_N_...</td>\n",
       "    </tr>\n",
       "    <tr>\n",
       "      <th>2</th>\n",
       "      <td>{4}Субсидия предоставляется в рамках государст...</td>\n",
       "      <td>Субсидия предоставляется в рамках государствен...</td>\n",
       "      <td>4.0</td>\n",
       "      <td>[Субсидия предоставляется в рамках государстве...</td>\n",
       "      <td>[4]</td>\n",
       "      <td>Postanovlenie_Pravitelstva_RF_ot_29_09_2017_N_...</td>\n",
       "    </tr>\n",
       "    <tr>\n",
       "      <th>3</th>\n",
       "      <td>3. {5}Получателем бюджетных средств, до которо...</td>\n",
       "      <td>Получателем бюджетных средств, до которого в с...</td>\n",
       "      <td>5.0</td>\n",
       "      <td>[3. Получателем бюджетных средств, до которого...</td>\n",
       "      <td>[5]</td>\n",
       "      <td>Postanovlenie_Pravitelstva_RF_ot_29_09_2017_N_...</td>\n",
       "    </tr>\n",
       "    <tr>\n",
       "      <th>4</th>\n",
       "      <td>4. {3}Субсидия предоставляется в соответствии ...</td>\n",
       "      <td>Субсидия предоставляется в соответствии с согл...</td>\n",
       "      <td>3.0</td>\n",
       "      <td>[4. Субсидия предоставляется в соответствии с ...</td>\n",
       "      <td>[3, 27]</td>\n",
       "      <td>Postanovlenie_Pravitelstva_RF_ot_29_09_2017_N_...</td>\n",
       "    </tr>\n",
       "    <tr>\n",
       "      <th>...</th>\n",
       "      <td>...</td>\n",
       "      <td>...</td>\n",
       "      <td>...</td>\n",
       "      <td>...</td>\n",
       "      <td>...</td>\n",
       "      <td>...</td>\n",
       "    </tr>\n",
       "    <tr>\n",
       "      <th>217</th>\n",
       "      <td>16.  Правительства Российской Федерации от 27 ...</td>\n",
       "      <td>16.  Правительства Российской Федерации от 27 ...</td>\n",
       "      <td>0.0</td>\n",
       "      <td>[16.  Правительства Российской Федерации от 27...</td>\n",
       "      <td>[0]</td>\n",
       "      <td>Postanovlenie_pravitelstva_RF_ot_02_03_2018_N_215</td>\n",
       "    </tr>\n",
       "    <tr>\n",
       "      <th>218</th>\n",
       "      <td>17.  и  изменений, которые вносятся в акты Пра...</td>\n",
       "      <td>17.  и  изменений, которые вносятся в акты Пра...</td>\n",
       "      <td>0.0</td>\n",
       "      <td>[17.  и  изменений, которые вносятся в акты Пр...</td>\n",
       "      <td>[0]</td>\n",
       "      <td>Postanovlenie_pravitelstva_RF_ot_02_03_2018_N_215</td>\n",
       "    </tr>\n",
       "    <tr>\n",
       "      <th>219</th>\n",
       "      <td>18.  Правительства Российской Федерации от 24 ...</td>\n",
       "      <td>18.  Правительства Российской Федерации от 24 ...</td>\n",
       "      <td>0.0</td>\n",
       "      <td>[18.  Правительства Российской Федерации от 24...</td>\n",
       "      <td>[0]</td>\n",
       "      <td>Postanovlenie_pravitelstva_RF_ot_02_03_2018_N_215</td>\n",
       "    </tr>\n",
       "    <tr>\n",
       "      <th>220</th>\n",
       "      <td>19.  Правительства Российской Федерации от 29 ...</td>\n",
       "      <td>19.  Правительства Российской Федерации от 29 ...</td>\n",
       "      <td>0.0</td>\n",
       "      <td>[19.  Правительства Российской Федерации от 29...</td>\n",
       "      <td>[0]</td>\n",
       "      <td>Postanovlenie_pravitelstva_RF_ot_02_03_2018_N_215</td>\n",
       "    </tr>\n",
       "    <tr>\n",
       "      <th>221</th>\n",
       "      <td>20.  Правительства Российской Федерации от 31 ...</td>\n",
       "      <td>20.  Правительства Российской Федерации от 31 ...</td>\n",
       "      <td>0.0</td>\n",
       "      <td>[20.  Правительства Российской Федерации от 31...</td>\n",
       "      <td>[0]</td>\n",
       "      <td>Postanovlenie_pravitelstva_RF_ot_02_03_2018_N_215</td>\n",
       "    </tr>\n",
       "  </tbody>\n",
       "</table>\n",
       "<p>19670 rows × 6 columns</p>\n",
       "</div>"
      ],
      "text/plain": [
       "                                                  data  \\\n",
       "0    1. {2}Настоящие Правила устанавливают цели, по...   \n",
       "1    2. {2}Субсидия предоставляется в целях обеспеч...   \n",
       "2    {4}Субсидия предоставляется в рамках государст...   \n",
       "3    3. {5}Получателем бюджетных средств, до которо...   \n",
       "4    4. {3}Субсидия предоставляется в соответствии ...   \n",
       "..                                                 ...   \n",
       "217  16.  Правительства Российской Федерации от 27 ...   \n",
       "218  17.  и  изменений, которые вносятся в акты Пра...   \n",
       "219  18.  Правительства Российской Федерации от 24 ...   \n",
       "220  19.  Правительства Российской Федерации от 29 ...   \n",
       "221  20.  Правительства Российской Федерации от 31 ...   \n",
       "\n",
       "                                                  text  target  \\\n",
       "0    Настоящие Правила устанавливают цели, порядок ...     2.0   \n",
       "1    Субсидия предоставляется в целях обеспечения у...     2.0   \n",
       "2    Субсидия предоставляется в рамках государствен...     4.0   \n",
       "3    Получателем бюджетных средств, до которого в с...     5.0   \n",
       "4    Субсидия предоставляется в соответствии с согл...     3.0   \n",
       "..                                                 ...     ...   \n",
       "217  16.  Правительства Российской Федерации от 27 ...     0.0   \n",
       "218  17.  и  изменений, которые вносятся в акты Пра...     0.0   \n",
       "219  18.  Правительства Российской Федерации от 24 ...     0.0   \n",
       "220  19.  Правительства Российской Федерации от 29 ...     0.0   \n",
       "221  20.  Правительства Российской Федерации от 31 ...     0.0   \n",
       "\n",
       "                                             few_texts   few_targets  \\\n",
       "0    [1. Настоящие Правила устанавливают цели, поря...           [2]   \n",
       "1    [2. Субсидия предоставляется в целях обеспечен...  [2, 2, 2, 2]   \n",
       "2    [Субсидия предоставляется в рамках государстве...           [4]   \n",
       "3    [3. Получателем бюджетных средств, до которого...           [5]   \n",
       "4    [4. Субсидия предоставляется в соответствии с ...       [3, 27]   \n",
       "..                                                 ...           ...   \n",
       "217  [16.  Правительства Российской Федерации от 27...           [0]   \n",
       "218  [17.  и  изменений, которые вносятся в акты Пр...           [0]   \n",
       "219  [18.  Правительства Российской Федерации от 24...           [0]   \n",
       "220  [19.  Правительства Российской Федерации от 29...           [0]   \n",
       "221  [20.  Правительства Российской Федерации от 31...           [0]   \n",
       "\n",
       "                                                  name  \n",
       "0    Postanovlenie_Pravitelstva_RF_ot_29_09_2017_N_...  \n",
       "1    Postanovlenie_Pravitelstva_RF_ot_29_09_2017_N_...  \n",
       "2    Postanovlenie_Pravitelstva_RF_ot_29_09_2017_N_...  \n",
       "3    Postanovlenie_Pravitelstva_RF_ot_29_09_2017_N_...  \n",
       "4    Postanovlenie_Pravitelstva_RF_ot_29_09_2017_N_...  \n",
       "..                                                 ...  \n",
       "217  Postanovlenie_pravitelstva_RF_ot_02_03_2018_N_215  \n",
       "218  Postanovlenie_pravitelstva_RF_ot_02_03_2018_N_215  \n",
       "219  Postanovlenie_pravitelstva_RF_ot_02_03_2018_N_215  \n",
       "220  Postanovlenie_pravitelstva_RF_ot_02_03_2018_N_215  \n",
       "221  Postanovlenie_pravitelstva_RF_ot_02_03_2018_N_215  \n",
       "\n",
       "[19670 rows x 6 columns]"
      ]
     },
     "execution_count": 10,
     "metadata": {},
     "output_type": "execute_result"
    }
   ],
   "source": [
    "df"
   ]
  },
  {
   "cell_type": "code",
   "execution_count": 11,
   "metadata": {},
   "outputs": [
    {
     "name": "stdout",
     "output_type": "stream",
     "text": [
      "621\n",
      "681\n",
      "858\n",
      "878\n",
      "1291\n",
      "1332\n",
      "1351\n",
      "1368\n",
      "1388\n",
      "1398\n",
      "1443\n",
      "1444\n",
      "1491\n",
      "1492\n",
      "1496\n",
      "1541\n",
      "1554\n",
      "1619\n",
      "1919\n",
      "1925\n",
      "2107\n",
      "2164\n",
      "2891\n",
      "2963\n",
      "2966\n",
      "2976\n",
      "2977\n",
      "2978\n",
      "3034\n",
      "3474\n",
      "3496\n",
      "3949\n",
      "4685\n",
      "4686\n",
      "5120\n",
      "5414\n",
      "7270\n",
      "7774\n",
      "8282\n",
      "8283\n",
      "8837\n",
      "8844\n",
      "10419\n",
      "11813\n",
      "11818\n",
      "14319\n",
      "14320\n",
      "14345\n",
      "14417\n",
      "14420\n",
      "14430\n",
      "14431\n",
      "14432\n",
      "15349\n",
      "18879\n",
      "18907\n",
      "18934\n",
      "18962\n"
     ]
    }
   ],
   "source": [
    "df_list = []\n",
    "for i in range(1, df.shape[0]+1):\n",
    "    try:\n",
    "        df2 = df.iloc[i-1:i].explode(['few_texts', 'few_targets'], ignore_index=True)\n",
    "        df_list.append(df2)\n",
    "    except:\n",
    "        print(i)"
   ]
  },
  {
   "cell_type": "code",
   "execution_count": 12,
   "metadata": {},
   "outputs": [],
   "source": [
    "df = pd.concat(df_list)"
   ]
  },
  {
   "cell_type": "code",
   "execution_count": 13,
   "metadata": {},
   "outputs": [],
   "source": [
    "df['ref_text'] = df['few_texts'].apply(lambda x: re.sub('[\\W\\d]+', ' ', x))"
   ]
  },
  {
   "cell_type": "code",
   "execution_count": 14,
   "metadata": {},
   "outputs": [
    {
     "data": {
      "text/plain": [
       "(21185, 7)"
      ]
     },
     "execution_count": 14,
     "metadata": {},
     "output_type": "execute_result"
    }
   ],
   "source": [
    "df.shape"
   ]
  },
  {
   "cell_type": "code",
   "execution_count": 15,
   "metadata": {},
   "outputs": [
    {
     "data": {
      "text/html": [
       "<div>\n",
       "<style scoped>\n",
       "    .dataframe tbody tr th:only-of-type {\n",
       "        vertical-align: middle;\n",
       "    }\n",
       "\n",
       "    .dataframe tbody tr th {\n",
       "        vertical-align: top;\n",
       "    }\n",
       "\n",
       "    .dataframe thead th {\n",
       "        text-align: right;\n",
       "    }\n",
       "</style>\n",
       "<table border=\"1\" class=\"dataframe\">\n",
       "  <thead>\n",
       "    <tr style=\"text-align: right;\">\n",
       "      <th></th>\n",
       "      <th>data</th>\n",
       "      <th>text</th>\n",
       "      <th>target</th>\n",
       "      <th>few_texts</th>\n",
       "      <th>few_targets</th>\n",
       "      <th>name</th>\n",
       "      <th>ref_text</th>\n",
       "    </tr>\n",
       "  </thead>\n",
       "  <tbody>\n",
       "    <tr>\n",
       "      <th>0</th>\n",
       "      <td>1. {2}Настоящие Правила устанавливают цели, по...</td>\n",
       "      <td>Настоящие Правила устанавливают цели, порядок ...</td>\n",
       "      <td>2.0</td>\n",
       "      <td>1. Настоящие Правила устанавливают цели, поряд...</td>\n",
       "      <td>2</td>\n",
       "      <td>Postanovlenie_Pravitelstva_RF_ot_29_09_2017_N_...</td>\n",
       "      <td>Настоящие Правила устанавливают цели порядок ...</td>\n",
       "    </tr>\n",
       "    <tr>\n",
       "      <th>0</th>\n",
       "      <td>2. {2}Субсидия предоставляется в целях обеспеч...</td>\n",
       "      <td>Субсидия предоставляется в целях обеспечения у...</td>\n",
       "      <td>2.0</td>\n",
       "      <td>2. Субсидия предоставляется в целях обеспечени...</td>\n",
       "      <td>2</td>\n",
       "      <td>Postanovlenie_Pravitelstva_RF_ot_29_09_2017_N_...</td>\n",
       "      <td>Субсидия предоставляется в целях обеспечения ...</td>\n",
       "    </tr>\n",
       "    <tr>\n",
       "      <th>1</th>\n",
       "      <td>2. {2}Субсидия предоставляется в целях обеспеч...</td>\n",
       "      <td>Субсидия предоставляется в целях обеспечения у...</td>\n",
       "      <td>2.0</td>\n",
       "      <td>Группы подразделений финансовой разведки \"Эгмо...</td>\n",
       "      <td>2</td>\n",
       "      <td>Postanovlenie_Pravitelstva_RF_ot_29_09_2017_N_...</td>\n",
       "      <td>Группы подразделений финансовой разведки Эгмон...</td>\n",
       "    </tr>\n",
       "    <tr>\n",
       "      <th>2</th>\n",
       "      <td>2. {2}Субсидия предоставляется в целях обеспеч...</td>\n",
       "      <td>Субсидия предоставляется в целях обеспечения у...</td>\n",
       "      <td>2.0</td>\n",
       "      <td>полученных преступным путем, и финансированию ...</td>\n",
       "      <td>2</td>\n",
       "      <td>Postanovlenie_Pravitelstva_RF_ot_29_09_2017_N_...</td>\n",
       "      <td>полученных преступным путем и финансированию т...</td>\n",
       "    </tr>\n",
       "    <tr>\n",
       "      <th>3</th>\n",
       "      <td>2. {2}Субсидия предоставляется в целях обеспеч...</td>\n",
       "      <td>Субсидия предоставляется в целях обеспечения у...</td>\n",
       "      <td>2.0</td>\n",
       "      <td>полученных преступным путем, и финансированию...</td>\n",
       "      <td>2</td>\n",
       "      <td>Postanovlenie_Pravitelstva_RF_ot_29_09_2017_N_...</td>\n",
       "      <td>полученных преступным путем и финансированию ...</td>\n",
       "    </tr>\n",
       "  </tbody>\n",
       "</table>\n",
       "</div>"
      ],
      "text/plain": [
       "                                                data  \\\n",
       "0  1. {2}Настоящие Правила устанавливают цели, по...   \n",
       "0  2. {2}Субсидия предоставляется в целях обеспеч...   \n",
       "1  2. {2}Субсидия предоставляется в целях обеспеч...   \n",
       "2  2. {2}Субсидия предоставляется в целях обеспеч...   \n",
       "3  2. {2}Субсидия предоставляется в целях обеспеч...   \n",
       "\n",
       "                                                text  target  \\\n",
       "0  Настоящие Правила устанавливают цели, порядок ...     2.0   \n",
       "0  Субсидия предоставляется в целях обеспечения у...     2.0   \n",
       "1  Субсидия предоставляется в целях обеспечения у...     2.0   \n",
       "2  Субсидия предоставляется в целях обеспечения у...     2.0   \n",
       "3  Субсидия предоставляется в целях обеспечения у...     2.0   \n",
       "\n",
       "                                           few_texts few_targets  \\\n",
       "0  1. Настоящие Правила устанавливают цели, поряд...           2   \n",
       "0  2. Субсидия предоставляется в целях обеспечени...           2   \n",
       "1  Группы подразделений финансовой разведки \"Эгмо...           2   \n",
       "2  полученных преступным путем, и финансированию ...           2   \n",
       "3   полученных преступным путем, и финансированию...           2   \n",
       "\n",
       "                                                name  \\\n",
       "0  Postanovlenie_Pravitelstva_RF_ot_29_09_2017_N_...   \n",
       "0  Postanovlenie_Pravitelstva_RF_ot_29_09_2017_N_...   \n",
       "1  Postanovlenie_Pravitelstva_RF_ot_29_09_2017_N_...   \n",
       "2  Postanovlenie_Pravitelstva_RF_ot_29_09_2017_N_...   \n",
       "3  Postanovlenie_Pravitelstva_RF_ot_29_09_2017_N_...   \n",
       "\n",
       "                                            ref_text  \n",
       "0   Настоящие Правила устанавливают цели порядок ...  \n",
       "0   Субсидия предоставляется в целях обеспечения ...  \n",
       "1  Группы подразделений финансовой разведки Эгмон...  \n",
       "2  полученных преступным путем и финансированию т...  \n",
       "3   полученных преступным путем и финансированию ...  "
      ]
     },
     "execution_count": 15,
     "metadata": {},
     "output_type": "execute_result"
    }
   ],
   "source": [
    "df.head()"
   ]
  },
  {
   "cell_type": "code",
   "execution_count": 16,
   "metadata": {},
   "outputs": [],
   "source": [
    "df_train = df[~df[\"name\"].str.contains('|'.join(test))]"
   ]
  },
  {
   "cell_type": "code",
   "execution_count": 17,
   "metadata": {},
   "outputs": [],
   "source": [
    "df_test = df[df[\"name\"].str.contains('|'.join(test))]"
   ]
  },
  {
   "cell_type": "code",
   "execution_count": 18,
   "metadata": {
    "tags": []
   },
   "outputs": [],
   "source": [
    "train_sentences = df_train['ref_text'].values\n",
    "train_sentences = [\"[CLS] \" + sentence + \" [SEP]\" for sentence in train_sentences]\n",
    "train_gt =[[int(elem)] for elem in df_train['target'].values]"
   ]
  },
  {
   "cell_type": "code",
   "execution_count": 19,
   "metadata": {},
   "outputs": [],
   "source": [
    "test_sentences = df_test['ref_text'].values\n",
    "test_sentences = [\"[CLS] \" + sentence + \" [SEP]\" for sentence in test_sentences]\n",
    "test_gt =[[int(elem)] for elem in df_test['target'].values]"
   ]
  },
  {
   "cell_type": "code",
   "execution_count": 20,
   "metadata": {},
   "outputs": [],
   "source": [
    "assert len(test_sentences) == len(test_gt) "
   ]
  },
  {
   "cell_type": "code",
   "execution_count": 21,
   "metadata": {},
   "outputs": [
    {
     "name": "stdout",
     "output_type": "stream",
     "text": [
      "[CLS] Сведения о субсидии размещаются на едином портале бюджетной системы Российской Федерации в информационно телекоммуникационной сети Интернет в разделе Бюджет при формировании проекта федерального закона о федеральном бюджете проекта федерального закона о внесении изменений в федеральный закон о федеральном бюджете  [SEP]\n"
     ]
    }
   ],
   "source": [
    "print(train_sentences[1000])"
   ]
  },
  {
   "cell_type": "code",
   "execution_count": 22,
   "metadata": {},
   "outputs": [
    {
     "name": "stdout",
     "output_type": "stream",
     "text": [
      "18415 2770\n"
     ]
    }
   ],
   "source": [
    "print(len(train_gt), len(test_gt))"
   ]
  },
  {
   "cell_type": "markdown",
   "metadata": {
    "colab_type": "text",
    "id": "ex5O1eV-Pfct"
   },
   "source": [
    "## Inputs"
   ]
  },
  {
   "cell_type": "code",
   "execution_count": 23,
   "metadata": {},
   "outputs": [],
   "source": [
    "# Import generic wrappers\n",
    "from transformers import AutoModel, AutoTokenizer \n",
    "\n",
    "\n",
    "# Define the model repo\n",
    "model_name = \"DeepPavlov/rubert-base-cased\" \n",
    "\n",
    "\n",
    "# Download pytorch model\n",
    "tokenizer = AutoTokenizer.from_pretrained(model_name)"
   ]
  },
  {
   "cell_type": "code",
   "execution_count": 24,
   "metadata": {
    "colab": {
     "base_uri": "https://localhost:8080/",
     "height": 71
    },
    "colab_type": "code",
    "id": "Z474sSC6oe7A",
    "outputId": "fbaa8fd8-bccd-4feb-ce52-beba5d293cfa"
   },
   "outputs": [
    {
     "name": "stdout",
     "output_type": "stream",
     "text": [
      "['[CLS]', 'Настоящие', 'Правила', 'устанавливают', 'цели', 'порядок', 'и', 'условия', 'предоставления', 'субсидии', 'из', 'федерального', 'бюджета', 'автономной', 'некоммерческой', 'организации', 'Международный', 'учебно', 'метод', '##ический', 'центр', 'финансового', 'мониторинга', 'далее', 'соответственно', 'субсид', '##ия', 'Центр', '[SEP]']\n"
     ]
    }
   ],
   "source": [
    "# from pytorch_transformers import BertTokenizer, BertConfig, AutoTokenizer\n",
    "\n",
    "\n",
    "# tokenizer = AutoTokenizer.from_pretrained('DeepPavlov/rubert-base-cased-sentence', do_lower_case=True)\n",
    "\n",
    "tokenized_texts = [tokenizer.tokenize(sent) for sent in train_sentences]\n",
    "print (tokenized_texts[0])"
   ]
  },
  {
   "cell_type": "markdown",
   "metadata": {
    "colab_type": "text",
    "id": "87_kXUeT2-br"
   },
   "source": [
    "BERTу нужно предоставить специальный формат входных данных.\n",
    "\n",
    "\n",
    "- **input ids**: последовательность чисел, отождествляющих каждый токен с его номером в словаре.\n",
    "- **labels**: вектор из нулей и единиц. В нашем случае нули обозначают негативную эмоциональную окраску, единицы - положительную.\n",
    "- **segment mask**: (необязательно) последовательность нулей и единиц, которая показывает, состоит ли входной текст из одного или двух предложений. Для случая одного предложения получится вектор из одних нулей. Для двух: <length_of_sent_1> нулей и <length_of_sent_2> единиц.\n",
    "- **attention mask**: (необязательно) последовательность нулей и единиц, где единицы обозначают токены предложения, нули - паддинг."
   ]
  },
  {
   "cell_type": "code",
   "execution_count": 25,
   "metadata": {
    "colab": {},
    "colab_type": "code",
    "id": "Cp9BPRd1tMIo"
   },
   "outputs": [],
   "source": [
    "input_ids = [tokenizer.convert_tokens_to_ids(x) for x in tokenized_texts]\n",
    "input_ids = pad_sequences(\n",
    "    input_ids,\n",
    "    maxlen=128,\n",
    "    dtype=\"long\",\n",
    "    truncating=\"post\",\n",
    "    padding=\"post\"\n",
    ")\n",
    "attention_masks = [[float(i>0) for i in seq] for seq in input_ids]"
   ]
  },
  {
   "cell_type": "code",
   "execution_count": 26,
   "metadata": {},
   "outputs": [],
   "source": [
    "train_inputs, train_labels = input_ids, train_gt\n",
    "train_masks = attention_masks"
   ]
  },
  {
   "cell_type": "code",
   "execution_count": 27,
   "metadata": {
    "colab": {},
    "colab_type": "code",
    "id": "aFbE-UHvsb7-"
   },
   "outputs": [],
   "source": [
    "# train_inputs, validation_inputs, train_labels, validation_labels = train_test_split(\n",
    "#     input_ids, train_gt, \n",
    "#     random_state=42,\n",
    "#     test_size=0.1\n",
    "# )\n",
    "\n",
    "# train_masks, validation_masks, _, _ = train_test_split(\n",
    "#     attention_masks,\n",
    "#     input_ids,\n",
    "#     random_state=42,\n",
    "#     test_size=0.1\n",
    "# )"
   ]
  },
  {
   "cell_type": "code",
   "execution_count": 28,
   "metadata": {
    "colab": {},
    "colab_type": "code",
    "id": "jw5K2A5Ko1RF"
   },
   "outputs": [],
   "source": [
    "train_inputs = torch.tensor(train_inputs)\n",
    "train_labels = torch.tensor(train_labels)\n",
    "train_masks = torch.tensor(train_masks)"
   ]
  },
  {
   "cell_type": "code",
   "execution_count": 29,
   "metadata": {},
   "outputs": [],
   "source": [
    "test_tokenized_texts = [tokenizer.tokenize(sent) for sent in test_sentences]"
   ]
  },
  {
   "cell_type": "code",
   "execution_count": 30,
   "metadata": {},
   "outputs": [],
   "source": [
    "validation_inputs = [tokenizer.convert_tokens_to_ids(x) for x in test_tokenized_texts]\n",
    "validation_inputs = pad_sequences(\n",
    "    validation_inputs,\n",
    "    maxlen=128,\n",
    "    dtype=\"long\",\n",
    "    truncating=\"post\",\n",
    "    padding=\"post\"\n",
    ")\n",
    "validation_masks = [[float(i>0) for i in seq] for seq in validation_inputs]\n",
    "validation_labels = test_gt"
   ]
  },
  {
   "cell_type": "code",
   "execution_count": 31,
   "metadata": {},
   "outputs": [],
   "source": [
    "validation_inputs = torch.tensor(validation_inputs)\n",
    "validation_labels = torch.tensor(validation_labels)\n",
    "validation_masks = torch.tensor(validation_masks)"
   ]
  },
  {
   "cell_type": "code",
   "execution_count": 32,
   "metadata": {
    "colab": {},
    "colab_type": "code",
    "id": "GEgLpFVlo1Z-"
   },
   "outputs": [],
   "source": [
    "train_data = TensorDataset(train_inputs, train_masks, train_labels)\n",
    "train_dataloader = DataLoader(\n",
    "    train_data,\n",
    "    sampler=RandomSampler(train_data),\n",
    "    batch_size=32\n",
    ")"
   ]
  },
  {
   "cell_type": "code",
   "execution_count": 33,
   "metadata": {},
   "outputs": [],
   "source": [
    "validation_data = TensorDataset(validation_inputs, validation_masks, validation_labels)\n",
    "validation_dataloader = DataLoader(\n",
    "    validation_data,\n",
    "    sampler=SequentialSampler(validation_data),\n",
    "    batch_size=32\n",
    ")"
   ]
  },
  {
   "cell_type": "markdown",
   "metadata": {
    "colab_type": "text",
    "id": "pNl8khAhPYju"
   },
   "source": [
    "## Обучение модели"
   ]
  },
  {
   "cell_type": "markdown",
   "metadata": {},
   "source": [
    "Загружаем [BertForSequenceClassification](https://github.com/huggingface/pytorch-pretrained-BERT/blob/master/pytorch_pretrained_bert/modeling.py#L1129):"
   ]
  },
  {
   "cell_type": "code",
   "execution_count": 34,
   "metadata": {},
   "outputs": [],
   "source": [
    "from pytorch_transformers import AdamW\n",
    "from transformers import BertForSequenceClassification"
   ]
  },
  {
   "cell_type": "markdown",
   "metadata": {},
   "source": [
    "Аналогичные модели есть и для других задач:"
   ]
  },
  {
   "cell_type": "code",
   "execution_count": 35,
   "metadata": {},
   "outputs": [],
   "source": [
    "# from pytorch_transformers import BertForQuestionAnswering, BertForTokenClassification"
   ]
  },
  {
   "cell_type": "code",
   "execution_count": 36,
   "metadata": {
    "colab": {
     "base_uri": "https://localhost:8080/",
     "height": 1000
    },
    "colab_type": "code",
    "collapsed": true,
    "id": "gFsCTp_mporB",
    "jupyter": {
     "outputs_hidden": true
    },
    "outputId": "dd067229-1925-4b37-f517-0c14e25420d1",
    "tags": []
   },
   "outputs": [
    {
     "name": "stderr",
     "output_type": "stream",
     "text": [
      "Some weights of the model checkpoint at DeepPavlov/rubert-base-cased were not used when initializing BertForSequenceClassification: ['cls.seq_relationship.weight', 'cls.predictions.transform.dense.weight', 'cls.predictions.transform.dense.bias', 'cls.predictions.transform.LayerNorm.weight', 'cls.predictions.decoder.weight', 'cls.predictions.decoder.bias', 'cls.predictions.bias', 'cls.seq_relationship.bias', 'cls.predictions.transform.LayerNorm.bias']\n",
      "- This IS expected if you are initializing BertForSequenceClassification from the checkpoint of a model trained on another task or with another architecture (e.g. initializing a BertForSequenceClassification model from a BertForPreTraining model).\n",
      "- This IS NOT expected if you are initializing BertForSequenceClassification from the checkpoint of a model that you expect to be exactly identical (initializing a BertForSequenceClassification model from a BertForSequenceClassification model).\n",
      "Some weights of BertForSequenceClassification were not initialized from the model checkpoint at DeepPavlov/rubert-base-cased and are newly initialized: ['classifier.weight', 'classifier.bias']\n",
      "You should probably TRAIN this model on a down-stream task to be able to use it for predictions and inference.\n"
     ]
    },
    {
     "data": {
      "text/plain": [
       "BertForSequenceClassification(\n",
       "  (bert): BertModel(\n",
       "    (embeddings): BertEmbeddings(\n",
       "      (word_embeddings): Embedding(119547, 768, padding_idx=0)\n",
       "      (position_embeddings): Embedding(512, 768)\n",
       "      (token_type_embeddings): Embedding(2, 768)\n",
       "      (LayerNorm): LayerNorm((768,), eps=1e-12, elementwise_affine=True)\n",
       "      (dropout): Dropout(p=0.1, inplace=False)\n",
       "    )\n",
       "    (encoder): BertEncoder(\n",
       "      (layer): ModuleList(\n",
       "        (0): BertLayer(\n",
       "          (attention): BertAttention(\n",
       "            (self): BertSelfAttention(\n",
       "              (query): Linear(in_features=768, out_features=768, bias=True)\n",
       "              (key): Linear(in_features=768, out_features=768, bias=True)\n",
       "              (value): Linear(in_features=768, out_features=768, bias=True)\n",
       "              (dropout): Dropout(p=0.1, inplace=False)\n",
       "            )\n",
       "            (output): BertSelfOutput(\n",
       "              (dense): Linear(in_features=768, out_features=768, bias=True)\n",
       "              (LayerNorm): LayerNorm((768,), eps=1e-12, elementwise_affine=True)\n",
       "              (dropout): Dropout(p=0.1, inplace=False)\n",
       "            )\n",
       "          )\n",
       "          (intermediate): BertIntermediate(\n",
       "            (dense): Linear(in_features=768, out_features=3072, bias=True)\n",
       "          )\n",
       "          (output): BertOutput(\n",
       "            (dense): Linear(in_features=3072, out_features=768, bias=True)\n",
       "            (LayerNorm): LayerNorm((768,), eps=1e-12, elementwise_affine=True)\n",
       "            (dropout): Dropout(p=0.1, inplace=False)\n",
       "          )\n",
       "        )\n",
       "        (1): BertLayer(\n",
       "          (attention): BertAttention(\n",
       "            (self): BertSelfAttention(\n",
       "              (query): Linear(in_features=768, out_features=768, bias=True)\n",
       "              (key): Linear(in_features=768, out_features=768, bias=True)\n",
       "              (value): Linear(in_features=768, out_features=768, bias=True)\n",
       "              (dropout): Dropout(p=0.1, inplace=False)\n",
       "            )\n",
       "            (output): BertSelfOutput(\n",
       "              (dense): Linear(in_features=768, out_features=768, bias=True)\n",
       "              (LayerNorm): LayerNorm((768,), eps=1e-12, elementwise_affine=True)\n",
       "              (dropout): Dropout(p=0.1, inplace=False)\n",
       "            )\n",
       "          )\n",
       "          (intermediate): BertIntermediate(\n",
       "            (dense): Linear(in_features=768, out_features=3072, bias=True)\n",
       "          )\n",
       "          (output): BertOutput(\n",
       "            (dense): Linear(in_features=3072, out_features=768, bias=True)\n",
       "            (LayerNorm): LayerNorm((768,), eps=1e-12, elementwise_affine=True)\n",
       "            (dropout): Dropout(p=0.1, inplace=False)\n",
       "          )\n",
       "        )\n",
       "        (2): BertLayer(\n",
       "          (attention): BertAttention(\n",
       "            (self): BertSelfAttention(\n",
       "              (query): Linear(in_features=768, out_features=768, bias=True)\n",
       "              (key): Linear(in_features=768, out_features=768, bias=True)\n",
       "              (value): Linear(in_features=768, out_features=768, bias=True)\n",
       "              (dropout): Dropout(p=0.1, inplace=False)\n",
       "            )\n",
       "            (output): BertSelfOutput(\n",
       "              (dense): Linear(in_features=768, out_features=768, bias=True)\n",
       "              (LayerNorm): LayerNorm((768,), eps=1e-12, elementwise_affine=True)\n",
       "              (dropout): Dropout(p=0.1, inplace=False)\n",
       "            )\n",
       "          )\n",
       "          (intermediate): BertIntermediate(\n",
       "            (dense): Linear(in_features=768, out_features=3072, bias=True)\n",
       "          )\n",
       "          (output): BertOutput(\n",
       "            (dense): Linear(in_features=3072, out_features=768, bias=True)\n",
       "            (LayerNorm): LayerNorm((768,), eps=1e-12, elementwise_affine=True)\n",
       "            (dropout): Dropout(p=0.1, inplace=False)\n",
       "          )\n",
       "        )\n",
       "        (3): BertLayer(\n",
       "          (attention): BertAttention(\n",
       "            (self): BertSelfAttention(\n",
       "              (query): Linear(in_features=768, out_features=768, bias=True)\n",
       "              (key): Linear(in_features=768, out_features=768, bias=True)\n",
       "              (value): Linear(in_features=768, out_features=768, bias=True)\n",
       "              (dropout): Dropout(p=0.1, inplace=False)\n",
       "            )\n",
       "            (output): BertSelfOutput(\n",
       "              (dense): Linear(in_features=768, out_features=768, bias=True)\n",
       "              (LayerNorm): LayerNorm((768,), eps=1e-12, elementwise_affine=True)\n",
       "              (dropout): Dropout(p=0.1, inplace=False)\n",
       "            )\n",
       "          )\n",
       "          (intermediate): BertIntermediate(\n",
       "            (dense): Linear(in_features=768, out_features=3072, bias=True)\n",
       "          )\n",
       "          (output): BertOutput(\n",
       "            (dense): Linear(in_features=3072, out_features=768, bias=True)\n",
       "            (LayerNorm): LayerNorm((768,), eps=1e-12, elementwise_affine=True)\n",
       "            (dropout): Dropout(p=0.1, inplace=False)\n",
       "          )\n",
       "        )\n",
       "        (4): BertLayer(\n",
       "          (attention): BertAttention(\n",
       "            (self): BertSelfAttention(\n",
       "              (query): Linear(in_features=768, out_features=768, bias=True)\n",
       "              (key): Linear(in_features=768, out_features=768, bias=True)\n",
       "              (value): Linear(in_features=768, out_features=768, bias=True)\n",
       "              (dropout): Dropout(p=0.1, inplace=False)\n",
       "            )\n",
       "            (output): BertSelfOutput(\n",
       "              (dense): Linear(in_features=768, out_features=768, bias=True)\n",
       "              (LayerNorm): LayerNorm((768,), eps=1e-12, elementwise_affine=True)\n",
       "              (dropout): Dropout(p=0.1, inplace=False)\n",
       "            )\n",
       "          )\n",
       "          (intermediate): BertIntermediate(\n",
       "            (dense): Linear(in_features=768, out_features=3072, bias=True)\n",
       "          )\n",
       "          (output): BertOutput(\n",
       "            (dense): Linear(in_features=3072, out_features=768, bias=True)\n",
       "            (LayerNorm): LayerNorm((768,), eps=1e-12, elementwise_affine=True)\n",
       "            (dropout): Dropout(p=0.1, inplace=False)\n",
       "          )\n",
       "        )\n",
       "        (5): BertLayer(\n",
       "          (attention): BertAttention(\n",
       "            (self): BertSelfAttention(\n",
       "              (query): Linear(in_features=768, out_features=768, bias=True)\n",
       "              (key): Linear(in_features=768, out_features=768, bias=True)\n",
       "              (value): Linear(in_features=768, out_features=768, bias=True)\n",
       "              (dropout): Dropout(p=0.1, inplace=False)\n",
       "            )\n",
       "            (output): BertSelfOutput(\n",
       "              (dense): Linear(in_features=768, out_features=768, bias=True)\n",
       "              (LayerNorm): LayerNorm((768,), eps=1e-12, elementwise_affine=True)\n",
       "              (dropout): Dropout(p=0.1, inplace=False)\n",
       "            )\n",
       "          )\n",
       "          (intermediate): BertIntermediate(\n",
       "            (dense): Linear(in_features=768, out_features=3072, bias=True)\n",
       "          )\n",
       "          (output): BertOutput(\n",
       "            (dense): Linear(in_features=3072, out_features=768, bias=True)\n",
       "            (LayerNorm): LayerNorm((768,), eps=1e-12, elementwise_affine=True)\n",
       "            (dropout): Dropout(p=0.1, inplace=False)\n",
       "          )\n",
       "        )\n",
       "        (6): BertLayer(\n",
       "          (attention): BertAttention(\n",
       "            (self): BertSelfAttention(\n",
       "              (query): Linear(in_features=768, out_features=768, bias=True)\n",
       "              (key): Linear(in_features=768, out_features=768, bias=True)\n",
       "              (value): Linear(in_features=768, out_features=768, bias=True)\n",
       "              (dropout): Dropout(p=0.1, inplace=False)\n",
       "            )\n",
       "            (output): BertSelfOutput(\n",
       "              (dense): Linear(in_features=768, out_features=768, bias=True)\n",
       "              (LayerNorm): LayerNorm((768,), eps=1e-12, elementwise_affine=True)\n",
       "              (dropout): Dropout(p=0.1, inplace=False)\n",
       "            )\n",
       "          )\n",
       "          (intermediate): BertIntermediate(\n",
       "            (dense): Linear(in_features=768, out_features=3072, bias=True)\n",
       "          )\n",
       "          (output): BertOutput(\n",
       "            (dense): Linear(in_features=3072, out_features=768, bias=True)\n",
       "            (LayerNorm): LayerNorm((768,), eps=1e-12, elementwise_affine=True)\n",
       "            (dropout): Dropout(p=0.1, inplace=False)\n",
       "          )\n",
       "        )\n",
       "        (7): BertLayer(\n",
       "          (attention): BertAttention(\n",
       "            (self): BertSelfAttention(\n",
       "              (query): Linear(in_features=768, out_features=768, bias=True)\n",
       "              (key): Linear(in_features=768, out_features=768, bias=True)\n",
       "              (value): Linear(in_features=768, out_features=768, bias=True)\n",
       "              (dropout): Dropout(p=0.1, inplace=False)\n",
       "            )\n",
       "            (output): BertSelfOutput(\n",
       "              (dense): Linear(in_features=768, out_features=768, bias=True)\n",
       "              (LayerNorm): LayerNorm((768,), eps=1e-12, elementwise_affine=True)\n",
       "              (dropout): Dropout(p=0.1, inplace=False)\n",
       "            )\n",
       "          )\n",
       "          (intermediate): BertIntermediate(\n",
       "            (dense): Linear(in_features=768, out_features=3072, bias=True)\n",
       "          )\n",
       "          (output): BertOutput(\n",
       "            (dense): Linear(in_features=3072, out_features=768, bias=True)\n",
       "            (LayerNorm): LayerNorm((768,), eps=1e-12, elementwise_affine=True)\n",
       "            (dropout): Dropout(p=0.1, inplace=False)\n",
       "          )\n",
       "        )\n",
       "        (8): BertLayer(\n",
       "          (attention): BertAttention(\n",
       "            (self): BertSelfAttention(\n",
       "              (query): Linear(in_features=768, out_features=768, bias=True)\n",
       "              (key): Linear(in_features=768, out_features=768, bias=True)\n",
       "              (value): Linear(in_features=768, out_features=768, bias=True)\n",
       "              (dropout): Dropout(p=0.1, inplace=False)\n",
       "            )\n",
       "            (output): BertSelfOutput(\n",
       "              (dense): Linear(in_features=768, out_features=768, bias=True)\n",
       "              (LayerNorm): LayerNorm((768,), eps=1e-12, elementwise_affine=True)\n",
       "              (dropout): Dropout(p=0.1, inplace=False)\n",
       "            )\n",
       "          )\n",
       "          (intermediate): BertIntermediate(\n",
       "            (dense): Linear(in_features=768, out_features=3072, bias=True)\n",
       "          )\n",
       "          (output): BertOutput(\n",
       "            (dense): Linear(in_features=3072, out_features=768, bias=True)\n",
       "            (LayerNorm): LayerNorm((768,), eps=1e-12, elementwise_affine=True)\n",
       "            (dropout): Dropout(p=0.1, inplace=False)\n",
       "          )\n",
       "        )\n",
       "        (9): BertLayer(\n",
       "          (attention): BertAttention(\n",
       "            (self): BertSelfAttention(\n",
       "              (query): Linear(in_features=768, out_features=768, bias=True)\n",
       "              (key): Linear(in_features=768, out_features=768, bias=True)\n",
       "              (value): Linear(in_features=768, out_features=768, bias=True)\n",
       "              (dropout): Dropout(p=0.1, inplace=False)\n",
       "            )\n",
       "            (output): BertSelfOutput(\n",
       "              (dense): Linear(in_features=768, out_features=768, bias=True)\n",
       "              (LayerNorm): LayerNorm((768,), eps=1e-12, elementwise_affine=True)\n",
       "              (dropout): Dropout(p=0.1, inplace=False)\n",
       "            )\n",
       "          )\n",
       "          (intermediate): BertIntermediate(\n",
       "            (dense): Linear(in_features=768, out_features=3072, bias=True)\n",
       "          )\n",
       "          (output): BertOutput(\n",
       "            (dense): Linear(in_features=3072, out_features=768, bias=True)\n",
       "            (LayerNorm): LayerNorm((768,), eps=1e-12, elementwise_affine=True)\n",
       "            (dropout): Dropout(p=0.1, inplace=False)\n",
       "          )\n",
       "        )\n",
       "        (10): BertLayer(\n",
       "          (attention): BertAttention(\n",
       "            (self): BertSelfAttention(\n",
       "              (query): Linear(in_features=768, out_features=768, bias=True)\n",
       "              (key): Linear(in_features=768, out_features=768, bias=True)\n",
       "              (value): Linear(in_features=768, out_features=768, bias=True)\n",
       "              (dropout): Dropout(p=0.1, inplace=False)\n",
       "            )\n",
       "            (output): BertSelfOutput(\n",
       "              (dense): Linear(in_features=768, out_features=768, bias=True)\n",
       "              (LayerNorm): LayerNorm((768,), eps=1e-12, elementwise_affine=True)\n",
       "              (dropout): Dropout(p=0.1, inplace=False)\n",
       "            )\n",
       "          )\n",
       "          (intermediate): BertIntermediate(\n",
       "            (dense): Linear(in_features=768, out_features=3072, bias=True)\n",
       "          )\n",
       "          (output): BertOutput(\n",
       "            (dense): Linear(in_features=3072, out_features=768, bias=True)\n",
       "            (LayerNorm): LayerNorm((768,), eps=1e-12, elementwise_affine=True)\n",
       "            (dropout): Dropout(p=0.1, inplace=False)\n",
       "          )\n",
       "        )\n",
       "        (11): BertLayer(\n",
       "          (attention): BertAttention(\n",
       "            (self): BertSelfAttention(\n",
       "              (query): Linear(in_features=768, out_features=768, bias=True)\n",
       "              (key): Linear(in_features=768, out_features=768, bias=True)\n",
       "              (value): Linear(in_features=768, out_features=768, bias=True)\n",
       "              (dropout): Dropout(p=0.1, inplace=False)\n",
       "            )\n",
       "            (output): BertSelfOutput(\n",
       "              (dense): Linear(in_features=768, out_features=768, bias=True)\n",
       "              (LayerNorm): LayerNorm((768,), eps=1e-12, elementwise_affine=True)\n",
       "              (dropout): Dropout(p=0.1, inplace=False)\n",
       "            )\n",
       "          )\n",
       "          (intermediate): BertIntermediate(\n",
       "            (dense): Linear(in_features=768, out_features=3072, bias=True)\n",
       "          )\n",
       "          (output): BertOutput(\n",
       "            (dense): Linear(in_features=3072, out_features=768, bias=True)\n",
       "            (LayerNorm): LayerNorm((768,), eps=1e-12, elementwise_affine=True)\n",
       "            (dropout): Dropout(p=0.1, inplace=False)\n",
       "          )\n",
       "        )\n",
       "      )\n",
       "    )\n",
       "    (pooler): BertPooler(\n",
       "      (dense): Linear(in_features=768, out_features=768, bias=True)\n",
       "      (activation): Tanh()\n",
       "    )\n",
       "  )\n",
       "  (dropout): Dropout(p=0.1, inplace=False)\n",
       "  (classifier): Linear(in_features=768, out_features=40, bias=True)\n",
       ")"
      ]
     },
     "execution_count": 36,
     "metadata": {},
     "output_type": "execute_result"
    }
   ],
   "source": [
    "# model = BertForSequenceClassification.from_pretrained(\"bert-base-uncased\", num_labels=40)\n",
    "model = BertForSequenceClassification.from_pretrained(model_name, num_labels=40)\n",
    "model.cuda()"
   ]
  },
  {
   "cell_type": "code",
   "execution_count": 37,
   "metadata": {
    "colab": {},
    "colab_type": "code",
    "id": "QxSMw0FrptiL"
   },
   "outputs": [],
   "source": [
    "param_optimizer = list(model.named_parameters())\n",
    "no_decay = ['bias', 'gamma', 'beta']\n",
    "optimizer_grouped_parameters = [\n",
    "    {'params': [p for n, p in param_optimizer if not any(nd in n for nd in no_decay)],\n",
    "     'weight_decay_rate': 0.01},\n",
    "    {'params': [p for n, p in param_optimizer if any(nd in n for nd in no_decay)],\n",
    "     'weight_decay_rate': 0.0}\n",
    "]\n",
    "\n",
    "optimizer = AdamW(optimizer_grouped_parameters, lr=2e-5)"
   ]
  },
  {
   "cell_type": "code",
   "execution_count": 38,
   "metadata": {},
   "outputs": [
    {
     "data": {
      "text/plain": [
       "576"
      ]
     },
     "execution_count": 38,
     "metadata": {},
     "output_type": "execute_result"
    }
   ],
   "source": [
    "len(train_dataloader)"
   ]
  },
  {
   "cell_type": "code",
   "execution_count": 39,
   "metadata": {
    "colab": {
     "base_uri": "https://localhost:8080/",
     "height": 172
    },
    "colab_type": "code",
    "id": "6J-FYdx6nFE_",
    "outputId": "8e388ad1-f9db-4c7b-d080-6c0a0e964610"
   },
   "outputs": [],
   "source": [
    "from IPython.display import clear_output\n",
    "\n",
    "def train_model_epoch(model, train_loss_set =[]):\n",
    "    # Будем сохранять loss во время обучения\n",
    "    # и рисовать график в режиме реального времени\n",
    "    # train_loss_set = []\n",
    "    train_loss = 0\n",
    "\n",
    "\n",
    "    # Обучение\n",
    "    # Переводим модель в training mode\n",
    "    model.train()\n",
    "\n",
    "\n",
    "    for step, batch in enumerate(train_dataloader):\n",
    "        # добавляем батч для вычисления на GPU\n",
    "        batch = tuple(t.to(device) for t in batch)\n",
    "        # Распаковываем данные из dataloader\n",
    "        b_input_ids, b_input_mask, b_labels = batch\n",
    "\n",
    "        # если не сделать .zero_grad(), градиенты будут накапливаться\n",
    "        optimizer.zero_grad()\n",
    "\n",
    "        # Forward pass\n",
    "        loss = model(b_input_ids, token_type_ids=None, attention_mask=b_input_mask, labels=b_labels)\n",
    "\n",
    "        train_loss_set.append(loss[0].item())  \n",
    "\n",
    "        # Backward pass\n",
    "        loss[0].backward()\n",
    "\n",
    "        # Обновляем параметры и делаем шаг используя посчитанные градиенты\n",
    "        optimizer.step()\n",
    "\n",
    "        # Обновляем loss\n",
    "        train_loss += loss[0].item()\n",
    "\n",
    "        # Рисуем график\n",
    "        clear_output(True)\n",
    "        plt.figure(figsize=(10,6))\n",
    "        plt.plot(train_loss_set)\n",
    "        plt.title(\"Training loss\")\n",
    "        plt.xlabel(\"Batch\")\n",
    "        plt.ylabel(\"Loss\")\n",
    "        plt.show()\n",
    "\n",
    "    print(\"Loss на обучающей выборке: {0:.5f}\".format(train_loss / len(train_dataloader)))\n",
    "\n",
    "\n",
    "    # Валидация\n",
    "    # Переводим модель в evaluation mode\n",
    "    model.eval()\n",
    "\n",
    "    valid_preds, valid_labels = [], []\n",
    "\n",
    "    for batch in validation_dataloader:   \n",
    "        # добавляем батч для вычисления на GPU\n",
    "        batch = tuple(t.to(device) for t in batch)\n",
    "\n",
    "        # Распаковываем данные из dataloader\n",
    "        b_input_ids, b_input_mask, b_labels = batch\n",
    "\n",
    "        # При использовании .no_grad() модель не будет считать и хранить градиенты.\n",
    "        # Это ускорит процесс предсказания меток для валидационных данных.\n",
    "        with torch.no_grad():\n",
    "            logits = model(b_input_ids, token_type_ids=None, attention_mask=b_input_mask)\n",
    "\n",
    "        # Перемещаем logits и метки классов на CPU для дальнейшей работы\n",
    "        logits = logits[0].detach().cpu().numpy()\n",
    "        label_ids = b_labels.to('cpu').numpy()\n",
    "\n",
    "        batch_preds = np.argmax(logits, axis=1)\n",
    "        batch_labels = np.concatenate(label_ids)     \n",
    "        valid_preds.extend(batch_preds)\n",
    "        valid_labels.extend(batch_labels)\n",
    "\n",
    "    print(\"Процент правильных предсказаний на валидационной выборке: {0:.2f}%\".format(\n",
    "        accuracy_score(valid_labels, valid_preds) * 100\n",
    "    ))\n",
    "    return model, train_loss_set, valid_labels, valid_preds"
   ]
  },
  {
   "cell_type": "code",
   "execution_count": 40,
   "metadata": {},
   "outputs": [],
   "source": [
    "epoch = 0\n",
    "best_score = 0"
   ]
  },
  {
   "cell_type": "code",
   "execution_count": 41,
   "metadata": {},
   "outputs": [
    {
     "data": {
      "image/png": "[encoded data removed]",
      "text/plain": [
       "<Figure size 720x432 with 1 Axes>"
      ]
     },
     "metadata": {
      "needs_background": "light"
     },
     "output_type": "display_data"
    },
    {
     "name": "stdout",
     "output_type": "stream",
     "text": [
      "Loss на обучающей выборке: 1.95082\n",
      "Процент правильных предсказаний на валидационной выборке: 65.78%\n"
     ]
    }
   ],
   "source": [
    "model, train_loss_set, valid_labels, valid_preds = train_model_epoch(model, train_loss_set =[])\n",
    "epoch +=1"
   ]
  },
  {
   "cell_type": "code",
   "execution_count": 42,
   "metadata": {},
   "outputs": [
    {
     "name": "stdout",
     "output_type": "stream",
     "text": [
      "Процент правильных предсказаний на валидационной выборке: 65.78%\n",
      "              precision    recall  f1-score   support\n",
      "\n",
      "           0       0.98      0.82      0.89       806\n",
      "           1       0.89      0.69      0.78       131\n",
      "           2       0.40      0.67      0.50        43\n",
      "           3       0.45      0.12      0.19        43\n",
      "           4       0.20      0.07      0.10        29\n",
      "           5       0.00      0.00      0.00         7\n",
      "           6       0.00      0.00      0.00         5\n",
      "           7       1.00      0.57      0.73        21\n",
      "           8       0.00      0.00      0.00         8\n",
      "           9       0.00      0.00      0.00         4\n",
      "          10       0.63      0.90      0.74       117\n",
      "          11       0.50      0.96      0.66       126\n",
      "          12       0.00      0.00      0.00         8\n",
      "          13       0.00      0.00      0.00        29\n",
      "          14       0.00      0.00      0.00         8\n",
      "          15       0.25      0.48      0.33        62\n",
      "          16       0.26      0.50      0.35        18\n",
      "          17       0.70      0.18      0.29        38\n",
      "          18       0.00      0.00      0.00        11\n",
      "          19       0.70      0.94      0.80       148\n",
      "          20       0.38      0.44      0.40        41\n",
      "          21       0.56      0.91      0.69        82\n",
      "          22       0.41      0.72      0.52        93\n",
      "          23       0.00      0.00      0.00        29\n",
      "          24       0.54      0.57      0.55       225\n",
      "          25       0.00      0.00      0.00         9\n",
      "          26       0.00      0.00      0.00         8\n",
      "          27       0.61      0.78      0.68        97\n",
      "          28       0.00      0.00      0.00        31\n",
      "          29       0.37      0.82      0.51        17\n",
      "          30       0.62      0.89      0.74        56\n",
      "          31       0.50      0.27      0.35        11\n",
      "          32       0.00      0.00      0.00        17\n",
      "          33       0.00      0.00      0.00         4\n",
      "          35       0.34      0.06      0.11       161\n",
      "          36       0.66      0.68      0.67        78\n",
      "          37       0.76      0.67      0.71        33\n",
      "          38       0.64      0.83      0.72       116\n",
      "\n",
      "    accuracy                           0.66      2770\n",
      "   macro avg       0.35      0.38      0.34      2770\n",
      "weighted avg       0.65      0.66      0.63      2770\n",
      "\n"
     ]
    },
    {
     "name": "stderr",
     "output_type": "stream",
     "text": [
      "/opt/conda/lib/python3.9/site-packages/sklearn/metrics/_classification.py:1318: UndefinedMetricWarning: Precision and F-score are ill-defined and being set to 0.0 in labels with no predicted samples. Use `zero_division` parameter to control this behavior.\n",
      "  _warn_prf(average, modifier, msg_start, len(result))\n",
      "/opt/conda/lib/python3.9/site-packages/sklearn/metrics/_classification.py:1318: UndefinedMetricWarning: Precision and F-score are ill-defined and being set to 0.0 in labels with no predicted samples. Use `zero_division` parameter to control this behavior.\n",
      "  _warn_prf(average, modifier, msg_start, len(result))\n",
      "/opt/conda/lib/python3.9/site-packages/sklearn/metrics/_classification.py:1318: UndefinedMetricWarning: Precision and F-score are ill-defined and being set to 0.0 in labels with no predicted samples. Use `zero_division` parameter to control this behavior.\n",
      "  _warn_prf(average, modifier, msg_start, len(result))\n"
     ]
    }
   ],
   "source": [
    "score = accuracy_score(valid_labels, valid_preds) * 100\n",
    "if score > best_score:\n",
    "    best_score = score\n",
    "    torch.save(model.state_dict(), f\"epoch_bert_dict_{epoch}.ckpt\")\n",
    "print(\"Процент правильных предсказаний на валидационной выборке: {0:.2f}%\".format(\n",
    "    score\n",
    "))\n",
    "print(classification_report(valid_labels, valid_preds))"
   ]
  },
  {
   "cell_type": "code",
   "execution_count": 43,
   "metadata": {},
   "outputs": [
    {
     "data": {
      "image/png": "[encoded data removed]",
      "text/plain": [
       "<Figure size 720x432 with 1 Axes>"
      ]
     },
     "metadata": {
      "needs_background": "light"
     },
     "output_type": "display_data"
    },
    {
     "name": "stdout",
     "output_type": "stream",
     "text": [
      "Loss на обучающей выборке: 1.21115\n",
      "Процент правильных предсказаний на валидационной выборке: 68.34%\n",
      "              precision    recall  f1-score   support\n",
      "\n",
      "           0       0.97      0.83      0.90       806\n",
      "           1       0.93      0.74      0.83       131\n",
      "           2       0.50      0.65      0.57        43\n",
      "           3       0.48      0.26      0.33        43\n",
      "           4       0.35      0.21      0.26        29\n",
      "           5       0.00      0.00      0.00         7\n",
      "           6       0.00      0.00      0.00         5\n",
      "           7       0.80      0.57      0.67        21\n",
      "           8       0.60      0.38      0.46         8\n",
      "           9       0.00      0.00      0.00         4\n",
      "          10       0.68      0.91      0.78       117\n",
      "          11       0.65      0.94      0.77       126\n",
      "          12       0.03      0.12      0.05         8\n",
      "          13       0.00      0.00      0.00        29\n",
      "          14       0.00      0.00      0.00         8\n",
      "          15       0.27      0.63      0.38        62\n",
      "          16       0.31      0.50      0.38        18\n",
      "          17       0.70      0.74      0.72        38\n",
      "          18       1.00      0.27      0.43        11\n",
      "          19       0.70      0.91      0.79       148\n",
      "          20       0.42      0.44      0.43        41\n",
      "          21       0.79      0.73      0.76        82\n",
      "          22       0.50      0.72      0.59        93\n",
      "          23       0.00      0.00      0.00        29\n",
      "          24       0.59      0.51      0.55       225\n",
      "          25       0.56      0.56      0.56         9\n",
      "          26       0.00      0.00      0.00         8\n",
      "          27       0.90      0.65      0.75        97\n",
      "          28       1.00      0.03      0.06        31\n",
      "          29       0.45      0.82      0.58        17\n",
      "          30       0.65      0.86      0.74        56\n",
      "          31       0.70      0.64      0.67        11\n",
      "          32       0.50      0.35      0.41        17\n",
      "          33       0.00      0.00      0.00         4\n",
      "          35       0.27      0.23      0.25       161\n",
      "          36       0.74      0.72      0.73        78\n",
      "          37       0.82      0.70      0.75        33\n",
      "          38       0.58      0.89      0.70       116\n",
      "\n",
      "    accuracy                           0.68      2770\n",
      "   macro avg       0.49      0.46      0.44      2770\n",
      "weighted avg       0.70      0.68      0.68      2770\n",
      "\n",
      "Процент правильных предсказаний на валидационной выборке: 68.34%\n"
     ]
    },
    {
     "name": "stderr",
     "output_type": "stream",
     "text": [
      "/opt/conda/lib/python3.9/site-packages/sklearn/metrics/_classification.py:1318: UndefinedMetricWarning: Precision and F-score are ill-defined and being set to 0.0 in labels with no predicted samples. Use `zero_division` parameter to control this behavior.\n",
      "  _warn_prf(average, modifier, msg_start, len(result))\n",
      "/opt/conda/lib/python3.9/site-packages/sklearn/metrics/_classification.py:1318: UndefinedMetricWarning: Precision and F-score are ill-defined and being set to 0.0 in labels with no predicted samples. Use `zero_division` parameter to control this behavior.\n",
      "  _warn_prf(average, modifier, msg_start, len(result))\n",
      "/opt/conda/lib/python3.9/site-packages/sklearn/metrics/_classification.py:1318: UndefinedMetricWarning: Precision and F-score are ill-defined and being set to 0.0 in labels with no predicted samples. Use `zero_division` parameter to control this behavior.\n",
      "  _warn_prf(average, modifier, msg_start, len(result))\n"
     ]
    }
   ],
   "source": [
    "model, train_loss_set, valid_labels, valid_preds = train_model_epoch(model, train_loss_set)\n",
    "epoch +=1\n",
    "\n",
    "score = accuracy_score(valid_labels, valid_preds) * 100\n",
    "if score > best_score:\n",
    "    best_score = score\n",
    "    torch.save(model.state_dict(), f\"epoch_bert_dict_{epoch}.ckpt\")\n",
    "    print(classification_report(valid_labels, valid_preds))\n",
    "print(\"Процент правильных предсказаний на валидационной выборке: {0:.2f}%\".format(\n",
    "    score\n",
    "))\n"
   ]
  },
  {
   "cell_type": "code",
   "execution_count": 44,
   "metadata": {},
   "outputs": [
    {
     "data": {
      "image/png": "[encoded data removed]",
      "text/plain": [
       "<Figure size 720x432 with 1 Axes>"
      ]
     },
     "metadata": {
      "needs_background": "light"
     },
     "output_type": "display_data"
    },
    {
     "name": "stdout",
     "output_type": "stream",
     "text": [
      "Loss на обучающей выборке: 0.98288\n",
      "Процент правильных предсказаний на валидационной выборке: 67.18%\n",
      "Процент правильных предсказаний на валидационной выборке: 67.18%\n"
     ]
    }
   ],
   "source": [
    "model, train_loss_set, valid_labels, valid_preds = train_model_epoch(model, train_loss_set)\n",
    "epoch +=1\n",
    "\n",
    "score = accuracy_score(valid_labels, valid_preds) * 100\n",
    "if score > best_score:\n",
    "    best_score = score\n",
    "    torch.save(model.state_dict(), f\"epoch_bert_dict_{epoch}.ckpt\")\n",
    "    print(classification_report(valid_labels, valid_preds))\n",
    "print(\"Процент правильных предсказаний на валидационной выборке: {0:.2f}%\".format(\n",
    "    score\n",
    "))"
   ]
  },
  {
   "cell_type": "code",
   "execution_count": 45,
   "metadata": {},
   "outputs": [
    {
     "data": {
      "image/png": "[encoded data removed]",
      "text/plain": [
       "<Figure size 720x432 with 1 Axes>"
      ]
     },
     "metadata": {
      "needs_background": "light"
     },
     "output_type": "display_data"
    },
    {
     "name": "stdout",
     "output_type": "stream",
     "text": [
      "Loss на обучающей выборке: 0.81356\n",
      "Процент правильных предсказаний на валидационной выборке: 68.70%\n",
      "              precision    recall  f1-score   support\n",
      "\n",
      "           0       0.98      0.84      0.91       806\n",
      "           1       0.84      0.78      0.81       131\n",
      "           2       0.55      0.70      0.61        43\n",
      "           3       0.52      0.26      0.34        43\n",
      "           4       0.31      0.34      0.33        29\n",
      "           5       0.00      0.00      0.00         7\n",
      "           6       0.57      0.80      0.67         5\n",
      "           7       0.43      0.62      0.51        21\n",
      "           8       0.20      0.38      0.26         8\n",
      "           9       0.00      0.00      0.00         4\n",
      "          10       0.63      0.89      0.74       117\n",
      "          11       0.65      0.96      0.77       126\n",
      "          12       0.10      0.38      0.16         8\n",
      "          13       0.09      0.03      0.05        29\n",
      "          14       0.67      0.25      0.36         8\n",
      "          15       0.25      0.44      0.32        62\n",
      "          16       0.28      0.67      0.39        18\n",
      "          17       0.55      0.95      0.69        38\n",
      "          18       0.60      0.55      0.57        11\n",
      "          19       0.68      0.91      0.78       148\n",
      "          20       0.42      0.44      0.43        41\n",
      "          21       0.81      0.57      0.67        82\n",
      "          22       0.48      0.66      0.55        93\n",
      "          23       0.00      0.00      0.00        29\n",
      "          24       0.58      0.47      0.52       225\n",
      "          25       0.47      0.78      0.58         9\n",
      "          26       0.00      0.00      0.00         8\n",
      "          27       0.84      0.70      0.76        97\n",
      "          28       0.58      0.35      0.44        31\n",
      "          29       0.67      0.71      0.69        17\n",
      "          30       0.70      0.84      0.76        56\n",
      "          31       0.67      0.36      0.47        11\n",
      "          32       0.57      0.47      0.52        17\n",
      "          33       0.00      0.00      0.00         4\n",
      "          35       0.38      0.22      0.28       161\n",
      "          36       0.72      0.81      0.76        78\n",
      "          37       0.86      0.73      0.79        33\n",
      "          38       0.68      0.81      0.74       116\n",
      "\n",
      "    accuracy                           0.69      2770\n",
      "   macro avg       0.48      0.52      0.48      2770\n",
      "weighted avg       0.70      0.69      0.68      2770\n",
      "\n",
      "Процент правильных предсказаний на валидационной выборке: 68.70%\n"
     ]
    },
    {
     "name": "stderr",
     "output_type": "stream",
     "text": [
      "/opt/conda/lib/python3.9/site-packages/sklearn/metrics/_classification.py:1318: UndefinedMetricWarning: Precision and F-score are ill-defined and being set to 0.0 in labels with no predicted samples. Use `zero_division` parameter to control this behavior.\n",
      "  _warn_prf(average, modifier, msg_start, len(result))\n",
      "/opt/conda/lib/python3.9/site-packages/sklearn/metrics/_classification.py:1318: UndefinedMetricWarning: Precision and F-score are ill-defined and being set to 0.0 in labels with no predicted samples. Use `zero_division` parameter to control this behavior.\n",
      "  _warn_prf(average, modifier, msg_start, len(result))\n",
      "/opt/conda/lib/python3.9/site-packages/sklearn/metrics/_classification.py:1318: UndefinedMetricWarning: Precision and F-score are ill-defined and being set to 0.0 in labels with no predicted samples. Use `zero_division` parameter to control this behavior.\n",
      "  _warn_prf(average, modifier, msg_start, len(result))\n"
     ]
    }
   ],
   "source": [
    "model, train_loss_set, valid_labels, valid_preds = train_model_epoch(model, train_loss_set)\n",
    "epoch +=1\n",
    "\n",
    "score = accuracy_score(valid_labels, valid_preds) * 100\n",
    "if score > best_score:\n",
    "    best_score = score\n",
    "    torch.save(model.state_dict(), f\"epoch_bert_dict_{epoch}.ckpt\")\n",
    "    print(classification_report(valid_labels, valid_preds))\n",
    "print(\"Процент правильных предсказаний на валидационной выборке: {0:.2f}%\".format(\n",
    "    score\n",
    "))"
   ]
  },
  {
   "cell_type": "code",
   "execution_count": 46,
   "metadata": {},
   "outputs": [
    {
     "data": {
      "image/png": "[encoded data removed]",
      "text/plain": [
       "<Figure size 720x432 with 1 Axes>"
      ]
     },
     "metadata": {
      "needs_background": "light"
     },
     "output_type": "display_data"
    },
    {
     "name": "stdout",
     "output_type": "stream",
     "text": [
      "Loss на обучающей выборке: 0.68663\n",
      "Процент правильных предсказаний на валидационной выборке: 67.91%\n",
      "Процент правильных предсказаний на валидационной выборке: 67.91%\n"
     ]
    }
   ],
   "source": [
    "model, train_loss_set, valid_labels, valid_preds = train_model_epoch(model, train_loss_set)\n",
    "epoch +=1\n",
    "\n",
    "score = accuracy_score(valid_labels, valid_preds) * 100\n",
    "if score > best_score:\n",
    "    best_score = score\n",
    "    torch.save(model.state_dict(), f\"epoch_bert_dict_{epoch}.ckpt\")\n",
    "    print(classification_report(valid_labels, valid_preds))\n",
    "print(\"Процент правильных предсказаний на валидационной выборке: {0:.2f}%\".format(\n",
    "    score\n",
    "))"
   ]
  },
  {
   "cell_type": "code",
   "execution_count": 47,
   "metadata": {},
   "outputs": [
    {
     "data": {
      "image/png": "[encoded data removed]",
      "text/plain": [
       "<Figure size 720x432 with 1 Axes>"
      ]
     },
     "metadata": {
      "needs_background": "light"
     },
     "output_type": "display_data"
    },
    {
     "name": "stdout",
     "output_type": "stream",
     "text": [
      "Loss на обучающей выборке: 0.58428\n",
      "Процент правильных предсказаний на валидационной выборке: 68.34%\n",
      "Процент правильных предсказаний на валидационной выборке: 68.34%\n"
     ]
    }
   ],
   "source": [
    "model, train_loss_set, valid_labels, valid_preds = train_model_epoch(model, train_loss_set)\n",
    "epoch +=1\n",
    "\n",
    "score = accuracy_score(valid_labels, valid_preds) * 100\n",
    "if score > best_score:\n",
    "    best_score = score\n",
    "    torch.save(model.state_dict(), f\"epoch_bert_dict_{epoch}.ckpt\")\n",
    "    print(classification_report(valid_labels, valid_preds))\n",
    "print(\"Процент правильных предсказаний на валидационной выборке: {0:.2f}%\".format(\n",
    "    score\n",
    "))"
   ]
  },
  {
   "cell_type": "code",
   "execution_count": 48,
   "metadata": {},
   "outputs": [
    {
     "data": {
      "image/png": "[encoded data removed]",
      "text/plain": [
       "<Figure size 720x432 with 1 Axes>"
      ]
     },
     "metadata": {
      "needs_background": "light"
     },
     "output_type": "display_data"
    },
    {
     "name": "stdout",
     "output_type": "stream",
     "text": [
      "Loss на обучающей выборке: 0.50223\n",
      "Процент правильных предсказаний на валидационной выборке: 67.87%\n",
      "Процент правильных предсказаний на валидационной выборке: 67.87%\n"
     ]
    }
   ],
   "source": [
    "model, train_loss_set, valid_labels, valid_preds = train_model_epoch(model, train_loss_set)\n",
    "epoch +=1\n",
    "\n",
    "score = accuracy_score(valid_labels, valid_preds) * 100\n",
    "if score > best_score:\n",
    "    best_score = score\n",
    "    torch.save(model.state_dict(), f\"epoch_bert_dict_{epoch}.ckpt\")\n",
    "    print(classification_report(valid_labels, valid_preds))\n",
    "print(\"Процент правильных предсказаний на валидационной выборке: {0:.2f}%\".format(\n",
    "    score\n",
    "))"
   ]
  },
  {
   "cell_type": "code",
   "execution_count": 49,
   "metadata": {},
   "outputs": [
    {
     "data": {
      "image/png": "[encoded data removed]",
      "text/plain": [
       "<Figure size 720x432 with 1 Axes>"
      ]
     },
     "metadata": {
      "needs_background": "light"
     },
     "output_type": "display_data"
    },
    {
     "name": "stdout",
     "output_type": "stream",
     "text": [
      "Loss на обучающей выборке: 0.43456\n",
      "Процент правильных предсказаний на валидационной выборке: 67.94%\n",
      "Процент правильных предсказаний на валидационной выборке: 67.94%\n"
     ]
    }
   ],
   "source": [
    "model, train_loss_set, valid_labels, valid_preds = train_model_epoch(model, train_loss_set)\n",
    "epoch +=1\n",
    "\n",
    "score = accuracy_score(valid_labels, valid_preds) * 100\n",
    "if score > best_score:\n",
    "    best_score = score\n",
    "    torch.save(model.state_dict(), f\"epoch_bert_dict_{epoch}.ckpt\")\n",
    "    print(classification_report(valid_labels, valid_preds))\n",
    "print(\"Процент правильных предсказаний на валидационной выборке: {0:.2f}%\".format(\n",
    "    score\n",
    "))"
   ]
  },
  {
   "cell_type": "code",
   "execution_count": 50,
   "metadata": {},
   "outputs": [
    {
     "data": {
      "image/png": "[encoded data removed]",
      "text/plain": [
       "<Figure size 720x432 with 1 Axes>"
      ]
     },
     "metadata": {
      "needs_background": "light"
     },
     "output_type": "display_data"
    },
    {
     "name": "stdout",
     "output_type": "stream",
     "text": [
      "Loss на обучающей выборке: 0.38016\n",
      "Процент правильных предсказаний на валидационной выборке: 67.51%\n",
      "Процент правильных предсказаний на валидационной выборке: 67.51%\n"
     ]
    }
   ],
   "source": [
    "model, train_loss_set, valid_labels, valid_preds = train_model_epoch(model, train_loss_set)\n",
    "epoch +=1\n",
    "\n",
    "score = accuracy_score(valid_labels, valid_preds) * 100\n",
    "if score > best_score:\n",
    "    best_score = score\n",
    "    torch.save(model.state_dict(), f\"epoch_bert_dict_{epoch}.ckpt\")\n",
    "    print(classification_report(valid_labels, valid_preds))\n",
    "print(\"Процент правильных предсказаний на валидационной выборке: {0:.2f}%\".format(\n",
    "    score\n",
    "))"
   ]
  },
  {
   "cell_type": "markdown",
   "metadata": {
    "colab_type": "text",
    "id": "mkyubuJSOzg3"
   },
   "source": [
    "# Оценка качества на отложенной выборке"
   ]
  },
  {
   "cell_type": "code",
   "execution_count": 51,
   "metadata": {
    "tags": []
   },
   "outputs": [],
   "source": [
    "# model1 = BertForSequenceClassification.from_pretrained(model_name, num_labels=40)\n",
    "# PATH = \"epoch_bert_dict_1.ckpt\"\n",
    "# model1.load_state_dict(torch.load(PATH))\n",
    "# model1.eval()"
   ]
  },
  {
   "cell_type": "code",
   "execution_count": 52,
   "metadata": {
    "colab": {},
    "colab_type": "code",
    "id": "mAN0LZBOOPVh"
   },
   "outputs": [],
   "source": [
    "tokenized_texts = [tokenizer.tokenize(sent) for sent in test_sentences]\n",
    "input_ids = [tokenizer.convert_tokens_to_ids(x) for x in tokenized_texts]\n",
    "\n",
    "input_ids = pad_sequences(\n",
    "    input_ids,\n",
    "    maxlen=128,\n",
    "    dtype=\"long\",\n",
    "    truncating=\"post\",\n",
    "    padding=\"post\"\n",
    ")"
   ]
  },
  {
   "cell_type": "code",
   "execution_count": 53,
   "metadata": {},
   "outputs": [],
   "source": [
    "attention_masks = [[float(i>0) for i in seq] for seq in input_ids]\n",
    "\n",
    "prediction_inputs = torch.tensor(input_ids)\n",
    "prediction_masks = torch.tensor(attention_masks)\n",
    "prediction_labels = torch.tensor(test_gt)\n",
    "\n",
    "prediction_data = TensorDataset(\n",
    "    prediction_inputs,\n",
    "    prediction_masks,\n",
    "    prediction_labels\n",
    ")\n",
    "\n",
    "prediction_dataloader = DataLoader(\n",
    "    prediction_data, \n",
    "    sampler=SequentialSampler(prediction_data),\n",
    "    batch_size=32\n",
    ")"
   ]
  },
  {
   "cell_type": "code",
   "execution_count": 54,
   "metadata": {
    "colab": {},
    "colab_type": "code",
    "id": "Hba10sXR7Xi6"
   },
   "outputs": [],
   "source": [
    "model.eval()\n",
    "test_preds, test_labels = [], []\n",
    "\n",
    "for batch in prediction_dataloader:\n",
    "    # добавляем батч для вычисления на GPU\n",
    "    batch = tuple(t.to(device) for t in batch)\n",
    "    \n",
    "    # Распаковываем данные из dataloader\n",
    "    b_input_ids, b_input_mask, b_labels = batch\n",
    "    \n",
    "    # При использовании .no_grad() модель не будет считать и хранить градиенты.\n",
    "    # Это ускорит процесс предсказания меток для тестовых данных.\n",
    "    with torch.no_grad():\n",
    "        logits = model(b_input_ids, token_type_ids=None, attention_mask=b_input_mask)\n",
    "\n",
    "    # Перемещаем logits и метки классов на CPU для дальнейшей работы\n",
    "    logits = logits[0].detach().cpu().numpy()\n",
    "    label_ids = b_labels.to('cpu').numpy()\n",
    "\n",
    "    # Сохраняем предсказанные классы и ground truth\n",
    "    batch_preds = np.argmax(logits, axis=1)\n",
    "    batch_labels = np.concatenate(label_ids)  \n",
    "    test_preds.extend(batch_preds)\n",
    "    test_labels.extend(batch_labels)"
   ]
  },
  {
   "cell_type": "code",
   "execution_count": 55,
   "metadata": {},
   "outputs": [
    {
     "name": "stdout",
     "output_type": "stream",
     "text": [
      "Процент правильных предсказаний на отложенной выборке составил: 67.51%\n"
     ]
    }
   ],
   "source": [
    "acc_score = accuracy_score(test_labels, test_preds)\n",
    "print('Процент правильных предсказаний на отложенной выборке составил: {0:.2f}%'.format(\n",
    "    acc_score*100\n",
    "))"
   ]
  },
  {
   "cell_type": "code",
   "execution_count": 56,
   "metadata": {},
   "outputs": [],
   "source": [
    "from sklearn.metrics import classification_report, accuracy_score"
   ]
  },
  {
   "cell_type": "code",
   "execution_count": 57,
   "metadata": {},
   "outputs": [
    {
     "name": "stdout",
     "output_type": "stream",
     "text": [
      "              precision    recall  f1-score   support\n",
      "\n",
      "           0       0.97      0.86      0.91       806\n",
      "           1       0.81      0.79      0.80       131\n",
      "           2       0.67      0.70      0.68        43\n",
      "           3       0.42      0.19      0.26        43\n",
      "           4       0.27      0.31      0.29        29\n",
      "           5       0.00      0.00      0.00         7\n",
      "           6       0.33      1.00      0.50         5\n",
      "           7       0.62      0.62      0.62        21\n",
      "           8       0.38      0.38      0.38         8\n",
      "           9       0.00      0.00      0.00         4\n",
      "          10       0.58      0.88      0.70       117\n",
      "          11       0.64      0.90      0.75       126\n",
      "          12       0.08      0.75      0.14         8\n",
      "          13       0.46      0.45      0.46        29\n",
      "          14       0.67      0.25      0.36         8\n",
      "          15       0.34      0.48      0.40        62\n",
      "          16       0.28      0.67      0.39        18\n",
      "          17       0.61      0.74      0.67        38\n",
      "          18       0.78      0.64      0.70        11\n",
      "          19       0.87      0.63      0.73       148\n",
      "          20       0.45      0.41      0.43        41\n",
      "          21       0.70      0.70      0.70        82\n",
      "          22       0.47      0.66      0.55        93\n",
      "          23       0.00      0.00      0.00        29\n",
      "          24       0.57      0.49      0.53       225\n",
      "          25       0.29      0.67      0.40         9\n",
      "          26       0.33      0.12      0.18         8\n",
      "          27       0.80      0.70      0.75        97\n",
      "          28       0.62      0.32      0.43        31\n",
      "          29       0.54      0.76      0.63        17\n",
      "          30       0.70      0.50      0.58        56\n",
      "          31       0.64      0.64      0.64        11\n",
      "          32       0.65      0.76      0.70        17\n",
      "          33       0.00      0.00      0.00         4\n",
      "          34       0.00      0.00      0.00         0\n",
      "          35       0.41      0.27      0.32       161\n",
      "          36       0.65      0.77      0.71        78\n",
      "          37       0.66      0.82      0.73        33\n",
      "          38       0.67      0.66      0.67       116\n",
      "          39       0.00      0.00      0.00         0\n",
      "\n",
      "    accuracy                           0.68      2770\n",
      "   macro avg       0.47      0.51      0.47      2770\n",
      "weighted avg       0.70      0.68      0.68      2770\n",
      "\n"
     ]
    },
    {
     "name": "stderr",
     "output_type": "stream",
     "text": [
      "/opt/conda/lib/python3.9/site-packages/sklearn/metrics/_classification.py:1318: UndefinedMetricWarning: Precision and F-score are ill-defined and being set to 0.0 in labels with no predicted samples. Use `zero_division` parameter to control this behavior.\n",
      "  _warn_prf(average, modifier, msg_start, len(result))\n",
      "/opt/conda/lib/python3.9/site-packages/sklearn/metrics/_classification.py:1318: UndefinedMetricWarning: Recall and F-score are ill-defined and being set to 0.0 in labels with no true samples. Use `zero_division` parameter to control this behavior.\n",
      "  _warn_prf(average, modifier, msg_start, len(result))\n",
      "/opt/conda/lib/python3.9/site-packages/sklearn/metrics/_classification.py:1318: UndefinedMetricWarning: Precision and F-score are ill-defined and being set to 0.0 in labels with no predicted samples. Use `zero_division` parameter to control this behavior.\n",
      "  _warn_prf(average, modifier, msg_start, len(result))\n",
      "/opt/conda/lib/python3.9/site-packages/sklearn/metrics/_classification.py:1318: UndefinedMetricWarning: Recall and F-score are ill-defined and being set to 0.0 in labels with no true samples. Use `zero_division` parameter to control this behavior.\n",
      "  _warn_prf(average, modifier, msg_start, len(result))\n",
      "/opt/conda/lib/python3.9/site-packages/sklearn/metrics/_classification.py:1318: UndefinedMetricWarning: Precision and F-score are ill-defined and being set to 0.0 in labels with no predicted samples. Use `zero_division` parameter to control this behavior.\n",
      "  _warn_prf(average, modifier, msg_start, len(result))\n",
      "/opt/conda/lib/python3.9/site-packages/sklearn/metrics/_classification.py:1318: UndefinedMetricWarning: Recall and F-score are ill-defined and being set to 0.0 in labels with no true samples. Use `zero_division` parameter to control this behavior.\n",
      "  _warn_prf(average, modifier, msg_start, len(result))\n"
     ]
    }
   ],
   "source": [
    "print(classification_report(test_labels, test_preds))"
   ]
  },
  {
   "cell_type": "code",
   "execution_count": 58,
   "metadata": {},
   "outputs": [],
   "source": [
    "import tensorflow"
   ]
  },
  {
   "cell_type": "code",
   "execution_count": 59,
   "metadata": {},
   "outputs": [
    {
     "data": {
      "text/plain": [
       "'2.8.0'"
      ]
     },
     "execution_count": 59,
     "metadata": {},
     "output_type": "execute_result"
    }
   ],
   "source": [
    "tensorflow.__version__"
   ]
  },
  {
   "cell_type": "code",
   "execution_count": null,
   "metadata": {},
   "outputs": [],
   "source": []
  }
 ],
 "metadata": {
  "accelerator": "GPU",
  "colab": {
   "collapsed_sections": [],
   "name": "BERT Fine-Tuning Sentence Classification.ipynb",
   "provenance": [],
   "toc_visible": true
  },
  "kernelspec": {
   "display_name": "Python 3 (ipykernel)",
   "language": "python",
   "name": "python3"
  },
  "language_info": {
   "codemirror_mode": {
    "name": "ipython",
    "version": 3
   },
   "file_extension": ".py",
   "mimetype": "text/x-python",
   "name": "python",
   "nbconvert_exporter": "python",
   "pygments_lexer": "ipython3",
   "version": "3.9.10"
  }
 },
 "nbformat": 4,
 "nbformat_minor": 4
}
