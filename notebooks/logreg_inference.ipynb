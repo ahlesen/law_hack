{
 "cells": [
  {
   "cell_type": "code",
   "execution_count": 1,
   "id": "2a955785",
   "metadata": {},
   "outputs": [
    {
     "name": "stderr",
     "output_type": "stream",
     "text": [
      "2022-08-27 17:06:51.753172: W tensorflow/stream_executor/platform/default/dso_loader.cc:64] Could not load dynamic library 'libcudart.so.11.0'; dlerror: libcudart.so.11.0: cannot open shared object file: No such file or directory\n",
      "2022-08-27 17:06:51.753200: I tensorflow/stream_executor/cuda/cudart_stub.cc:29] Ignore above cudart dlerror if you do not have a GPU set up on your machine.\n",
      "[nltk_data] Downloading package stopwords to\n",
      "[nltk_data]     /home/annavlasova/nltk_data...\n",
      "[nltk_data]   Package stopwords is already up-to-date!\n"
     ]
    }
   ],
   "source": [
    "import pandas as pd\n",
    "import re\n",
    "\n",
    "import pandas as pd\n",
    "from sklearn.linear_model import LogisticRegression\n",
    "from sklearn.model_selection import cross_val_score, StratifiedKFold\n",
    "from sklearn.feature_extraction.text import TfidfVectorizer\n",
    "from scipy.sparse import hstack\n",
    "from matplotlib import pyplot as plt\n",
    "%matplotlib inline\n",
    "import seaborn as sns\n",
    "import eli5\n",
    "import numpy as np\n",
    "import nltk\n",
    "nltk.download(\"stopwords\")\n",
    "from nltk.corpus import stopwords\n",
    "\n",
    "russian_stopwords = stopwords.words(\"russian\")"
   ]
  },
  {
   "cell_type": "code",
   "execution_count": 2,
   "id": "f9529192",
   "metadata": {},
   "outputs": [],
   "source": [
    "import json\n",
    "\n",
    "with open('../data/full_docs.json', 'r+') as fp:\n",
    "    full_docs1 = json.load(fp)"
   ]
  },
  {
   "cell_type": "code",
   "execution_count": 3,
   "id": "b40ca262",
   "metadata": {},
   "outputs": [],
   "source": [
    "files = list(full_docs1.keys())"
   ]
  },
  {
   "cell_type": "code",
   "execution_count": 4,
   "id": "fc4968d4",
   "metadata": {},
   "outputs": [],
   "source": [
    "df_list = []\n",
    "for i in range(len(files)):\n",
    "    df1 = pd.DataFrame(full_docs1[files[i]])\n",
    "#    df_list.append(df1)"
   ]
  },
  {
   "cell_type": "code",
   "execution_count": 5,
   "id": "7489d21e",
   "metadata": {},
   "outputs": [],
   "source": [
    "#df = pd.concat(df_list)\n",
    "df = df1"
   ]
  },
  {
   "cell_type": "code",
   "execution_count": 6,
   "id": "2ed2fb82",
   "metadata": {},
   "outputs": [
    {
     "data": {
      "text/html": [
       "<div>\n",
       "<style scoped>\n",
       "    .dataframe tbody tr th:only-of-type {\n",
       "        vertical-align: middle;\n",
       "    }\n",
       "\n",
       "    .dataframe tbody tr th {\n",
       "        vertical-align: top;\n",
       "    }\n",
       "\n",
       "    .dataframe thead th {\n",
       "        text-align: right;\n",
       "    }\n",
       "</style>\n",
       "<table border=\"1\" class=\"dataframe\">\n",
       "  <thead>\n",
       "    <tr style=\"text-align: right;\">\n",
       "      <th></th>\n",
       "      <th>data</th>\n",
       "      <th>text</th>\n",
       "      <th>target</th>\n",
       "      <th>few_texts</th>\n",
       "      <th>few_targets</th>\n",
       "    </tr>\n",
       "  </thead>\n",
       "  <tbody>\n",
       "    <tr>\n",
       "      <th>0</th>\n",
       "      <td>1. {2}Настоящие Правила устанавливают цели, ус...</td>\n",
       "      <td>Настоящие Правила устанавливают цели, условия ...</td>\n",
       "      <td>2</td>\n",
       "      <td>[1. Настоящие Правила устанавливают цели, усло...</td>\n",
       "      <td>[2]</td>\n",
       "    </tr>\n",
       "    <tr>\n",
       "      <th>1</th>\n",
       "      <td>{7}Сведения о субсидиях размещаются на едином ...</td>\n",
       "      <td>Сведения о субсидиях размещаются на едином пор...</td>\n",
       "      <td>7</td>\n",
       "      <td>[Сведения о субсидиях размещаются на едином по...</td>\n",
       "      <td>[7]</td>\n",
       "    </tr>\n",
       "    <tr>\n",
       "      <th>2</th>\n",
       "      <td>2. {2} Субсидии предоставляются по результатам...</td>\n",
       "      <td>Субсидии предоставляются по результатам провед...</td>\n",
       "      <td>2</td>\n",
       "      <td>[2.  Субсидии предоставляются по результатам п...</td>\n",
       "      <td>[2, 2]</td>\n",
       "    </tr>\n",
       "    <tr>\n",
       "      <th>3</th>\n",
       "      <td>3. {1}Понятия, используемые в настоящих Правил...</td>\n",
       "      <td>Понятия, используемые в настоящих Правилах, оз...</td>\n",
       "      <td>1</td>\n",
       "      <td>[3. Понятия, используемые в настоящих Правилах...</td>\n",
       "      <td>[1]</td>\n",
       "    </tr>\n",
       "    <tr>\n",
       "      <th>4</th>\n",
       "      <td>{1}\"организация воздушного транспорта\" - росси...</td>\n",
       "      <td>\"организация воздушного транспорта\" - российск...</td>\n",
       "      <td>1</td>\n",
       "      <td>[\"организация воздушного транспорта\" - российс...</td>\n",
       "      <td>[1]</td>\n",
       "    </tr>\n",
       "    <tr>\n",
       "      <th>...</th>\n",
       "      <td>...</td>\n",
       "      <td>...</td>\n",
       "      <td>...</td>\n",
       "      <td>...</td>\n",
       "      <td>...</td>\n",
       "    </tr>\n",
       "    <tr>\n",
       "      <th>217</th>\n",
       "      <td>16.  Правительства Российской Федерации от 27 ...</td>\n",
       "      <td>16.  Правительства Российской Федерации от 27 ...</td>\n",
       "      <td>0</td>\n",
       "      <td>[16.  Правительства Российской Федерации от 27...</td>\n",
       "      <td>[0]</td>\n",
       "    </tr>\n",
       "    <tr>\n",
       "      <th>218</th>\n",
       "      <td>17.  и  изменений, которые вносятся в акты Пра...</td>\n",
       "      <td>17.  и  изменений, которые вносятся в акты Пра...</td>\n",
       "      <td>0</td>\n",
       "      <td>[17.  и  изменений, которые вносятся в акты Пр...</td>\n",
       "      <td>[0]</td>\n",
       "    </tr>\n",
       "    <tr>\n",
       "      <th>219</th>\n",
       "      <td>18.  Правительства Российской Федерации от 24 ...</td>\n",
       "      <td>18.  Правительства Российской Федерации от 24 ...</td>\n",
       "      <td>0</td>\n",
       "      <td>[18.  Правительства Российской Федерации от 24...</td>\n",
       "      <td>[0]</td>\n",
       "    </tr>\n",
       "    <tr>\n",
       "      <th>220</th>\n",
       "      <td>19.  Правительства Российской Федерации от 29 ...</td>\n",
       "      <td>19.  Правительства Российской Федерации от 29 ...</td>\n",
       "      <td>0</td>\n",
       "      <td>[19.  Правительства Российской Федерации от 29...</td>\n",
       "      <td>[0]</td>\n",
       "    </tr>\n",
       "    <tr>\n",
       "      <th>221</th>\n",
       "      <td>20.  Правительства Российской Федерации от 31 ...</td>\n",
       "      <td>20.  Правительства Российской Федерации от 31 ...</td>\n",
       "      <td>0</td>\n",
       "      <td>[20.  Правительства Российской Федерации от 31...</td>\n",
       "      <td>[0]</td>\n",
       "    </tr>\n",
       "  </tbody>\n",
       "</table>\n",
       "<p>222 rows × 5 columns</p>\n",
       "</div>"
      ],
      "text/plain": [
       "                                                  data  \\\n",
       "0    1. {2}Настоящие Правила устанавливают цели, ус...   \n",
       "1    {7}Сведения о субсидиях размещаются на едином ...   \n",
       "2    2. {2} Субсидии предоставляются по результатам...   \n",
       "3    3. {1}Понятия, используемые в настоящих Правил...   \n",
       "4    {1}\"организация воздушного транспорта\" - росси...   \n",
       "..                                                 ...   \n",
       "217  16.  Правительства Российской Федерации от 27 ...   \n",
       "218  17.  и  изменений, которые вносятся в акты Пра...   \n",
       "219  18.  Правительства Российской Федерации от 24 ...   \n",
       "220  19.  Правительства Российской Федерации от 29 ...   \n",
       "221  20.  Правительства Российской Федерации от 31 ...   \n",
       "\n",
       "                                                  text  target  \\\n",
       "0    Настоящие Правила устанавливают цели, условия ...       2   \n",
       "1    Сведения о субсидиях размещаются на едином пор...       7   \n",
       "2    Субсидии предоставляются по результатам провед...       2   \n",
       "3    Понятия, используемые в настоящих Правилах, оз...       1   \n",
       "4    \"организация воздушного транспорта\" - российск...       1   \n",
       "..                                                 ...     ...   \n",
       "217  16.  Правительства Российской Федерации от 27 ...       0   \n",
       "218  17.  и  изменений, которые вносятся в акты Пра...       0   \n",
       "219  18.  Правительства Российской Федерации от 24 ...       0   \n",
       "220  19.  Правительства Российской Федерации от 29 ...       0   \n",
       "221  20.  Правительства Российской Федерации от 31 ...       0   \n",
       "\n",
       "                                             few_texts few_targets  \n",
       "0    [1. Настоящие Правила устанавливают цели, усло...         [2]  \n",
       "1    [Сведения о субсидиях размещаются на едином по...         [7]  \n",
       "2    [2.  Субсидии предоставляются по результатам п...      [2, 2]  \n",
       "3    [3. Понятия, используемые в настоящих Правилах...         [1]  \n",
       "4    [\"организация воздушного транспорта\" - российс...         [1]  \n",
       "..                                                 ...         ...  \n",
       "217  [16.  Правительства Российской Федерации от 27...         [0]  \n",
       "218  [17.  и  изменений, которые вносятся в акты Пр...         [0]  \n",
       "219  [18.  Правительства Российской Федерации от 24...         [0]  \n",
       "220  [19.  Правительства Российской Федерации от 29...         [0]  \n",
       "221  [20.  Правительства Российской Федерации от 31...         [0]  \n",
       "\n",
       "[222 rows x 5 columns]"
      ]
     },
     "execution_count": 6,
     "metadata": {},
     "output_type": "execute_result"
    }
   ],
   "source": [
    "df"
   ]
  },
  {
   "cell_type": "code",
   "execution_count": 7,
   "id": "726112bd",
   "metadata": {
    "scrolled": true
   },
   "outputs": [],
   "source": [
    "df_list = []\n",
    "for i in range(1, df.shape[0]+1):\n",
    "    try:\n",
    "        df2 = df.iloc[i-1:i].explode(['few_texts', 'few_targets'], ignore_index=True)\n",
    "        df_list.append(df2)\n",
    "    except:\n",
    "        print(i)"
   ]
  },
  {
   "cell_type": "code",
   "execution_count": 8,
   "id": "7276fe61",
   "metadata": {},
   "outputs": [],
   "source": [
    "df = pd.concat(df_list)"
   ]
  },
  {
   "cell_type": "code",
   "execution_count": 9,
   "id": "abac57d4",
   "metadata": {},
   "outputs": [],
   "source": [
    "df['ref_text'] = df['few_texts'].apply(lambda x: re.sub('[\\W\\d]+', ' ', x.lower()))"
   ]
  },
  {
   "cell_type": "code",
   "execution_count": 10,
   "id": "671d4202",
   "metadata": {},
   "outputs": [],
   "source": [
    "df.fillna(0, inplace = True)"
   ]
  },
  {
   "cell_type": "code",
   "execution_count": 11,
   "id": "650e1a41",
   "metadata": {},
   "outputs": [],
   "source": [
    "X = df['ref_text']"
   ]
  },
  {
   "cell_type": "code",
   "execution_count": 12,
   "id": "d46d7f04",
   "metadata": {},
   "outputs": [],
   "source": [
    "y = df['few_targets']"
   ]
  },
  {
   "cell_type": "code",
   "execution_count": 13,
   "id": "ed7c7f71",
   "metadata": {},
   "outputs": [],
   "source": [
    "text_transformer = TfidfVectorizer(stop_words=russian_stopwords, \n",
    "                                   ngram_range=(1, 2), lowercase=True, max_features=1000)"
   ]
  },
  {
   "cell_type": "code",
   "execution_count": 14,
   "id": "8fe7f118",
   "metadata": {},
   "outputs": [],
   "source": [
    "X_text = text_transformer.fit_transform(X)"
   ]
  },
  {
   "cell_type": "code",
   "execution_count": 15,
   "id": "574334ef",
   "metadata": {},
   "outputs": [],
   "source": [
    "#logit = LogisticRegression(C=5e1, solver='lbfgs', multi_class='multinomial', random_state=17, n_jobs=4)"
   ]
  },
  {
   "cell_type": "code",
   "execution_count": 16,
   "id": "80d11495",
   "metadata": {},
   "outputs": [],
   "source": [
    "#%%time\n",
    "#logit.fit(X_text, y)"
   ]
  },
  {
   "cell_type": "code",
   "execution_count": 17,
   "id": "430786cc",
   "metadata": {},
   "outputs": [],
   "source": [
    "import pickle\n",
    "filename = '../models/log_reg_model.pickle'\n",
    "\n",
    "#pickle.dump(logit, open(filename, 'wb'))"
   ]
  },
  {
   "cell_type": "code",
   "execution_count": 18,
   "id": "a925885a",
   "metadata": {},
   "outputs": [],
   "source": [
    "model = pickle.load(open(filename, 'rb'))"
   ]
  },
  {
   "cell_type": "code",
   "execution_count": 20,
   "id": "b1188955",
   "metadata": {},
   "outputs": [],
   "source": [
    "y_pred = model.predict(X_text)\n",
    "y_proba = model.predict_proba(X_text)"
   ]
  },
  {
   "cell_type": "code",
   "execution_count": 24,
   "id": "17327d1f",
   "metadata": {},
   "outputs": [
    {
     "name": "stdout",
     "output_type": "stream",
     "text": [
      "Полнота документа: 48.72%\n",
      "[0.40910837570910197, 0.4667129169781693, 'отсутствует в документе', 0.3973957116833611, 'отсутствует в документе', 'отсутствует в документе', 0.5503671969653923, 'отсутствует в документе', 'отсутствует в документе', 0.3889165598639848, 0.6180301098823403, 0.46552733134332125, 'отсутствует в документе', 'отсутствует в документе', 0.36055202731612196, 'отсутствует в документе', 'отсутствует в документе', 'отсутствует в документе', 0.6237854909931151, 'отсутствует в документе', 0.5858393529110301, 0.4388867614350225, 'отсутствует в документе', 0.5122615757790187, 'отсутствует в документе', 'отсутствует в документе', 0.2668592970021411, 0.27874458226797244, 'отсутствует в документе', 0.6335366994120774, 'отсутствует в документе', 'отсутствует в документе', 'отсутствует в документе', 'отсутствует в документе', 0.4432741787370886, 0.2747716127352877, 0.25267163980803825, 'отсутствует в документе', 'отсутствует в документе']\n",
      "[0, 1, 2, 4, 7, 10, 11, 12, 15, 19, 21, 22, 24, 27, 28, 30, 35, 36, 37]\n",
      "{0, 1, 2, 3, 7, 10, 11, 15, 16, 17, 18, 19, 21, 22, 23, 24, 26, 27, 28, 32, 35, 37, 38}\n"
     ]
    }
   ],
   "source": [
    "s = []\n",
    "for i in range(len(y_pred)):\n",
    "    k = y_pred[i]\n",
    "    s.append(y_proba[i, k])\n",
    "    \n",
    "df_res = pd.DataFrame()\n",
    "df_res['proba'] = s\n",
    "df_res['preds'] = y_pred\n",
    "\n",
    "df_res = df_res.groupby('preds')['proba'].mean().reset_index()\n",
    "\n",
    "df_dump = pd.DataFrame()\n",
    "df_dump['preds'] = [x for x in range(1, 40)]\n",
    "df_dump = df_dump.merge(df_res, on = 'preds', how = 'left')\n",
    "print(f\"Полнота документа: {round(df_res.shape[0]/39*100, 2)}%\")\n",
    "\n",
    "df_dump.fillna('отсутствует в документе', inplace = True)\n",
    "print(list(df_dump['proba']))\n",
    "print(list(df_res['preds']))\n",
    "print(set(y))"
   ]
  },
  {
   "cell_type": "code",
   "execution_count": null,
   "id": "73957e08",
   "metadata": {},
   "outputs": [],
   "source": []
  }
 ],
 "metadata": {
  "kernelspec": {
   "display_name": "Python 3 (ipykernel)",
   "language": "python",
   "name": "python3"
  },
  "language_info": {
   "codemirror_mode": {
    "name": "ipython",
    "version": 3
   },
   "file_extension": ".py",
   "mimetype": "text/x-python",
   "name": "python",
   "nbconvert_exporter": "python",
   "pygments_lexer": "ipython3",
   "version": "3.7.11"
  }
 },
 "nbformat": 4,
 "nbformat_minor": 5
}
